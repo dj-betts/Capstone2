{
 "cells": [
  {
   "cell_type": "markdown",
   "metadata": {},
   "source": []
  },
  {
   "cell_type": "code",
   "execution_count": 92,
   "metadata": {},
   "outputs": [],
   "source": [
    "import requests"
   ]
  },
  {
   "cell_type": "code",
   "execution_count": 93,
   "metadata": {},
   "outputs": [],
   "source": [
    "from bs4 import BeautifulSoup"
   ]
  },
  {
   "cell_type": "code",
   "execution_count": 94,
   "metadata": {},
   "outputs": [],
   "source": [
    "import pandas as pd\n",
    "import numpy as np"
   ]
  },
  {
   "cell_type": "code",
   "execution_count": 95,
   "metadata": {},
   "outputs": [],
   "source": [
    "pd.options.display.max_rows = 999\n",
    "pd.options.display.max_columns = 999"
   ]
  },
  {
   "cell_type": "code",
   "execution_count": 96,
   "metadata": {},
   "outputs": [],
   "source": [
    "import time"
   ]
  },
  {
   "cell_type": "code",
   "execution_count": 97,
   "metadata": {},
   "outputs": [],
   "source": [
    "import sys"
   ]
  },
  {
   "cell_type": "code",
   "execution_count": 98,
   "metadata": {},
   "outputs": [],
   "source": [
    "response = requests.get('https://api.nytimes.com/svc/archive/v1/2019/1.json?api-key=kwQUDL7cdaIuu03LazP2b3F2R0uY1kET',\n",
    "    params={'q': 'requests+language:python'})"
   ]
  },
  {
   "cell_type": "code",
   "execution_count": 99,
   "metadata": {},
   "outputs": [
    {
     "data": {
      "text/plain": [
       "requests.models.Response"
      ]
     },
     "execution_count": 99,
     "metadata": {},
     "output_type": "execute_result"
    }
   ],
   "source": [
    "type(response)"
   ]
  },
  {
   "cell_type": "code",
   "execution_count": 100,
   "metadata": {},
   "outputs": [
    {
     "data": {
      "text/plain": [
       "200"
      ]
     },
     "execution_count": 100,
     "metadata": {},
     "output_type": "execute_result"
    }
   ],
   "source": [
    "response.status_code"
   ]
  },
  {
   "cell_type": "code",
   "execution_count": 101,
   "metadata": {},
   "outputs": [],
   "source": [
    "json_response = response.json()"
   ]
  },
  {
   "cell_type": "code",
   "execution_count": 102,
   "metadata": {},
   "outputs": [
    {
     "data": {
      "text/plain": [
       "dict"
      ]
     },
     "execution_count": 102,
     "metadata": {},
     "output_type": "execute_result"
    }
   ],
   "source": [
    "type(json_response)"
   ]
  },
  {
   "cell_type": "code",
   "execution_count": 11,
   "metadata": {},
   "outputs": [],
   "source": [
    "#json_response['response'] or json_response['copyright']\n",
    "json_response['response'];"
   ]
  },
  {
   "cell_type": "code",
   "execution_count": 12,
   "metadata": {},
   "outputs": [],
   "source": [
    "#docs = list, 4482 items long\n",
    "docs = json_response['response']['docs']"
   ]
  },
  {
   "cell_type": "code",
   "execution_count": 13,
   "metadata": {},
   "outputs": [
    {
     "data": {
      "text/plain": [
       "list"
      ]
     },
     "execution_count": 13,
     "metadata": {},
     "output_type": "execute_result"
    }
   ],
   "source": [
    "type(docs)"
   ]
  },
  {
   "cell_type": "markdown",
   "metadata": {},
   "source": [
    "### doc = docs[0]"
   ]
  },
  {
   "cell_type": "code",
   "execution_count": 14,
   "metadata": {},
   "outputs": [
    {
     "ename": "NameError",
     "evalue": "name 'doc' is not defined",
     "output_type": "error",
     "traceback": [
      "\u001b[0;31m---------------------------------------------------------------------------\u001b[0m",
      "\u001b[0;31mNameError\u001b[0m                                 Traceback (most recent call last)",
      "\u001b[0;32m<ipython-input-14-1fb0c57a3ecb>\u001b[0m in \u001b[0;36m<module>\u001b[0;34m\u001b[0m\n\u001b[1;32m      1\u001b[0m \u001b[0mmetadata_keys\u001b[0m \u001b[0;34m=\u001b[0m \u001b[0;34m[\u001b[0m\u001b[0;34m]\u001b[0m\u001b[0;34m\u001b[0m\u001b[0;34m\u001b[0m\u001b[0m\n\u001b[0;32m----> 2\u001b[0;31m \u001b[0;32mfor\u001b[0m \u001b[0mkey\u001b[0m \u001b[0;32min\u001b[0m \u001b[0mdoc\u001b[0m\u001b[0;34m.\u001b[0m\u001b[0mkeys\u001b[0m\u001b[0;34m(\u001b[0m\u001b[0;34m)\u001b[0m\u001b[0;34m:\u001b[0m\u001b[0;34m\u001b[0m\u001b[0;34m\u001b[0m\u001b[0m\n\u001b[0m\u001b[1;32m      3\u001b[0m     \u001b[0mmetadata_keys\u001b[0m\u001b[0;34m.\u001b[0m\u001b[0mappend\u001b[0m\u001b[0;34m(\u001b[0m\u001b[0mkey\u001b[0m\u001b[0;34m)\u001b[0m\u001b[0;34m\u001b[0m\u001b[0;34m\u001b[0m\u001b[0m\n",
      "\u001b[0;31mNameError\u001b[0m: name 'doc' is not defined"
     ]
    }
   ],
   "source": [
    "metadata_keys = []\n",
    "for key in doc.keys():\n",
    "    metadata_keys.append(key)\n"
   ]
  },
  {
   "cell_type": "code",
   "execution_count": 15,
   "metadata": {},
   "outputs": [
    {
     "data": {
      "text/plain": [
       "[]"
      ]
     },
     "execution_count": 15,
     "metadata": {},
     "output_type": "execute_result"
    }
   ],
   "source": [
    "metadata_keys"
   ]
  },
  {
   "cell_type": "code",
   "execution_count": 16,
   "metadata": {},
   "outputs": [
    {
     "name": "stdout",
     "output_type": "stream",
     "text": [
      "--->\n"
     ]
    }
   ],
   "source": [
    "#entry for 1 (one) nytimes article off the api\n",
    "for doc in docs[:1]:\n",
    "    for key in metadata_keys:\n",
    "        print(f'(THE KEY IS {key}: {doc[key]}')\n",
    "    print(\"--->\")\n",
    "#     print(doc['abstract'])\n",
    "#     print(doc['source'])\n",
    "#     print(doc['news_desk'])\n",
    "\n",
    "    #print(type(doc['pub_date']))"
   ]
  },
  {
   "cell_type": "code",
   "execution_count": 17,
   "metadata": {},
   "outputs": [],
   "source": [
    "url = doc[\"web_url\"]"
   ]
  },
  {
   "cell_type": "code",
   "execution_count": 19,
   "metadata": {},
   "outputs": [
    {
     "data": {
      "text/plain": [
       "'https://www.nytimes.com/2018/12/31/opinion/1919-america.html'"
      ]
     },
     "execution_count": 19,
     "metadata": {},
     "output_type": "execute_result"
    }
   ],
   "source": [
    "url"
   ]
  },
  {
   "cell_type": "code",
   "execution_count": 20,
   "metadata": {},
   "outputs": [],
   "source": [
    "page = requests.get(url)"
   ]
  },
  {
   "cell_type": "code",
   "execution_count": 21,
   "metadata": {},
   "outputs": [
    {
     "data": {
      "text/plain": [
       "<Response [200]>"
      ]
     },
     "execution_count": 21,
     "metadata": {},
     "output_type": "execute_result"
    }
   ],
   "source": [
    "page"
   ]
  },
  {
   "cell_type": "code",
   "execution_count": 22,
   "metadata": {},
   "outputs": [
    {
     "data": {
      "text/plain": [
       "328349"
      ]
     },
     "execution_count": 22,
     "metadata": {},
     "output_type": "execute_result"
    }
   ],
   "source": [
    "len(page.content)"
   ]
  },
  {
   "cell_type": "code",
   "execution_count": 23,
   "metadata": {},
   "outputs": [
    {
     "data": {
      "text/plain": [
       "bytes"
      ]
     },
     "execution_count": 23,
     "metadata": {},
     "output_type": "execute_result"
    }
   ],
   "source": [
    "type(page.content)"
   ]
  },
  {
   "cell_type": "code",
   "execution_count": 24,
   "metadata": {},
   "outputs": [
    {
     "data": {
      "text/plain": [
       "str"
      ]
     },
     "execution_count": 24,
     "metadata": {},
     "output_type": "execute_result"
    }
   ],
   "source": [
    "type(page.text)"
   ]
  },
  {
   "cell_type": "code",
   "execution_count": 25,
   "metadata": {},
   "outputs": [],
   "source": [
    "soup = BeautifulSoup(page.content, 'html.parser')"
   ]
  },
  {
   "cell_type": "code",
   "execution_count": 26,
   "metadata": {},
   "outputs": [
    {
     "data": {
      "text/plain": [
       "3"
      ]
     },
     "execution_count": 26,
     "metadata": {},
     "output_type": "execute_result"
    }
   ],
   "source": [
    "len(soup)"
   ]
  },
  {
   "cell_type": "code",
   "execution_count": 27,
   "metadata": {},
   "outputs": [],
   "source": [
    "soup.prettify();"
   ]
  },
  {
   "cell_type": "code",
   "execution_count": 28,
   "metadata": {},
   "outputs": [],
   "source": [
    "article_name_test = soup.title.text"
   ]
  },
  {
   "cell_type": "code",
   "execution_count": 29,
   "metadata": {},
   "outputs": [
    {
     "data": {
      "text/plain": [
       "'Opinion | 1919: The Year of the Crack-Up - The New York Times'"
      ]
     },
     "execution_count": 29,
     "metadata": {},
     "output_type": "execute_result"
    }
   ],
   "source": [
    "article_name_test"
   ]
  },
  {
   "cell_type": "code",
   "execution_count": 30,
   "metadata": {},
   "outputs": [],
   "source": [
    "article_name_string= soup.title.string"
   ]
  },
  {
   "cell_type": "code",
   "execution_count": 31,
   "metadata": {},
   "outputs": [],
   "source": [
    "#got text from all paragraphs\n",
    "paragraph_list = []\n",
    "for par in (soup.find_all(\"p\")):\n",
    "    paragraph_list.append(par.text)"
   ]
  },
  {
   "cell_type": "code",
   "execution_count": 18,
   "metadata": {},
   "outputs": [],
   "source": [
    "#soup.find_all(\"p\")"
   ]
  },
  {
   "cell_type": "markdown",
   "metadata": {},
   "source": [
    "# text of webpage\n",
    "\n",
    "### look back at this paragraph list. should I take out strings as formatted here as stop words?\n",
    "\n",
    "### highest accuracry of replacement the closer the words are to the source. "
   ]
  },
  {
   "cell_type": "code",
   "execution_count": 33,
   "metadata": {},
   "outputs": [
    {
     "data": {
      "text/plain": [
       "['Advertisement',\n",
       " 'Supported by',\n",
       " 'From the Treaty of Versailles to Prohibition, the events of that year shaped America, and the world, for a century to come. ',\n",
       " 'By Ted Widmer',\n",
       " 'Mr. Widmer is a distinguished lecturer at the Macaulay Honors College of the City University of New York.',\n",
       " 'Throughout 2019, The New York Times Opinion section will publish an occasional series of essays on the ways in which the events of 1919 shaped the following century. ',\n",
       " 'In his essay “The Crack-Up,” F. Scott Fitzgerald wrote, “The test of a first-rate intelligence is the ability to hold two opposed ideas in the mind at the same time, and still retain the ability to function.”',\n",
       " 'On New Year’s Day 1919, the headlines in The New York Times gave a hint of how difficult that would be for Americans, struggling to live up to the shimmering promises they had made to the world during the Great War, which had ended just over a month before.',\n",
       " 'Poles, newly independent but already threatened by their neighbors, were calling on Americans to protect them. Other countries, like Ireland, were on the cusp of independence, but asking for help. A bewildering set of new responsibilities was settling upon a country that had long cherished its freedom from the Old World.',\n",
       " 'Overwhelmingly, Americans longed to get their old lives back. But there was no clear road map to “normalcy,” to use a word that began to gain traction in the chaos of the postwar years. Grammarians faulted it as a clumsy neologism, but that only made it more popular. A rakish Ohio senator, Warren Harding, would eventually ride it all the way to the White House. In a crackly old recording, he can be heard promising, vaguely, to make America great again. It didn’t work out well.',\n",
       " 'There were reasons to believe lofty promises as 1919 was beginning. With peace, everything felt new again. That was certainly true in the geopolitical realm, as negotiators convened in Paris, eager to redraw the world map. It was difficult to know where to begin. The German, Austrian and Ottoman empires were now part of the ash heap of history, in the memorable phrase of Leon Trotsky. His country, Russia, had not disappeared, but it was undergoing a transformation so profound that it was destabilizing half of Europe. Overseas, territories belonging to the belligerents were being exchanged like carpets at a second-hand bazaar. A century later, from the Middle East to Africa, the world is still struggling with the decisions made hastily in 1919.',\n",
       " 'But if anyone could solve these nasty problems, Americans could. To a beleaguered world, they seemed almost superhuman. Despite their late entry into the war, they had shaped the conflict decisively with their manpower, their matériel and their chirpy marketing. “Democracy” was the word of the hour, an elixir for all problems, according to President Woodrow Wilson, who intoned it with impressive solemnity.',\n",
       " 'For a time, the world believed it. As he headed to Paris, for what was the longest overseas trip of a president, he was lionized as few leaders have ever been. Film footage captures the odd contrast of his quiet oceanic passage, followed by the euphoria of the crowds in France, who hoped he would solve all of their problems. That was a tall order.',\n",
       " 'We still live close to that grainy footage, inside the world that emerged from Versailles and its Hall of Mirrors. German resentment of the harsh conditions imposed fueled the rise of Adolf Hitler, who, like many, found his political voice in 1919. Historians would later trace the origins of World War II to the treaty’s shortcomings, and the swirling nationalisms that it failed to calm. President Wilson promised to build a world “safe for democracy,” but the result was neither safe nor, in many cases, democratic. A British politician whose career barely survived the war, Winston Churchill, saw it more clearly as a “crippled, broken world,” divided along fault lines that had never been obliterated.',\n",
       " 'Large parts of the British, French and Belgian empires remained intact, to the distress of millions hoping for democracies of their own. Inspired by the winds of change, independence movements sprang up around the world. Some were successful, but for many others, self-determination, another one of Wilson’s ringing phrases, was elusive at best. Weary European diplomats chafed at his moralistic speeches, which they scorned as “sermonettes.” The president of France, Georges Clemenceau, complained that “talking to Wilson was something like conversing with Jesus Christ!” Wilson would surely have seconded the thought.',\n",
       " 'Still, there were pockets of realism within the idealism of a politician who, for all his blind spots, understood that the world could not continue as before. Wilson has long been criticized for his failures, but he was correct in his grasp of a core truth, still relevant, that a lazy return to unbridled nationalism was a recipe for conflict. Like most presidents, he did not relish consulting with Congress, a misreading of democracy that boomeranged on him, as a newly elected Republican majority refused to approve his plan for a League of Nations.',\n",
       " 'Desperate to outflank them, he tried to take his case directly to the people, with boisterous rallies, far from East Coast elites — another way in which 2019 mirrors 1919. The strain of that effort resulted in a stroke, which nearly incapacitated Wilson for the last year of his presidency. Democracy’s great spokesman had imperiled the very system of government that he went to such lengths to defend. His crack-up was one of many in 1919.',\n",
       " 'To young writers like Fitzgerald, who received his first book contract in 1919, it was obvious that the old words were not working and new ones needed to be found. Some writers simply invented their own — James Joyce was constantly writing new ones in his scribbledehobble, or notebook.',\n",
       " 'Others lamented what had vanished, while dreading what was to come next. “Many ingenious lovely things are gone,” William Butler Yeats wrote, in a poem titled “Nineteen hundred and Nineteen.” Less than five years had elapsed since the war started in 1914, but everything felt different. To Yeats, the new sights and sounds were terrifying: In one of his most famous poems, “The Second Coming,” he imagined an apocalypse populated by fantastic beasts that would give J.K. Rowling a run for her money. Despite its gloom, it has become one of the most over-quoted poems in history.',\n",
       " 'But for millions of others, the sights and sounds of 1919 were glorious. The waging of the war had released a galvanic energy from Americans, who attacked the problem of victory with stunning efficiency. That included tremendous contributions from immigrants, women and African-Americans, who were raucously celebrated in victory parades upon return. One parade in New York feted the famous Harlem Hellfighters regiment, marching behind a spirited band playing a kind of music most Americans had never heard, soon to be known as jazz.',\n",
       " 'One of the hottest songs of 1919 was a novelty hit, “How Ya Gonna Keep ’Em Down on the Farm (After They’ve Seen Paree)?” It was a fair question for a country that was not going to return easily to prewar attitudes about race and citizenship. The return of the doughboys brought an exuberant close to the war effort, but also exacerbated tensions over who was entitled to democracy and self-determination, those pesky phrases that Woodrow Wilson kept repeating.',\n",
       " 'Throughout 1919, that was another way in which Americans seemed to hold two opposing thoughts at the same time. Large numbers of African-Americans chose their own form of self-determination by moving out of the South, toward Northern cities, the Midwest and the West Coast, a demographic change that altered America forever. But even after the move, many found democracy a daily challenge.',\n",
       " 'That year in the South, two children born near each other, on either side of the Alabama-Georgia line, revealed how quickly the country was changing. Jackie Robinson grew up in a new kind of America, thanks to his mother, who moved with him to California. George Wallace spent most of life trying to hold back the tide of change that Robinson’s generation helped unleash.',\n",
       " 'Throughout a long year, these tensions simmered just below America’s gleaming surfaces. An ugly race riot in Chicago took the lives of 38 people in late July. Other anxieties targeted immigrants, who found Americans less welcoming than the statue that greeted them in New York Harbor. To defenders of the old order, America had done her part, and there was no need to open the floodgates. But to many others, seeking a broader form of democracy, Wilson’s rhetoric seemed to describe a country that existed more vividly in his imagination than reality.',\n",
       " 'Torn in these two directions, the world’s wealthiest country seemed headed to its own form of a crack-up. Throughout 1919, waves of fear paralyzed Americans, as they reeled from a deadly influenza epidemic at the start of the year, then a campaign of letter bombs sent by anarchists in the spring. A vigorous government response led to the creation of the F.B.I. and a series of raids conducted by an overzealous attorney general, A. Mitchell Palmer. These “Palmer Raids” awakened fears of a police state and once again revealed how difficult democracy could be. A retaliatory bomb, directed at Palmer, exploded outside his house in Washington, nearly killing his neighbor, Franklin Roosevelt. When Roosevelt gave the speech that named the New Deal, 13 years later, he remembered Wilson who, for all of his failings, had ushered Americans into a new era.',\n",
       " 'A long century has elapsed, but the contradictions of 1919 still bear scrutiny. The old fault lines seem closer to the surface than they did in Roosevelt’s day, when Americans were largely united behind the great efforts to end poverty and crush fascism.',\n",
       " 'A hundred years ago, it was possible to look at the same country and see two very different versions of America. To be sure, this was a thriving nation of immigrants, innovating at a dizzying rate, with bustling cities that were the envy of the world. It was also a quieter country, dominated by its farmers and small towns, politically and socially conservative, and dismayed by the excesses of what would soon be known as the Jazz Age. Prohibition was another achievement — for what it’s worth — of 1919.',\n",
       " 'Neither side had a monopoly on virtue, as events would prove. Urban and rural America produced an equal share of political rascals. And rascality, in various guises, was another feature of life, as new forms of entertainment began to dominate attention, demanding villains and heroes in equal measure. In many cases, the war had accelerated this trend, advancing research in radio communication and using newsreels to mobilize support for the military effort. Soon, mass communication was affecting all Americans, rural and urban alike. Huge new movie palaces were built — the Capitol, in New York, could seat 4,000 — and Hollywood continued to grow apace, a new kind of dream factory, built around studios and stars.',\n",
       " 'Sports was a big business as well — in one case, a bit too big, as mobsters were able to alter the outcome of the 1919 World Series. Money affected fans in other ways, too — when the owner of the Boston Red Sox traded Babe Ruth to the New York Yankees at the end of the year, he invoked a curse on his team, which would not win another World Series until 2004.',\n",
       " 'The rural-urban divide was moderated in another way. Sales of automobiles nearly doubled in 1919, as Americans happily returned to their leisure pursuits and expanded their horizons in every sense. One eager driver was able to coax his vehicle to 120 miles an hour — in Brooklyn! ',\n",
       " 'Fortunately, no crackups resulted. ',\n",
       " 'Soon cars were changing everything. New suburban rings bloomed around cities, joining the urban and the rural to create something that was not quite either. An accidental effect of the war was a significant boost in oil production, as a result of a heavy emphasis on machines like tanks and airplanes that used internal combustion engines. Americans were quick to corral these markets, just as they embraced the automobile like no one else. But prewar experimentation in steam-powered and electric vehicles waned as a result. ',\n",
       " 'To better support this all-important vehicle, thousands of miles of highway were built, and that too changed the country forever. To promote the idea of interstate travel, a military convoy left Washington for California in July 1919. The New York Times called it “the largest aggregation of motor vehicles ever started on a trip of such length.”',\n",
       " 'But the convoy broke down repeatedly, and took 62 days to reach its destination. It averaged just six miles an hour, and almost didn’t make it out of Utah. As it turned out, there were almost no paved roads between Illinois and Nevada. Decades later, the officer who led the convoy, Dwight D. Eisenhower, would push for a national highway system as president. Even with a well-publicized divide between red and blue states, we can generally reach each other when we need to, and that is another unexpected result of a pivotal year.',\n",
       " 'In his overquoted poem from 1919, Yeats wrote “things fall apart, the center cannot hold.” Those words often ring true today, in another divided moment. But one of the comforts of history is seeing how wrong the earlier prognosticators of doom could be. By studying the ways in which we failed to fall apart, perhaps we can glean a small harvest of hope for the year ahead.',\n",
       " 'Ted Widmer is a distinguished lecturer at the Macaulay Honors College of the City University of New York and a senior fellow of the Carnegie Council for Ethics in International Affairs.',\n",
       " 'Follow The New York Times Opinion section on Facebook, Twitter (@NYTopinion) and Instagram.',\n",
       " 'Advertisement']"
      ]
     },
     "execution_count": 33,
     "metadata": {},
     "output_type": "execute_result"
    }
   ],
   "source": [
    "paragraph_list"
   ]
  },
  {
   "cell_type": "code",
   "execution_count": 34,
   "metadata": {},
   "outputs": [
    {
     "data": {
      "text/plain": [
       "440"
      ]
     },
     "execution_count": 34,
     "metadata": {},
     "output_type": "execute_result"
    }
   ],
   "source": [
    "sys.getsizeof(paragraph_list)"
   ]
  },
  {
   "cell_type": "code",
   "execution_count": 35,
   "metadata": {},
   "outputs": [
    {
     "data": {
      "text/plain": [
       "38"
      ]
     },
     "execution_count": 35,
     "metadata": {},
     "output_type": "execute_result"
    }
   ],
   "source": [
    "len(paragraph_list)"
   ]
  },
  {
   "cell_type": "code",
   "execution_count": null,
   "metadata": {},
   "outputs": [],
   "source": []
  },
  {
   "cell_type": "markdown",
   "metadata": {},
   "source": [
    "# metadata for df"
   ]
  },
  {
   "cell_type": "code",
   "execution_count": 36,
   "metadata": {},
   "outputs": [
    {
     "data": {
      "text/plain": [
       "['abstract',\n",
       " 'web_url',\n",
       " 'snippet',\n",
       " 'lead_paragraph',\n",
       " 'source',\n",
       " 'multimedia',\n",
       " 'headline',\n",
       " 'keywords',\n",
       " 'pub_date',\n",
       " 'document_type',\n",
       " 'news_desk',\n",
       " 'section_name',\n",
       " 'byline',\n",
       " 'type_of_material',\n",
       " '_id',\n",
       " 'word_count',\n",
       " 'uri']"
      ]
     },
     "execution_count": 36,
     "metadata": {},
     "output_type": "execute_result"
    }
   ],
   "source": [
    "metadata_keys"
   ]
  },
  {
   "cell_type": "code",
   "execution_count": 37,
   "metadata": {},
   "outputs": [],
   "source": [
    "metadata = []\n",
    "for key in metadata_keys:\n",
    "    metadata.append(doc[key])\n",
    "#     print(f'{key}--> {doc[key]}')\n",
    "#     print('\\n')"
   ]
  },
  {
   "cell_type": "code",
   "execution_count": 38,
   "metadata": {},
   "outputs": [
    {
     "data": {
      "text/plain": [
       "17"
      ]
     },
     "execution_count": 38,
     "metadata": {},
     "output_type": "execute_result"
    }
   ],
   "source": [
    "len(metadata)"
   ]
  },
  {
   "cell_type": "code",
   "execution_count": 39,
   "metadata": {},
   "outputs": [],
   "source": [
    "# class pandas.DataFrame(data=None, index=None, columns=None, dtype=None, copy=False)\n",
    "# class pandas.Series(data=None, index=None, dtype=None, name=None, copy=False, fastpath=False)[source]"
   ]
  },
  {
   "cell_type": "code",
   "execution_count": 40,
   "metadata": {},
   "outputs": [],
   "source": [
    "ser = pd.Series(data=metadata, index=metadata_keys)"
   ]
  },
  {
   "cell_type": "code",
   "execution_count": 41,
   "metadata": {},
   "outputs": [
    {
     "data": {
      "text/plain": [
       "abstract            From the Treaty of Versailles to Prohibition, ...\n",
       "web_url             https://www.nytimes.com/2018/12/31/opinion/191...\n",
       "snippet             From the Treaty of Versailles to Prohibition, ...\n",
       "lead_paragraph      Throughout 2019, The New York Times Opinion se...\n",
       "source                                             The New York Times\n",
       "multimedia          [{'rank': 0, 'subtype': 'xlarge', 'caption': N...\n",
       "headline            {'main': '1919: The Year of the Crack-Up', 'ki...\n",
       "keywords            [{'name': 'subject', 'value': 'United States P...\n",
       "pub_date                                     2019-01-01T00:00:03+0000\n",
       "document_type                                                 article\n",
       "news_desk                                                        OpEd\n",
       "section_name                                                  Opinion\n",
       "byline              {'original': 'By Ted Widmer', 'person': [{'fir...\n",
       "type_of_material                                                Op-Ed\n",
       "_id                 nyt://article/b205ee80-0859-514e-be2a-b8ecf0cc...\n",
       "word_count                                                       2248\n",
       "uri                 nyt://article/b205ee80-0859-514e-be2a-b8ecf0cc...\n",
       "dtype: object"
      ]
     },
     "execution_count": 41,
     "metadata": {},
     "output_type": "execute_result"
    }
   ],
   "source": [
    "ser"
   ]
  },
  {
   "cell_type": "markdown",
   "metadata": {},
   "source": [
    "# series of metadata for 1 (one) article."
   ]
  },
  {
   "cell_type": "code",
   "execution_count": 42,
   "metadata": {},
   "outputs": [],
   "source": [
    "ser['paragraph_list'] = paragraph_list"
   ]
  },
  {
   "cell_type": "code",
   "execution_count": 43,
   "metadata": {},
   "outputs": [
    {
     "data": {
      "text/plain": [
       "abstract            From the Treaty of Versailles to Prohibition, ...\n",
       "web_url             https://www.nytimes.com/2018/12/31/opinion/191...\n",
       "snippet             From the Treaty of Versailles to Prohibition, ...\n",
       "lead_paragraph      Throughout 2019, The New York Times Opinion se...\n",
       "source                                             The New York Times\n",
       "multimedia          [{'rank': 0, 'subtype': 'xlarge', 'caption': N...\n",
       "headline            {'main': '1919: The Year of the Crack-Up', 'ki...\n",
       "keywords            [{'name': 'subject', 'value': 'United States P...\n",
       "pub_date                                     2019-01-01T00:00:03+0000\n",
       "document_type                                                 article\n",
       "news_desk                                                        OpEd\n",
       "section_name                                                  Opinion\n",
       "byline              {'original': 'By Ted Widmer', 'person': [{'fir...\n",
       "type_of_material                                                Op-Ed\n",
       "_id                 nyt://article/b205ee80-0859-514e-be2a-b8ecf0cc...\n",
       "word_count                                                       2248\n",
       "uri                 nyt://article/b205ee80-0859-514e-be2a-b8ecf0cc...\n",
       "paragraph_list      [Advertisement, Supported by, From the Treaty ...\n",
       "dtype: object"
      ]
     },
     "execution_count": 43,
     "metadata": {},
     "output_type": "execute_result"
    }
   ],
   "source": [
    "ser"
   ]
  },
  {
   "cell_type": "markdown",
   "metadata": {},
   "source": [
    "# series of metadata + data for 1 (one) article"
   ]
  },
  {
   "cell_type": "markdown",
   "metadata": {},
   "source": [
    "# functions"
   ]
  },
  {
   "cell_type": "code",
   "execution_count": 44,
   "metadata": {},
   "outputs": [],
   "source": [
    "sample_5 = docs[:5]"
   ]
  },
  {
   "cell_type": "code",
   "execution_count": 45,
   "metadata": {},
   "outputs": [],
   "source": [
    "def get_metadata_key(doc):\n",
    "    metadata_keys = []\n",
    "    for key in doc.keys():\n",
    "        metadata_keys.append(key)\n",
    "    return metadata_keys"
   ]
  },
  {
   "cell_type": "code",
   "execution_count": 46,
   "metadata": {},
   "outputs": [
    {
     "name": "stdout",
     "output_type": "stream",
     "text": [
      "['abstract', 'web_url', 'snippet', 'lead_paragraph', 'source', 'multimedia', 'headline', 'keywords', 'pub_date', 'document_type', 'news_desk', 'section_name', 'byline', 'type_of_material', '_id', 'word_count', 'uri']\n",
      "['abstract', 'web_url', 'snippet', 'lead_paragraph', 'print_section', 'print_page', 'source', 'multimedia', 'headline', 'keywords', 'pub_date', 'document_type', 'news_desk', 'section_name', 'byline', 'type_of_material', '_id', 'word_count', 'uri']\n",
      "['abstract', 'web_url', 'snippet', 'lead_paragraph', 'print_section', 'print_page', 'source', 'multimedia', 'headline', 'keywords', 'pub_date', 'document_type', 'news_desk', 'section_name', 'byline', 'type_of_material', '_id', 'word_count', 'uri']\n",
      "['abstract', 'web_url', 'snippet', 'lead_paragraph', 'print_section', 'print_page', 'source', 'multimedia', 'headline', 'keywords', 'pub_date', 'document_type', 'news_desk', 'section_name', 'byline', 'type_of_material', '_id', 'word_count', 'uri']\n",
      "['abstract', 'web_url', 'snippet', 'lead_paragraph', 'print_section', 'print_page', 'source', 'multimedia', 'headline', 'keywords', 'pub_date', 'document_type', 'news_desk', 'section_name', 'byline', 'type_of_material', '_id', 'word_count', 'uri']\n"
     ]
    }
   ],
   "source": [
    "for doc in sample_5:\n",
    "    print(get_metadata_key(doc))"
   ]
  },
  {
   "cell_type": "code",
   "execution_count": 29,
   "metadata": {},
   "outputs": [],
   "source": [
    "def build_metedata_ser(docs):\n",
    "    list_of_series = []\n",
    "    max_columns = []\n",
    "    \n",
    "    for doc in docs:\n",
    "        metadata = []\n",
    "        metadata_keys = []\n",
    "        \n",
    "        for key in doc.keys():\n",
    "            metadata_keys.append(key)\n",
    "            metadata.append(doc[key])\n",
    "            metadata_ser = pd.Series(data=metadata, index=metadata_keys)\n",
    "        list_of_series.append(metadata_ser)\n",
    "        \n",
    "    return pd.DataFrame(data=list_of_series)"
   ]
  },
  {
   "cell_type": "code",
   "execution_count": 48,
   "metadata": {
    "scrolled": false
   },
   "outputs": [],
   "source": [
    "metadatadf_1_2019 = build_metedata_ser(docs)"
   ]
  },
  {
   "cell_type": "code",
   "execution_count": null,
   "metadata": {},
   "outputs": [],
   "source": []
  },
  {
   "cell_type": "code",
   "execution_count": null,
   "metadata": {},
   "outputs": [],
   "source": [
    "\n",
    "    "
   ]
  },
  {
   "cell_type": "code",
   "execution_count": 49,
   "metadata": {},
   "outputs": [],
   "source": [
    "colums2drop = ['multimedia']"
   ]
  },
  {
   "cell_type": "code",
   "execution_count": 50,
   "metadata": {},
   "outputs": [
    {
     "data": {
      "text/plain": [
       "Index(['abstract', 'web_url', 'snippet', 'lead_paragraph', 'source',\n",
       "       'multimedia', 'headline', 'keywords', 'pub_date', 'document_type',\n",
       "       'news_desk', 'section_name', 'byline', 'type_of_material', '_id',\n",
       "       'word_count', 'uri', 'print_section', 'print_page', 'subsection_name'],\n",
       "      dtype='object')"
      ]
     },
     "execution_count": 50,
     "metadata": {},
     "output_type": "execute_result"
    }
   ],
   "source": [
    "metadatadf_1_2019.columns"
   ]
  },
  {
   "cell_type": "code",
   "execution_count": 51,
   "metadata": {},
   "outputs": [],
   "source": [
    "#columns [section_name and subsections_name] are lelated"
   ]
  },
  {
   "cell_type": "code",
   "execution_count": null,
   "metadata": {},
   "outputs": [],
   "source": []
  },
  {
   "cell_type": "code",
   "execution_count": null,
   "metadata": {},
   "outputs": [],
   "source": []
  },
  {
   "cell_type": "code",
   "execution_count": null,
   "metadata": {},
   "outputs": [],
   "source": []
  },
  {
   "cell_type": "code",
   "execution_count": null,
   "metadata": {},
   "outputs": [],
   "source": []
  },
  {
   "cell_type": "markdown",
   "metadata": {},
   "source": [
    "# GROUPBY \"TYPE OF MATERIAL\""
   ]
  },
  {
   "cell_type": "code",
   "execution_count": 52,
   "metadata": {},
   "outputs": [],
   "source": [
    "tom = metadatadf_1_2019.groupby('type_of_material')"
   ]
  },
  {
   "cell_type": "code",
   "execution_count": 53,
   "metadata": {},
   "outputs": [],
   "source": [
    "dict_keys = tom.groups.keys()"
   ]
  },
  {
   "cell_type": "code",
   "execution_count": 54,
   "metadata": {},
   "outputs": [
    {
     "data": {
      "text/plain": [
       "dict_keys(['', 'An Appraisal', 'Biography', 'Correction', 'Editorial', 'Interactive Feature', 'Interview', 'Letter', 'List', 'News', 'News Analysis', 'Newsletter', 'Obituary (Obit)', 'Op-Ed', 'Question', 'Quote', 'Review', 'Schedule', 'Slideshow', 'Text', 'Video', 'briefing'])"
      ]
     },
     "execution_count": 54,
     "metadata": {},
     "output_type": "execute_result"
    }
   ],
   "source": [
    "dict_keys"
   ]
  },
  {
   "cell_type": "code",
   "execution_count": 55,
   "metadata": {},
   "outputs": [
    {
     "name": "stdout",
     "output_type": "stream",
     "text": [
      "-->  1\n",
      "An Appraisal-->  3\n",
      "Biography-->  3\n",
      "Correction-->  30\n",
      "Editorial-->  43\n",
      "Interactive Feature-->  78\n",
      "Interview-->  1\n",
      "Letter-->  116\n",
      "List-->  14\n",
      "News-->  3134\n",
      "News Analysis-->  26\n",
      "Newsletter-->  2\n",
      "Obituary (Obit)-->  120\n",
      "Op-Ed-->  340\n",
      "Question-->  3\n",
      "Quote-->  28\n",
      "Review-->  219\n",
      "Schedule-->  29\n",
      "Slideshow-->  103\n",
      "Text-->  2\n",
      "Video-->  50\n",
      "briefing-->  137\n"
     ]
    }
   ],
   "source": [
    "for key in tom.groups.keys():\n",
    "    print(f'{key}-->  {len(tom.groups[key])}')"
   ]
  },
  {
   "cell_type": "code",
   "execution_count": 56,
   "metadata": {},
   "outputs": [],
   "source": [
    "# \"News\" has 3134 articles. Op-Ed 340. Editorial are article written by the editorial board."
   ]
  },
  {
   "cell_type": "code",
   "execution_count": 57,
   "metadata": {},
   "outputs": [],
   "source": [
    "news = tom.groups['News']\n",
    "op_ed = tom.groups['Op-Ed']"
   ]
  },
  {
   "cell_type": "code",
   "execution_count": 58,
   "metadata": {},
   "outputs": [
    {
     "name": "stdout",
     "output_type": "stream",
     "text": [
      "3474\n",
      "Int64Index([   0,    1,    3,    4,   40,   45,   58,  114,  122,  173,\n",
      "            ...\n",
      "            4335, 4348, 4376, 4379, 4384, 4428, 4435, 4438, 4475, 4481],\n",
      "           dtype='int64', length=340)\n"
     ]
    }
   ],
   "source": [
    "print(len(news)+len(op_ed))\n",
    "print((op_ed))"
   ]
  },
  {
   "cell_type": "code",
   "execution_count": 59,
   "metadata": {},
   "outputs": [],
   "source": [
    "dflist = []\n",
    "for key in dict_keys:\n",
    "    for index in tom.groups[key][:5]:\n",
    "        dflist.append(metadatadf_1_2019.iloc[index])\n",
    "        df = pd.DataFrame(dflist)"
   ]
  },
  {
   "cell_type": "code",
   "execution_count": 60,
   "metadata": {
    "scrolled": false
   },
   "outputs": [
    {
     "data": {
      "text/plain": [
       "0                 Op-Ed\n",
       "1                 Op-Ed\n",
       "2       Obituary (Obit)\n",
       "3                 Op-Ed\n",
       "4                 Op-Ed\n",
       "             ...       \n",
       "4477               News\n",
       "4478               News\n",
       "4479    Obituary (Obit)\n",
       "4480               News\n",
       "4481              Op-Ed\n",
       "Name: type_of_material, Length: 4482, dtype: object"
      ]
     },
     "execution_count": 60,
     "metadata": {},
     "output_type": "execute_result"
    }
   ],
   "source": [
    "metadatadf_1_2019['type_of_material']"
   ]
  },
  {
   "cell_type": "code",
   "execution_count": 61,
   "metadata": {},
   "outputs": [],
   "source": [
    "op_ed = metadatadf_1_2019.iloc[op_ed]\n",
    "news = metadatadf_1_2019.iloc[news]\n",
    "# newsopeddf = op_eddf.concat(newsdf)"
   ]
  },
  {
   "cell_type": "code",
   "execution_count": 62,
   "metadata": {},
   "outputs": [],
   "source": [
    "#test['paragraph_list'] = test.apply(lambda row: url_pargraph_list(url=str(test['web_url'])), axis=1)"
   ]
  },
  {
   "cell_type": "code",
   "execution_count": 28,
   "metadata": {},
   "outputs": [],
   "source": [
    "def url_pargraph_list(url):\n",
    "    \n",
    "    page = requests.get((url))\n",
    "    soup = BeautifulSoup(page.content, 'html.parser')\n",
    "\n",
    "    #got text from all paragraphs\n",
    "    paragraph_list = []\n",
    "    for par in (soup.find_all(\"p\")):\n",
    "        paragraph_list.append(par.text)\n",
    "        \n",
    "    return paragraph_list\n",
    "#     return paragraph_list "
   ]
  },
  {
   "cell_type": "code",
   "execution_count": 64,
   "metadata": {},
   "outputs": [
    {
     "data": {
      "text/plain": [
       "2979"
      ]
     },
     "execution_count": 64,
     "metadata": {},
     "output_type": "execute_result"
    }
   ],
   "source": [
    "op_ed['word_count'].max()"
   ]
  },
  {
   "cell_type": "code",
   "execution_count": 65,
   "metadata": {},
   "outputs": [
    {
     "data": {
      "text/plain": [
       "19"
      ]
     },
     "execution_count": 65,
     "metadata": {},
     "output_type": "execute_result"
    }
   ],
   "source": [
    "op_ed['word_count'].min()"
   ]
  },
  {
   "cell_type": "code",
   "execution_count": 66,
   "metadata": {},
   "outputs": [],
   "source": [
    "ser['paragraph_list'] = paragraph_list"
   ]
  },
  {
   "cell_type": "code",
   "execution_count": 67,
   "metadata": {},
   "outputs": [],
   "source": [
    "#string to datetime object\n",
    "# df['date_time'] = pd.to_datetime(df['date_time'])\n",
    "# df['date_time'].dtype\n"
   ]
  },
  {
   "cell_type": "code",
   "execution_count": null,
   "metadata": {},
   "outputs": [],
   "source": []
  },
  {
   "cell_type": "code",
   "execution_count": 68,
   "metadata": {},
   "outputs": [
    {
     "data": {
      "text/plain": [
       "(340, 20)"
      ]
     },
     "execution_count": 68,
     "metadata": {},
     "output_type": "execute_result"
    }
   ],
   "source": [
    "op_ed.shape"
   ]
  },
  {
   "cell_type": "code",
   "execution_count": 69,
   "metadata": {},
   "outputs": [
    {
     "data": {
      "text/plain": [
       "(3134, 20)"
      ]
     },
     "execution_count": 69,
     "metadata": {},
     "output_type": "execute_result"
    }
   ],
   "source": [
    "news.shape"
   ]
  },
  {
   "cell_type": "markdown",
   "metadata": {},
   "source": [
    "1. take in pd.DataFrame\n",
    "2. itterate through url column\n",
    "3. pull url\n",
    "4. insert into new column for same row/url\n"
   ]
  },
  {
   "cell_type": "code",
   "execution_count": null,
   "metadata": {},
   "outputs": [],
   "source": []
  },
  {
   "cell_type": "code",
   "execution_count": 2,
   "metadata": {},
   "outputs": [],
   "source": [
    "#working function from df to df w/ text!\n",
    "def dnld_art_apply(df):\n",
    "    dfcopy = df.copy()\n",
    "    \n",
    "    text = dfcopy['web_url'].apply(\n",
    "        lambda row: \n",
    "        url_pargraph_list(\n",
    "            url = row))\n",
    "    \n",
    "    dfcopy['text'] = text\n",
    "    \n",
    "    return dfcopy    "
   ]
  },
  {
   "cell_type": "code",
   "execution_count": 3,
   "metadata": {},
   "outputs": [],
   "source": [
    "#these two cute, little took WAY too long. fuck!"
   ]
  },
  {
   "cell_type": "code",
   "execution_count": 4,
   "metadata": {},
   "outputs": [],
   "source": [
    "def dnld_art_iterrows(df):\n",
    "    dfcopy = df.copy()\n",
    "    \n",
    "    for index, row in dfcopy.iterrows():\n",
    "        url = row['web_url']\n",
    "        text = url_pargraph_list(url)\n",
    "        \n",
    "        row['pargraph_list'] = text\n",
    "        \n",
    "    return dfcopy"
   ]
  },
  {
   "cell_type": "code",
   "execution_count": 5,
   "metadata": {},
   "outputs": [],
   "source": [
    "def request_text(df):\n",
    "    \n",
    "    dfcopy = df.copy()\n",
    "    \n",
    "    for index, row in dfcopy.iterrows():\n",
    "        url = row['web_url']\n",
    "        text = url_pargraph_list(url)\n",
    "        \n",
    "        df['paragraph_list'].loc[index] = paragraph_list\n",
    "    \n",
    "    return df"
   ]
  },
  {
   "cell_type": "code",
   "execution_count": 6,
   "metadata": {},
   "outputs": [],
   "source": [
    "#tes_text = test['web_url'].apply(lambda row: url_pargraph_list(url = row))"
   ]
  },
  {
   "cell_type": "markdown",
   "metadata": {},
   "source": [
    "# working function"
   ]
  },
  {
   "cell_type": "code",
   "execution_count": 7,
   "metadata": {},
   "outputs": [],
   "source": [
    "#dnld_art_apply(test)"
   ]
  },
  {
   "cell_type": "markdown",
   "metadata": {},
   "source": [
    "# loc vs iloc"
   ]
  },
  {
   "cell_type": "code",
   "execution_count": 8,
   "metadata": {},
   "outputs": [
    {
     "ename": "NameError",
     "evalue": "name 'op_ed' is not defined",
     "output_type": "error",
     "traceback": [
      "\u001b[0;31m---------------------------------------------------------------------------\u001b[0m",
      "\u001b[0;31mNameError\u001b[0m                                 Traceback (most recent call last)",
      "\u001b[0;32m<ipython-input-8-9402bf62148d>\u001b[0m in \u001b[0;36m<module>\u001b[0;34m\u001b[0m\n\u001b[0;32m----> 1\u001b[0;31m \u001b[0mop_ed\u001b[0m\u001b[0;34m.\u001b[0m\u001b[0mshape\u001b[0m\u001b[0;34m\u001b[0m\u001b[0;34m\u001b[0m\u001b[0m\n\u001b[0m",
      "\u001b[0;31mNameError\u001b[0m: name 'op_ed' is not defined"
     ]
    }
   ],
   "source": [
    "op_ed.shape"
   ]
  },
  {
   "cell_type": "code",
   "execution_count": 9,
   "metadata": {},
   "outputs": [
    {
     "ename": "NameError",
     "evalue": "name 'news' is not defined",
     "output_type": "error",
     "traceback": [
      "\u001b[0;31m---------------------------------------------------------------------------\u001b[0m",
      "\u001b[0;31mNameError\u001b[0m                                 Traceback (most recent call last)",
      "\u001b[0;32m<ipython-input-9-567b12f0c73c>\u001b[0m in \u001b[0;36m<module>\u001b[0;34m\u001b[0m\n\u001b[0;32m----> 1\u001b[0;31m \u001b[0mnews\u001b[0m\u001b[0;34m.\u001b[0m\u001b[0mshape\u001b[0m\u001b[0;34m\u001b[0m\u001b[0;34m\u001b[0m\u001b[0m\n\u001b[0m",
      "\u001b[0;31mNameError\u001b[0m: name 'news' is not defined"
     ]
    }
   ],
   "source": [
    "news.shape"
   ]
  },
  {
   "cell_type": "code",
   "execution_count": 10,
   "metadata": {},
   "outputs": [
    {
     "ename": "NameError",
     "evalue": "name 'pd' is not defined",
     "output_type": "error",
     "traceback": [
      "\u001b[0;31m---------------------------------------------------------------------------\u001b[0m",
      "\u001b[0;31mNameError\u001b[0m                                 Traceback (most recent call last)",
      "\u001b[0;32m<ipython-input-10-351e530b0c41>\u001b[0m in \u001b[0;36m<module>\u001b[0;34m\u001b[0m\n\u001b[0;32m----> 1\u001b[0;31m \u001b[0mmetadata_jan19\u001b[0m \u001b[0;34m=\u001b[0m \u001b[0mpd\u001b[0m\u001b[0;34m.\u001b[0m\u001b[0mconcat\u001b[0m\u001b[0;34m(\u001b[0m\u001b[0;34m[\u001b[0m\u001b[0mop_ed\u001b[0m\u001b[0;34m,\u001b[0m \u001b[0mnews\u001b[0m\u001b[0;34m]\u001b[0m\u001b[0;34m,\u001b[0m \u001b[0mignore_index\u001b[0m\u001b[0;34m=\u001b[0m\u001b[0;32mTrue\u001b[0m\u001b[0;34m)\u001b[0m\u001b[0;34m\u001b[0m\u001b[0;34m\u001b[0m\u001b[0m\n\u001b[0m",
      "\u001b[0;31mNameError\u001b[0m: name 'pd' is not defined"
     ]
    }
   ],
   "source": [
    "metadata_jan19 = pd.concat([op_ed, news], ignore_index=True)"
   ]
  },
  {
   "cell_type": "code",
   "execution_count": 11,
   "metadata": {},
   "outputs": [
    {
     "ename": "NameError",
     "evalue": "name 'metadata_jan19' is not defined",
     "output_type": "error",
     "traceback": [
      "\u001b[0;31m---------------------------------------------------------------------------\u001b[0m",
      "\u001b[0;31mNameError\u001b[0m                                 Traceback (most recent call last)",
      "\u001b[0;32m<ipython-input-11-d5fc66f50305>\u001b[0m in \u001b[0;36m<module>\u001b[0;34m\u001b[0m\n\u001b[0;32m----> 1\u001b[0;31m \u001b[0mmetadata_jan19\u001b[0m\u001b[0;34m.\u001b[0m\u001b[0mshape\u001b[0m\u001b[0;34m\u001b[0m\u001b[0;34m\u001b[0m\u001b[0m\n\u001b[0m",
      "\u001b[0;31mNameError\u001b[0m: name 'metadata_jan19' is not defined"
     ]
    }
   ],
   "source": [
    "metadata_jan19.shape"
   ]
  },
  {
   "cell_type": "code",
   "execution_count": 12,
   "metadata": {},
   "outputs": [],
   "source": [
    "#testing index 0-20"
   ]
  },
  {
   "cell_type": "code",
   "execution_count": 13,
   "metadata": {},
   "outputs": [],
   "source": [
    "#metadata_jan19_0_20 = metadata_jan19.iloc[0:20]"
   ]
  },
  {
   "cell_type": "code",
   "execution_count": 14,
   "metadata": {},
   "outputs": [
    {
     "ename": "NameError",
     "evalue": "name 'metadata_jan19_0_20' is not defined",
     "output_type": "error",
     "traceback": [
      "\u001b[0;31m---------------------------------------------------------------------------\u001b[0m",
      "\u001b[0;31mNameError\u001b[0m                                 Traceback (most recent call last)",
      "\u001b[0;32m<ipython-input-14-2b4e27ed817f>\u001b[0m in \u001b[0;36m<module>\u001b[0;34m\u001b[0m\n\u001b[0;32m----> 1\u001b[0;31m \u001b[0mtype\u001b[0m\u001b[0;34m(\u001b[0m\u001b[0mmetadata_jan19_0_20\u001b[0m\u001b[0;34m)\u001b[0m\u001b[0;34m\u001b[0m\u001b[0;34m\u001b[0m\u001b[0m\n\u001b[0m",
      "\u001b[0;31mNameError\u001b[0m: name 'metadata_jan19_0_20' is not defined"
     ]
    }
   ],
   "source": [
    "type(metadata_jan19_0_20)"
   ]
  },
  {
   "cell_type": "code",
   "execution_count": 15,
   "metadata": {},
   "outputs": [],
   "source": [
    "#jan19_0_20 = dnld_art_apply(metadata_jan19_0_20)"
   ]
  },
  {
   "cell_type": "code",
   "execution_count": 16,
   "metadata": {},
   "outputs": [],
   "source": [
    "#jan19_0_20.to_csv('jan19_0_20')"
   ]
  },
  {
   "cell_type": "code",
   "execution_count": 17,
   "metadata": {},
   "outputs": [],
   "source": [
    "#a = ['Advertisement', 'Supported by', 'The notion that limiting women’s reproduction can cure societal ills has a long, shameful history.', 'By Christine Dehlendorf and Kelsey Holt', 'Drs. Dehlendorf and Holt are researchers with the Person-Centered Reproductive Health Program at the University of California, San Francisco.', 'Over the past decade, more and more women have begun using long-acting, reversible birth control methods like intrauterine devices and implants. These birth control methods are highly effective at preventing pregnancy but were previously not widely accessible because of high costs and lack of knowledge among health care providers. Increasing access to these methods, for women who want them, is a sign of progress.', 'However, many researchers, advocates and policymakers aren’t selling their rise solely as a victory for women’s health. They claim IUDs and implants may be a powerful new tool to fight poverty. This sort of language should set off alarm bells because the idea that limiting women’s reproduction can cure society’s ills has a long, shameful history in the United States.', 'Between 1909 and 1979, about 20,000 people were involuntarily sterilized in California — one of 33 states where compulsory sterilization in the name of eugenics and social well-being was legal in the 20th century. In the 1990s, multiple states proposed laws to incentivize or even require welfare recipients to use the new contraceptive Norplant — and while none of these became law, they helped shape public discourse. Even in recent years, some judges have offered reduced sentences to defendants who agree to be sterilized or use birth control. All of the above are instances in which the state sought to limit the reproduction of the poor, people of color and other groups, because of a belief that doing so would be for the good of society.', 'Today, this age-old idea that reproduction is to blame for societal problems has seen a resurgence in the current enthusiasm around long-acting, reversible contraception.', 'We can see echoes of this view in how some politicians argue for expanded access to birth control as a tool to address intergenerational poverty. We can see it in the priorities of philanthropic funders and in glowing media coverage about the promise of long-acting birth control that produces headlines like “Can the IUD Prevent Poverty, Save Taxpayers Billions?”', 'Promoting IUDs and implants is certainly less egregious than state-sponsored eugenics. But promoting them from a poverty-reduction perspective still targets the reproduction of certain women based on a problematic and simplistic understanding of the causes of societal ills. Such tactics could also, ironically, harm the quality of family-planning care for the very women they are intended to help.', 'Of course contraception is critical to individuals’ human right to control their reproduction and shape the course of their own lives. But there is a clear danger in suggesting that ending poverty on a societal level is as simple as inserting a device into an arm or uterus. This idea distracts from the structural factors — like the availability of social services and racial discrimination — that determine economic opportunities. Providing contraception is critical because it is a core component of women’s health care, not because of an unfounded belief that it is a silver bullet for poverty.', 'We also have concerns about how this emphasis on birth control as a tool of poverty reduction actually plays out in clinics. Claims about the social benefits of increasing the use of IUDs and implants can contribute to a narrative that says these methods are the best methods for everyone and that a program’s success should be judged by the numbers of IUDs and implants its providers insert. This, in turn, can contribute to providers neglecting individual women’s preferences when it comes to birth control: applying subtle pressure to use long-acting contraception, for example, or resisting requests to remove IUDs and implants.', 'These concerns about the quality of family-planning care are particularly salient for women of color. Research has shown that black women are more likely to feel pressured to use contraceptives. When studying counseling about IUDs specifically, we found that providers are more likely to recommend IUDs to low-income black and Latina women than low-income white women.', 'Given these biases, and the long history of coercion, it is no wonder that research has found that more than 40 percent of black and Latina women think the government promotes birth control to limit births among communities of color. Such beliefs should not be dismissed as conspiracy theories but recognized as understandable reactions to lived experiences. Programs to promote long-acting methods among women of color can further erode trust in family-planning services. Indeed, women of color have led efforts to raise awareness about the dangers of these programs and define principles for respectful provision of these methods.', 'Prioritizing women’s access to all contraceptive methods is undeniably a laudable goal. But access shouldn’t be contingent on the dangerous claim that it will address the fundamental societal problem of poverty and economic inequality. This, in fact, requires policies such as raising the minimum wage, instituting paid family and sick leave, and expanding access to social services.', 'Instead, policies and programs around family planning should keep their focus where it belongs: on whether women’s needs are met and their preferences for building — or not building — a family are respected. These efforts should explicitly acknowledge and respond to the continuing bias in health care and the mistrust many women feel in family-planning services. In doing so, they can begin to address the dark history of reproductive coercion and ensure all women receive the care that they deserve.', 'Christine Dehlendorf, a family physician, and Kelsey Holt, a social and behavioral scientist, are researchers with the Person-Centered Reproductive Health Program at the University of California, San Francisco.', 'Advertisement']"
   ]
  },
  {
   "cell_type": "code",
   "execution_count": 18,
   "metadata": {},
   "outputs": [],
   "source": [
    "#len(a)"
   ]
  },
  {
   "cell_type": "code",
   "execution_count": 19,
   "metadata": {},
   "outputs": [],
   "source": [
    "# count = 0\n",
    "# for line in a:\n",
    "#     for word in line:\n",
    "#         count += 1\n",
    "# print(count)"
   ]
  },
  {
   "cell_type": "code",
   "execution_count": 20,
   "metadata": {},
   "outputs": [],
   "source": [
    "#metadata_jan19_20_100 = metadata_jan19.iloc[20:100]"
   ]
  },
  {
   "cell_type": "code",
   "execution_count": 21,
   "metadata": {},
   "outputs": [],
   "source": [
    "#jan19_20_100 = dnld_art_apply(metadata_jan19_20_100)"
   ]
  },
  {
   "cell_type": "code",
   "execution_count": 22,
   "metadata": {},
   "outputs": [],
   "source": [
    "#jan19_20_100.to_csv('jan19_20_100.csv')"
   ]
  },
  {
   "cell_type": "code",
   "execution_count": 23,
   "metadata": {},
   "outputs": [],
   "source": [
    "#metadata_jan19_100_200 = metadata_jan19.iloc[100:200]"
   ]
  },
  {
   "cell_type": "code",
   "execution_count": 24,
   "metadata": {},
   "outputs": [],
   "source": [
    "#jan19_100_200 = dnld_art_apply(metadata_jan19_100_200)"
   ]
  },
  {
   "cell_type": "code",
   "execution_count": 25,
   "metadata": {},
   "outputs": [],
   "source": [
    "#jan19_100_200.to_csv('jan19_100_200.csv')"
   ]
  },
  {
   "cell_type": "code",
   "execution_count": 26,
   "metadata": {},
   "outputs": [],
   "source": [
    "#metadata_jan19_201_400 = metadata_jan19.iloc[201:400]"
   ]
  },
  {
   "cell_type": "code",
   "execution_count": 27,
   "metadata": {},
   "outputs": [],
   "source": [
    "#jan19_201_400 = dnld_art_apply(metadata_jan19_201_400)"
   ]
  },
  {
   "cell_type": "code",
   "execution_count": 28,
   "metadata": {},
   "outputs": [],
   "source": [
    "#jan19_201_400.to_csv('jan19_201_400.csv')"
   ]
  },
  {
   "cell_type": "code",
   "execution_count": 29,
   "metadata": {},
   "outputs": [],
   "source": [
    "#metadata_jan19_401_1000 = metadata_jan19.iloc[401:1000]"
   ]
  },
  {
   "cell_type": "code",
   "execution_count": 30,
   "metadata": {},
   "outputs": [],
   "source": [
    "#jan19_401_1000 = dnld_art_apply(metadata_jan19_401_1000)"
   ]
  },
  {
   "cell_type": "code",
   "execution_count": 31,
   "metadata": {},
   "outputs": [],
   "source": [
    "#jan19_401_1000.to_csv('jan19_401_1000.csv')"
   ]
  },
  {
   "cell_type": "code",
   "execution_count": 32,
   "metadata": {},
   "outputs": [],
   "source": [
    "#metadata_jan19_1001_2000 = metadata_jan19.iloc[1001:2000]"
   ]
  },
  {
   "cell_type": "code",
   "execution_count": 33,
   "metadata": {},
   "outputs": [],
   "source": [
    "#jan19_1001_2000 = dnld_art_apply(metadata_jan19_1001_2000)"
   ]
  },
  {
   "cell_type": "code",
   "execution_count": 34,
   "metadata": {},
   "outputs": [],
   "source": [
    "#jan19_1001_2000.to_csv('jan19_1001_2000.csv')"
   ]
  },
  {
   "cell_type": "code",
   "execution_count": 35,
   "metadata": {},
   "outputs": [],
   "source": [
    "#metadata_jan19_2001_3000 = metadata_jan19.iloc[2001:3000]"
   ]
  },
  {
   "cell_type": "code",
   "execution_count": 36,
   "metadata": {},
   "outputs": [],
   "source": [
    "#jan19_2001_3000 = dnld_art_apply(metadata_jan19_2001_3000)"
   ]
  },
  {
   "cell_type": "code",
   "execution_count": 37,
   "metadata": {},
   "outputs": [],
   "source": [
    "#jan19_2001_3000.to_csv('jan19_2001_3000.csv')"
   ]
  },
  {
   "cell_type": "code",
   "execution_count": 38,
   "metadata": {},
   "outputs": [],
   "source": [
    "#metadata_jan19_3001 = metadata_jan19.iloc[3001:]"
   ]
  },
  {
   "cell_type": "code",
   "execution_count": 39,
   "metadata": {},
   "outputs": [],
   "source": [
    "#jan19_3001 = dnld_art_apply(metadata_jan19_3001)"
   ]
  },
  {
   "cell_type": "code",
   "execution_count": 40,
   "metadata": {},
   "outputs": [],
   "source": [
    "#jan19_3001.to_csv('jan19_3001.csv')"
   ]
  },
  {
   "cell_type": "code",
   "execution_count": 41,
   "metadata": {},
   "outputs": [
    {
     "ename": "NameError",
     "evalue": "name 'metadata_jan19' is not defined",
     "output_type": "error",
     "traceback": [
      "\u001b[0;31m---------------------------------------------------------------------------\u001b[0m",
      "\u001b[0;31mNameError\u001b[0m                                 Traceback (most recent call last)",
      "\u001b[0;32m<ipython-input-41-6403b3969b28>\u001b[0m in \u001b[0;36m<module>\u001b[0;34m\u001b[0m\n\u001b[0;32m----> 1\u001b[0;31m \u001b[0mextrasdf\u001b[0m \u001b[0;34m=\u001b[0m \u001b[0mmetadata_jan19\u001b[0m\u001b[0;34m.\u001b[0m\u001b[0miloc\u001b[0m\u001b[0;34m[\u001b[0m\u001b[0;34m[\u001b[0m\u001b[0;36m200\u001b[0m\u001b[0;34m,\u001b[0m\u001b[0;36m400\u001b[0m\u001b[0;34m,\u001b[0m\u001b[0;36m1000\u001b[0m\u001b[0;34m,\u001b[0m\u001b[0;36m2000\u001b[0m\u001b[0;34m,\u001b[0m\u001b[0;36m3000\u001b[0m\u001b[0;34m]\u001b[0m\u001b[0;34m]\u001b[0m\u001b[0;34m\u001b[0m\u001b[0;34m\u001b[0m\u001b[0m\n\u001b[0m",
      "\u001b[0;31mNameError\u001b[0m: name 'metadata_jan19' is not defined"
     ]
    }
   ],
   "source": [
    "extrasdf = metadata_jan19.iloc[[200,400,1000,2000,3000]]"
   ]
  },
  {
   "cell_type": "code",
   "execution_count": null,
   "metadata": {},
   "outputs": [],
   "source": []
  },
  {
   "cell_type": "code",
   "execution_count": 42,
   "metadata": {},
   "outputs": [
    {
     "ename": "NameError",
     "evalue": "name 'extrasdf' is not defined",
     "output_type": "error",
     "traceback": [
      "\u001b[0;31m---------------------------------------------------------------------------\u001b[0m",
      "\u001b[0;31mNameError\u001b[0m                                 Traceback (most recent call last)",
      "\u001b[0;32m<ipython-input-42-e35226db2037>\u001b[0m in \u001b[0;36m<module>\u001b[0;34m\u001b[0m\n\u001b[0;32m----> 1\u001b[0;31m \u001b[0mextras\u001b[0m \u001b[0;34m=\u001b[0m \u001b[0mdnld_art_apply\u001b[0m\u001b[0;34m(\u001b[0m\u001b[0mextrasdf\u001b[0m\u001b[0;34m)\u001b[0m\u001b[0;34m\u001b[0m\u001b[0;34m\u001b[0m\u001b[0m\n\u001b[0m",
      "\u001b[0;31mNameError\u001b[0m: name 'extrasdf' is not defined"
     ]
    }
   ],
   "source": [
    "extras = dnld_art_apply(extrasdf)"
   ]
  },
  {
   "cell_type": "code",
   "execution_count": 43,
   "metadata": {},
   "outputs": [
    {
     "ename": "NameError",
     "evalue": "name 'extras' is not defined",
     "output_type": "error",
     "traceback": [
      "\u001b[0;31m---------------------------------------------------------------------------\u001b[0m",
      "\u001b[0;31mNameError\u001b[0m                                 Traceback (most recent call last)",
      "\u001b[0;32m<ipython-input-43-6fd38e9fdd8d>\u001b[0m in \u001b[0;36m<module>\u001b[0;34m\u001b[0m\n\u001b[0;32m----> 1\u001b[0;31m \u001b[0mextras\u001b[0m\u001b[0;34m.\u001b[0m\u001b[0mto_csv\u001b[0m\u001b[0;34m(\u001b[0m\u001b[0;34m'extra_jan19.csv'\u001b[0m\u001b[0;34m)\u001b[0m\u001b[0;34m\u001b[0m\u001b[0;34m\u001b[0m\u001b[0m\n\u001b[0m",
      "\u001b[0;31mNameError\u001b[0m: name 'extras' is not defined"
     ]
    }
   ],
   "source": [
    "extras.to_csv('extra_jan19.csv')"
   ]
  },
  {
   "cell_type": "markdown",
   "metadata": {},
   "source": [
    "# feb_19 "
   ]
  },
  {
   "cell_type": "code",
   "execution_count": 44,
   "metadata": {},
   "outputs": [],
   "source": [
    "#how do i add the string into the function?"
   ]
  },
  {
   "cell_type": "code",
   "execution_count": 45,
   "metadata": {},
   "outputs": [],
   "source": [
    "def api_metadata_docs(api):\n",
    "    #api = 'https://api.nytimes.com/svc/archive/v1/{year}/{month}.json?api-key=kwQUDL7cdaIuu03LazP2b3F2R0uY1kET'\n",
    "    print(api)\n",
    "    response = requests.get(api, params={'q': 'requests+language:python'})\n",
    "    print(response.status_code)\n",
    "    json_response = response.json()\n",
    "    json_docs = json_response['response']['docs']\n",
    "    return json_docs"
   ]
  },
  {
   "cell_type": "code",
   "execution_count": 46,
   "metadata": {},
   "outputs": [],
   "source": [
    "def json_metedata_df(docs):\n",
    "    list_of_series = []\n",
    "    max_columns = []\n",
    "    \n",
    "    for doc in docs:\n",
    "        metadata = []\n",
    "        metadata_keys = []\n",
    "        \n",
    "        for key in doc.keys():\n",
    "            metadata_keys.append(key)\n",
    "            metadata.append(doc[key])\n",
    "            metadata_ser = pd.Series(data=metadata, index=metadata_keys)\n",
    "        list_of_series.append(metadata_ser)\n",
    "        \n",
    "    metadata_df = pd.DataFrame(data=list_of_series)\n",
    "    print(metadata_df.shape)\n",
    "    return metadata_df"
   ]
  },
  {
   "cell_type": "code",
   "execution_count": 47,
   "metadata": {},
   "outputs": [],
   "source": [
    "#takes in a df and returns only oped and news from \"type of material\" column\n",
    "def oped_news_filter(df):\n",
    "    oped_news_df = df.copy()\n",
    "    \n",
    "    oped_news_df = oped_news_df[oped_news_df.type_of_material.isin(['Op-Ed', 'News'])]\n",
    "    print(oped_news_df.shape)\n",
    "    return oped_news_df"
   ]
  },
  {
   "cell_type": "code",
   "execution_count": 48,
   "metadata": {},
   "outputs": [],
   "source": [
    "def url_pargraph_list(url):\n",
    "    \n",
    "    page = requests.get((url))\n",
    "    soup = BeautifulSoup(page.content, 'html.parser')\n",
    "\n",
    "    #got text from all paragraphs\n",
    "    paragraph_list = []\n",
    "    for par in (soup.find_all(\"p\")):\n",
    "        paragraph_list.append(par.text)\n",
    "        \n",
    "    return paragraph_list\n",
    "#     return paragraph_list "
   ]
  },
  {
   "cell_type": "code",
   "execution_count": 49,
   "metadata": {},
   "outputs": [],
   "source": [
    "#working function from df to df w/ text!\n",
    "def dnld_art_apply(df):\n",
    "    articles_df = df.copy()\n",
    "    \n",
    "    text = articles_df['web_url'].apply(\n",
    "        lambda row: \n",
    "        url_pargraph_list(\n",
    "            url = row))\n",
    "    \n",
    "    articles_df['text'] = text\n",
    "    \n",
    "    return articles_df    "
   ]
  },
  {
   "cell_type": "code",
   "execution_count": 50,
   "metadata": {},
   "outputs": [],
   "source": [
    "api = 'https://api.nytimes.com/svc/archive/v1/2019/2.json?api-key=kwQUDL7cdaIuu03LazP2b3F2R0uY1kET'"
   ]
  },
  {
   "cell_type": "code",
   "execution_count": 51,
   "metadata": {},
   "outputs": [],
   "source": [
    "# %%time\n",
    "# feb19_json = api_metadata_docs(api)\n",
    "\n",
    "# CPU times: user 2 µs, sys: 1e+03 ns, total: 3 µs\n",
    "# Wall time: 5.01 µs\n",
    "# https://api.nytimes.com/svc/archive/v1/2019/2.json?api-key=kwQUDL7cdaIuu03LazP2b3F2R0uY1kET\n",
    "# 200"
   ]
  },
  {
   "cell_type": "code",
   "execution_count": 52,
   "metadata": {},
   "outputs": [],
   "source": [
    "# %%time\n",
    "# feb19_metadata_df = json_metedata_df(feb19_json)\n",
    "\n",
    "# (4122, 20)\n",
    "# CPU times: user 12.3 s, sys: 17.1 ms, total: 12.4 s\n",
    "# Wall time: 12.4 s"
   ]
  },
  {
   "cell_type": "code",
   "execution_count": 53,
   "metadata": {},
   "outputs": [],
   "source": [
    "# feb19_metadata_df = json_metedata_df(feb19_json)"
   ]
  },
  {
   "cell_type": "code",
   "execution_count": 54,
   "metadata": {},
   "outputs": [],
   "source": [
    "# feb19_oped_news_df = oped_news_filter(feb19_metadata_df)"
   ]
  },
  {
   "cell_type": "markdown",
   "metadata": {},
   "source": [
    "# make this a function next time!!!!"
   ]
  },
  {
   "cell_type": "code",
   "execution_count": 55,
   "metadata": {},
   "outputs": [],
   "source": [
    "# feb19_oped_news_0_500 = feb19_oped_news_df.iloc[0:500]"
   ]
  },
  {
   "cell_type": "code",
   "execution_count": 56,
   "metadata": {},
   "outputs": [],
   "source": [
    "# feb19_0_500 = dnld_art_apply(feb19_oped_news_0_500)"
   ]
  },
  {
   "cell_type": "code",
   "execution_count": 57,
   "metadata": {},
   "outputs": [],
   "source": [
    "# feb19_0_500.to_csv('feb19_0_500.csv')"
   ]
  },
  {
   "cell_type": "code",
   "execution_count": 58,
   "metadata": {},
   "outputs": [],
   "source": [
    "# feb19_oped_news_500_1000 = feb19_oped_news_df.iloc[500:1000]"
   ]
  },
  {
   "cell_type": "code",
   "execution_count": 59,
   "metadata": {},
   "outputs": [],
   "source": [
    "# feb19_500_1000 = dnld_art_apply(feb19_oped_news_500_1000)"
   ]
  },
  {
   "cell_type": "code",
   "execution_count": 60,
   "metadata": {},
   "outputs": [],
   "source": [
    "# feb19_500_1000.to_csv('feb19_500_1000.csv')"
   ]
  },
  {
   "cell_type": "code",
   "execution_count": 61,
   "metadata": {},
   "outputs": [],
   "source": [
    "# %%time\n",
    "# feb19_oped_news_1000_1500 = feb19_oped_news_df.iloc[1000:1500]\n",
    "\n",
    "# CPU times: user 121 µs, sys: 1e+03 ns, total: 122 µs\n",
    "# Wall time: 124 µs"
   ]
  },
  {
   "cell_type": "code",
   "execution_count": 62,
   "metadata": {},
   "outputs": [],
   "source": [
    "# %%time\n",
    "# feb19_1000_1500 = dnld_art_apply(feb19_oped_news_1000_1500)\n",
    "\n",
    "# CPU times: user 23.5 s, sys: 1.07 s, total: 24.5 s\n",
    "# Wall time: 5min 28s"
   ]
  },
  {
   "cell_type": "code",
   "execution_count": 63,
   "metadata": {},
   "outputs": [],
   "source": [
    "# %%time\n",
    "# feb19_1000_1500.to_csv('feb19_1000_1500.csv')\n",
    "\n",
    "# CPU times: user 134 ms, sys: 9.79 ms, total: 143 ms\n",
    "# Wall time: 143 ms"
   ]
  },
  {
   "cell_type": "code",
   "execution_count": 64,
   "metadata": {},
   "outputs": [],
   "source": [
    "# %%time\n",
    "# feb19_oped_news_1500_2000 = feb19_oped_news_df.iloc[1500:2000]\n",
    "\n",
    "# CPU times: user 119 µs, sys: 0 ns, total: 119 µs\n",
    "# Wall time: 123 µs"
   ]
  },
  {
   "cell_type": "code",
   "execution_count": 65,
   "metadata": {},
   "outputs": [],
   "source": [
    "# %%time\n",
    "# feb19_1500_2000 = dnld_art_apply(feb19_oped_news_1500_2000)\n",
    "\n",
    "# CPU times: user 23.2 s, sys: 1.07 s, total: 24.2 s\n",
    "# Wall time: 5min 17s"
   ]
  },
  {
   "cell_type": "code",
   "execution_count": 66,
   "metadata": {},
   "outputs": [],
   "source": [
    "# %%time\n",
    "# feb19_1500_2000.to_csv('feb19_1500_2000.csv')\n",
    "# # \n",
    "# CPU times: user 130 ms, sys: 9.58 ms, total: 140 ms\n",
    "# Wall time: 140 ms"
   ]
  },
  {
   "cell_type": "code",
   "execution_count": 67,
   "metadata": {},
   "outputs": [],
   "source": [
    "# %%time\n",
    "# feb19_oped_news_2000_2500 = feb19_oped_news_df.iloc[2000:2500]\n",
    "\n",
    "# CPU times: user 109 µs, sys: 0 ns, total: 109 µs\n",
    "# Wall time: 112 µs"
   ]
  },
  {
   "cell_type": "code",
   "execution_count": 68,
   "metadata": {},
   "outputs": [],
   "source": [
    "# %%time\n",
    "# feb19_2000_2500 = dnld_art_apply(feb19_oped_news_2000_2500)\n",
    "\n",
    "# CPU times: user 23.7 s, sys: 1.08 s, total: 24.8 s\n",
    "# Wall time: 5min 26s"
   ]
  },
  {
   "cell_type": "code",
   "execution_count": 69,
   "metadata": {},
   "outputs": [],
   "source": [
    "# %%time\n",
    "# feb19_2000_2500.to_csv('feb19_2000_2500.csv')\n",
    "\n",
    "# CPU times: user 130 ms, sys: 8.74 ms, total: 139 ms\n",
    "# Wall time: 138 ms"
   ]
  },
  {
   "cell_type": "code",
   "execution_count": 70,
   "metadata": {},
   "outputs": [],
   "source": [
    "# %%time\n",
    "# feb19_oped_news_2500_3000 = feb19_oped_news_df.iloc[2500:3000]\n",
    "\n",
    "# CPU times: user 109 µs, sys: 0 ns, total: 109 µs\n",
    "# Wall time: 113 µs"
   ]
  },
  {
   "cell_type": "code",
   "execution_count": 71,
   "metadata": {},
   "outputs": [],
   "source": [
    "# %%time\n",
    "# feb19_2500_3000 = dnld_art_apply(feb19_oped_news_2500_3000)\n",
    "\n",
    "# CPU times: user 24.1 s, sys: 1.16 s, total: 25.2 s\n",
    "# Wall time: 5min 41s"
   ]
  },
  {
   "cell_type": "code",
   "execution_count": 72,
   "metadata": {},
   "outputs": [],
   "source": [
    "# %%time\n",
    "# feb19_2500_3000.to_csv('feb19_2500_3000.csv')\n",
    "\n",
    "# CPU times: user 132 ms, sys: 10 ms, total: 142 ms\n",
    "# Wall time: 142 ms"
   ]
  },
  {
   "cell_type": "code",
   "execution_count": 73,
   "metadata": {},
   "outputs": [],
   "source": [
    "# %%time\n",
    "# feb19_oped_news_3000 = feb19_oped_news_df.iloc[3000:]\n",
    "\n",
    "# CPU times: user 108 µs, sys: 0 ns, total: 108 µs\n",
    "# Wall time: 111 µs"
   ]
  },
  {
   "cell_type": "code",
   "execution_count": 74,
   "metadata": {},
   "outputs": [],
   "source": [
    "# %%time\n",
    "# feb19_3000 = dnld_art_apply(feb19_oped_news_3000)\n",
    "\n",
    "# CPU times: user 6.57 s, sys: 300 ms, total: 6.87 s\n",
    "# Wall time: 1min 32s"
   ]
  },
  {
   "cell_type": "code",
   "execution_count": 75,
   "metadata": {},
   "outputs": [],
   "source": [
    "# %%time\n",
    "# feb19_3000.to_csv('feb19_3000.csv')\n",
    "\n",
    "# CPU times: user 39.4 ms, sys: 3.75 ms, total: 43.2 ms\n",
    "# Wall time: 42 ms"
   ]
  },
  {
   "cell_type": "markdown",
   "metadata": {},
   "source": [
    "# mar19"
   ]
  },
  {
   "cell_type": "code",
   "execution_count": 83,
   "metadata": {},
   "outputs": [],
   "source": [
    "# %%time\n",
    "# #define api\n",
    "\n",
    "# mar19_api = 'https://api.nytimes.com/svc/archive/v1/2019/3.json?api-key=kwQUDL7cdaIuu03LazP2b3F2R0uY1kET'\n",
    "\n",
    "# CPU times: user 2 µs, sys: 1 µs, total: 3 µs\n",
    "# Wall time: 3.81 µs"
   ]
  },
  {
   "cell_type": "code",
   "execution_count": 77,
   "metadata": {},
   "outputs": [],
   "source": [
    "# %%time\n",
    "# #api request from archive for metadata json\n",
    "\n",
    "\n",
    "# mar19_json = api_metadata_docs(mar19_api)\n",
    "\n",
    "# https://api.nytimes.com/svc/archive/v1/2019/3.json?api-key=kwQUDL7cdaIuu03LazP2b3F2R0uY1kET\n",
    "# 200\n",
    "# CPU times: user 485 ms, sys: 173 ms, total: 658 ms\n",
    "# Wall time: 6.11 s"
   ]
  },
  {
   "cell_type": "code",
   "execution_count": 78,
   "metadata": {},
   "outputs": [],
   "source": [
    "# %%time\n",
    "# #build metadata df from metadata json\n",
    "\n",
    "# mar19_metadata_df = json_metedata_df(mar19_json)\n",
    "\n",
    "# (4690, 20)\n",
    "# CPU times: user 14.2 s, sys: 44.5 ms, total: 14.2 s\n",
    "# Wall time: 14.3 s"
   ]
  },
  {
   "cell_type": "code",
   "execution_count": 79,
   "metadata": {},
   "outputs": [],
   "source": [
    "# %%time\n",
    "# #filter from full metadata df to features and target dataframe\n",
    "\n",
    "# mar19_oped_news_df = oped_news_filter(mar19_metadata_df\n",
    "                                      \n",
    "# (3664, 20)\n",
    "# CPU times: user 4.5 ms, sys: 896 µs, total: 5.4 ms\n",
    "# Wall time: 4.96 ms"
   ]
  },
  {
   "cell_type": "code",
   "execution_count": 80,
   "metadata": {},
   "outputs": [],
   "source": [
    "# %%time\n",
    "# #scrape  thousands of html files\n",
    "\n",
    "# mar19 = dnld_art_apply(mar19_oped_news_df)\n",
    "\n",
    "# CPU times: user 2min 54s, sys: 8.67 s, total: 3min 3s\n",
    "# Wall time: 35min 52s"
   ]
  },
  {
   "cell_type": "code",
   "execution_count": 81,
   "metadata": {},
   "outputs": [],
   "source": [
    "# %%time\n",
    "# mar19.to_csv('mar19.csv')\n",
    "\n",
    "# CPU times: user 956 ms, sys: 64.8 ms, total: 1.02 s\n",
    "# Wall time: 1.04 s"
   ]
  },
  {
   "cell_type": "markdown",
   "metadata": {},
   "source": [
    "# apr19"
   ]
  },
  {
   "cell_type": "markdown",
   "metadata": {},
   "source": [
    "### <span style=\"color:red\">should i make this into a class so i can access the metadata df after?</span>\n"
   ]
  },
  {
   "cell_type": "code",
   "execution_count": 82,
   "metadata": {},
   "outputs": [],
   "source": [
    "#uber function to go from api TO filtered df\n",
    "\n",
    "def api_oped_news_df(api):\n",
    "    json_docs = api_metadata_docs(api)\n",
    "    metadata_df = json_metedata_df(json_docs)\n",
    "    oped_news_df = oped_news_filter(metadata_df)\n",
    "    return oped_news_df"
   ]
  },
  {
   "cell_type": "code",
   "execution_count": 58,
   "metadata": {},
   "outputs": [],
   "source": [
    "# apr19_api = 'https://api.nytimes.com/svc/archive/v1/2019/4.json?api-key=kwQUDL7cdaIuu03LazP2b3F2R0uY1kET'"
   ]
  },
  {
   "cell_type": "code",
   "execution_count": 59,
   "metadata": {},
   "outputs": [],
   "source": [
    "# %%time\n",
    "# apr19_oped_news_df = api_oped_news_df(apr19_api)"
   ]
  },
  {
   "cell_type": "code",
   "execution_count": 60,
   "metadata": {},
   "outputs": [],
   "source": [
    "# %%time\n",
    "\n",
    "# apr19 = dnld_art_apply(apr19_oped_news_df)"
   ]
  },
  {
   "cell_type": "code",
   "execution_count": 61,
   "metadata": {},
   "outputs": [],
   "source": [
    "# %%time\n",
    "# apr19.to_csv('apr19.csv')"
   ]
  },
  {
   "cell_type": "markdown",
   "metadata": {},
   "source": [
    "# may19"
   ]
  },
  {
   "cell_type": "code",
   "execution_count": 62,
   "metadata": {},
   "outputs": [],
   "source": [
    "may19_api = 'https://api.nytimes.com/svc/archive/v1/2019/5.json?api-key=kwQUDL7cdaIuu03LazP2b3F2R0uY1kET'"
   ]
  },
  {
   "cell_type": "code",
   "execution_count": 63,
   "metadata": {},
   "outputs": [],
   "source": [
    "# %%time\n",
    "# may19_oped_news_df = api_oped_news_df(may19_api)\n",
    "\n",
    "# https://api.nytimes.com/svc/archive/v1/2019/5.json?api-key=kwQUDL7cdaIuu03LazP2b3F2R0uY1kET\n",
    "# 200\n",
    "# (4737, 20)\n",
    "# (3642, 20)\n",
    "# CPU times: user 18 s, sys: 382 ms, total: 18.4 s\n",
    "# Wall time: 21.7 s"
   ]
  },
  {
   "cell_type": "code",
   "execution_count": 64,
   "metadata": {},
   "outputs": [],
   "source": [
    "# %%time\n",
    "# may19 = dnld_art_apply(may19_oped_news_df)\n",
    "\n",
    "# CPU times: user 2min 23s, sys: 7.7 s, total: 2min 31s\n",
    "# Wall time: 22min 51s"
   ]
  },
  {
   "cell_type": "code",
   "execution_count": 65,
   "metadata": {},
   "outputs": [],
   "source": [
    "# %%time\n",
    "# may19.to_csv('may19.csv')\n",
    "\n",
    "# CPU times: user 1.04 s, sys: 104 ms, total: 1.14 s\n",
    "# Wall time: 1.22 s"
   ]
  },
  {
   "cell_type": "markdown",
   "metadata": {},
   "source": [
    "# jun19"
   ]
  },
  {
   "cell_type": "code",
   "execution_count": 66,
   "metadata": {},
   "outputs": [],
   "source": [
    "jun19_api = 'https://api.nytimes.com/svc/archive/v1/2019/6.json?api-key=kwQUDL7cdaIuu03LazP2b3F2R0uY1kET'"
   ]
  },
  {
   "cell_type": "code",
   "execution_count": 67,
   "metadata": {},
   "outputs": [],
   "source": [
    "# %%time\n",
    "# jun19_oped_news_df = api_oped_news_df(jun19_api)\n",
    "\n",
    "# https://api.nytimes.com/svc/archive/v1/2019/6.json?api-key=kwQUDL7cdaIuu03LazP2b3F2R0uY1kET\n",
    "# 200\n",
    "# (4496, 20)\n",
    "# (3516, 20)\n",
    "# CPU times: user 15.9 s, sys: 273 ms, total: 16.1 s\n",
    "# Wall time: 18.1 s"
   ]
  },
  {
   "cell_type": "code",
   "execution_count": 68,
   "metadata": {},
   "outputs": [],
   "source": [
    "# %%time\n",
    "# jun19 = dnld_art_apply(jun19_oped_news_df)\n",
    "\n",
    "# CPU times: user 2min 23s, sys: 7.79 s, total: 2min 31s\n",
    "# Wall time: 11min 58s"
   ]
  },
  {
   "cell_type": "code",
   "execution_count": 69,
   "metadata": {},
   "outputs": [],
   "source": [
    "# %%time\n",
    "# jun19.to_csv('jun19.csv')\n",
    "\n",
    "# CPU times: user 923 ms, sys: 46.4 ms, total: 970 ms\n",
    "# Wall time: 986 ms"
   ]
  },
  {
   "cell_type": "markdown",
   "metadata": {},
   "source": [
    "# jul19"
   ]
  },
  {
   "cell_type": "code",
   "execution_count": 70,
   "metadata": {},
   "outputs": [],
   "source": [
    "jul19_api = 'https://api.nytimes.com/svc/archive/v1/2019/7.json?api-key=kwQUDL7cdaIuu03LazP2b3F2R0uY1kET'"
   ]
  },
  {
   "cell_type": "code",
   "execution_count": 71,
   "metadata": {},
   "outputs": [],
   "source": [
    "# %%time\n",
    "# jul19_oped_news_df = api_oped_news_df(jul19_api)\n",
    "\n",
    "# https://api.nytimes.com/svc/archive/v1/2019/7.json?api-key=kwQUDL7cdaIuu03LazP2b3F2R0uY1kET\n",
    "# 200\n",
    "# (4287, 20)\n",
    "# (3433, 20)\n",
    "# CPU times: user 14.8 s, sys: 210 ms, total: 15 s\n",
    "# Wall time: 16.6 s"
   ]
  },
  {
   "cell_type": "code",
   "execution_count": 72,
   "metadata": {},
   "outputs": [],
   "source": [
    "# %%time\n",
    "# jul19 = dnld_art_apply(jul19_oped_news_df)\n",
    "\n",
    "# CPU times: user 2min 22s, sys: 7.62 s, total: 2min 30s\n",
    "# Wall time: 11min 4s"
   ]
  },
  {
   "cell_type": "code",
   "execution_count": 73,
   "metadata": {},
   "outputs": [],
   "source": [
    "# %%time\n",
    "# jul19.to_csv('jul19.csv')\n",
    "\n",
    "# CPU times: user 918 ms, sys: 43.1 ms, total: 961 ms\n",
    "# Wall time: 975 ms"
   ]
  },
  {
   "cell_type": "markdown",
   "metadata": {},
   "source": [
    "# aug19"
   ]
  },
  {
   "cell_type": "code",
   "execution_count": 74,
   "metadata": {},
   "outputs": [],
   "source": [
    "aug19_api = 'https://api.nytimes.com/svc/archive/v1/2019/8.json?api-key=kwQUDL7cdaIuu03LazP2b3F2R0uY1kET'"
   ]
  },
  {
   "cell_type": "code",
   "execution_count": 75,
   "metadata": {},
   "outputs": [],
   "source": [
    "# %%time\n",
    "# aug19_oped_news_df = api_oped_news_df(aug19_api)\n",
    "\n",
    "# https://api.nytimes.com/svc/archive/v1/2019/8.json?api-key=kwQUDL7cdaIuu03LazP2b3F2R0uY1kET\n",
    "# 200\n",
    "# (4109, 20)\n",
    "# (3273, 20)\n",
    "# CPU times: user 14.5 s, sys: 248 ms, total: 14.8 s\n",
    "# Wall time: 19.7 s"
   ]
  },
  {
   "cell_type": "code",
   "execution_count": 76,
   "metadata": {},
   "outputs": [],
   "source": [
    "# %%time\n",
    "# aug19 = dnld_art_apply(aug19_oped_news_df)"
   ]
  },
  {
   "cell_type": "code",
   "execution_count": 77,
   "metadata": {},
   "outputs": [],
   "source": [
    "# %%time\n",
    "# aug19.to_csv('aug19.csv')"
   ]
  },
  {
   "cell_type": "markdown",
   "metadata": {},
   "source": [
    "# sep19"
   ]
  },
  {
   "cell_type": "code",
   "execution_count": 78,
   "metadata": {},
   "outputs": [],
   "source": [
    "sep19_api = 'https://api.nytimes.com/svc/archive/v1/2019/9.json?api-key=kwQUDL7cdaIuu03LazP2b3F2R0uY1kET'"
   ]
  },
  {
   "cell_type": "code",
   "execution_count": 79,
   "metadata": {},
   "outputs": [],
   "source": [
    "# %%time\n",
    "# sep19_oped_news_df = api_oped_news_df(sep19_api)\n",
    "\n",
    "# https://api.nytimes.com/svc/archive/v1/2019/9.json?api-key=kwQUDL7cdaIuu03LazP2b3F2R0uY1kET\n",
    "# 200\n",
    "# (4418, 20)\n",
    "# (3430, 20)\n",
    "# CPU times: user 15.3 s, sys: 271 ms, total: 15.6 s\n",
    "# Wall time: 18 s"
   ]
  },
  {
   "cell_type": "code",
   "execution_count": 80,
   "metadata": {},
   "outputs": [],
   "source": [
    "# %%time\n",
    "# sep19 = dnld_art_apply(sep19_oped_news_df)\n",
    "\n",
    "# CPU times: user 2min 26s, sys: 7.94 s, total: 2min 34s\n",
    "# Wall time: 15min 59s"
   ]
  },
  {
   "cell_type": "code",
   "execution_count": 12,
   "metadata": {},
   "outputs": [],
   "source": [
    "# %%time\n",
    "# sep19.to_csv('sep19.csv')\n",
    "\n",
    "# CPU times: user 1.1 s, sys: 93.1 ms, total: 1.19 s\n",
    "# Wall time: 1.26 s"
   ]
  },
  {
   "cell_type": "markdown",
   "metadata": {},
   "source": [
    "# oct19"
   ]
  },
  {
   "cell_type": "code",
   "execution_count": 82,
   "metadata": {},
   "outputs": [],
   "source": [
    "oct19_api = 'https://api.nytimes.com/svc/archive/v1/2019/10.json?api-key=kwQUDL7cdaIuu03LazP2b3F2R0uY1kET'"
   ]
  },
  {
   "cell_type": "code",
   "execution_count": 13,
   "metadata": {},
   "outputs": [],
   "source": [
    "# %%time\n",
    "# oct19_oped_news_df = api_oped_news_df(oct19_api)"
   ]
  },
  {
   "cell_type": "code",
   "execution_count": 14,
   "metadata": {},
   "outputs": [],
   "source": [
    "# %%time\n",
    "# oct19 = dnld_art_apply(oct19_oped_news_df)\n",
    "\n",
    "# CPU times: user 3min 19s, sys: 9.9 s, total: 3min 29s\n",
    "# Wall time: 14min 13s"
   ]
  },
  {
   "cell_type": "code",
   "execution_count": 15,
   "metadata": {},
   "outputs": [],
   "source": [
    "# %%time\n",
    "# oct19.to_csv('oct19.csv')\n",
    "\n",
    "# CPU times: user 1.09 s, sys: 81.9 ms, total: 1.17 s\n",
    "# Wall time: 1.21 s"
   ]
  },
  {
   "cell_type": "markdown",
   "metadata": {},
   "source": [
    "# nov19"
   ]
  },
  {
   "cell_type": "code",
   "execution_count": 86,
   "metadata": {},
   "outputs": [],
   "source": [
    "nov19_api = 'https://api.nytimes.com/svc/archive/v1/2019/11.json?api-key=kwQUDL7cdaIuu03LazP2b3F2R0uY1kET'"
   ]
  },
  {
   "cell_type": "code",
   "execution_count": 87,
   "metadata": {},
   "outputs": [
    {
     "name": "stdout",
     "output_type": "stream",
     "text": [
      "https://api.nytimes.com/svc/archive/v1/2019/11.json?api-key=kwQUDL7cdaIuu03LazP2b3F2R0uY1kET\n",
      "200\n",
      "(4420, 20)\n",
      "(3552, 20)\n",
      "CPU times: user 13.3 s, sys: 111 ms, total: 13.4 s\n",
      "Wall time: 14.7 s\n"
     ]
    }
   ],
   "source": [
    "# %%time\n",
    "# nov19_oped_news_df = api_oped_news_df(nov19_api)\n",
    "\n",
    "# https://api.nytimes.com/svc/archive/v1/2019/11.json?api-key=kwQUDL7cdaIuu03LazP2b3F2R0uY1kET\n",
    "# 200\n",
    "# (4420, 20)\n",
    "# (3552, 20)\n",
    "# CPU times: user 13.3 s, sys: 111 ms, total: 13.4 s\n",
    "# Wall time: 14.7 s"
   ]
  },
  {
   "cell_type": "code",
   "execution_count": 88,
   "metadata": {},
   "outputs": [
    {
     "name": "stdout",
     "output_type": "stream",
     "text": [
      "CPU times: user 3min 5s, sys: 9.06 s, total: 3min 14s\n",
      "Wall time: 45min 21s\n"
     ]
    }
   ],
   "source": [
    "# %%time\n",
    "# nov19 = dnld_art_apply(nov19_oped_news_df)\n",
    "\n",
    "# CPU times: user 3min 5s, sys: 9.06 s, total: 3min 14s\n",
    "# Wall time: 45min 21s"
   ]
  },
  {
   "cell_type": "code",
   "execution_count": 89,
   "metadata": {},
   "outputs": [
    {
     "name": "stdout",
     "output_type": "stream",
     "text": [
      "CPU times: user 890 ms, sys: 48 ms, total: 938 ms\n",
      "Wall time: 943 ms\n"
     ]
    }
   ],
   "source": [
    "# %%time\n",
    "# nov19.to_csv('nov19.csv')\n",
    "\n",
    "# CPU times: user 890 ms, sys: 48 ms, total: 938 ms\n",
    "# Wall time: 943 ms"
   ]
  },
  {
   "cell_type": "markdown",
   "metadata": {},
   "source": [
    "# dec19"
   ]
  },
  {
   "cell_type": "code",
   "execution_count": 36,
   "metadata": {},
   "outputs": [],
   "source": [
    "dec19_api = 'https://api.nytimes.com/svc/archive/v1/2019/12.json?api-key=kwQUDL7cdaIuu03LazP2b3F2R0uY1kET'"
   ]
  },
  {
   "cell_type": "code",
   "execution_count": 41,
   "metadata": {},
   "outputs": [],
   "source": [
    "# %%time\n",
    "# dec19_oped_news_df = api_oped_news_df(dec19_api)\n",
    "\n",
    "# https://api.nytimes.com/svc/archive/v1/2019/12.json?api-key=kwQUDL7cdaIuu03LazP2b3F2R0uY1kET\n",
    "# 200\n",
    "# (3985, 20)\n",
    "# (3168, 20)\n",
    "# CPU times: user 13.7 s, sys: 206 ms, total: 13.9 s\n",
    "# Wall time: 15.4 s"
   ]
  },
  {
   "cell_type": "code",
   "execution_count": 42,
   "metadata": {},
   "outputs": [],
   "source": [
    "# %%time\n",
    "# dec19 = dnld_art_apply(dec19_oped_news_df)\n",
    "\n",
    "# CPU times: user 2min 9s, sys: 6.67 s, total: 2min 16s\n",
    "# Wall time: 39min 47s"
   ]
  },
  {
   "cell_type": "code",
   "execution_count": 43,
   "metadata": {},
   "outputs": [],
   "source": [
    "# %%time\n",
    "# dec19.to_csv('dec19.csv')\n",
    "\n",
    "# CPU times: user 1.04 s, sys: 89.5 ms, total: 1.13 s\n",
    "# Wall time: 1.2 s"
   ]
  },
  {
   "cell_type": "code",
   "execution_count": null,
   "metadata": {},
   "outputs": [],
   "source": []
  },
  {
   "cell_type": "code",
   "execution_count": null,
   "metadata": {},
   "outputs": [],
   "source": []
  },
  {
   "cell_type": "code",
   "execution_count": null,
   "metadata": {},
   "outputs": [],
   "source": []
  },
  {
   "cell_type": "code",
   "execution_count": null,
   "metadata": {},
   "outputs": [],
   "source": []
  },
  {
   "cell_type": "code",
   "execution_count": null,
   "metadata": {},
   "outputs": [],
   "source": []
  },
  {
   "cell_type": "code",
   "execution_count": null,
   "metadata": {},
   "outputs": [],
   "source": []
  },
  {
   "cell_type": "code",
   "execution_count": null,
   "metadata": {},
   "outputs": [],
   "source": []
  },
  {
   "cell_type": "code",
   "execution_count": null,
   "metadata": {},
   "outputs": [],
   "source": []
  },
  {
   "cell_type": "code",
   "execution_count": null,
   "metadata": {},
   "outputs": [],
   "source": []
  },
  {
   "cell_type": "code",
   "execution_count": null,
   "metadata": {},
   "outputs": [],
   "source": []
  },
  {
   "cell_type": "code",
   "execution_count": null,
   "metadata": {},
   "outputs": [],
   "source": []
  },
  {
   "cell_type": "code",
   "execution_count": null,
   "metadata": {},
   "outputs": [],
   "source": []
  },
  {
   "cell_type": "code",
   "execution_count": null,
   "metadata": {},
   "outputs": [],
   "source": []
  }
 ],
 "metadata": {
  "kernelspec": {
   "display_name": "Python 3",
   "language": "python",
   "name": "python3"
  },
  "language_info": {
   "codemirror_mode": {
    "name": "ipython",
    "version": 3
   },
   "file_extension": ".py",
   "mimetype": "text/x-python",
   "name": "python",
   "nbconvert_exporter": "python",
   "pygments_lexer": "ipython3",
   "version": "3.7.9"
  }
 },
 "nbformat": 4,
 "nbformat_minor": 4
}
