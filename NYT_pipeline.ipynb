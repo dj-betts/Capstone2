{
 "cells": [
  {
   "cell_type": "markdown",
   "metadata": {},
   "source": [
    "### notes on NYTimes staff:\n",
    "- [NYTIMES staff](https://en.wikipedia.org/wiki/List_of_The_New_York_Times_employees)\n",
    "- [The New York Times Editorial Board](https://www.nytimes.com/interactive/2018/opinion/editorialboard.html)\n",
    "- [Kathleen Kingsbury](https://en.wikipedia.org/wiki/Kathleen_Kingsbury) acting Editorial Page Editor June 7, 2020 - the November election\" at The New York Times, replacing James Bennet.\n",
    "\n",
    "\n",
    "- [James Bennet](https://en.wikipedia.org/wiki/James_Bennet_(journalist) editorial page editor May 2016-June 2020\n",
    "records to 05/2016"
   ]
  },
  {
   "cell_type": "code",
   "execution_count": 11,
   "metadata": {},
   "outputs": [],
   "source": [
    "import requests"
   ]
  },
  {
   "cell_type": "code",
   "execution_count": 12,
   "metadata": {},
   "outputs": [],
   "source": [
    "from bs4 import BeautifulSoup"
   ]
  },
  {
   "cell_type": "code",
   "execution_count": 13,
   "metadata": {},
   "outputs": [],
   "source": [
    "import pandas as pd\n",
    "import numpy as np"
   ]
  },
  {
   "cell_type": "code",
   "execution_count": 14,
   "metadata": {},
   "outputs": [],
   "source": [
    "pd.options.display.max_rows = 999\n",
    "pd.options.display.max_columns = 999"
   ]
  },
  {
   "cell_type": "code",
   "execution_count": 15,
   "metadata": {},
   "outputs": [],
   "source": [
    "import time"
   ]
  },
  {
   "cell_type": "code",
   "execution_count": 16,
   "metadata": {},
   "outputs": [],
   "source": [
    "import sys"
   ]
  },
  {
   "cell_type": "code",
   "execution_count": 17,
   "metadata": {},
   "outputs": [],
   "source": [
    "response = requests.get('https://api.nytimes.com/svc/archive/v1/2019/1.json?api-key=kwQUDL7cdaIuu03LazP2b3F2R0uY1kET',\n",
    "    params={'q': 'requests+language:python'})"
   ]
  },
  {
   "cell_type": "code",
   "execution_count": 18,
   "metadata": {},
   "outputs": [
    {
     "data": {
      "text/plain": [
       "requests.models.Response"
      ]
     },
     "execution_count": 18,
     "metadata": {},
     "output_type": "execute_result"
    }
   ],
   "source": [
    "type(response)"
   ]
  },
  {
   "cell_type": "code",
   "execution_count": 19,
   "metadata": {},
   "outputs": [
    {
     "data": {
      "text/plain": [
       "200"
      ]
     },
     "execution_count": 19,
     "metadata": {},
     "output_type": "execute_result"
    }
   ],
   "source": [
    "response.status_code"
   ]
  },
  {
   "cell_type": "code",
   "execution_count": 20,
   "metadata": {},
   "outputs": [],
   "source": [
    "json_response = response.json()"
   ]
  },
  {
   "cell_type": "code",
   "execution_count": 21,
   "metadata": {},
   "outputs": [],
   "source": [
    "#json_response['response'] or json_response['copyright']\n",
    "json_response['response'];"
   ]
  },
  {
   "cell_type": "code",
   "execution_count": 22,
   "metadata": {},
   "outputs": [],
   "source": [
    "#docs = list, 4482 items long\n",
    "docs = json_response['response']['docs']"
   ]
  },
  {
   "cell_type": "code",
   "execution_count": 23,
   "metadata": {},
   "outputs": [
    {
     "data": {
      "text/plain": [
       "list"
      ]
     },
     "execution_count": 23,
     "metadata": {},
     "output_type": "execute_result"
    }
   ],
   "source": [
    "type(docs)"
   ]
  },
  {
   "cell_type": "markdown",
   "metadata": {},
   "source": [
    "### doc = docs[0]"
   ]
  },
  {
   "cell_type": "code",
   "execution_count": 15,
   "metadata": {},
   "outputs": [],
   "source": [
    "metadata_keys = []\n",
    "for key in doc.keys():\n",
    "    metadata_keys.append(key)\n"
   ]
  },
  {
   "cell_type": "code",
   "execution_count": 16,
   "metadata": {},
   "outputs": [
    {
     "data": {
      "text/plain": [
       "['abstract',\n",
       " 'web_url',\n",
       " 'snippet',\n",
       " 'lead_paragraph',\n",
       " 'source',\n",
       " 'multimedia',\n",
       " 'headline',\n",
       " 'keywords',\n",
       " 'pub_date',\n",
       " 'document_type',\n",
       " 'news_desk',\n",
       " 'section_name',\n",
       " 'byline',\n",
       " 'type_of_material',\n",
       " '_id',\n",
       " 'word_count',\n",
       " 'uri']"
      ]
     },
     "execution_count": 16,
     "metadata": {},
     "output_type": "execute_result"
    }
   ],
   "source": [
    "metadata_keys"
   ]
  },
  {
   "cell_type": "code",
   "execution_count": 17,
   "metadata": {},
   "outputs": [
    {
     "name": "stdout",
     "output_type": "stream",
     "text": [
      "(THE KEY IS abstract: From the Treaty of Versailles to Prohibition, the events of that year shaped America, and the world, for a century to come. \n",
      "(THE KEY IS web_url: https://www.nytimes.com/2018/12/31/opinion/1919-america.html\n",
      "(THE KEY IS snippet: From the Treaty of Versailles to Prohibition, the events of that year shaped America, and the world, for a century to come. \n",
      "(THE KEY IS lead_paragraph: Throughout 2019, The New York Times Opinion section will publish an occasional series of essays on the ways in which the events of 1919 shaped the following century. \n",
      "(THE KEY IS source: The New York Times\n",
      "(THE KEY IS multimedia: [{'rank': 0, 'subtype': 'xlarge', 'caption': None, 'credit': None, 'type': 'image', 'url': 'images/2019/01/01/opinion/01Widmer1-Sub/01Widmer1-Sub-articleLarge.jpg', 'height': 467, 'width': 600, 'subType': 'xlarge', 'crop_name': 'articleLarge', 'legacy': {'xlarge': 'images/2019/01/01/opinion/01Widmer1-Sub/01Widmer1-Sub-articleLarge.jpg', 'xlargewidth': 600, 'xlargeheight': 467}}, {'rank': 0, 'subtype': 'jumbo', 'caption': None, 'credit': None, 'type': 'image', 'url': 'images/2019/01/01/opinion/01Widmer1-Sub/01Widmer1-Sub-jumbo.jpg', 'height': 797, 'width': 1024, 'subType': 'jumbo', 'crop_name': 'jumbo', 'legacy': {}}, {'rank': 0, 'subtype': 'superJumbo', 'caption': None, 'credit': None, 'type': 'image', 'url': 'images/2019/01/01/opinion/01Widmer1-Sub/01Widmer1-Sub-superJumbo.jpg', 'height': 1594, 'width': 2048, 'subType': 'superJumbo', 'crop_name': 'superJumbo', 'legacy': {}}, {'rank': 0, 'subtype': 'thumbnail', 'caption': None, 'credit': None, 'type': 'image', 'url': 'images/2019/01/01/opinion/01Widmer1-Sub/01Widmer1-Sub-thumbStandard.jpg', 'height': 75, 'width': 75, 'subType': 'thumbnail', 'crop_name': 'thumbStandard', 'legacy': {'thumbnail': 'images/2019/01/01/opinion/01Widmer1-Sub/01Widmer1-Sub-thumbStandard.jpg', 'thumbnailwidth': 75, 'thumbnailheight': 75}}, {'rank': 0, 'subtype': 'thumbLarge', 'caption': None, 'credit': None, 'type': 'image', 'url': 'images/2019/01/01/opinion/01Widmer1-Sub/01Widmer1-Sub-thumbLarge.jpg', 'height': 150, 'width': 150, 'subType': 'thumbLarge', 'crop_name': 'thumbLarge', 'legacy': {}}]\n",
      "(THE KEY IS headline: {'main': '1919: The Year of the Crack-Up', 'kicker': None, 'content_kicker': None, 'print_headline': '', 'name': None, 'seo': None, 'sub': None}\n",
      "(THE KEY IS keywords: [{'name': 'subject', 'value': 'United States Politics and Government', 'rank': 1, 'major': 'N'}, {'name': 'subject', 'value': 'New Year', 'rank': 2, 'major': 'N'}, {'name': 'organizations', 'value': 'League of Nations', 'rank': 3, 'major': 'N'}, {'name': 'persons', 'value': 'Wilson, Woodrow', 'rank': 4, 'major': 'N'}, {'name': 'glocations', 'value': 'Europe', 'rank': 5, 'major': 'N'}]\n",
      "(THE KEY IS pub_date: 2019-01-01T00:00:03+0000\n",
      "(THE KEY IS document_type: article\n",
      "(THE KEY IS news_desk: OpEd\n",
      "(THE KEY IS section_name: Opinion\n",
      "(THE KEY IS byline: {'original': 'By Ted Widmer', 'person': [{'firstname': 'Ted', 'middlename': None, 'lastname': 'Widmer', 'qualifier': None, 'title': None, 'role': 'reported', 'organization': '', 'rank': 1}], 'organization': None}\n",
      "(THE KEY IS type_of_material: Op-Ed\n",
      "(THE KEY IS _id: nyt://article/b205ee80-0859-514e-be2a-b8ecf0cc3b95\n",
      "(THE KEY IS word_count: 2248\n",
      "(THE KEY IS uri: nyt://article/b205ee80-0859-514e-be2a-b8ecf0cc3b95\n",
      "--->\n"
     ]
    }
   ],
   "source": [
    "#entry for 1 (one) nytimes article off the api\n",
    "for doc in docs[:1]:\n",
    "    for key in metadata_keys:\n",
    "        print(f'(THE KEY IS {key}: {doc[key]}')\n",
    "    print(\"--->\")\n",
    "#     print(doc['abstract'])\n",
    "#     print(doc['source'])\n",
    "#     print(doc['news_desk'])\n",
    "\n",
    "    #print(type(doc['pub_date']))"
   ]
  },
  {
   "cell_type": "code",
   "execution_count": 18,
   "metadata": {},
   "outputs": [],
   "source": [
    "url = doc[\"web_url\"]"
   ]
  },
  {
   "cell_type": "code",
   "execution_count": 19,
   "metadata": {},
   "outputs": [
    {
     "data": {
      "text/plain": [
       "'https://www.nytimes.com/2018/12/31/opinion/1919-america.html'"
      ]
     },
     "execution_count": 19,
     "metadata": {},
     "output_type": "execute_result"
    }
   ],
   "source": [
    "url"
   ]
  },
  {
   "cell_type": "code",
   "execution_count": 20,
   "metadata": {},
   "outputs": [],
   "source": [
    "page = requests.get(url)"
   ]
  },
  {
   "cell_type": "code",
   "execution_count": 21,
   "metadata": {},
   "outputs": [
    {
     "data": {
      "text/plain": [
       "<Response [200]>"
      ]
     },
     "execution_count": 21,
     "metadata": {},
     "output_type": "execute_result"
    }
   ],
   "source": [
    "page"
   ]
  },
  {
   "cell_type": "code",
   "execution_count": 22,
   "metadata": {},
   "outputs": [
    {
     "data": {
      "text/plain": [
       "328349"
      ]
     },
     "execution_count": 22,
     "metadata": {},
     "output_type": "execute_result"
    }
   ],
   "source": [
    "len(page.content)"
   ]
  },
  {
   "cell_type": "code",
   "execution_count": 23,
   "metadata": {},
   "outputs": [
    {
     "data": {
      "text/plain": [
       "bytes"
      ]
     },
     "execution_count": 23,
     "metadata": {},
     "output_type": "execute_result"
    }
   ],
   "source": [
    "type(page.content)"
   ]
  },
  {
   "cell_type": "code",
   "execution_count": 24,
   "metadata": {},
   "outputs": [
    {
     "data": {
      "text/plain": [
       "str"
      ]
     },
     "execution_count": 24,
     "metadata": {},
     "output_type": "execute_result"
    }
   ],
   "source": [
    "type(page.text)"
   ]
  },
  {
   "cell_type": "code",
   "execution_count": 25,
   "metadata": {},
   "outputs": [],
   "source": [
    "soup = BeautifulSoup(page.content, 'html.parser')"
   ]
  },
  {
   "cell_type": "code",
   "execution_count": 26,
   "metadata": {},
   "outputs": [
    {
     "data": {
      "text/plain": [
       "3"
      ]
     },
     "execution_count": 26,
     "metadata": {},
     "output_type": "execute_result"
    }
   ],
   "source": [
    "len(soup)"
   ]
  },
  {
   "cell_type": "code",
   "execution_count": 27,
   "metadata": {},
   "outputs": [],
   "source": [
    "soup.prettify();"
   ]
  },
  {
   "cell_type": "code",
   "execution_count": 28,
   "metadata": {},
   "outputs": [],
   "source": [
    "article_name_test = soup.title.text"
   ]
  },
  {
   "cell_type": "code",
   "execution_count": 29,
   "metadata": {},
   "outputs": [
    {
     "data": {
      "text/plain": [
       "'Opinion | 1919: The Year of the Crack-Up - The New York Times'"
      ]
     },
     "execution_count": 29,
     "metadata": {},
     "output_type": "execute_result"
    }
   ],
   "source": [
    "article_name_test"
   ]
  },
  {
   "cell_type": "code",
   "execution_count": 30,
   "metadata": {},
   "outputs": [],
   "source": [
    "article_name_string= soup.title.string"
   ]
  },
  {
   "cell_type": "code",
   "execution_count": 31,
   "metadata": {},
   "outputs": [],
   "source": [
    "#got text from all paragraphs\n",
    "paragraph_list = []\n",
    "for par in (soup.find_all(\"p\")):\n",
    "    paragraph_list.append(par.text)"
   ]
  },
  {
   "cell_type": "code",
   "execution_count": 32,
   "metadata": {},
   "outputs": [
    {
     "data": {
      "text/plain": [
       "[<p>Advertisement</p>,\n",
       " <p>Supported by</p>,\n",
       " <p class=\"css-1smgwul e1wiw3jv0\" id=\"article-summary\">From the Treaty of Versailles to Prohibition, the events of that year shaped America, and the world, for a century to come. </p>,\n",
       " <p class=\"css-1nuro5j e1jsehar1\" itemprop=\"author\" itemscope=\"\" itemtype=\"http://schema.org/Person\">By<!-- --> <span class=\"css-1baulvz last-byline\" itemprop=\"name\">Ted Widmer</span></p>,\n",
       " <p class=\"css-qckjh9 e1wtpvyy0\">Mr. Widmer is a distinguished lecturer at the Macaulay Honors College of the City University of New York.</p>,\n",
       " <p class=\"css-158dogj evys1bk0\"><em class=\"css-2fg4z9 e1gzwzxm0\">Throughout 2019, The New York Times Opinion section will publish an occasional series of essays on the ways in which the events of 1919 shaped the following century. </em></p>,\n",
       " <p class=\"css-158dogj evys1bk0\">In his essay “The Crack-Up,” F. Scott Fitzgerald wrote, “The test of a first-rate intelligence is the ability to hold two opposed ideas in the mind at the same time, and still retain the ability to function.”</p>,\n",
       " <p class=\"css-158dogj evys1bk0\">On New Year’s Day 1919, the headlines in <a class=\"css-1g7m0tk\" href=\"https://timesmachine.nytimes.com/timesmachine/1919/01/01/issue.html\" title=\"\">The New York Times</a> gave a hint of how difficult that would be for Americans, struggling to live up to the shimmering promises they had made to the world during the Great War, which had ended just over a month before.</p>,\n",
       " <p class=\"css-158dogj evys1bk0\">Poles, newly independent but already threatened by their neighbors, were calling on Americans to protect them. Other countries, like Ireland, were on the cusp of independence, but asking for help. A bewildering set of new responsibilities was settling upon a country that had long cherished its freedom from the Old World.</p>,\n",
       " <p class=\"css-158dogj evys1bk0\">Overwhelmingly, Americans longed to get their old lives back. But there was no clear road map to “normalcy,” to use a word that began to gain traction in the chaos of the postwar years. Grammarians faulted it as a clumsy neologism, but that only made it more popular. A rakish Ohio senator, Warren Harding, would eventually ride it all the way to the White House. In a crackly old recording, <a class=\"css-1g7m0tk\" href=\"https://millercenter.org/the-presidency/presidential-speeches/august-28-1920-america\" rel=\"noopener noreferrer\" target=\"_blank\" title=\"\">he can be heard promising</a>, vaguely, to make America great again. <a class=\"css-1g7m0tk\" href=\"https://www.politico.com/magazine/story/2015/08/warren-harding-child-sex-sandal-121404\" rel=\"noopener noreferrer\" target=\"_blank\" title=\"\">It didn’t work out well</a>.</p>,\n",
       " <p class=\"css-158dogj evys1bk0\">There were reasons to believe lofty promises as 1919 was beginning. With peace, everything felt new again. That was certainly true in the geopolitical realm, as negotiators convened in Paris, eager to redraw the world map. It was difficult to know where to begin. The German, Austrian and Ottoman empires were now part of the ash heap of history, in the memorable phrase of Leon Trotsky. His country, Russia, had not disappeared, but it was undergoing a transformation so profound that it was destabilizing half of Europe. Overseas, territories belonging to the belligerents were being exchanged like carpets at a second-hand bazaar. A century later, from the Middle East to Africa, the world is still struggling with the decisions made hastily in 1919.</p>,\n",
       " <p class=\"css-158dogj evys1bk0\">But if anyone could solve these nasty problems, Americans could. To a beleaguered world, they seemed almost superhuman. Despite their late entry into the war, they had shaped the conflict decisively with their manpower, their matériel and their chirpy marketing. “Democracy” was the word of the hour, an elixir for all problems, according to President Woodrow Wilson, who intoned it with impressive solemnity.</p>,\n",
       " <p class=\"css-158dogj evys1bk0\">For a time, the world believed it. As he headed to Paris, for what was the longest overseas trip of a president, he was lionized as few leaders have ever been. Film footage captures the odd contrast of his quiet oceanic passage, followed by the euphoria of the crowds in France, who hoped he would solve all of their problems. That was a tall order.</p>,\n",
       " <p class=\"css-158dogj evys1bk0\">We still live close to that grainy footage, inside the world that emerged from Versailles and its Hall of Mirrors. German resentment of the harsh conditions imposed fueled the rise of Adolf Hitler, who, like many, found his political voice in 1919. Historians would later trace the origins of World War II to the treaty’s shortcomings, and the swirling nationalisms that it failed to calm. President Wilson promised to build a world “safe for democracy,” but the result was neither safe nor, in many cases, democratic. A British politician whose career barely survived the war, Winston Churchill, saw it more clearly as a “crippled, broken world,” divided along fault lines that had never been obliterated.</p>,\n",
       " <p class=\"css-158dogj evys1bk0\">Large parts of the British, French and Belgian empires remained intact, to the distress of millions hoping for democracies of their own. Inspired by the winds of change, independence movements sprang up around the world. Some were successful, but for many others, self-determination, another one of Wilson’s ringing phrases, was elusive at best. Weary European diplomats chafed at his moralistic speeches, which they scorned as “sermonettes.” The president of France, Georges Clemenceau, complained that “talking to Wilson was something like conversing with Jesus Christ!” Wilson would surely have seconded the thought.</p>,\n",
       " <p class=\"css-158dogj evys1bk0\">Still, there were pockets of realism within the idealism of a politician who, for all his blind spots, understood that the world could not continue as before. Wilson has long been criticized for his failures, but he was correct in his grasp of a core truth, still relevant, that a lazy return to unbridled nationalism was a recipe for conflict. Like most presidents, he did not relish consulting with Congress, a misreading of democracy that boomeranged on him, as a newly elected Republican majority refused to approve his plan for a League of Nations.</p>,\n",
       " <p class=\"css-158dogj evys1bk0\">Desperate to outflank them, he tried to take his case directly to the people, with boisterous rallies, far from East Coast elites — another way in which 2019 mirrors 1919. The strain of that effort <a class=\"css-1g7m0tk\" href=\"https://www.youtube.com/watch?v=mdJwRfKMWzs\" rel=\"noopener noreferrer\" target=\"_blank\" title=\"\">resulted in a stroke</a>, which nearly incapacitated Wilson for the last year of his presidency. Democracy’s great spokesman had imperiled the very system of government that he went to such lengths to defend. His crack-up was one of many in 1919.</p>,\n",
       " <p class=\"css-158dogj evys1bk0\">To young writers like Fitzgerald, who received his first book contract in 1919, it was obvious that the old words were not working and new ones needed to be found. Some writers simply invented their own — James Joyce was constantly writing new ones in his scribbledehobble, or notebook.</p>,\n",
       " <p class=\"css-158dogj evys1bk0\">Others lamented what had vanished, while dreading what was to come next. “Many ingenious lovely things are gone,” William Butler Yeats wrote, in a poem titled “<a class=\"css-1g7m0tk\" href=\"https://www.csun.edu/~hceng029/yeats/yeatspoems/NineteenNinete\" rel=\"noopener noreferrer\" target=\"_blank\" title=\"\">Nineteen hundred and Nineteen</a>.” Less than five years had elapsed since the war started in 1914, but everything felt different. To Yeats, the new sights and sounds were terrifying: In one of his most famous poems, “<a class=\"css-1g7m0tk\" href=\"https://www.poetryfoundation.org/poems/43290/the-second-coming\" rel=\"noopener noreferrer\" target=\"_blank\" title=\"\">The Second Coming</a>,” he imagined an apocalypse populated by fantastic beasts that would give J.K. Rowling a run for her money. Despite its gloom, it has become one of the most <a class=\"css-1g7m0tk\" href=\"https://www.theparisreview.org/blog/2015/04/07/no-slouch/\" rel=\"noopener noreferrer\" target=\"_blank\" title=\"\">over-quoted poems in history</a>.</p>,\n",
       " <p class=\"css-158dogj evys1bk0\">But for millions of others, the sights and sounds of 1919 were glorious. The waging of the war had released a galvanic energy from Americans, who attacked the problem of victory with stunning efficiency. That included tremendous contributions from immigrants, women and African-Americans, who were raucously celebrated in victory parades upon return. One parade in New York feted the famous Harlem Hellfighters regiment, marching behind a spirited band playing a kind of music most Americans had never heard, soon to be known as jazz.</p>,\n",
       " <p class=\"css-158dogj evys1bk0\">One of the hottest songs of 1919 was a novelty hit, “<a class=\"css-1g7m0tk\" href=\"https://www.youtube.com/watch?v=VYflT3h6lCQ\" rel=\"noopener noreferrer\" target=\"_blank\" title=\"\">How Ya Gonna Keep ’Em Down on the Farm (After They’ve Seen Paree)?</a>” It was a fair question for a country that was not going to return easily to prewar attitudes about race and citizenship. The return of the doughboys brought an exuberant close to the war effort, but also exacerbated tensions over who was entitled to democracy and self-determination, those pesky phrases that Woodrow Wilson kept repeating.</p>,\n",
       " <p class=\"css-158dogj evys1bk0\">Throughout 1919, that was another way in which Americans seemed to hold two opposing thoughts at the same time. Large numbers of African-Americans chose their own form of self-determination by moving out of the South, toward Northern cities, the Midwest and the West Coast, a demographic change that altered America forever. But even after the move, many found democracy a daily challenge.</p>,\n",
       " <p class=\"css-158dogj evys1bk0\">That year in the South, two children born near each other, on either side of the Alabama-Georgia line, revealed how quickly the country was changing. Jackie Robinson grew up in a new kind of America, thanks to his mother, who moved with him to California. George Wallace spent most of life trying to hold back the tide of change that Robinson’s generation helped unleash.</p>,\n",
       " <p class=\"css-158dogj evys1bk0\">Throughout a long year, these tensions simmered just below America’s gleaming surfaces. An ugly race riot in Chicago took the lives of 38 people in late July. Other anxieties targeted immigrants, who found Americans less welcoming than the statue that greeted them in New York Harbor. To defenders of the old order, America had done her part, and there was no need to open the floodgates. But to many others, seeking a broader form of democracy, Wilson’s rhetoric seemed to describe a country that existed more vividly in his imagination than reality.</p>,\n",
       " <p class=\"css-158dogj evys1bk0\">Torn in these two directions, the world’s wealthiest country seemed headed to its own form of a crack-up. Throughout 1919, waves of fear paralyzed Americans, as they reeled from a deadly influenza epidemic at the start of the year, then a campaign of letter bombs sent by anarchists in the spring. A vigorous government response led to the creation of the F.B.I. and a series of raids conducted by an overzealous attorney general, A. Mitchell Palmer. These “Palmer Raids” awakened fears of a police state and once again revealed how difficult democracy could be. A retaliatory bomb, directed at Palmer, exploded outside his house in Washington, nearly killing his neighbor, Franklin Roosevelt. When Roosevelt gave the speech that named the New Deal, 13 years later, he remembered Wilson who, for all of his failings, had ushered Americans into a new era.</p>,\n",
       " <p class=\"css-158dogj evys1bk0\">A long century has elapsed, but the contradictions of 1919 still bear scrutiny. The old fault lines seem closer to the surface than they did in Roosevelt’s day, when Americans were largely united behind the great efforts to end poverty and crush fascism.</p>,\n",
       " <p class=\"css-158dogj evys1bk0\">A hundred years ago, it was possible to look at the same country and see two very different versions of America. To be sure, this was a thriving nation of immigrants, innovating at a dizzying rate, with bustling cities that were the envy of the world. It was also a quieter country, dominated by its farmers and small towns, politically and socially conservative, and dismayed by the excesses of what would soon be known as the Jazz Age. Prohibition was another achievement — for what it’s worth — of 1919.</p>,\n",
       " <p class=\"css-158dogj evys1bk0\">Neither side had a monopoly on virtue, as events would prove. Urban and rural America produced an equal share of political rascals. And rascality, in various guises, was another feature of life, as new forms of entertainment began to dominate attention, demanding villains and heroes in equal measure. In many cases, the war had accelerated this trend, advancing research in radio communication and using newsreels to mobilize support for the military effort. Soon, mass communication was affecting all Americans, rural and urban alike. Huge new movie palaces were built — the Capitol, in New York, could seat 4,000 — and Hollywood continued to grow apace, a new kind of dream factory, built around studios and stars.</p>,\n",
       " <p class=\"css-158dogj evys1bk0\">Sports was a big business as well — in one case, a bit too big, <!-- -->as mobsters were able to alter the outcome of the 1919 World Series. <!-- -->Money affected fans in other ways, too — when the owner of the Boston Red Sox traded Babe Ruth to the New York Yankees at the end of the year, <!-- -->he <!-- -->invoked a curse on his team, which would not win another World Series until 2004.</p>,\n",
       " <p class=\"css-158dogj evys1bk0\">The rural-urban divide was moderated in another way. Sales of automobiles nearly doubled in 1919, as Americans happily returned to their leisure pursuits and expanded their horizons in every sense. <a class=\"css-1g7m0tk\" href=\"https://www.youtube.com/watch?v=XC_yEt711JE\" rel=\"noopener noreferrer\" target=\"_blank\" title=\"\">One eager driver</a> was able to coax his vehicle to 120 miles an hour — in Brooklyn! </p>,\n",
       " <p class=\"css-158dogj evys1bk0\">Fortunately, no crackups resulted. </p>,\n",
       " <p class=\"css-158dogj evys1bk0\">Soon cars were changing everything. New suburban rings bloomed around cities, joining the urban and the rural to create something that was not quite either. An accidental <a class=\"css-1g7m0tk\" href=\"https://theconversation.com/how-world-war-i-ushered-in-the-century-of-oil-74585\" rel=\"noopener noreferrer\" target=\"_blank\" title=\"\">effect of the war</a> was a significant boost in oil production, as a result of a heavy emphasis on machines like tanks and airplanes that used internal combustion engines. Americans were quick to corral these markets, just as they embraced the automobile like no one else. But prewar experimentation in steam-powered and electric vehicles waned as a result. </p>,\n",
       " <p class=\"css-158dogj evys1bk0\">To better support this all-important vehicle, thousands of miles of highway were built, and that too changed the country forever. To promote the idea of interstate travel, a military convoy left Washington for California in July 1919. The New York Times called it “the largest aggregation of motor vehicles ever started on a trip of such length.”</p>,\n",
       " <p class=\"css-158dogj evys1bk0\">But the convoy <a class=\"css-1g7m0tk\" href=\"https://www.atlasobscura.com/articles/in-1919-dwight-d-eisenhower-suffered-through-historys-worst-cross-country-road-trip\" rel=\"noopener noreferrer\" target=\"_blank\" title=\"\">broke down repeatedly</a>, and took 62 days to reach its destination. It averaged just six miles an hour, and almost didn’t make it out of Utah. As it turned out, there were almost no paved roads between Illinois and Nevada. Decades later, the officer who led the convoy, Dwight D. Eisenhower, would push for a national highway system as president. Even with a well-publicized divide between red and blue states, we can generally reach each other when we need to, and that is another unexpected result of a pivotal year.</p>,\n",
       " <p class=\"css-158dogj evys1bk0\">In his overquoted poem from 1919, Yeats wrote “things fall apart, the center cannot hold.” Those words often ring true today, in another divided moment. But one of the comforts of history is seeing how wrong the earlier prognosticators of doom could be. By studying the ways in which we failed to fall apart, perhaps we can glean a small harvest of hope for the year ahead.</p>,\n",
       " <p class=\"css-pncxxs etfikam0\">Ted Widmer is a distinguished lecturer at the Macaulay Honors College of the City University of New York and a senior fellow of the Carnegie Council for Ethics in International Affairs.</p>,\n",
       " <p class=\"css-pncxxs etfikam0\"><em class=\"css-2fg4z9 e1gzwzxm0\">Follow The New York Times Opinion section on </em><a class=\"css-1g7m0tk\" href=\"https://www.facebook.com/nytopinion\" rel=\"noopener noreferrer\" target=\"_blank\" title=\"\"><em class=\"css-2fg4z9 e1gzwzxm0\">Facebook</em></a><em class=\"css-2fg4z9 e1gzwzxm0\">, </em><a class=\"css-1g7m0tk\" href=\"http://twitter.com/NYTOpinion\" rel=\"noopener noreferrer\" target=\"_blank\" title=\"\"><em class=\"css-2fg4z9 e1gzwzxm0\">Twitter (@NYTopinion)</em></a><em class=\"css-2fg4z9 e1gzwzxm0\"> and </em><a class=\"css-1g7m0tk\" href=\"https://www.instagram.com/nytopinion/\" rel=\"noopener noreferrer\" target=\"_blank\" title=\"\"><em class=\"css-2fg4z9 e1gzwzxm0\">Instagram</em></a><em class=\"css-2fg4z9 e1gzwzxm0\">.</em></p>,\n",
       " <p>Advertisement</p>]"
      ]
     },
     "execution_count": 32,
     "metadata": {},
     "output_type": "execute_result"
    }
   ],
   "source": [
    "soup.find_all(\"p\")"
   ]
  },
  {
   "cell_type": "markdown",
   "metadata": {},
   "source": [
    "# text of webpage\n",
    "\n",
    "### look back at this paragraph list. should I take out strings as formatted here as stop words?\n",
    "\n",
    "### highest accuracry of replacement the closer the words are to the source. "
   ]
  },
  {
   "cell_type": "code",
   "execution_count": 33,
   "metadata": {},
   "outputs": [
    {
     "data": {
      "text/plain": [
       "['Advertisement',\n",
       " 'Supported by',\n",
       " 'From the Treaty of Versailles to Prohibition, the events of that year shaped America, and the world, for a century to come. ',\n",
       " 'By Ted Widmer',\n",
       " 'Mr. Widmer is a distinguished lecturer at the Macaulay Honors College of the City University of New York.',\n",
       " 'Throughout 2019, The New York Times Opinion section will publish an occasional series of essays on the ways in which the events of 1919 shaped the following century. ',\n",
       " 'In his essay “The Crack-Up,” F. Scott Fitzgerald wrote, “The test of a first-rate intelligence is the ability to hold two opposed ideas in the mind at the same time, and still retain the ability to function.”',\n",
       " 'On New Year’s Day 1919, the headlines in The New York Times gave a hint of how difficult that would be for Americans, struggling to live up to the shimmering promises they had made to the world during the Great War, which had ended just over a month before.',\n",
       " 'Poles, newly independent but already threatened by their neighbors, were calling on Americans to protect them. Other countries, like Ireland, were on the cusp of independence, but asking for help. A bewildering set of new responsibilities was settling upon a country that had long cherished its freedom from the Old World.',\n",
       " 'Overwhelmingly, Americans longed to get their old lives back. But there was no clear road map to “normalcy,” to use a word that began to gain traction in the chaos of the postwar years. Grammarians faulted it as a clumsy neologism, but that only made it more popular. A rakish Ohio senator, Warren Harding, would eventually ride it all the way to the White House. In a crackly old recording, he can be heard promising, vaguely, to make America great again. It didn’t work out well.',\n",
       " 'There were reasons to believe lofty promises as 1919 was beginning. With peace, everything felt new again. That was certainly true in the geopolitical realm, as negotiators convened in Paris, eager to redraw the world map. It was difficult to know where to begin. The German, Austrian and Ottoman empires were now part of the ash heap of history, in the memorable phrase of Leon Trotsky. His country, Russia, had not disappeared, but it was undergoing a transformation so profound that it was destabilizing half of Europe. Overseas, territories belonging to the belligerents were being exchanged like carpets at a second-hand bazaar. A century later, from the Middle East to Africa, the world is still struggling with the decisions made hastily in 1919.',\n",
       " 'But if anyone could solve these nasty problems, Americans could. To a beleaguered world, they seemed almost superhuman. Despite their late entry into the war, they had shaped the conflict decisively with their manpower, their matériel and their chirpy marketing. “Democracy” was the word of the hour, an elixir for all problems, according to President Woodrow Wilson, who intoned it with impressive solemnity.',\n",
       " 'For a time, the world believed it. As he headed to Paris, for what was the longest overseas trip of a president, he was lionized as few leaders have ever been. Film footage captures the odd contrast of his quiet oceanic passage, followed by the euphoria of the crowds in France, who hoped he would solve all of their problems. That was a tall order.',\n",
       " 'We still live close to that grainy footage, inside the world that emerged from Versailles and its Hall of Mirrors. German resentment of the harsh conditions imposed fueled the rise of Adolf Hitler, who, like many, found his political voice in 1919. Historians would later trace the origins of World War II to the treaty’s shortcomings, and the swirling nationalisms that it failed to calm. President Wilson promised to build a world “safe for democracy,” but the result was neither safe nor, in many cases, democratic. A British politician whose career barely survived the war, Winston Churchill, saw it more clearly as a “crippled, broken world,” divided along fault lines that had never been obliterated.',\n",
       " 'Large parts of the British, French and Belgian empires remained intact, to the distress of millions hoping for democracies of their own. Inspired by the winds of change, independence movements sprang up around the world. Some were successful, but for many others, self-determination, another one of Wilson’s ringing phrases, was elusive at best. Weary European diplomats chafed at his moralistic speeches, which they scorned as “sermonettes.” The president of France, Georges Clemenceau, complained that “talking to Wilson was something like conversing with Jesus Christ!” Wilson would surely have seconded the thought.',\n",
       " 'Still, there were pockets of realism within the idealism of a politician who, for all his blind spots, understood that the world could not continue as before. Wilson has long been criticized for his failures, but he was correct in his grasp of a core truth, still relevant, that a lazy return to unbridled nationalism was a recipe for conflict. Like most presidents, he did not relish consulting with Congress, a misreading of democracy that boomeranged on him, as a newly elected Republican majority refused to approve his plan for a League of Nations.',\n",
       " 'Desperate to outflank them, he tried to take his case directly to the people, with boisterous rallies, far from East Coast elites — another way in which 2019 mirrors 1919. The strain of that effort resulted in a stroke, which nearly incapacitated Wilson for the last year of his presidency. Democracy’s great spokesman had imperiled the very system of government that he went to such lengths to defend. His crack-up was one of many in 1919.',\n",
       " 'To young writers like Fitzgerald, who received his first book contract in 1919, it was obvious that the old words were not working and new ones needed to be found. Some writers simply invented their own — James Joyce was constantly writing new ones in his scribbledehobble, or notebook.',\n",
       " 'Others lamented what had vanished, while dreading what was to come next. “Many ingenious lovely things are gone,” William Butler Yeats wrote, in a poem titled “Nineteen hundred and Nineteen.” Less than five years had elapsed since the war started in 1914, but everything felt different. To Yeats, the new sights and sounds were terrifying: In one of his most famous poems, “The Second Coming,” he imagined an apocalypse populated by fantastic beasts that would give J.K. Rowling a run for her money. Despite its gloom, it has become one of the most over-quoted poems in history.',\n",
       " 'But for millions of others, the sights and sounds of 1919 were glorious. The waging of the war had released a galvanic energy from Americans, who attacked the problem of victory with stunning efficiency. That included tremendous contributions from immigrants, women and African-Americans, who were raucously celebrated in victory parades upon return. One parade in New York feted the famous Harlem Hellfighters regiment, marching behind a spirited band playing a kind of music most Americans had never heard, soon to be known as jazz.',\n",
       " 'One of the hottest songs of 1919 was a novelty hit, “How Ya Gonna Keep ’Em Down on the Farm (After They’ve Seen Paree)?” It was a fair question for a country that was not going to return easily to prewar attitudes about race and citizenship. The return of the doughboys brought an exuberant close to the war effort, but also exacerbated tensions over who was entitled to democracy and self-determination, those pesky phrases that Woodrow Wilson kept repeating.',\n",
       " 'Throughout 1919, that was another way in which Americans seemed to hold two opposing thoughts at the same time. Large numbers of African-Americans chose their own form of self-determination by moving out of the South, toward Northern cities, the Midwest and the West Coast, a demographic change that altered America forever. But even after the move, many found democracy a daily challenge.',\n",
       " 'That year in the South, two children born near each other, on either side of the Alabama-Georgia line, revealed how quickly the country was changing. Jackie Robinson grew up in a new kind of America, thanks to his mother, who moved with him to California. George Wallace spent most of life trying to hold back the tide of change that Robinson’s generation helped unleash.',\n",
       " 'Throughout a long year, these tensions simmered just below America’s gleaming surfaces. An ugly race riot in Chicago took the lives of 38 people in late July. Other anxieties targeted immigrants, who found Americans less welcoming than the statue that greeted them in New York Harbor. To defenders of the old order, America had done her part, and there was no need to open the floodgates. But to many others, seeking a broader form of democracy, Wilson’s rhetoric seemed to describe a country that existed more vividly in his imagination than reality.',\n",
       " 'Torn in these two directions, the world’s wealthiest country seemed headed to its own form of a crack-up. Throughout 1919, waves of fear paralyzed Americans, as they reeled from a deadly influenza epidemic at the start of the year, then a campaign of letter bombs sent by anarchists in the spring. A vigorous government response led to the creation of the F.B.I. and a series of raids conducted by an overzealous attorney general, A. Mitchell Palmer. These “Palmer Raids” awakened fears of a police state and once again revealed how difficult democracy could be. A retaliatory bomb, directed at Palmer, exploded outside his house in Washington, nearly killing his neighbor, Franklin Roosevelt. When Roosevelt gave the speech that named the New Deal, 13 years later, he remembered Wilson who, for all of his failings, had ushered Americans into a new era.',\n",
       " 'A long century has elapsed, but the contradictions of 1919 still bear scrutiny. The old fault lines seem closer to the surface than they did in Roosevelt’s day, when Americans were largely united behind the great efforts to end poverty and crush fascism.',\n",
       " 'A hundred years ago, it was possible to look at the same country and see two very different versions of America. To be sure, this was a thriving nation of immigrants, innovating at a dizzying rate, with bustling cities that were the envy of the world. It was also a quieter country, dominated by its farmers and small towns, politically and socially conservative, and dismayed by the excesses of what would soon be known as the Jazz Age. Prohibition was another achievement — for what it’s worth — of 1919.',\n",
       " 'Neither side had a monopoly on virtue, as events would prove. Urban and rural America produced an equal share of political rascals. And rascality, in various guises, was another feature of life, as new forms of entertainment began to dominate attention, demanding villains and heroes in equal measure. In many cases, the war had accelerated this trend, advancing research in radio communication and using newsreels to mobilize support for the military effort. Soon, mass communication was affecting all Americans, rural and urban alike. Huge new movie palaces were built — the Capitol, in New York, could seat 4,000 — and Hollywood continued to grow apace, a new kind of dream factory, built around studios and stars.',\n",
       " 'Sports was a big business as well — in one case, a bit too big, as mobsters were able to alter the outcome of the 1919 World Series. Money affected fans in other ways, too — when the owner of the Boston Red Sox traded Babe Ruth to the New York Yankees at the end of the year, he invoked a curse on his team, which would not win another World Series until 2004.',\n",
       " 'The rural-urban divide was moderated in another way. Sales of automobiles nearly doubled in 1919, as Americans happily returned to their leisure pursuits and expanded their horizons in every sense. One eager driver was able to coax his vehicle to 120 miles an hour — in Brooklyn! ',\n",
       " 'Fortunately, no crackups resulted. ',\n",
       " 'Soon cars were changing everything. New suburban rings bloomed around cities, joining the urban and the rural to create something that was not quite either. An accidental effect of the war was a significant boost in oil production, as a result of a heavy emphasis on machines like tanks and airplanes that used internal combustion engines. Americans were quick to corral these markets, just as they embraced the automobile like no one else. But prewar experimentation in steam-powered and electric vehicles waned as a result. ',\n",
       " 'To better support this all-important vehicle, thousands of miles of highway were built, and that too changed the country forever. To promote the idea of interstate travel, a military convoy left Washington for California in July 1919. The New York Times called it “the largest aggregation of motor vehicles ever started on a trip of such length.”',\n",
       " 'But the convoy broke down repeatedly, and took 62 days to reach its destination. It averaged just six miles an hour, and almost didn’t make it out of Utah. As it turned out, there were almost no paved roads between Illinois and Nevada. Decades later, the officer who led the convoy, Dwight D. Eisenhower, would push for a national highway system as president. Even with a well-publicized divide between red and blue states, we can generally reach each other when we need to, and that is another unexpected result of a pivotal year.',\n",
       " 'In his overquoted poem from 1919, Yeats wrote “things fall apart, the center cannot hold.” Those words often ring true today, in another divided moment. But one of the comforts of history is seeing how wrong the earlier prognosticators of doom could be. By studying the ways in which we failed to fall apart, perhaps we can glean a small harvest of hope for the year ahead.',\n",
       " 'Ted Widmer is a distinguished lecturer at the Macaulay Honors College of the City University of New York and a senior fellow of the Carnegie Council for Ethics in International Affairs.',\n",
       " 'Follow The New York Times Opinion section on Facebook, Twitter (@NYTopinion) and Instagram.',\n",
       " 'Advertisement']"
      ]
     },
     "execution_count": 33,
     "metadata": {},
     "output_type": "execute_result"
    }
   ],
   "source": [
    "paragraph_list"
   ]
  },
  {
   "cell_type": "code",
   "execution_count": 34,
   "metadata": {},
   "outputs": [
    {
     "data": {
      "text/plain": [
       "440"
      ]
     },
     "execution_count": 34,
     "metadata": {},
     "output_type": "execute_result"
    }
   ],
   "source": [
    "sys.getsizeof(paragraph_list)"
   ]
  },
  {
   "cell_type": "code",
   "execution_count": 35,
   "metadata": {},
   "outputs": [
    {
     "data": {
      "text/plain": [
       "38"
      ]
     },
     "execution_count": 35,
     "metadata": {},
     "output_type": "execute_result"
    }
   ],
   "source": [
    "len(paragraph_list)"
   ]
  },
  {
   "cell_type": "code",
   "execution_count": null,
   "metadata": {},
   "outputs": [],
   "source": []
  },
  {
   "cell_type": "markdown",
   "metadata": {},
   "source": [
    "# metadata for df"
   ]
  },
  {
   "cell_type": "code",
   "execution_count": 36,
   "metadata": {},
   "outputs": [
    {
     "data": {
      "text/plain": [
       "['abstract',\n",
       " 'web_url',\n",
       " 'snippet',\n",
       " 'lead_paragraph',\n",
       " 'source',\n",
       " 'multimedia',\n",
       " 'headline',\n",
       " 'keywords',\n",
       " 'pub_date',\n",
       " 'document_type',\n",
       " 'news_desk',\n",
       " 'section_name',\n",
       " 'byline',\n",
       " 'type_of_material',\n",
       " '_id',\n",
       " 'word_count',\n",
       " 'uri']"
      ]
     },
     "execution_count": 36,
     "metadata": {},
     "output_type": "execute_result"
    }
   ],
   "source": [
    "metadata_keys"
   ]
  },
  {
   "cell_type": "code",
   "execution_count": 37,
   "metadata": {},
   "outputs": [],
   "source": [
    "metadata = []\n",
    "for key in metadata_keys:\n",
    "    metadata.append(doc[key])\n",
    "#     print(f'{key}--> {doc[key]}')\n",
    "#     print('\\n')"
   ]
  },
  {
   "cell_type": "code",
   "execution_count": 38,
   "metadata": {},
   "outputs": [
    {
     "data": {
      "text/plain": [
       "17"
      ]
     },
     "execution_count": 38,
     "metadata": {},
     "output_type": "execute_result"
    }
   ],
   "source": [
    "len(metadata)"
   ]
  },
  {
   "cell_type": "code",
   "execution_count": 39,
   "metadata": {},
   "outputs": [],
   "source": [
    "# class pandas.DataFrame(data=None, index=None, columns=None, dtype=None, copy=False)\n",
    "# class pandas.Series(data=None, index=None, dtype=None, name=None, copy=False, fastpath=False)[source]"
   ]
  },
  {
   "cell_type": "code",
   "execution_count": 40,
   "metadata": {},
   "outputs": [],
   "source": [
    "ser = pd.Series(data=metadata, index=metadata_keys)"
   ]
  },
  {
   "cell_type": "code",
   "execution_count": 41,
   "metadata": {},
   "outputs": [
    {
     "data": {
      "text/plain": [
       "abstract            From the Treaty of Versailles to Prohibition, ...\n",
       "web_url             https://www.nytimes.com/2018/12/31/opinion/191...\n",
       "snippet             From the Treaty of Versailles to Prohibition, ...\n",
       "lead_paragraph      Throughout 2019, The New York Times Opinion se...\n",
       "source                                             The New York Times\n",
       "multimedia          [{'rank': 0, 'subtype': 'xlarge', 'caption': N...\n",
       "headline            {'main': '1919: The Year of the Crack-Up', 'ki...\n",
       "keywords            [{'name': 'subject', 'value': 'United States P...\n",
       "pub_date                                     2019-01-01T00:00:03+0000\n",
       "document_type                                                 article\n",
       "news_desk                                                        OpEd\n",
       "section_name                                                  Opinion\n",
       "byline              {'original': 'By Ted Widmer', 'person': [{'fir...\n",
       "type_of_material                                                Op-Ed\n",
       "_id                 nyt://article/b205ee80-0859-514e-be2a-b8ecf0cc...\n",
       "word_count                                                       2248\n",
       "uri                 nyt://article/b205ee80-0859-514e-be2a-b8ecf0cc...\n",
       "dtype: object"
      ]
     },
     "execution_count": 41,
     "metadata": {},
     "output_type": "execute_result"
    }
   ],
   "source": [
    "ser"
   ]
  },
  {
   "cell_type": "markdown",
   "metadata": {},
   "source": [
    "# series of metadata for 1 (one) article."
   ]
  },
  {
   "cell_type": "code",
   "execution_count": 42,
   "metadata": {},
   "outputs": [],
   "source": [
    "ser['paragraph_list'] = paragraph_list"
   ]
  },
  {
   "cell_type": "code",
   "execution_count": 43,
   "metadata": {},
   "outputs": [
    {
     "data": {
      "text/plain": [
       "abstract            From the Treaty of Versailles to Prohibition, ...\n",
       "web_url             https://www.nytimes.com/2018/12/31/opinion/191...\n",
       "snippet             From the Treaty of Versailles to Prohibition, ...\n",
       "lead_paragraph      Throughout 2019, The New York Times Opinion se...\n",
       "source                                             The New York Times\n",
       "multimedia          [{'rank': 0, 'subtype': 'xlarge', 'caption': N...\n",
       "headline            {'main': '1919: The Year of the Crack-Up', 'ki...\n",
       "keywords            [{'name': 'subject', 'value': 'United States P...\n",
       "pub_date                                     2019-01-01T00:00:03+0000\n",
       "document_type                                                 article\n",
       "news_desk                                                        OpEd\n",
       "section_name                                                  Opinion\n",
       "byline              {'original': 'By Ted Widmer', 'person': [{'fir...\n",
       "type_of_material                                                Op-Ed\n",
       "_id                 nyt://article/b205ee80-0859-514e-be2a-b8ecf0cc...\n",
       "word_count                                                       2248\n",
       "uri                 nyt://article/b205ee80-0859-514e-be2a-b8ecf0cc...\n",
       "paragraph_list      [Advertisement, Supported by, From the Treaty ...\n",
       "dtype: object"
      ]
     },
     "execution_count": 43,
     "metadata": {},
     "output_type": "execute_result"
    }
   ],
   "source": [
    "ser"
   ]
  },
  {
   "cell_type": "markdown",
   "metadata": {},
   "source": [
    "# series of metadata + data for 1 (one) article"
   ]
  },
  {
   "cell_type": "markdown",
   "metadata": {},
   "source": [
    "# functions"
   ]
  },
  {
   "cell_type": "code",
   "execution_count": 44,
   "metadata": {},
   "outputs": [],
   "source": [
    "sample_5 = docs[:5]"
   ]
  },
  {
   "cell_type": "code",
   "execution_count": 45,
   "metadata": {},
   "outputs": [],
   "source": [
    "def get_metadata_key(doc):\n",
    "    metadata_keys = []\n",
    "    for key in doc.keys():\n",
    "        metadata_keys.append(key)\n",
    "    return metadata_keys"
   ]
  },
  {
   "cell_type": "code",
   "execution_count": 46,
   "metadata": {},
   "outputs": [
    {
     "name": "stdout",
     "output_type": "stream",
     "text": [
      "['abstract', 'web_url', 'snippet', 'lead_paragraph', 'source', 'multimedia', 'headline', 'keywords', 'pub_date', 'document_type', 'news_desk', 'section_name', 'byline', 'type_of_material', '_id', 'word_count', 'uri']\n",
      "['abstract', 'web_url', 'snippet', 'lead_paragraph', 'print_section', 'print_page', 'source', 'multimedia', 'headline', 'keywords', 'pub_date', 'document_type', 'news_desk', 'section_name', 'byline', 'type_of_material', '_id', 'word_count', 'uri']\n",
      "['abstract', 'web_url', 'snippet', 'lead_paragraph', 'print_section', 'print_page', 'source', 'multimedia', 'headline', 'keywords', 'pub_date', 'document_type', 'news_desk', 'section_name', 'byline', 'type_of_material', '_id', 'word_count', 'uri']\n",
      "['abstract', 'web_url', 'snippet', 'lead_paragraph', 'print_section', 'print_page', 'source', 'multimedia', 'headline', 'keywords', 'pub_date', 'document_type', 'news_desk', 'section_name', 'byline', 'type_of_material', '_id', 'word_count', 'uri']\n",
      "['abstract', 'web_url', 'snippet', 'lead_paragraph', 'print_section', 'print_page', 'source', 'multimedia', 'headline', 'keywords', 'pub_date', 'document_type', 'news_desk', 'section_name', 'byline', 'type_of_material', '_id', 'word_count', 'uri']\n"
     ]
    }
   ],
   "source": [
    "for doc in sample_5:\n",
    "    print(get_metadata_key(doc))"
   ]
  },
  {
   "cell_type": "code",
   "execution_count": 47,
   "metadata": {},
   "outputs": [],
   "source": [
    "def build_metedata_ser(docs):\n",
    "    list_of_series = []\n",
    "    max_columns = []\n",
    "    \n",
    "    for doc in docs:\n",
    "        metadata = []\n",
    "        metadata_keys = []\n",
    "        \n",
    "        for key in doc.keys():\n",
    "            metadata_keys.append(key)\n",
    "            metadata.append(doc[key])\n",
    "            metadata_ser = pd.Series(data=metadata, index=metadata_keys)\n",
    "        list_of_series.append(metadata_ser)\n",
    "        \n",
    "    return pd.DataFrame(data=list_of_series)"
   ]
  },
  {
   "cell_type": "code",
   "execution_count": 48,
   "metadata": {
    "scrolled": false
   },
   "outputs": [],
   "source": [
    "metadatadf_1_2019 = build_metedata_ser(docs)"
   ]
  },
  {
   "cell_type": "code",
   "execution_count": null,
   "metadata": {},
   "outputs": [],
   "source": []
  },
  {
   "cell_type": "code",
   "execution_count": null,
   "metadata": {},
   "outputs": [],
   "source": [
    "\n",
    "    "
   ]
  },
  {
   "cell_type": "code",
   "execution_count": 49,
   "metadata": {},
   "outputs": [],
   "source": [
    "colums2drop = ['multimedia']"
   ]
  },
  {
   "cell_type": "code",
   "execution_count": 50,
   "metadata": {},
   "outputs": [
    {
     "data": {
      "text/plain": [
       "Index(['abstract', 'web_url', 'snippet', 'lead_paragraph', 'source',\n",
       "       'multimedia', 'headline', 'keywords', 'pub_date', 'document_type',\n",
       "       'news_desk', 'section_name', 'byline', 'type_of_material', '_id',\n",
       "       'word_count', 'uri', 'print_section', 'print_page', 'subsection_name'],\n",
       "      dtype='object')"
      ]
     },
     "execution_count": 50,
     "metadata": {},
     "output_type": "execute_result"
    }
   ],
   "source": [
    "metadatadf_1_2019.columns"
   ]
  },
  {
   "cell_type": "code",
   "execution_count": 51,
   "metadata": {},
   "outputs": [],
   "source": [
    "#columns [section_name and subsections_name] are lelated"
   ]
  },
  {
   "cell_type": "code",
   "execution_count": null,
   "metadata": {},
   "outputs": [],
   "source": []
  },
  {
   "cell_type": "code",
   "execution_count": null,
   "metadata": {},
   "outputs": [],
   "source": []
  },
  {
   "cell_type": "code",
   "execution_count": null,
   "metadata": {},
   "outputs": [],
   "source": []
  },
  {
   "cell_type": "code",
   "execution_count": null,
   "metadata": {},
   "outputs": [],
   "source": []
  },
  {
   "cell_type": "markdown",
   "metadata": {},
   "source": [
    "# GROUPBY \"TYPE OF MATERIAL\""
   ]
  },
  {
   "cell_type": "code",
   "execution_count": 52,
   "metadata": {},
   "outputs": [],
   "source": [
    "tom = metadatadf_1_2019.groupby('type_of_material')"
   ]
  },
  {
   "cell_type": "code",
   "execution_count": 53,
   "metadata": {},
   "outputs": [],
   "source": [
    "dict_keys = tom.groups.keys()"
   ]
  },
  {
   "cell_type": "code",
   "execution_count": 54,
   "metadata": {},
   "outputs": [
    {
     "data": {
      "text/plain": [
       "dict_keys(['', 'An Appraisal', 'Biography', 'Correction', 'Editorial', 'Interactive Feature', 'Interview', 'Letter', 'List', 'News', 'News Analysis', 'Newsletter', 'Obituary (Obit)', 'Op-Ed', 'Question', 'Quote', 'Review', 'Schedule', 'Slideshow', 'Text', 'Video', 'briefing'])"
      ]
     },
     "execution_count": 54,
     "metadata": {},
     "output_type": "execute_result"
    }
   ],
   "source": [
    "dict_keys"
   ]
  },
  {
   "cell_type": "code",
   "execution_count": 55,
   "metadata": {},
   "outputs": [
    {
     "name": "stdout",
     "output_type": "stream",
     "text": [
      "-->  1\n",
      "An Appraisal-->  3\n",
      "Biography-->  3\n",
      "Correction-->  30\n",
      "Editorial-->  43\n",
      "Interactive Feature-->  78\n",
      "Interview-->  1\n",
      "Letter-->  116\n",
      "List-->  14\n",
      "News-->  3134\n",
      "News Analysis-->  26\n",
      "Newsletter-->  2\n",
      "Obituary (Obit)-->  120\n",
      "Op-Ed-->  340\n",
      "Question-->  3\n",
      "Quote-->  28\n",
      "Review-->  219\n",
      "Schedule-->  29\n",
      "Slideshow-->  103\n",
      "Text-->  2\n",
      "Video-->  50\n",
      "briefing-->  137\n"
     ]
    }
   ],
   "source": [
    "for key in tom.groups.keys():\n",
    "    print(f'{key}-->  {len(tom.groups[key])}')"
   ]
  },
  {
   "cell_type": "code",
   "execution_count": 56,
   "metadata": {},
   "outputs": [],
   "source": [
    "# \"News\" has 3134 articles. Op-Ed 340. Editorial are article written by the editorial board."
   ]
  },
  {
   "cell_type": "code",
   "execution_count": 57,
   "metadata": {},
   "outputs": [],
   "source": [
    "news = tom.groups['News']\n",
    "op_ed = tom.groups['Op-Ed']"
   ]
  },
  {
   "cell_type": "code",
   "execution_count": 58,
   "metadata": {},
   "outputs": [
    {
     "name": "stdout",
     "output_type": "stream",
     "text": [
      "3474\n",
      "Int64Index([   0,    1,    3,    4,   40,   45,   58,  114,  122,  173,\n",
      "            ...\n",
      "            4335, 4348, 4376, 4379, 4384, 4428, 4435, 4438, 4475, 4481],\n",
      "           dtype='int64', length=340)\n"
     ]
    }
   ],
   "source": [
    "print(len(news)+len(op_ed))\n",
    "print((op_ed))"
   ]
  },
  {
   "cell_type": "code",
   "execution_count": 59,
   "metadata": {},
   "outputs": [],
   "source": [
    "dflist = []\n",
    "for key in dict_keys:\n",
    "    for index in tom.groups[key][:5]:\n",
    "        dflist.append(metadatadf_1_2019.iloc[index])\n",
    "        df = pd.DataFrame(dflist)"
   ]
  },
  {
   "cell_type": "code",
   "execution_count": 60,
   "metadata": {
    "scrolled": false
   },
   "outputs": [
    {
     "data": {
      "text/plain": [
       "0                 Op-Ed\n",
       "1                 Op-Ed\n",
       "2       Obituary (Obit)\n",
       "3                 Op-Ed\n",
       "4                 Op-Ed\n",
       "             ...       \n",
       "4477               News\n",
       "4478               News\n",
       "4479    Obituary (Obit)\n",
       "4480               News\n",
       "4481              Op-Ed\n",
       "Name: type_of_material, Length: 4482, dtype: object"
      ]
     },
     "execution_count": 60,
     "metadata": {},
     "output_type": "execute_result"
    }
   ],
   "source": [
    "metadatadf_1_2019['type_of_material']"
   ]
  },
  {
   "cell_type": "code",
   "execution_count": 61,
   "metadata": {},
   "outputs": [],
   "source": [
    "op_ed = metadatadf_1_2019.iloc[op_ed]\n",
    "news = metadatadf_1_2019.iloc[news]\n",
    "# newsopeddf = op_eddf.concat(newsdf)"
   ]
  },
  {
   "cell_type": "code",
   "execution_count": 62,
   "metadata": {},
   "outputs": [],
   "source": [
    "#test['paragraph_list'] = test.apply(lambda row: url_pargraph_list(url=str(test['web_url'])), axis=1)"
   ]
  },
  {
   "cell_type": "code",
   "execution_count": 63,
   "metadata": {},
   "outputs": [],
   "source": [
    "def url_pargraph_list(url):\n",
    "    \n",
    "    page = requests.get((url))\n",
    "    soup = BeautifulSoup(page.content, 'html.parser')\n",
    "\n",
    "    #got text from all paragraphs\n",
    "    paragraph_list = []\n",
    "    for par in (soup.find_all(\"p\")):\n",
    "        paragraph_list.append(par.text)\n",
    "        \n",
    "    return paragraph_list\n",
    "#     return paragraph_list "
   ]
  },
  {
   "cell_type": "code",
   "execution_count": 64,
   "metadata": {},
   "outputs": [
    {
     "data": {
      "text/plain": [
       "2979"
      ]
     },
     "execution_count": 64,
     "metadata": {},
     "output_type": "execute_result"
    }
   ],
   "source": [
    "op_ed['word_count'].max()"
   ]
  },
  {
   "cell_type": "code",
   "execution_count": 65,
   "metadata": {},
   "outputs": [
    {
     "data": {
      "text/plain": [
       "19"
      ]
     },
     "execution_count": 65,
     "metadata": {},
     "output_type": "execute_result"
    }
   ],
   "source": [
    "op_ed['word_count'].min()"
   ]
  },
  {
   "cell_type": "code",
   "execution_count": 66,
   "metadata": {},
   "outputs": [],
   "source": [
    "ser['paragraph_list'] = paragraph_list"
   ]
  },
  {
   "cell_type": "code",
   "execution_count": 67,
   "metadata": {},
   "outputs": [],
   "source": [
    "#string to datetime object\n",
    "# df['date_time'] = pd.to_datetime(df['date_time'])\n",
    "# df['date_time'].dtype\n"
   ]
  },
  {
   "cell_type": "code",
   "execution_count": null,
   "metadata": {},
   "outputs": [],
   "source": []
  },
  {
   "cell_type": "code",
   "execution_count": 68,
   "metadata": {},
   "outputs": [
    {
     "data": {
      "text/plain": [
       "(340, 20)"
      ]
     },
     "execution_count": 68,
     "metadata": {},
     "output_type": "execute_result"
    }
   ],
   "source": [
    "op_ed.shape"
   ]
  },
  {
   "cell_type": "code",
   "execution_count": 69,
   "metadata": {},
   "outputs": [
    {
     "data": {
      "text/plain": [
       "(3134, 20)"
      ]
     },
     "execution_count": 69,
     "metadata": {},
     "output_type": "execute_result"
    }
   ],
   "source": [
    "news.shape"
   ]
  },
  {
   "cell_type": "markdown",
   "metadata": {},
   "source": [
    "1. take in pd.DataFrame\n",
    "2. itterate through url column\n",
    "3. pull url\n",
    "4. insert into new column for same row/url\n"
   ]
  },
  {
   "cell_type": "code",
   "execution_count": null,
   "metadata": {},
   "outputs": [],
   "source": []
  },
  {
   "cell_type": "code",
   "execution_count": 70,
   "metadata": {},
   "outputs": [],
   "source": [
    "#working function from df to df w/ text!\n",
    "def dnld_art_apply(df):\n",
    "    dfcopy = df.copy()\n",
    "    \n",
    "    text = dfcopy['web_url'].apply(\n",
    "        lambda row: \n",
    "        url_pargraph_list(\n",
    "            url = row))\n",
    "    \n",
    "    dfcopy['text'] = text\n",
    "    \n",
    "    return dfcopy    "
   ]
  },
  {
   "cell_type": "code",
   "execution_count": 71,
   "metadata": {},
   "outputs": [],
   "source": [
    "#these two cute, little took WAY too long. fuck!"
   ]
  },
  {
   "cell_type": "code",
   "execution_count": 72,
   "metadata": {},
   "outputs": [],
   "source": [
    "def dnld_art_iterrows(df):\n",
    "    dfcopy = df.copy()\n",
    "    \n",
    "    for index, row in dfcopy.iterrows():\n",
    "        url = row['web_url']\n",
    "        text = url_pargraph_list(url)\n",
    "        \n",
    "        row['pargraph_list'] = text\n",
    "        \n",
    "    return dfcopy"
   ]
  },
  {
   "cell_type": "code",
   "execution_count": 73,
   "metadata": {},
   "outputs": [],
   "source": [
    "def request_text(df):\n",
    "    \n",
    "    dfcopy = df.copy()\n",
    "    \n",
    "    for index, row in dfcopy.iterrows():\n",
    "        url = row['web_url']\n",
    "        text = url_pargraph_list(url)\n",
    "        \n",
    "        df['paragraph_list'].loc[index] = paragraph_list\n",
    "    \n",
    "    return df"
   ]
  },
  {
   "cell_type": "code",
   "execution_count": 74,
   "metadata": {},
   "outputs": [
    {
     "ename": "NameError",
     "evalue": "name 'test' is not defined",
     "output_type": "error",
     "traceback": [
      "\u001b[0;31m---------------------------------------------------------------------------\u001b[0m",
      "\u001b[0;31mNameError\u001b[0m                                 Traceback (most recent call last)",
      "\u001b[0;32m<ipython-input-74-6b36cb40617b>\u001b[0m in \u001b[0;36m<module>\u001b[0;34m\u001b[0m\n\u001b[0;32m----> 1\u001b[0;31m \u001b[0mtes_text\u001b[0m \u001b[0;34m=\u001b[0m \u001b[0mtest\u001b[0m\u001b[0;34m[\u001b[0m\u001b[0;34m'web_url'\u001b[0m\u001b[0;34m]\u001b[0m\u001b[0;34m.\u001b[0m\u001b[0mapply\u001b[0m\u001b[0;34m(\u001b[0m\u001b[0;32mlambda\u001b[0m \u001b[0mrow\u001b[0m\u001b[0;34m:\u001b[0m \u001b[0murl_pargraph_list\u001b[0m\u001b[0;34m(\u001b[0m\u001b[0murl\u001b[0m \u001b[0;34m=\u001b[0m \u001b[0mrow\u001b[0m\u001b[0;34m)\u001b[0m\u001b[0;34m)\u001b[0m\u001b[0;34m\u001b[0m\u001b[0;34m\u001b[0m\u001b[0m\n\u001b[0m",
      "\u001b[0;31mNameError\u001b[0m: name 'test' is not defined"
     ]
    }
   ],
   "source": [
    "#tes_text = test['web_url'].apply(lambda row: url_pargraph_list(url = row))"
   ]
  },
  {
   "cell_type": "markdown",
   "metadata": {},
   "source": [
    "# working function"
   ]
  },
  {
   "cell_type": "code",
   "execution_count": null,
   "metadata": {},
   "outputs": [],
   "source": [
    "#dnld_art_apply(test)"
   ]
  },
  {
   "cell_type": "markdown",
   "metadata": {},
   "source": [
    "# loc vs iloc"
   ]
  },
  {
   "cell_type": "code",
   "execution_count": 75,
   "metadata": {},
   "outputs": [
    {
     "data": {
      "text/plain": [
       "(340, 20)"
      ]
     },
     "execution_count": 75,
     "metadata": {},
     "output_type": "execute_result"
    }
   ],
   "source": [
    "op_ed.shape"
   ]
  },
  {
   "cell_type": "code",
   "execution_count": 76,
   "metadata": {},
   "outputs": [
    {
     "data": {
      "text/plain": [
       "(3134, 20)"
      ]
     },
     "execution_count": 76,
     "metadata": {},
     "output_type": "execute_result"
    }
   ],
   "source": [
    "news.shape"
   ]
  },
  {
   "cell_type": "code",
   "execution_count": 77,
   "metadata": {},
   "outputs": [],
   "source": [
    "metadata_jan19 = pd.concat([op_ed, news], ignore_index=True)"
   ]
  },
  {
   "cell_type": "code",
   "execution_count": 78,
   "metadata": {},
   "outputs": [
    {
     "data": {
      "text/plain": [
       "(3474, 20)"
      ]
     },
     "execution_count": 78,
     "metadata": {},
     "output_type": "execute_result"
    }
   ],
   "source": [
    "metadata_jan19.shape"
   ]
  },
  {
   "cell_type": "code",
   "execution_count": 79,
   "metadata": {},
   "outputs": [],
   "source": [
    "#testing index 0-20"
   ]
  },
  {
   "cell_type": "code",
   "execution_count": 80,
   "metadata": {},
   "outputs": [],
   "source": [
    "#metadata_jan19_0_20 = metadata_jan19.iloc[0:20]"
   ]
  },
  {
   "cell_type": "code",
   "execution_count": 81,
   "metadata": {},
   "outputs": [
    {
     "data": {
      "text/plain": [
       "pandas.core.frame.DataFrame"
      ]
     },
     "execution_count": 81,
     "metadata": {},
     "output_type": "execute_result"
    }
   ],
   "source": [
    "type(metadata_jan19_0_20)"
   ]
  },
  {
   "cell_type": "code",
   "execution_count": null,
   "metadata": {},
   "outputs": [],
   "source": [
    "#jan19_0_20 = dnld_art_apply(metadata_jan19_0_20)"
   ]
  },
  {
   "cell_type": "code",
   "execution_count": null,
   "metadata": {},
   "outputs": [],
   "source": [
    "#jan19_0_20.to_csv('jan19_0_20')"
   ]
  },
  {
   "cell_type": "code",
   "execution_count": null,
   "metadata": {},
   "outputs": [],
   "source": [
    "#a = ['Advertisement', 'Supported by', 'The notion that limiting women’s reproduction can cure societal ills has a long, shameful history.', 'By Christine Dehlendorf and Kelsey Holt', 'Drs. Dehlendorf and Holt are researchers with the Person-Centered Reproductive Health Program at the University of California, San Francisco.', 'Over the past decade, more and more women have begun using long-acting, reversible birth control methods like intrauterine devices and implants. These birth control methods are highly effective at preventing pregnancy but were previously not widely accessible because of high costs and lack of knowledge among health care providers. Increasing access to these methods, for women who want them, is a sign of progress.', 'However, many researchers, advocates and policymakers aren’t selling their rise solely as a victory for women’s health. They claim IUDs and implants may be a powerful new tool to fight poverty. This sort of language should set off alarm bells because the idea that limiting women’s reproduction can cure society’s ills has a long, shameful history in the United States.', 'Between 1909 and 1979, about 20,000 people were involuntarily sterilized in California — one of 33 states where compulsory sterilization in the name of eugenics and social well-being was legal in the 20th century. In the 1990s, multiple states proposed laws to incentivize or even require welfare recipients to use the new contraceptive Norplant — and while none of these became law, they helped shape public discourse. Even in recent years, some judges have offered reduced sentences to defendants who agree to be sterilized or use birth control. All of the above are instances in which the state sought to limit the reproduction of the poor, people of color and other groups, because of a belief that doing so would be for the good of society.', 'Today, this age-old idea that reproduction is to blame for societal problems has seen a resurgence in the current enthusiasm around long-acting, reversible contraception.', 'We can see echoes of this view in how some politicians argue for expanded access to birth control as a tool to address intergenerational poverty. We can see it in the priorities of philanthropic funders and in glowing media coverage about the promise of long-acting birth control that produces headlines like “Can the IUD Prevent Poverty, Save Taxpayers Billions?”', 'Promoting IUDs and implants is certainly less egregious than state-sponsored eugenics. But promoting them from a poverty-reduction perspective still targets the reproduction of certain women based on a problematic and simplistic understanding of the causes of societal ills. Such tactics could also, ironically, harm the quality of family-planning care for the very women they are intended to help.', 'Of course contraception is critical to individuals’ human right to control their reproduction and shape the course of their own lives. But there is a clear danger in suggesting that ending poverty on a societal level is as simple as inserting a device into an arm or uterus. This idea distracts from the structural factors — like the availability of social services and racial discrimination — that determine economic opportunities. Providing contraception is critical because it is a core component of women’s health care, not because of an unfounded belief that it is a silver bullet for poverty.', 'We also have concerns about how this emphasis on birth control as a tool of poverty reduction actually plays out in clinics. Claims about the social benefits of increasing the use of IUDs and implants can contribute to a narrative that says these methods are the best methods for everyone and that a program’s success should be judged by the numbers of IUDs and implants its providers insert. This, in turn, can contribute to providers neglecting individual women’s preferences when it comes to birth control: applying subtle pressure to use long-acting contraception, for example, or resisting requests to remove IUDs and implants.', 'These concerns about the quality of family-planning care are particularly salient for women of color. Research has shown that black women are more likely to feel pressured to use contraceptives. When studying counseling about IUDs specifically, we found that providers are more likely to recommend IUDs to low-income black and Latina women than low-income white women.', 'Given these biases, and the long history of coercion, it is no wonder that research has found that more than 40 percent of black and Latina women think the government promotes birth control to limit births among communities of color. Such beliefs should not be dismissed as conspiracy theories but recognized as understandable reactions to lived experiences. Programs to promote long-acting methods among women of color can further erode trust in family-planning services. Indeed, women of color have led efforts to raise awareness about the dangers of these programs and define principles for respectful provision of these methods.', 'Prioritizing women’s access to all contraceptive methods is undeniably a laudable goal. But access shouldn’t be contingent on the dangerous claim that it will address the fundamental societal problem of poverty and economic inequality. This, in fact, requires policies such as raising the minimum wage, instituting paid family and sick leave, and expanding access to social services.', 'Instead, policies and programs around family planning should keep their focus where it belongs: on whether women’s needs are met and their preferences for building — or not building — a family are respected. These efforts should explicitly acknowledge and respond to the continuing bias in health care and the mistrust many women feel in family-planning services. In doing so, they can begin to address the dark history of reproductive coercion and ensure all women receive the care that they deserve.', 'Christine Dehlendorf, a family physician, and Kelsey Holt, a social and behavioral scientist, are researchers with the Person-Centered Reproductive Health Program at the University of California, San Francisco.', 'Advertisement']"
   ]
  },
  {
   "cell_type": "code",
   "execution_count": null,
   "metadata": {},
   "outputs": [],
   "source": [
    "#len(a)"
   ]
  },
  {
   "cell_type": "code",
   "execution_count": null,
   "metadata": {},
   "outputs": [],
   "source": [
    "# count = 0\n",
    "# for line in a:\n",
    "#     for word in line:\n",
    "#         count += 1\n",
    "# print(count)"
   ]
  },
  {
   "cell_type": "code",
   "execution_count": null,
   "metadata": {},
   "outputs": [],
   "source": [
    "#metadata_jan19_20_100 = metadata_jan19.iloc[20:100]"
   ]
  },
  {
   "cell_type": "code",
   "execution_count": null,
   "metadata": {},
   "outputs": [],
   "source": [
    "#jan19_20_100 = dnld_art_apply(metadata_jan19_20_100)"
   ]
  },
  {
   "cell_type": "code",
   "execution_count": null,
   "metadata": {},
   "outputs": [],
   "source": [
    "#jan19_20_100.to_csv('jan19_20_100.csv')"
   ]
  },
  {
   "cell_type": "code",
   "execution_count": null,
   "metadata": {},
   "outputs": [],
   "source": [
    "#metadata_jan19_100_200 = metadata_jan19.iloc[100:200]"
   ]
  },
  {
   "cell_type": "code",
   "execution_count": null,
   "metadata": {},
   "outputs": [],
   "source": [
    "#jan19_100_200 = dnld_art_apply(metadata_jan19_100_200)"
   ]
  },
  {
   "cell_type": "code",
   "execution_count": null,
   "metadata": {},
   "outputs": [],
   "source": [
    "#jan19_100_200.to_csv('jan19_100_200.csv')"
   ]
  },
  {
   "cell_type": "code",
   "execution_count": null,
   "metadata": {},
   "outputs": [],
   "source": [
    "#metadata_jan19_201_400 = metadata_jan19.iloc[201:400]"
   ]
  },
  {
   "cell_type": "code",
   "execution_count": null,
   "metadata": {},
   "outputs": [],
   "source": [
    "#jan19_201_400 = dnld_art_apply(metadata_jan19_201_400)"
   ]
  },
  {
   "cell_type": "code",
   "execution_count": null,
   "metadata": {},
   "outputs": [],
   "source": [
    "#jan19_201_400.to_csv('jan19_201_400.csv')"
   ]
  },
  {
   "cell_type": "code",
   "execution_count": null,
   "metadata": {},
   "outputs": [],
   "source": [
    "#metadata_jan19_401_1000 = metadata_jan19.iloc[401:1000]"
   ]
  },
  {
   "cell_type": "code",
   "execution_count": null,
   "metadata": {},
   "outputs": [],
   "source": [
    "#jan19_401_1000 = dnld_art_apply(metadata_jan19_401_1000)"
   ]
  },
  {
   "cell_type": "code",
   "execution_count": null,
   "metadata": {},
   "outputs": [],
   "source": [
    "#jan19_401_1000.to_csv('jan19_401_1000.csv')"
   ]
  },
  {
   "cell_type": "code",
   "execution_count": null,
   "metadata": {},
   "outputs": [],
   "source": [
    "#metadata_jan19_1001_2000 = metadata_jan19.iloc[1001:2000]"
   ]
  },
  {
   "cell_type": "code",
   "execution_count": null,
   "metadata": {},
   "outputs": [],
   "source": [
    "#jan19_1001_2000 = dnld_art_apply(metadata_jan19_1001_2000)"
   ]
  },
  {
   "cell_type": "code",
   "execution_count": null,
   "metadata": {},
   "outputs": [],
   "source": [
    "#jan19_1001_2000.to_csv('jan19_1001_2000.csv')"
   ]
  },
  {
   "cell_type": "code",
   "execution_count": null,
   "metadata": {},
   "outputs": [],
   "source": [
    "#metadata_jan19_2001_3000 = metadata_jan19.iloc[2001:3000]"
   ]
  },
  {
   "cell_type": "code",
   "execution_count": null,
   "metadata": {},
   "outputs": [],
   "source": [
    "#jan19_2001_3000 = dnld_art_apply(metadata_jan19_2001_3000)"
   ]
  },
  {
   "cell_type": "code",
   "execution_count": null,
   "metadata": {},
   "outputs": [],
   "source": [
    "#jan19_2001_3000.to_csv('jan19_2001_3000.csv')"
   ]
  },
  {
   "cell_type": "code",
   "execution_count": null,
   "metadata": {},
   "outputs": [],
   "source": [
    "#metadata_jan19_3001 = metadata_jan19.iloc[3001:]"
   ]
  },
  {
   "cell_type": "code",
   "execution_count": null,
   "metadata": {},
   "outputs": [],
   "source": [
    "#jan19_3001 = dnld_art_apply(metadata_jan19_3001)"
   ]
  },
  {
   "cell_type": "code",
   "execution_count": null,
   "metadata": {},
   "outputs": [],
   "source": [
    "#jan19_3001.to_csv('jan19_3001.csv')"
   ]
  },
  {
   "cell_type": "code",
   "execution_count": 84,
   "metadata": {},
   "outputs": [],
   "source": [
    "extrasdf = metadata_jan19.iloc[[200,400,1000,2000,3000]]"
   ]
  },
  {
   "cell_type": "code",
   "execution_count": null,
   "metadata": {},
   "outputs": [],
   "source": []
  },
  {
   "cell_type": "code",
   "execution_count": 86,
   "metadata": {},
   "outputs": [],
   "source": [
    "extras = dnld_art_apply(extrasdf)"
   ]
  },
  {
   "cell_type": "code",
   "execution_count": 88,
   "metadata": {},
   "outputs": [],
   "source": [
    "extras.to_csv('extra_jan19.csv')"
   ]
  },
  {
   "cell_type": "markdown",
   "metadata": {},
   "source": [
    "# feb_19 "
   ]
  },
  {
   "cell_type": "code",
   "execution_count": 46,
   "metadata": {},
   "outputs": [],
   "source": [
    "def api_metadata_docs(api):\n",
    "    response = requests.get(api, params={'q': 'requests+language:python'})\n",
    "    print(response.status_code)\n",
    "    json_response = response.json()\n",
    "    docs = json_response['response']['docs']\n",
    "    return docs"
   ]
  },
  {
   "cell_type": "code",
   "execution_count": 36,
   "metadata": {},
   "outputs": [],
   "source": [
    "def build_metedata_ser(docs):\n",
    "    list_of_series = []\n",
    "    max_columns = []\n",
    "    \n",
    "    for doc in docs:\n",
    "        metadata = []\n",
    "        metadata_keys = []\n",
    "        \n",
    "        for key in doc.keys():\n",
    "            metadata_keys.append(key)\n",
    "            metadata.append(doc[key])\n",
    "            metadata_ser = pd.Series(data=metadata, index=metadata_keys)\n",
    "        list_of_series.append(metadata_ser)\n",
    "        \n",
    "    print(len(feb19_docs))    \n",
    "    return pd.DataFrame(data=list_of_series)"
   ]
  },
  {
   "cell_type": "code",
   "execution_count": 37,
   "metadata": {},
   "outputs": [],
   "source": [
    "response_feb19 = requests.get('https://api.nytimes.com/svc/archive/v1/2019/2.json?api-key=kwQUDL7cdaIuu03LazP2b3F2R0uY1kET', params={'q': 'requests+language:python'})"
   ]
  },
  {
   "cell_type": "code",
   "execution_count": 38,
   "metadata": {},
   "outputs": [
    {
     "data": {
      "text/plain": [
       "200"
      ]
     },
     "execution_count": 38,
     "metadata": {},
     "output_type": "execute_result"
    }
   ],
   "source": [
    "response_feb19.status_code"
   ]
  },
  {
   "cell_type": "code",
   "execution_count": 47,
   "metadata": {},
   "outputs": [
    {
     "name": "stdout",
     "output_type": "stream",
     "text": [
      "200\n"
     ]
    }
   ],
   "source": [
    "feb19_docs = api_metadata_docs('https://api.nytimes.com/svc/archive/v1/2019/2.json?api-key=kwQUDL7cdaIuu03LazP2b3F2R0uY1kET')"
   ]
  },
  {
   "cell_type": "code",
   "execution_count": 48,
   "metadata": {},
   "outputs": [
    {
     "data": {
      "text/plain": [
       "4122"
      ]
     },
     "execution_count": 48,
     "metadata": {},
     "output_type": "execute_result"
    }
   ],
   "source": [
    "len(feb19_docs)"
   ]
  },
  {
   "cell_type": "code",
   "execution_count": 51,
   "metadata": {},
   "outputs": [
    {
     "name": "stdout",
     "output_type": "stream",
     "text": [
      "4122\n"
     ]
    }
   ],
   "source": [
    "feb19_df = build_metedata_ser(feb19_docs)"
   ]
  },
  {
   "cell_type": "code",
   "execution_count": 52,
   "metadata": {},
   "outputs": [
    {
     "data": {
      "text/html": [
       "<div>\n",
       "<style scoped>\n",
       "    .dataframe tbody tr th:only-of-type {\n",
       "        vertical-align: middle;\n",
       "    }\n",
       "\n",
       "    .dataframe tbody tr th {\n",
       "        vertical-align: top;\n",
       "    }\n",
       "\n",
       "    .dataframe thead th {\n",
       "        text-align: right;\n",
       "    }\n",
       "</style>\n",
       "<table border=\"1\" class=\"dataframe\">\n",
       "  <thead>\n",
       "    <tr style=\"text-align: right;\">\n",
       "      <th></th>\n",
       "      <th>abstract</th>\n",
       "      <th>web_url</th>\n",
       "      <th>snippet</th>\n",
       "      <th>lead_paragraph</th>\n",
       "      <th>print_section</th>\n",
       "      <th>print_page</th>\n",
       "      <th>source</th>\n",
       "      <th>multimedia</th>\n",
       "      <th>headline</th>\n",
       "      <th>keywords</th>\n",
       "      <th>pub_date</th>\n",
       "      <th>document_type</th>\n",
       "      <th>news_desk</th>\n",
       "      <th>section_name</th>\n",
       "      <th>byline</th>\n",
       "      <th>type_of_material</th>\n",
       "      <th>_id</th>\n",
       "      <th>word_count</th>\n",
       "      <th>uri</th>\n",
       "      <th>subsection_name</th>\n",
       "    </tr>\n",
       "  </thead>\n",
       "  <tbody>\n",
       "    <tr>\n",
       "      <th>0</th>\n",
       "      <td>Of obsessions, vanity and delusions of superio...</td>\n",
       "      <td>https://www.nytimes.com/2019/01/31/opinion/how...</td>\n",
       "      <td>Of obsessions, vanity and delusions of superio...</td>\n",
       "      <td>Why is American politics so dysfunctional? Wha...</td>\n",
       "      <td>A</td>\n",
       "      <td>27</td>\n",
       "      <td>The New York Times</td>\n",
       "      <td>[{'rank': 0, 'subtype': 'xlarge', 'caption': N...</td>\n",
       "      <td>{'main': 'Attack of the Fanatical Centrists', ...</td>\n",
       "      <td>[{'name': 'subject', 'value': 'Health Insuranc...</td>\n",
       "      <td>2019-02-01T00:00:03+0000</td>\n",
       "      <td>article</td>\n",
       "      <td>OpEd</td>\n",
       "      <td>Opinion</td>\n",
       "      <td>{'original': 'By Paul Krugman', 'person': [{'f...</td>\n",
       "      <td>Op-Ed</td>\n",
       "      <td>nyt://article/0a07cab4-0864-523a-b83f-27a1c543...</td>\n",
       "      <td>845</td>\n",
       "      <td>nyt://article/0a07cab4-0864-523a-b83f-27a1c543...</td>\n",
       "      <td>NaN</td>\n",
       "    </tr>\n",
       "    <tr>\n",
       "      <th>1</th>\n",
       "      <td>In his Palm Beach cocoon, President Trump is i...</td>\n",
       "      <td>https://www.nytimes.com/2019/01/31/us/politics...</td>\n",
       "      <td>In his Palm Beach cocoon, President Trump is i...</td>\n",
       "      <td>WASHINGTON — After two months spent scorching ...</td>\n",
       "      <td>A</td>\n",
       "      <td>16</td>\n",
       "      <td>The New York Times</td>\n",
       "      <td>[{'rank': 0, 'subtype': 'xlarge', 'caption': N...</td>\n",
       "      <td>{'main': 'Trump Returns This Weekend to Mar-a-...</td>\n",
       "      <td>[{'name': 'persons', 'value': 'Trump, Donald J...</td>\n",
       "      <td>2019-02-01T00:05:30+0000</td>\n",
       "      <td>article</td>\n",
       "      <td>Washington</td>\n",
       "      <td>U.S.</td>\n",
       "      <td>{'original': 'By Katie Rogers and Annie Karni'...</td>\n",
       "      <td>News</td>\n",
       "      <td>nyt://article/ed4ab4a9-a6d4-5f59-a562-b10bd471...</td>\n",
       "      <td>1331</td>\n",
       "      <td>nyt://article/ed4ab4a9-a6d4-5f59-a562-b10bd471...</td>\n",
       "      <td>Politics</td>\n",
       "    </tr>\n",
       "    <tr>\n",
       "      <th>2</th>\n",
       "      <td>The association will push for more generous be...</td>\n",
       "      <td>https://www.nytimes.com/2019/01/31/sports/nflp...</td>\n",
       "      <td>The association will push for more generous be...</td>\n",
       "      <td>ATLANTA — The executive director of the N.F.L....</td>\n",
       "      <td>B</td>\n",
       "      <td>11</td>\n",
       "      <td>The New York Times</td>\n",
       "      <td>[{'rank': 0, 'subtype': 'xlarge', 'caption': N...</td>\n",
       "      <td>{'main': 'N.F.L. Players Union Says Retiree Be...</td>\n",
       "      <td>[{'name': 'subject', 'value': 'Football', 'ran...</td>\n",
       "      <td>2019-02-01T00:14:34+0000</td>\n",
       "      <td>article</td>\n",
       "      <td>Sports</td>\n",
       "      <td>Sports</td>\n",
       "      <td>{'original': 'By Ken Belson and Kevin Draper',...</td>\n",
       "      <td>News</td>\n",
       "      <td>nyt://article/20036a71-d55d-517a-b9bc-f14cb2f7...</td>\n",
       "      <td>513</td>\n",
       "      <td>nyt://article/20036a71-d55d-517a-b9bc-f14cb2f7...</td>\n",
       "      <td>NaN</td>\n",
       "    </tr>\n",
       "    <tr>\n",
       "      <th>3</th>\n",
       "      <td>The administration’s plan to shift commercial ...</td>\n",
       "      <td>https://www.nytimes.com/2019/01/31/us/politics...</td>\n",
       "      <td>The administration’s plan to shift commercial ...</td>\n",
       "      <td>WASHINGTON — American gun manufacturers and th...</td>\n",
       "      <td>A</td>\n",
       "      <td>18</td>\n",
       "      <td>The New York Times</td>\n",
       "      <td>[{'rank': 0, 'subtype': 'xlarge', 'caption': N...</td>\n",
       "      <td>{'main': 'Trump Administration Eases Regulatio...</td>\n",
       "      <td>[{'name': 'subject', 'value': 'United States P...</td>\n",
       "      <td>2019-02-01T00:15:59+0000</td>\n",
       "      <td>article</td>\n",
       "      <td>Washington</td>\n",
       "      <td>U.S.</td>\n",
       "      <td>{'original': 'By Nicholas Fandos', 'person': [...</td>\n",
       "      <td>News</td>\n",
       "      <td>nyt://article/e59fca93-5e28-5581-85f2-50b7b537...</td>\n",
       "      <td>934</td>\n",
       "      <td>nyt://article/e59fca93-5e28-5581-85f2-50b7b537...</td>\n",
       "      <td>Politics</td>\n",
       "    </tr>\n",
       "    <tr>\n",
       "      <th>4</th>\n",
       "      <td>Important evidence in at least 18 fatal accide...</td>\n",
       "      <td>https://www.nytimes.com/2019/01/31/us/ntsb-acc...</td>\n",
       "      <td>Important evidence in at least 18 fatal accide...</td>\n",
       "      <td>Whenever there is a plane or major highway cra...</td>\n",
       "      <td>A</td>\n",
       "      <td>20</td>\n",
       "      <td>The New York Times</td>\n",
       "      <td>[{'rank': 0, 'subtype': 'xlarge', 'caption': N...</td>\n",
       "      <td>{'main': '18 Accidents, 32 Dead. But Crash Sit...</td>\n",
       "      <td>[{'name': 'subject', 'value': 'Shutdowns (Inst...</td>\n",
       "      <td>2019-02-01T00:17:15+0000</td>\n",
       "      <td>article</td>\n",
       "      <td>National</td>\n",
       "      <td>U.S.</td>\n",
       "      <td>{'original': 'By Richard A. Oppel Jr. and Thom...</td>\n",
       "      <td>News</td>\n",
       "      <td>nyt://article/679b15d1-e6b1-54b0-858e-e0a0ddeb...</td>\n",
       "      <td>1356</td>\n",
       "      <td>nyt://article/679b15d1-e6b1-54b0-858e-e0a0ddeb...</td>\n",
       "      <td>NaN</td>\n",
       "    </tr>\n",
       "    <tr>\n",
       "      <th>...</th>\n",
       "      <td>...</td>\n",
       "      <td>...</td>\n",
       "      <td>...</td>\n",
       "      <td>...</td>\n",
       "      <td>...</td>\n",
       "      <td>...</td>\n",
       "      <td>...</td>\n",
       "      <td>...</td>\n",
       "      <td>...</td>\n",
       "      <td>...</td>\n",
       "      <td>...</td>\n",
       "      <td>...</td>\n",
       "      <td>...</td>\n",
       "      <td>...</td>\n",
       "      <td>...</td>\n",
       "      <td>...</td>\n",
       "      <td>...</td>\n",
       "      <td>...</td>\n",
       "      <td>...</td>\n",
       "      <td>...</td>\n",
       "    </tr>\n",
       "    <tr>\n",
       "      <th>4117</th>\n",
       "      <td>From its expanding museums to its scrappy gall...</td>\n",
       "      <td>https://www.nytimes.com/2019/02/28/arts/design...</td>\n",
       "      <td>From its expanding museums to its scrappy gall...</td>\n",
       "      <td>LOS ANGELES — You keep insisting that this cit...</td>\n",
       "      <td>C</td>\n",
       "      <td>15</td>\n",
       "      <td>The New York Times</td>\n",
       "      <td>[{'rank': 0, 'subtype': 'xlarge', 'caption': N...</td>\n",
       "      <td>{'main': 'The Los Angeles Art Scene Looks to t...</td>\n",
       "      <td>[{'name': 'subject', 'value': 'Art', 'rank': 1...</td>\n",
       "      <td>2019-02-28T23:32:02+0000</td>\n",
       "      <td>article</td>\n",
       "      <td>Weekend</td>\n",
       "      <td>Arts</td>\n",
       "      <td>{'original': 'By Jason Farago', 'person': [{'f...</td>\n",
       "      <td>News</td>\n",
       "      <td>nyt://article/b798ce7e-5f50-5e77-9f77-9b46a703...</td>\n",
       "      <td>2150</td>\n",
       "      <td>nyt://article/b798ce7e-5f50-5e77-9f77-9b46a703...</td>\n",
       "      <td>Art &amp; Design</td>\n",
       "    </tr>\n",
       "    <tr>\n",
       "      <th>4118</th>\n",
       "      <td>The Pentagon scrambled to respond to President...</td>\n",
       "      <td>https://www.nytimes.com/2019/02/28/world/middl...</td>\n",
       "      <td>The Pentagon scrambled to respond to President...</td>\n",
       "      <td>WASHINGTON — President Trump declared on Thurs...</td>\n",
       "      <td>A</td>\n",
       "      <td>6</td>\n",
       "      <td>The New York Times</td>\n",
       "      <td>[{'rank': 0, 'subtype': 'xlarge', 'caption': N...</td>\n",
       "      <td>{'main': 'Trump Declares ISIS ‘100%’ Defeated ...</td>\n",
       "      <td>[{'name': 'subject', 'value': 'United States P...</td>\n",
       "      <td>2019-02-28T23:52:12+0000</td>\n",
       "      <td>article</td>\n",
       "      <td>Washington</td>\n",
       "      <td>World</td>\n",
       "      <td>{'original': 'By Katie Rogers, Rukmini Callima...</td>\n",
       "      <td>News</td>\n",
       "      <td>nyt://article/c0247742-adbd-5385-84c1-723b0f9d...</td>\n",
       "      <td>678</td>\n",
       "      <td>nyt://article/c0247742-adbd-5385-84c1-723b0f9d...</td>\n",
       "      <td>Middle East</td>\n",
       "    </tr>\n",
       "    <tr>\n",
       "      <th>4119</th>\n",
       "      <td>The annual conservative gathering used to be a...</td>\n",
       "      <td>https://www.nytimes.com/2019/02/28/us/politics...</td>\n",
       "      <td>The annual conservative gathering used to be a...</td>\n",
       "      <td>Hi. Welcome to On Politics, your guide to the ...</td>\n",
       "      <td>NaN</td>\n",
       "      <td>NaN</td>\n",
       "      <td>The New York Times</td>\n",
       "      <td>[{'rank': 0, 'subtype': 'xlarge', 'caption': N...</td>\n",
       "      <td>{'main': 'On Politics With Lisa Lerer: CPAC, T...</td>\n",
       "      <td>[{'name': 'subject', 'value': 'United States P...</td>\n",
       "      <td>2019-02-28T23:52:22+0000</td>\n",
       "      <td>article</td>\n",
       "      <td>Politics</td>\n",
       "      <td>U.S.</td>\n",
       "      <td>{'original': 'By Lisa Lerer', 'person': [{'fir...</td>\n",
       "      <td>News</td>\n",
       "      <td>nyt://article/4f0f73b2-1ab3-507d-b722-5ca5c0fe...</td>\n",
       "      <td>1521</td>\n",
       "      <td>nyt://article/4f0f73b2-1ab3-507d-b722-5ca5c0fe...</td>\n",
       "      <td>Politics</td>\n",
       "    </tr>\n",
       "    <tr>\n",
       "      <th>4120</th>\n",
       "      <td>Coogi has accused the Nets, Nike and the N.B.A...</td>\n",
       "      <td>https://www.nytimes.com/2019/02/28/sports/coog...</td>\n",
       "      <td>Coogi has accused the Nets, Nike and the N.B.A...</td>\n",
       "      <td>Since moving to Brooklyn in 2012, the Nets hav...</td>\n",
       "      <td>B</td>\n",
       "      <td>11</td>\n",
       "      <td>The New York Times</td>\n",
       "      <td>[{'rank': 0, 'subtype': 'xlarge', 'caption': N...</td>\n",
       "      <td>{'main': 'The Clothing Brand Coogi Is Suing th...</td>\n",
       "      <td>[{'name': 'subject', 'value': 'Copyrights and ...</td>\n",
       "      <td>2019-02-28T23:57:35+0000</td>\n",
       "      <td>article</td>\n",
       "      <td>Sports</td>\n",
       "      <td>Sports</td>\n",
       "      <td>{'original': 'By Kevin Draper', 'person': [{'f...</td>\n",
       "      <td>News</td>\n",
       "      <td>nyt://article/9afec975-6c9d-51cc-8ce6-6f0c27bc...</td>\n",
       "      <td>486</td>\n",
       "      <td>nyt://article/9afec975-6c9d-51cc-8ce6-6f0c27bc...</td>\n",
       "      <td>NaN</td>\n",
       "    </tr>\n",
       "    <tr>\n",
       "      <th>4121</th>\n",
       "      <td>What Ivanka Trump doesn’t know about social mo...</td>\n",
       "      <td>https://www.nytimes.com/2019/02/28/opinion/iva...</td>\n",
       "      <td>What Ivanka Trump doesn’t know about social mo...</td>\n",
       "      <td>If you’re like me, you could use at least a br...</td>\n",
       "      <td>A</td>\n",
       "      <td>23</td>\n",
       "      <td>The New York Times</td>\n",
       "      <td>[{'rank': 0, 'subtype': 'xlarge', 'caption': N...</td>\n",
       "      <td>{'main': 'Socialism and the Self-Made Woman', ...</td>\n",
       "      <td>[{'name': 'subject', 'value': 'Income Inequali...</td>\n",
       "      <td>2019-02-28T23:58:21+0000</td>\n",
       "      <td>article</td>\n",
       "      <td>OpEd</td>\n",
       "      <td>Opinion</td>\n",
       "      <td>{'original': 'By Paul Krugman', 'person': [{'f...</td>\n",
       "      <td>Op-Ed</td>\n",
       "      <td>nyt://article/4e37c353-267d-54d5-98b6-609ded66...</td>\n",
       "      <td>920</td>\n",
       "      <td>nyt://article/4e37c353-267d-54d5-98b6-609ded66...</td>\n",
       "      <td>NaN</td>\n",
       "    </tr>\n",
       "  </tbody>\n",
       "</table>\n",
       "<p>4122 rows × 20 columns</p>\n",
       "</div>"
      ],
      "text/plain": [
       "                                               abstract  \\\n",
       "0     Of obsessions, vanity and delusions of superio...   \n",
       "1     In his Palm Beach cocoon, President Trump is i...   \n",
       "2     The association will push for more generous be...   \n",
       "3     The administration’s plan to shift commercial ...   \n",
       "4     Important evidence in at least 18 fatal accide...   \n",
       "...                                                 ...   \n",
       "4117  From its expanding museums to its scrappy gall...   \n",
       "4118  The Pentagon scrambled to respond to President...   \n",
       "4119  The annual conservative gathering used to be a...   \n",
       "4120  Coogi has accused the Nets, Nike and the N.B.A...   \n",
       "4121  What Ivanka Trump doesn’t know about social mo...   \n",
       "\n",
       "                                                web_url  \\\n",
       "0     https://www.nytimes.com/2019/01/31/opinion/how...   \n",
       "1     https://www.nytimes.com/2019/01/31/us/politics...   \n",
       "2     https://www.nytimes.com/2019/01/31/sports/nflp...   \n",
       "3     https://www.nytimes.com/2019/01/31/us/politics...   \n",
       "4     https://www.nytimes.com/2019/01/31/us/ntsb-acc...   \n",
       "...                                                 ...   \n",
       "4117  https://www.nytimes.com/2019/02/28/arts/design...   \n",
       "4118  https://www.nytimes.com/2019/02/28/world/middl...   \n",
       "4119  https://www.nytimes.com/2019/02/28/us/politics...   \n",
       "4120  https://www.nytimes.com/2019/02/28/sports/coog...   \n",
       "4121  https://www.nytimes.com/2019/02/28/opinion/iva...   \n",
       "\n",
       "                                                snippet  \\\n",
       "0     Of obsessions, vanity and delusions of superio...   \n",
       "1     In his Palm Beach cocoon, President Trump is i...   \n",
       "2     The association will push for more generous be...   \n",
       "3     The administration’s plan to shift commercial ...   \n",
       "4     Important evidence in at least 18 fatal accide...   \n",
       "...                                                 ...   \n",
       "4117  From its expanding museums to its scrappy gall...   \n",
       "4118  The Pentagon scrambled to respond to President...   \n",
       "4119  The annual conservative gathering used to be a...   \n",
       "4120  Coogi has accused the Nets, Nike and the N.B.A...   \n",
       "4121  What Ivanka Trump doesn’t know about social mo...   \n",
       "\n",
       "                                         lead_paragraph print_section  \\\n",
       "0     Why is American politics so dysfunctional? Wha...             A   \n",
       "1     WASHINGTON — After two months spent scorching ...             A   \n",
       "2     ATLANTA — The executive director of the N.F.L....             B   \n",
       "3     WASHINGTON — American gun manufacturers and th...             A   \n",
       "4     Whenever there is a plane or major highway cra...             A   \n",
       "...                                                 ...           ...   \n",
       "4117  LOS ANGELES — You keep insisting that this cit...             C   \n",
       "4118  WASHINGTON — President Trump declared on Thurs...             A   \n",
       "4119  Hi. Welcome to On Politics, your guide to the ...           NaN   \n",
       "4120  Since moving to Brooklyn in 2012, the Nets hav...             B   \n",
       "4121  If you’re like me, you could use at least a br...             A   \n",
       "\n",
       "     print_page              source  \\\n",
       "0            27  The New York Times   \n",
       "1            16  The New York Times   \n",
       "2            11  The New York Times   \n",
       "3            18  The New York Times   \n",
       "4            20  The New York Times   \n",
       "...         ...                 ...   \n",
       "4117         15  The New York Times   \n",
       "4118          6  The New York Times   \n",
       "4119        NaN  The New York Times   \n",
       "4120         11  The New York Times   \n",
       "4121         23  The New York Times   \n",
       "\n",
       "                                             multimedia  \\\n",
       "0     [{'rank': 0, 'subtype': 'xlarge', 'caption': N...   \n",
       "1     [{'rank': 0, 'subtype': 'xlarge', 'caption': N...   \n",
       "2     [{'rank': 0, 'subtype': 'xlarge', 'caption': N...   \n",
       "3     [{'rank': 0, 'subtype': 'xlarge', 'caption': N...   \n",
       "4     [{'rank': 0, 'subtype': 'xlarge', 'caption': N...   \n",
       "...                                                 ...   \n",
       "4117  [{'rank': 0, 'subtype': 'xlarge', 'caption': N...   \n",
       "4118  [{'rank': 0, 'subtype': 'xlarge', 'caption': N...   \n",
       "4119  [{'rank': 0, 'subtype': 'xlarge', 'caption': N...   \n",
       "4120  [{'rank': 0, 'subtype': 'xlarge', 'caption': N...   \n",
       "4121  [{'rank': 0, 'subtype': 'xlarge', 'caption': N...   \n",
       "\n",
       "                                               headline  \\\n",
       "0     {'main': 'Attack of the Fanatical Centrists', ...   \n",
       "1     {'main': 'Trump Returns This Weekend to Mar-a-...   \n",
       "2     {'main': 'N.F.L. Players Union Says Retiree Be...   \n",
       "3     {'main': 'Trump Administration Eases Regulatio...   \n",
       "4     {'main': '18 Accidents, 32 Dead. But Crash Sit...   \n",
       "...                                                 ...   \n",
       "4117  {'main': 'The Los Angeles Art Scene Looks to t...   \n",
       "4118  {'main': 'Trump Declares ISIS ‘100%’ Defeated ...   \n",
       "4119  {'main': 'On Politics With Lisa Lerer: CPAC, T...   \n",
       "4120  {'main': 'The Clothing Brand Coogi Is Suing th...   \n",
       "4121  {'main': 'Socialism and the Self-Made Woman', ...   \n",
       "\n",
       "                                               keywords  \\\n",
       "0     [{'name': 'subject', 'value': 'Health Insuranc...   \n",
       "1     [{'name': 'persons', 'value': 'Trump, Donald J...   \n",
       "2     [{'name': 'subject', 'value': 'Football', 'ran...   \n",
       "3     [{'name': 'subject', 'value': 'United States P...   \n",
       "4     [{'name': 'subject', 'value': 'Shutdowns (Inst...   \n",
       "...                                                 ...   \n",
       "4117  [{'name': 'subject', 'value': 'Art', 'rank': 1...   \n",
       "4118  [{'name': 'subject', 'value': 'United States P...   \n",
       "4119  [{'name': 'subject', 'value': 'United States P...   \n",
       "4120  [{'name': 'subject', 'value': 'Copyrights and ...   \n",
       "4121  [{'name': 'subject', 'value': 'Income Inequali...   \n",
       "\n",
       "                      pub_date document_type   news_desk section_name  \\\n",
       "0     2019-02-01T00:00:03+0000       article        OpEd      Opinion   \n",
       "1     2019-02-01T00:05:30+0000       article  Washington         U.S.   \n",
       "2     2019-02-01T00:14:34+0000       article      Sports       Sports   \n",
       "3     2019-02-01T00:15:59+0000       article  Washington         U.S.   \n",
       "4     2019-02-01T00:17:15+0000       article    National         U.S.   \n",
       "...                        ...           ...         ...          ...   \n",
       "4117  2019-02-28T23:32:02+0000       article     Weekend         Arts   \n",
       "4118  2019-02-28T23:52:12+0000       article  Washington        World   \n",
       "4119  2019-02-28T23:52:22+0000       article    Politics         U.S.   \n",
       "4120  2019-02-28T23:57:35+0000       article      Sports       Sports   \n",
       "4121  2019-02-28T23:58:21+0000       article        OpEd      Opinion   \n",
       "\n",
       "                                                 byline type_of_material  \\\n",
       "0     {'original': 'By Paul Krugman', 'person': [{'f...            Op-Ed   \n",
       "1     {'original': 'By Katie Rogers and Annie Karni'...             News   \n",
       "2     {'original': 'By Ken Belson and Kevin Draper',...             News   \n",
       "3     {'original': 'By Nicholas Fandos', 'person': [...             News   \n",
       "4     {'original': 'By Richard A. Oppel Jr. and Thom...             News   \n",
       "...                                                 ...              ...   \n",
       "4117  {'original': 'By Jason Farago', 'person': [{'f...             News   \n",
       "4118  {'original': 'By Katie Rogers, Rukmini Callima...             News   \n",
       "4119  {'original': 'By Lisa Lerer', 'person': [{'fir...             News   \n",
       "4120  {'original': 'By Kevin Draper', 'person': [{'f...             News   \n",
       "4121  {'original': 'By Paul Krugman', 'person': [{'f...            Op-Ed   \n",
       "\n",
       "                                                    _id  word_count  \\\n",
       "0     nyt://article/0a07cab4-0864-523a-b83f-27a1c543...         845   \n",
       "1     nyt://article/ed4ab4a9-a6d4-5f59-a562-b10bd471...        1331   \n",
       "2     nyt://article/20036a71-d55d-517a-b9bc-f14cb2f7...         513   \n",
       "3     nyt://article/e59fca93-5e28-5581-85f2-50b7b537...         934   \n",
       "4     nyt://article/679b15d1-e6b1-54b0-858e-e0a0ddeb...        1356   \n",
       "...                                                 ...         ...   \n",
       "4117  nyt://article/b798ce7e-5f50-5e77-9f77-9b46a703...        2150   \n",
       "4118  nyt://article/c0247742-adbd-5385-84c1-723b0f9d...         678   \n",
       "4119  nyt://article/4f0f73b2-1ab3-507d-b722-5ca5c0fe...        1521   \n",
       "4120  nyt://article/9afec975-6c9d-51cc-8ce6-6f0c27bc...         486   \n",
       "4121  nyt://article/4e37c353-267d-54d5-98b6-609ded66...         920   \n",
       "\n",
       "                                                    uri subsection_name  \n",
       "0     nyt://article/0a07cab4-0864-523a-b83f-27a1c543...             NaN  \n",
       "1     nyt://article/ed4ab4a9-a6d4-5f59-a562-b10bd471...        Politics  \n",
       "2     nyt://article/20036a71-d55d-517a-b9bc-f14cb2f7...             NaN  \n",
       "3     nyt://article/e59fca93-5e28-5581-85f2-50b7b537...        Politics  \n",
       "4     nyt://article/679b15d1-e6b1-54b0-858e-e0a0ddeb...             NaN  \n",
       "...                                                 ...             ...  \n",
       "4117  nyt://article/b798ce7e-5f50-5e77-9f77-9b46a703...    Art & Design  \n",
       "4118  nyt://article/c0247742-adbd-5385-84c1-723b0f9d...     Middle East  \n",
       "4119  nyt://article/4f0f73b2-1ab3-507d-b722-5ca5c0fe...        Politics  \n",
       "4120  nyt://article/9afec975-6c9d-51cc-8ce6-6f0c27bc...             NaN  \n",
       "4121  nyt://article/4e37c353-267d-54d5-98b6-609ded66...             NaN  \n",
       "\n",
       "[4122 rows x 20 columns]"
      ]
     },
     "execution_count": 52,
     "metadata": {},
     "output_type": "execute_result"
    }
   ],
   "source": [
    "feb19_df"
   ]
  },
  {
   "cell_type": "code",
   "execution_count": null,
   "metadata": {},
   "outputs": [],
   "source": [
    "#takes in a df and returns only oped and news from \"type of material\" column\n",
    "\n",
    "def oped_news_filter(df):\n",
    "    dfcopy = df.copy()\n",
    "    \n",
    "    df.web"
   ]
  },
  {
   "cell_type": "code",
   "execution_count": null,
   "metadata": {},
   "outputs": [],
   "source": []
  },
  {
   "cell_type": "code",
   "execution_count": null,
   "metadata": {},
   "outputs": [],
   "source": [
    "def get_metadata_key(doc):\n",
    "    metadata_keys = []\n",
    "    for key in doc.keys():\n",
    "        metadata_keys.append(key)\n",
    "    return metadata_keys"
   ]
  },
  {
   "cell_type": "code",
   "execution_count": null,
   "metadata": {},
   "outputs": [],
   "source": [
    "json_response = response.json()"
   ]
  },
  {
   "cell_type": "code",
   "execution_count": null,
   "metadata": {},
   "outputs": [],
   "source": [
    "#json_response['response'] or json_response['copyright']\n",
    "json_response['response'];"
   ]
  },
  {
   "cell_type": "code",
   "execution_count": null,
   "metadata": {},
   "outputs": [],
   "source": [
    "#docs = list, 4482 items long\n",
    "docs = json_response['response']['docs']"
   ]
  },
  {
   "cell_type": "code",
   "execution_count": null,
   "metadata": {},
   "outputs": [],
   "source": []
  },
  {
   "cell_type": "code",
   "execution_count": null,
   "metadata": {},
   "outputs": [],
   "source": []
  }
 ],
 "metadata": {
  "kernelspec": {
   "display_name": "Python 3",
   "language": "python",
   "name": "python3"
  },
  "language_info": {
   "codemirror_mode": {
    "name": "ipython",
    "version": 3
   },
   "file_extension": ".py",
   "mimetype": "text/x-python",
   "name": "python",
   "nbconvert_exporter": "python",
   "pygments_lexer": "ipython3",
   "version": "3.7.9"
  }
 },
 "nbformat": 4,
 "nbformat_minor": 4
}
