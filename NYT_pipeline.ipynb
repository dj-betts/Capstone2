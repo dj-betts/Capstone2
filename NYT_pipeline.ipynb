{
 "cells": [
  {
   "cell_type": "markdown",
   "metadata": {},
   "source": [
    "### notes on NYTimes staff:\n",
    "- [NYTIMES staff](https://en.wikipedia.org/wiki/List_of_The_New_York_Times_employees)\n",
    "- [The New York Times Editorial Board](https://www.nytimes.com/interactive/2018/opinion/editorialboard.html)\n",
    "- [Kathleen Kingsbury](https://en.wikipedia.org/wiki/Kathleen_Kingsbury) acting Editorial Page Editor June 7, 2020 - the November election\" at The New York Times, replacing James Bennet.\n",
    "\n",
    "\n",
    "- [James Bennet](https://en.wikipedia.org/wiki/James_Bennet_(journalist) editorial page editor May 2016-June 2020\n",
    "records to 05/2016"
   ]
  },
  {
   "cell_type": "code",
   "execution_count": 1,
   "metadata": {},
   "outputs": [],
   "source": [
    "import requests"
   ]
  },
  {
   "cell_type": "code",
   "execution_count": 2,
   "metadata": {},
   "outputs": [],
   "source": [
    "from bs4 import BeautifulSoup"
   ]
  },
  {
   "cell_type": "code",
   "execution_count": 3,
   "metadata": {},
   "outputs": [],
   "source": [
    "import pandas as pd\n",
    "import numpy as np"
   ]
  },
  {
   "cell_type": "code",
   "execution_count": 4,
   "metadata": {},
   "outputs": [],
   "source": [
    "pd.options.display.max_rows = 999\n",
    "pd.options.display.max_columns = 999"
   ]
  },
  {
   "cell_type": "code",
   "execution_count": 5,
   "metadata": {},
   "outputs": [],
   "source": [
    "import time"
   ]
  },
  {
   "cell_type": "code",
   "execution_count": 6,
   "metadata": {},
   "outputs": [],
   "source": [
    "response = requests.get('https://api.nytimes.com/svc/archive/v1/2019/1.json?api-key=kwQUDL7cdaIuu03LazP2b3F2R0uY1kET',\n",
    "    params={'q': 'requests+language:python'})"
   ]
  },
  {
   "cell_type": "code",
   "execution_count": 7,
   "metadata": {},
   "outputs": [
    {
     "data": {
      "text/plain": [
       "requests.models.Response"
      ]
     },
     "execution_count": 7,
     "metadata": {},
     "output_type": "execute_result"
    }
   ],
   "source": [
    "type(response)"
   ]
  },
  {
   "cell_type": "code",
   "execution_count": 8,
   "metadata": {},
   "outputs": [
    {
     "data": {
      "text/plain": [
       "200"
      ]
     },
     "execution_count": 8,
     "metadata": {},
     "output_type": "execute_result"
    }
   ],
   "source": [
    "response.status_code"
   ]
  },
  {
   "cell_type": "code",
   "execution_count": 9,
   "metadata": {},
   "outputs": [],
   "source": [
    "json_response = response.json()"
   ]
  },
  {
   "cell_type": "code",
   "execution_count": 10,
   "metadata": {},
   "outputs": [],
   "source": [
    "#json_response['response'] or json_response['copyright']\n",
    "json_response['response'];"
   ]
  },
  {
   "cell_type": "code",
   "execution_count": 11,
   "metadata": {},
   "outputs": [],
   "source": [
    "#docs = list, 4482 items long\n",
    "docs = json_response['response']['docs']"
   ]
  },
  {
   "cell_type": "code",
   "execution_count": 12,
   "metadata": {},
   "outputs": [
    {
     "data": {
      "text/plain": [
       "4482"
      ]
     },
     "execution_count": 12,
     "metadata": {},
     "output_type": "execute_result"
    }
   ],
   "source": [
    "len(docs)"
   ]
  },
  {
   "cell_type": "code",
   "execution_count": 13,
   "metadata": {},
   "outputs": [],
   "source": [
    "doc = docs[0]"
   ]
  },
  {
   "cell_type": "code",
   "execution_count": 14,
   "metadata": {},
   "outputs": [],
   "source": [
    "metadata_keys = []\n",
    "for key in doc.keys():\n",
    "    metadata_keys.append(key)\n"
   ]
  },
  {
   "cell_type": "code",
   "execution_count": 15,
   "metadata": {},
   "outputs": [
    {
     "data": {
      "text/plain": [
       "['abstract',\n",
       " 'web_url',\n",
       " 'snippet',\n",
       " 'lead_paragraph',\n",
       " 'source',\n",
       " 'multimedia',\n",
       " 'headline',\n",
       " 'keywords',\n",
       " 'pub_date',\n",
       " 'document_type',\n",
       " 'news_desk',\n",
       " 'section_name',\n",
       " 'byline',\n",
       " 'type_of_material',\n",
       " '_id',\n",
       " 'word_count',\n",
       " 'uri']"
      ]
     },
     "execution_count": 15,
     "metadata": {},
     "output_type": "execute_result"
    }
   ],
   "source": [
    "metadata_keys"
   ]
  },
  {
   "cell_type": "code",
   "execution_count": 16,
   "metadata": {},
   "outputs": [
    {
     "name": "stdout",
     "output_type": "stream",
     "text": [
      "(THE KEY IS abstract: From the Treaty of Versailles to Prohibition, the events of that year shaped America, and the world, for a century to come. \n",
      "(THE KEY IS web_url: https://www.nytimes.com/2018/12/31/opinion/1919-america.html\n",
      "(THE KEY IS snippet: From the Treaty of Versailles to Prohibition, the events of that year shaped America, and the world, for a century to come. \n",
      "(THE KEY IS lead_paragraph: Throughout 2019, The New York Times Opinion section will publish an occasional series of essays on the ways in which the events of 1919 shaped the following century. \n",
      "(THE KEY IS source: The New York Times\n",
      "(THE KEY IS multimedia: [{'rank': 0, 'subtype': 'xlarge', 'caption': None, 'credit': None, 'type': 'image', 'url': 'images/2019/01/01/opinion/01Widmer1-Sub/01Widmer1-Sub-articleLarge.jpg', 'height': 467, 'width': 600, 'subType': 'xlarge', 'crop_name': 'articleLarge', 'legacy': {'xlarge': 'images/2019/01/01/opinion/01Widmer1-Sub/01Widmer1-Sub-articleLarge.jpg', 'xlargewidth': 600, 'xlargeheight': 467}}, {'rank': 0, 'subtype': 'jumbo', 'caption': None, 'credit': None, 'type': 'image', 'url': 'images/2019/01/01/opinion/01Widmer1-Sub/01Widmer1-Sub-jumbo.jpg', 'height': 797, 'width': 1024, 'subType': 'jumbo', 'crop_name': 'jumbo', 'legacy': {}}, {'rank': 0, 'subtype': 'superJumbo', 'caption': None, 'credit': None, 'type': 'image', 'url': 'images/2019/01/01/opinion/01Widmer1-Sub/01Widmer1-Sub-superJumbo.jpg', 'height': 1594, 'width': 2048, 'subType': 'superJumbo', 'crop_name': 'superJumbo', 'legacy': {}}, {'rank': 0, 'subtype': 'thumbnail', 'caption': None, 'credit': None, 'type': 'image', 'url': 'images/2019/01/01/opinion/01Widmer1-Sub/01Widmer1-Sub-thumbStandard.jpg', 'height': 75, 'width': 75, 'subType': 'thumbnail', 'crop_name': 'thumbStandard', 'legacy': {'thumbnail': 'images/2019/01/01/opinion/01Widmer1-Sub/01Widmer1-Sub-thumbStandard.jpg', 'thumbnailwidth': 75, 'thumbnailheight': 75}}, {'rank': 0, 'subtype': 'thumbLarge', 'caption': None, 'credit': None, 'type': 'image', 'url': 'images/2019/01/01/opinion/01Widmer1-Sub/01Widmer1-Sub-thumbLarge.jpg', 'height': 150, 'width': 150, 'subType': 'thumbLarge', 'crop_name': 'thumbLarge', 'legacy': {}}]\n",
      "(THE KEY IS headline: {'main': '1919: The Year of the Crack-Up', 'kicker': None, 'content_kicker': None, 'print_headline': '', 'name': None, 'seo': None, 'sub': None}\n",
      "(THE KEY IS keywords: [{'name': 'subject', 'value': 'United States Politics and Government', 'rank': 1, 'major': 'N'}, {'name': 'subject', 'value': 'New Year', 'rank': 2, 'major': 'N'}, {'name': 'organizations', 'value': 'League of Nations', 'rank': 3, 'major': 'N'}, {'name': 'persons', 'value': 'Wilson, Woodrow', 'rank': 4, 'major': 'N'}, {'name': 'glocations', 'value': 'Europe', 'rank': 5, 'major': 'N'}]\n",
      "(THE KEY IS pub_date: 2019-01-01T00:00:03+0000\n",
      "(THE KEY IS document_type: article\n",
      "(THE KEY IS news_desk: OpEd\n",
      "(THE KEY IS section_name: Opinion\n",
      "(THE KEY IS byline: {'original': 'By Ted Widmer', 'person': [{'firstname': 'Ted', 'middlename': None, 'lastname': 'Widmer', 'qualifier': None, 'title': None, 'role': 'reported', 'organization': '', 'rank': 1}], 'organization': None}\n",
      "(THE KEY IS type_of_material: Op-Ed\n",
      "(THE KEY IS _id: nyt://article/b205ee80-0859-514e-be2a-b8ecf0cc3b95\n",
      "(THE KEY IS word_count: 2248\n",
      "(THE KEY IS uri: nyt://article/b205ee80-0859-514e-be2a-b8ecf0cc3b95\n",
      "--->\n"
     ]
    }
   ],
   "source": [
    "#entry for 1 (one) nytimes article off the api\n",
    "for doc in docs[:1]:\n",
    "    for key in metadata_keys:\n",
    "        print(f'(THE KEY IS {key}: {doc[key]}')\n",
    "    print(\"--->\")\n",
    "#     print(doc['abstract'])\n",
    "#     print(doc['source'])\n",
    "#     print(doc['news_desk'])\n",
    "\n",
    "    #print(type(doc['pub_date']))"
   ]
  },
  {
   "cell_type": "code",
   "execution_count": 17,
   "metadata": {},
   "outputs": [],
   "source": [
    "url = doc[\"web_url\"]"
   ]
  },
  {
   "cell_type": "code",
   "execution_count": 18,
   "metadata": {},
   "outputs": [
    {
     "data": {
      "text/plain": [
       "'https://www.nytimes.com/2018/12/31/opinion/1919-america.html'"
      ]
     },
     "execution_count": 18,
     "metadata": {},
     "output_type": "execute_result"
    }
   ],
   "source": [
    "url"
   ]
  },
  {
   "cell_type": "code",
   "execution_count": 19,
   "metadata": {},
   "outputs": [],
   "source": [
    "page = requests.get(url)"
   ]
  },
  {
   "cell_type": "code",
   "execution_count": 20,
   "metadata": {},
   "outputs": [
    {
     "data": {
      "text/plain": [
       "<Response [200]>"
      ]
     },
     "execution_count": 20,
     "metadata": {},
     "output_type": "execute_result"
    }
   ],
   "source": [
    "page"
   ]
  },
  {
   "cell_type": "code",
   "execution_count": 21,
   "metadata": {},
   "outputs": [
    {
     "data": {
      "text/plain": [
       "328102"
      ]
     },
     "execution_count": 21,
     "metadata": {},
     "output_type": "execute_result"
    }
   ],
   "source": [
    "len(page.content)"
   ]
  },
  {
   "cell_type": "code",
   "execution_count": 22,
   "metadata": {},
   "outputs": [
    {
     "data": {
      "text/plain": [
       "bytes"
      ]
     },
     "execution_count": 22,
     "metadata": {},
     "output_type": "execute_result"
    }
   ],
   "source": [
    "type(page.content)"
   ]
  },
  {
   "cell_type": "code",
   "execution_count": 23,
   "metadata": {},
   "outputs": [
    {
     "data": {
      "text/plain": [
       "str"
      ]
     },
     "execution_count": 23,
     "metadata": {},
     "output_type": "execute_result"
    }
   ],
   "source": [
    "type(page.text)"
   ]
  },
  {
   "cell_type": "code",
   "execution_count": 24,
   "metadata": {},
   "outputs": [],
   "source": [
    "soup = BeautifulSoup(page.content, 'html.parser')"
   ]
  },
  {
   "cell_type": "code",
   "execution_count": 25,
   "metadata": {},
   "outputs": [
    {
     "data": {
      "text/plain": [
       "3"
      ]
     },
     "execution_count": 25,
     "metadata": {},
     "output_type": "execute_result"
    }
   ],
   "source": [
    "len(soup)"
   ]
  },
  {
   "cell_type": "code",
   "execution_count": 26,
   "metadata": {},
   "outputs": [],
   "source": [
    "soup.prettify();"
   ]
  },
  {
   "cell_type": "code",
   "execution_count": 27,
   "metadata": {},
   "outputs": [],
   "source": [
    "article_name_test = soup.title.text"
   ]
  },
  {
   "cell_type": "code",
   "execution_count": 28,
   "metadata": {},
   "outputs": [
    {
     "data": {
      "text/plain": [
       "'Opinion | 1919: The Year of the Crack-Up - The New York Times'"
      ]
     },
     "execution_count": 28,
     "metadata": {},
     "output_type": "execute_result"
    }
   ],
   "source": [
    "article_name_test"
   ]
  },
  {
   "cell_type": "code",
   "execution_count": 29,
   "metadata": {},
   "outputs": [],
   "source": [
    "article_name_string= soup.title.string"
   ]
  },
  {
   "cell_type": "code",
   "execution_count": 30,
   "metadata": {},
   "outputs": [],
   "source": [
    "#got text from all paragraphs\n",
    "paragraph_list = []\n",
    "for par in (soup.find_all(\"p\")):\n",
    "    paragraph_list.append(par.text)"
   ]
  },
  {
   "cell_type": "code",
   "execution_count": 31,
   "metadata": {},
   "outputs": [
    {
     "data": {
      "text/plain": [
       "[<p>Advertisement</p>,\n",
       " <p>Supported by</p>,\n",
       " <p class=\"css-1smgwul e1wiw3jv0\" id=\"article-summary\">From the Treaty of Versailles to Prohibition, the events of that year shaped America, and the world, for a century to come. </p>,\n",
       " <p class=\"css-1nuro5j e1jsehar1\" itemprop=\"author\" itemscope=\"\" itemtype=\"http://schema.org/Person\">By<!-- --> <span class=\"css-1baulvz last-byline\" itemprop=\"name\">Ted Widmer</span></p>,\n",
       " <p class=\"css-qckjh9 e1wtpvyy0\">Mr. Widmer is a distinguished lecturer at the Macaulay Honors College of the City University of New York.</p>,\n",
       " <p class=\"css-158dogj evys1bk0\"><em class=\"css-2fg4z9 e1gzwzxm0\">Throughout 2019, The New York Times Opinion section will publish an occasional series of essays on the ways in which the events of 1919 shaped the following century. </em></p>,\n",
       " <p class=\"css-158dogj evys1bk0\">In his essay “The Crack-Up,” F. Scott Fitzgerald wrote, “The test of a first-rate intelligence is the ability to hold two opposed ideas in the mind at the same time, and still retain the ability to function.”</p>,\n",
       " <p class=\"css-158dogj evys1bk0\">On New Year’s Day 1919, the headlines in <a class=\"css-1g7m0tk\" href=\"https://timesmachine.nytimes.com/timesmachine/1919/01/01/issue.html\" title=\"\">The New York Times</a> gave a hint of how difficult that would be for Americans, struggling to live up to the shimmering promises they had made to the world during the Great War, which had ended just over a month before.</p>,\n",
       " <p class=\"css-158dogj evys1bk0\">Poles, newly independent but already threatened by their neighbors, were calling on Americans to protect them. Other countries, like Ireland, were on the cusp of independence, but asking for help. A bewildering set of new responsibilities was settling upon a country that had long cherished its freedom from the Old World.</p>,\n",
       " <p class=\"css-158dogj evys1bk0\">Overwhelmingly, Americans longed to get their old lives back. But there was no clear road map to “normalcy,” to use a word that began to gain traction in the chaos of the postwar years. Grammarians faulted it as a clumsy neologism, but that only made it more popular. A rakish Ohio senator, Warren Harding, would eventually ride it all the way to the White House. In a crackly old recording, <a class=\"css-1g7m0tk\" href=\"https://millercenter.org/the-presidency/presidential-speeches/august-28-1920-america\" rel=\"noopener noreferrer\" target=\"_blank\" title=\"\">he can be heard promising</a>, vaguely, to make America great again. <a class=\"css-1g7m0tk\" href=\"https://www.politico.com/magazine/story/2015/08/warren-harding-child-sex-sandal-121404\" rel=\"noopener noreferrer\" target=\"_blank\" title=\"\">It didn’t work out well</a>.</p>,\n",
       " <p class=\"css-158dogj evys1bk0\">There were reasons to believe lofty promises as 1919 was beginning. With peace, everything felt new again. That was certainly true in the geopolitical realm, as negotiators convened in Paris, eager to redraw the world map. It was difficult to know where to begin. The German, Austrian and Ottoman empires were now part of the ash heap of history, in the memorable phrase of Leon Trotsky. His country, Russia, had not disappeared, but it was undergoing a transformation so profound that it was destabilizing half of Europe. Overseas, territories belonging to the belligerents were being exchanged like carpets at a second-hand bazaar. A century later, from the Middle East to Africa, the world is still struggling with the decisions made hastily in 1919.</p>,\n",
       " <p class=\"css-158dogj evys1bk0\">But if anyone could solve these nasty problems, Americans could. To a beleaguered world, they seemed almost superhuman. Despite their late entry into the war, they had shaped the conflict decisively with their manpower, their matériel and their chirpy marketing. “Democracy” was the word of the hour, an elixir for all problems, according to President Woodrow Wilson, who intoned it with impressive solemnity.</p>,\n",
       " <p class=\"css-158dogj evys1bk0\">For a time, the world believed it. As he headed to Paris, for what was the longest overseas trip of a president, he was lionized as few leaders have ever been. Film footage captures the odd contrast of his quiet oceanic passage, followed by the euphoria of the crowds in France, who hoped he would solve all of their problems. That was a tall order.</p>,\n",
       " <p class=\"css-158dogj evys1bk0\">We still live close to that grainy footage, inside the world that emerged from Versailles and its Hall of Mirrors. German resentment of the harsh conditions imposed fueled the rise of Adolf Hitler, who, like many, found his political voice in 1919. Historians would later trace the origins of World War II to the treaty’s shortcomings, and the swirling nationalisms that it failed to calm. President Wilson promised to build a world “safe for democracy,” but the result was neither safe nor, in many cases, democratic. A British politician whose career barely survived the war, Winston Churchill, saw it more clearly as a “crippled, broken world,” divided along fault lines that had never been obliterated.</p>,\n",
       " <p class=\"css-158dogj evys1bk0\">Large parts of the British, French and Belgian empires remained intact, to the distress of millions hoping for democracies of their own. Inspired by the winds of change, independence movements sprang up around the world. Some were successful, but for many others, self-determination, another one of Wilson’s ringing phrases, was elusive at best. Weary European diplomats chafed at his moralistic speeches, which they scorned as “sermonettes.” The president of France, Georges Clemenceau, complained that “talking to Wilson was something like conversing with Jesus Christ!” Wilson would surely have seconded the thought.</p>,\n",
       " <p class=\"css-158dogj evys1bk0\">Still, there were pockets of realism within the idealism of a politician who, for all his blind spots, understood that the world could not continue as before. Wilson has long been criticized for his failures, but he was correct in his grasp of a core truth, still relevant, that a lazy return to unbridled nationalism was a recipe for conflict. Like most presidents, he did not relish consulting with Congress, a misreading of democracy that boomeranged on him, as a newly elected Republican majority refused to approve his plan for a League of Nations.</p>,\n",
       " <p class=\"css-158dogj evys1bk0\">Desperate to outflank them, he tried to take his case directly to the people, with boisterous rallies, far from East Coast elites — another way in which 2019 mirrors 1919. The strain of that effort <a class=\"css-1g7m0tk\" href=\"https://www.youtube.com/watch?v=mdJwRfKMWzs\" rel=\"noopener noreferrer\" target=\"_blank\" title=\"\">resulted in a stroke</a>, which nearly incapacitated Wilson for the last year of his presidency. Democracy’s great spokesman had imperiled the very system of government that he went to such lengths to defend. His crack-up was one of many in 1919.</p>,\n",
       " <p class=\"css-158dogj evys1bk0\">To young writers like Fitzgerald, who received his first book contract in 1919, it was obvious that the old words were not working and new ones needed to be found. Some writers simply invented their own — James Joyce was constantly writing new ones in his scribbledehobble, or notebook.</p>,\n",
       " <p class=\"css-158dogj evys1bk0\">Others lamented what had vanished, while dreading what was to come next. “Many ingenious lovely things are gone,” William Butler Yeats wrote, in a poem titled “<a class=\"css-1g7m0tk\" href=\"https://www.csun.edu/~hceng029/yeats/yeatspoems/NineteenNinete\" rel=\"noopener noreferrer\" target=\"_blank\" title=\"\">Nineteen hundred and Nineteen</a>.” Less than five years had elapsed since the war started in 1914, but everything felt different. To Yeats, the new sights and sounds were terrifying: In one of his most famous poems, “<a class=\"css-1g7m0tk\" href=\"https://www.poetryfoundation.org/poems/43290/the-second-coming\" rel=\"noopener noreferrer\" target=\"_blank\" title=\"\">The Second Coming</a>,” he imagined an apocalypse populated by fantastic beasts that would give J.K. Rowling a run for her money. Despite its gloom, it has become one of the most <a class=\"css-1g7m0tk\" href=\"https://www.theparisreview.org/blog/2015/04/07/no-slouch/\" rel=\"noopener noreferrer\" target=\"_blank\" title=\"\">over-quoted poems in history</a>.</p>,\n",
       " <p class=\"css-158dogj evys1bk0\">But for millions of others, the sights and sounds of 1919 were glorious. The waging of the war had released a galvanic energy from Americans, who attacked the problem of victory with stunning efficiency. That included tremendous contributions from immigrants, women and African-Americans, who were raucously celebrated in victory parades upon return. One parade in New York feted the famous Harlem Hellfighters regiment, marching behind a spirited band playing a kind of music most Americans had never heard, soon to be known as jazz.</p>,\n",
       " <p class=\"css-158dogj evys1bk0\">One of the hottest songs of 1919 was a novelty hit, “<a class=\"css-1g7m0tk\" href=\"https://www.youtube.com/watch?v=VYflT3h6lCQ\" rel=\"noopener noreferrer\" target=\"_blank\" title=\"\">How Ya Gonna Keep ’Em Down on the Farm (After They’ve Seen Paree)?</a>” It was a fair question for a country that was not going to return easily to prewar attitudes about race and citizenship. The return of the doughboys brought an exuberant close to the war effort, but also exacerbated tensions over who was entitled to democracy and self-determination, those pesky phrases that Woodrow Wilson kept repeating.</p>,\n",
       " <p class=\"css-158dogj evys1bk0\">Throughout 1919, that was another way in which Americans seemed to hold two opposing thoughts at the same time. Large numbers of African-Americans chose their own form of self-determination by moving out of the South, toward Northern cities, the Midwest and the West Coast, a demographic change that altered America forever. But even after the move, many found democracy a daily challenge.</p>,\n",
       " <p class=\"css-158dogj evys1bk0\">That year in the South, two children born near each other, on either side of the Alabama-Georgia line, revealed how quickly the country was changing. Jackie Robinson grew up in a new kind of America, thanks to his mother, who moved with him to California. George Wallace spent most of life trying to hold back the tide of change that Robinson’s generation helped unleash.</p>,\n",
       " <p class=\"css-158dogj evys1bk0\">Throughout a long year, these tensions simmered just below America’s gleaming surfaces. An ugly race riot in Chicago took the lives of 38 people in late July. Other anxieties targeted immigrants, who found Americans less welcoming than the statue that greeted them in New York Harbor. To defenders of the old order, America had done her part, and there was no need to open the floodgates. But to many others, seeking a broader form of democracy, Wilson’s rhetoric seemed to describe a country that existed more vividly in his imagination than reality.</p>,\n",
       " <p class=\"css-158dogj evys1bk0\">Torn in these two directions, the world’s wealthiest country seemed headed to its own form of a crack-up. Throughout 1919, waves of fear paralyzed Americans, as they reeled from a deadly influenza epidemic at the start of the year, then a campaign of letter bombs sent by anarchists in the spring. A vigorous government response led to the creation of the F.B.I. and a series of raids conducted by an overzealous attorney general, A. Mitchell Palmer. These “Palmer Raids” awakened fears of a police state and once again revealed how difficult democracy could be. A retaliatory bomb, directed at Palmer, exploded outside his house in Washington, nearly killing his neighbor, Franklin Roosevelt. When Roosevelt gave the speech that named the New Deal, 13 years later, he remembered Wilson who, for all of his failings, had ushered Americans into a new era.</p>,\n",
       " <p class=\"css-158dogj evys1bk0\">A long century has elapsed, but the contradictions of 1919 still bear scrutiny. The old fault lines seem closer to the surface than they did in Roosevelt’s day, when Americans were largely united behind the great efforts to end poverty and crush fascism.</p>,\n",
       " <p class=\"css-158dogj evys1bk0\">A hundred years ago, it was possible to look at the same country and see two very different versions of America. To be sure, this was a thriving nation of immigrants, innovating at a dizzying rate, with bustling cities that were the envy of the world. It was also a quieter country, dominated by its farmers and small towns, politically and socially conservative, and dismayed by the excesses of what would soon be known as the Jazz Age. Prohibition was another achievement — for what it’s worth — of 1919.</p>,\n",
       " <p class=\"css-158dogj evys1bk0\">Neither side had a monopoly on virtue, as events would prove. Urban and rural America produced an equal share of political rascals. And rascality, in various guises, was another feature of life, as new forms of entertainment began to dominate attention, demanding villains and heroes in equal measure. In many cases, the war had accelerated this trend, advancing research in radio communication and using newsreels to mobilize support for the military effort. Soon, mass communication was affecting all Americans, rural and urban alike. Huge new movie palaces were built — the Capitol, in New York, could seat 4,000 — and Hollywood continued to grow apace, a new kind of dream factory, built around studios and stars.</p>,\n",
       " <p class=\"css-158dogj evys1bk0\">Sports was a big business as well — in one case, a bit too big, <!-- -->as mobsters were able to alter the outcome of the 1919 World Series. <!-- -->Money affected fans in other ways, too — when the owner of the Boston Red Sox traded Babe Ruth to the New York Yankees at the end of the year, <!-- -->he <!-- -->invoked a curse on his team, which would not win another World Series until 2004.</p>,\n",
       " <p class=\"css-158dogj evys1bk0\">The rural-urban divide was moderated in another way. Sales of automobiles nearly doubled in 1919, as Americans happily returned to their leisure pursuits and expanded their horizons in every sense. <a class=\"css-1g7m0tk\" href=\"https://www.youtube.com/watch?v=XC_yEt711JE\" rel=\"noopener noreferrer\" target=\"_blank\" title=\"\">One eager driver</a> was able to coax his vehicle to 120 miles an hour — in Brooklyn! </p>,\n",
       " <p class=\"css-158dogj evys1bk0\">Fortunately, no crackups resulted. </p>,\n",
       " <p class=\"css-158dogj evys1bk0\">Soon cars were changing everything. New suburban rings bloomed around cities, joining the urban and the rural to create something that was not quite either. An accidental <a class=\"css-1g7m0tk\" href=\"https://theconversation.com/how-world-war-i-ushered-in-the-century-of-oil-74585\" rel=\"noopener noreferrer\" target=\"_blank\" title=\"\">effect of the war</a> was a significant boost in oil production, as a result of a heavy emphasis on machines like tanks and airplanes that used internal combustion engines. Americans were quick to corral these markets, just as they embraced the automobile like no one else. But prewar experimentation in steam-powered and electric vehicles waned as a result. </p>,\n",
       " <p class=\"css-158dogj evys1bk0\">To better support this all-important vehicle, thousands of miles of highway were built, and that too changed the country forever. To promote the idea of interstate travel, a military convoy left Washington for California in July 1919. The New York Times called it “the largest aggregation of motor vehicles ever started on a trip of such length.”</p>,\n",
       " <p class=\"css-158dogj evys1bk0\">But the convoy <a class=\"css-1g7m0tk\" href=\"https://www.atlasobscura.com/articles/in-1919-dwight-d-eisenhower-suffered-through-historys-worst-cross-country-road-trip\" rel=\"noopener noreferrer\" target=\"_blank\" title=\"\">broke down repeatedly</a>, and took 62 days to reach its destination. It averaged just six miles an hour, and almost didn’t make it out of Utah. As it turned out, there were almost no paved roads between Illinois and Nevada. Decades later, the officer who led the convoy, Dwight D. Eisenhower, would push for a national highway system as president. Even with a well-publicized divide between red and blue states, we can generally reach each other when we need to, and that is another unexpected result of a pivotal year.</p>,\n",
       " <p class=\"css-158dogj evys1bk0\">In his overquoted poem from 1919, Yeats wrote “things fall apart, the center cannot hold.” Those words often ring true today, in another divided moment. But one of the comforts of history is seeing how wrong the earlier prognosticators of doom could be. By studying the ways in which we failed to fall apart, perhaps we can glean a small harvest of hope for the year ahead.</p>,\n",
       " <p class=\"css-pncxxs etfikam0\">Ted Widmer is a distinguished lecturer at the Macaulay Honors College of the City University of New York and a senior fellow of the Carnegie Council for Ethics in International Affairs.</p>,\n",
       " <p class=\"css-pncxxs etfikam0\"><em class=\"css-2fg4z9 e1gzwzxm0\">Follow The New York Times Opinion section on </em><a class=\"css-1g7m0tk\" href=\"https://www.facebook.com/nytopinion\" rel=\"noopener noreferrer\" target=\"_blank\" title=\"\"><em class=\"css-2fg4z9 e1gzwzxm0\">Facebook</em></a><em class=\"css-2fg4z9 e1gzwzxm0\">, </em><a class=\"css-1g7m0tk\" href=\"http://twitter.com/NYTOpinion\" rel=\"noopener noreferrer\" target=\"_blank\" title=\"\"><em class=\"css-2fg4z9 e1gzwzxm0\">Twitter (@NYTopinion)</em></a><em class=\"css-2fg4z9 e1gzwzxm0\"> and </em><a class=\"css-1g7m0tk\" href=\"https://www.instagram.com/nytopinion/\" rel=\"noopener noreferrer\" target=\"_blank\" title=\"\"><em class=\"css-2fg4z9 e1gzwzxm0\">Instagram</em></a><em class=\"css-2fg4z9 e1gzwzxm0\">.</em></p>,\n",
       " <p>Advertisement</p>]"
      ]
     },
     "execution_count": 31,
     "metadata": {},
     "output_type": "execute_result"
    }
   ],
   "source": [
    "soup.find_all(\"p\")"
   ]
  },
  {
   "cell_type": "markdown",
   "metadata": {},
   "source": [
    "# text of webpage\n",
    "\n",
    "### look back at this paragraph list. should I take out strings as formatted here as stop words?\n",
    "\n",
    "### highest accuracry of replacement the closer the words are to the source. "
   ]
  },
  {
   "cell_type": "code",
   "execution_count": 32,
   "metadata": {},
   "outputs": [],
   "source": [
    "paragraph_list;"
   ]
  },
  {
   "cell_type": "markdown",
   "metadata": {},
   "source": [
    "# metadata for df"
   ]
  },
  {
   "cell_type": "code",
   "execution_count": 33,
   "metadata": {},
   "outputs": [
    {
     "data": {
      "text/plain": [
       "['abstract',\n",
       " 'web_url',\n",
       " 'snippet',\n",
       " 'lead_paragraph',\n",
       " 'source',\n",
       " 'multimedia',\n",
       " 'headline',\n",
       " 'keywords',\n",
       " 'pub_date',\n",
       " 'document_type',\n",
       " 'news_desk',\n",
       " 'section_name',\n",
       " 'byline',\n",
       " 'type_of_material',\n",
       " '_id',\n",
       " 'word_count',\n",
       " 'uri']"
      ]
     },
     "execution_count": 33,
     "metadata": {},
     "output_type": "execute_result"
    }
   ],
   "source": [
    "metadata_keys"
   ]
  },
  {
   "cell_type": "code",
   "execution_count": 34,
   "metadata": {},
   "outputs": [],
   "source": [
    "metadata = []\n",
    "for key in metadata_keys:\n",
    "    metadata.append(doc[key])\n",
    "#     print(f'{key}--> {doc[key]}')\n",
    "#     print('\\n')"
   ]
  },
  {
   "cell_type": "code",
   "execution_count": 35,
   "metadata": {},
   "outputs": [
    {
     "data": {
      "text/plain": [
       "17"
      ]
     },
     "execution_count": 35,
     "metadata": {},
     "output_type": "execute_result"
    }
   ],
   "source": [
    "len(metadata)"
   ]
  },
  {
   "cell_type": "code",
   "execution_count": 36,
   "metadata": {},
   "outputs": [],
   "source": [
    "# class pandas.DataFrame(data=None, index=None, columns=None, dtype=None, copy=False)\n",
    "# class pandas.Series(data=None, index=None, dtype=None, name=None, copy=False, fastpath=False)[source]"
   ]
  },
  {
   "cell_type": "code",
   "execution_count": 37,
   "metadata": {},
   "outputs": [],
   "source": [
    "ser = pd.Series(data=metadata, index=metadata_keys)"
   ]
  },
  {
   "cell_type": "code",
   "execution_count": 38,
   "metadata": {},
   "outputs": [
    {
     "data": {
      "text/plain": [
       "abstract            From the Treaty of Versailles to Prohibition, ...\n",
       "web_url             https://www.nytimes.com/2018/12/31/opinion/191...\n",
       "snippet             From the Treaty of Versailles to Prohibition, ...\n",
       "lead_paragraph      Throughout 2019, The New York Times Opinion se...\n",
       "source                                             The New York Times\n",
       "multimedia          [{'rank': 0, 'subtype': 'xlarge', 'caption': N...\n",
       "headline            {'main': '1919: The Year of the Crack-Up', 'ki...\n",
       "keywords            [{'name': 'subject', 'value': 'United States P...\n",
       "pub_date                                     2019-01-01T00:00:03+0000\n",
       "document_type                                                 article\n",
       "news_desk                                                        OpEd\n",
       "section_name                                                  Opinion\n",
       "byline              {'original': 'By Ted Widmer', 'person': [{'fir...\n",
       "type_of_material                                                Op-Ed\n",
       "_id                 nyt://article/b205ee80-0859-514e-be2a-b8ecf0cc...\n",
       "word_count                                                       2248\n",
       "uri                 nyt://article/b205ee80-0859-514e-be2a-b8ecf0cc...\n",
       "dtype: object"
      ]
     },
     "execution_count": 38,
     "metadata": {},
     "output_type": "execute_result"
    }
   ],
   "source": [
    "ser"
   ]
  },
  {
   "cell_type": "markdown",
   "metadata": {},
   "source": [
    "# series of metadata for 1 (one) article."
   ]
  },
  {
   "cell_type": "code",
   "execution_count": 39,
   "metadata": {},
   "outputs": [],
   "source": [
    "ser['paragraph_list'] = paragraph_list"
   ]
  },
  {
   "cell_type": "code",
   "execution_count": 40,
   "metadata": {},
   "outputs": [
    {
     "data": {
      "text/plain": [
       "abstract            From the Treaty of Versailles to Prohibition, ...\n",
       "web_url             https://www.nytimes.com/2018/12/31/opinion/191...\n",
       "snippet             From the Treaty of Versailles to Prohibition, ...\n",
       "lead_paragraph      Throughout 2019, The New York Times Opinion se...\n",
       "source                                             The New York Times\n",
       "multimedia          [{'rank': 0, 'subtype': 'xlarge', 'caption': N...\n",
       "headline            {'main': '1919: The Year of the Crack-Up', 'ki...\n",
       "keywords            [{'name': 'subject', 'value': 'United States P...\n",
       "pub_date                                     2019-01-01T00:00:03+0000\n",
       "document_type                                                 article\n",
       "news_desk                                                        OpEd\n",
       "section_name                                                  Opinion\n",
       "byline              {'original': 'By Ted Widmer', 'person': [{'fir...\n",
       "type_of_material                                                Op-Ed\n",
       "_id                 nyt://article/b205ee80-0859-514e-be2a-b8ecf0cc...\n",
       "word_count                                                       2248\n",
       "uri                 nyt://article/b205ee80-0859-514e-be2a-b8ecf0cc...\n",
       "paragraph_list      [Advertisement, Supported by, From the Treaty ...\n",
       "dtype: object"
      ]
     },
     "execution_count": 40,
     "metadata": {},
     "output_type": "execute_result"
    }
   ],
   "source": [
    "ser"
   ]
  },
  {
   "cell_type": "markdown",
   "metadata": {},
   "source": [
    "# series of metadata + data for 1 (one) article"
   ]
  },
  {
   "cell_type": "markdown",
   "metadata": {},
   "source": [
    "# functions"
   ]
  },
  {
   "cell_type": "code",
   "execution_count": 41,
   "metadata": {},
   "outputs": [],
   "source": [
    "sample_5 = docs[:5]"
   ]
  },
  {
   "cell_type": "code",
   "execution_count": 42,
   "metadata": {},
   "outputs": [],
   "source": [
    "def get_metadata_key(doc):\n",
    "    metadata_keys = []\n",
    "    for key in doc.keys():\n",
    "        metadata_keys.append(key)\n",
    "    return metadata_keys"
   ]
  },
  {
   "cell_type": "code",
   "execution_count": 43,
   "metadata": {},
   "outputs": [
    {
     "name": "stdout",
     "output_type": "stream",
     "text": [
      "['abstract', 'web_url', 'snippet', 'lead_paragraph', 'source', 'multimedia', 'headline', 'keywords', 'pub_date', 'document_type', 'news_desk', 'section_name', 'byline', 'type_of_material', '_id', 'word_count', 'uri']\n",
      "['abstract', 'web_url', 'snippet', 'lead_paragraph', 'print_section', 'print_page', 'source', 'multimedia', 'headline', 'keywords', 'pub_date', 'document_type', 'news_desk', 'section_name', 'byline', 'type_of_material', '_id', 'word_count', 'uri']\n",
      "['abstract', 'web_url', 'snippet', 'lead_paragraph', 'print_section', 'print_page', 'source', 'multimedia', 'headline', 'keywords', 'pub_date', 'document_type', 'news_desk', 'section_name', 'byline', 'type_of_material', '_id', 'word_count', 'uri']\n",
      "['abstract', 'web_url', 'snippet', 'lead_paragraph', 'print_section', 'print_page', 'source', 'multimedia', 'headline', 'keywords', 'pub_date', 'document_type', 'news_desk', 'section_name', 'byline', 'type_of_material', '_id', 'word_count', 'uri']\n",
      "['abstract', 'web_url', 'snippet', 'lead_paragraph', 'print_section', 'print_page', 'source', 'multimedia', 'headline', 'keywords', 'pub_date', 'document_type', 'news_desk', 'section_name', 'byline', 'type_of_material', '_id', 'word_count', 'uri']\n"
     ]
    }
   ],
   "source": [
    "for doc in sample_5:\n",
    "    print(get_metadata_key(doc))"
   ]
  },
  {
   "cell_type": "code",
   "execution_count": 44,
   "metadata": {},
   "outputs": [],
   "source": [
    "def build_metedata_ser(docs):\n",
    "    list_of_series = []\n",
    "    max_columns = []\n",
    "    \n",
    "    for doc in docs:\n",
    "        metadata = []\n",
    "        metadata_keys = []\n",
    "        \n",
    "        for key in doc.keys():\n",
    "            metadata_keys.append(key)\n",
    "            metadata.append(doc[key])\n",
    "            metadata_ser = pd.Series(data=metadata, index=metadata_keys)\n",
    "        list_of_series.append(metadata_ser)\n",
    "        \n",
    "    return pd.DataFrame(data=list_of_series)"
   ]
  },
  {
   "cell_type": "code",
   "execution_count": 45,
   "metadata": {
    "scrolled": false
   },
   "outputs": [],
   "source": [
    "metadatadf_1_2019 = build_metedata_ser(docs)"
   ]
  },
  {
   "cell_type": "code",
   "execution_count": null,
   "metadata": {},
   "outputs": [],
   "source": []
  },
  {
   "cell_type": "code",
   "execution_count": 46,
   "metadata": {},
   "outputs": [
    {
     "ename": "SyntaxError",
     "evalue": "invalid syntax (<ipython-input-46-cc7887daa08c>, line 3)",
     "output_type": "error",
     "traceback": [
      "\u001b[0;36m  File \u001b[0;32m\"<ipython-input-46-cc7887daa08c>\"\u001b[0;36m, line \u001b[0;32m3\u001b[0m\n\u001b[0;31m    for url in lst\u001b[0m\n\u001b[0m                  ^\u001b[0m\n\u001b[0;31mSyntaxError\u001b[0m\u001b[0;31m:\u001b[0m invalid syntax\n"
     ]
    }
   ],
   "source": [
    "def url_pdseries(lst):\n",
    "    \n",
    "    for url in lst\n",
    "        page = requests.get(str(url))\n",
    "        soup = BeautifulSoup(page.content, 'html.parser')\n",
    "\n",
    "        #got text from all paragraphs\n",
    "        paragraph_list = []\n",
    "        for par in (soup.find_all(\"p\")):\n",
    "            paragraph_list.append(par.text)\n",
    "            time.sleep(2)\n",
    "            \n",
    "    return paragraph_list \n",
    "    "
   ]
  },
  {
   "cell_type": "code",
   "execution_count": 50,
   "metadata": {},
   "outputs": [],
   "source": [
    "colums2drop = ['multimedia']"
   ]
  },
  {
   "cell_type": "code",
   "execution_count": 51,
   "metadata": {},
   "outputs": [
    {
     "data": {
      "text/plain": [
       "Index(['abstract', 'web_url', 'snippet', 'lead_paragraph', 'source',\n",
       "       'multimedia', 'headline', 'keywords', 'pub_date', 'document_type',\n",
       "       'news_desk', 'section_name', 'byline', 'type_of_material', '_id',\n",
       "       'word_count', 'uri', 'print_section', 'print_page', 'subsection_name'],\n",
       "      dtype='object')"
      ]
     },
     "execution_count": 51,
     "metadata": {},
     "output_type": "execute_result"
    }
   ],
   "source": [
    "metadatadf_1_2019.columns"
   ]
  },
  {
   "cell_type": "code",
   "execution_count": 57,
   "metadata": {},
   "outputs": [],
   "source": [
    "#columns [section_name and subsections_name] are lelated"
   ]
  },
  {
   "cell_type": "code",
   "execution_count": null,
   "metadata": {},
   "outputs": [],
   "source": []
  },
  {
   "cell_type": "code",
   "execution_count": null,
   "metadata": {},
   "outputs": [],
   "source": []
  },
  {
   "cell_type": "code",
   "execution_count": null,
   "metadata": {},
   "outputs": [],
   "source": []
  },
  {
   "cell_type": "code",
   "execution_count": null,
   "metadata": {},
   "outputs": [],
   "source": []
  },
  {
   "cell_type": "markdown",
   "metadata": {},
   "source": [
    "# GROUPBY \"TYPE OF MATERIAL\""
   ]
  },
  {
   "cell_type": "code",
   "execution_count": 63,
   "metadata": {},
   "outputs": [],
   "source": [
    "tom = metadatadf_1_2019.groupby('type_of_material')"
   ]
  },
  {
   "cell_type": "code",
   "execution_count": 64,
   "metadata": {},
   "outputs": [],
   "source": [
    "dict_keys = tom.groups.keys()"
   ]
  },
  {
   "cell_type": "code",
   "execution_count": 65,
   "metadata": {},
   "outputs": [
    {
     "data": {
      "text/plain": [
       "dict_keys(['', 'An Appraisal', 'Biography', 'Correction', 'Editorial', 'Interactive Feature', 'Interview', 'Letter', 'List', 'News', 'News Analysis', 'Newsletter', 'Obituary (Obit)', 'Op-Ed', 'Question', 'Quote', 'Review', 'Schedule', 'Slideshow', 'Text', 'Video', 'briefing'])"
      ]
     },
     "execution_count": 65,
     "metadata": {},
     "output_type": "execute_result"
    }
   ],
   "source": [
    "dict_keys"
   ]
  },
  {
   "cell_type": "code",
   "execution_count": 94,
   "metadata": {},
   "outputs": [
    {
     "name": "stdout",
     "output_type": "stream",
     "text": [
      "-->  1\n",
      "An Appraisal-->  3\n",
      "Biography-->  3\n",
      "Correction-->  30\n",
      "Editorial-->  43\n",
      "Interactive Feature-->  78\n",
      "Interview-->  1\n",
      "Letter-->  116\n",
      "List-->  14\n",
      "News-->  3134\n",
      "News Analysis-->  26\n",
      "Newsletter-->  2\n",
      "Obituary (Obit)-->  120\n",
      "Op-Ed-->  340\n",
      "Question-->  3\n",
      "Quote-->  28\n",
      "Review-->  219\n",
      "Schedule-->  29\n",
      "Slideshow-->  103\n",
      "Text-->  2\n",
      "Video-->  50\n",
      "briefing-->  137\n"
     ]
    }
   ],
   "source": [
    "for key in tom.groups.keys():\n",
    "    print(f'{key}-->  {len(tom.groups[key])}')"
   ]
  },
  {
   "cell_type": "code",
   "execution_count": 95,
   "metadata": {},
   "outputs": [],
   "source": [
    "# \"News\" has 3134 articles. Op-Ed 340. Editorial are article written by the editorial board."
   ]
  },
  {
   "cell_type": "code",
   "execution_count": 98,
   "metadata": {},
   "outputs": [],
   "source": [
    "news = tom.groups['News']\n",
    "op_ed = tom.groups['Op-Ed']"
   ]
  },
  {
   "cell_type": "code",
   "execution_count": 102,
   "metadata": {},
   "outputs": [
    {
     "name": "stdout",
     "output_type": "stream",
     "text": [
      "3134\n",
      "340\n"
     ]
    }
   ],
   "source": [
    "print((news))\n",
    "print((op_ed))"
   ]
  },
  {
   "cell_type": "code",
   "execution_count": 99,
   "metadata": {},
   "outputs": [],
   "source": [
    "dflist = []\n",
    "for key in dict_keys:\n",
    "    for index in tom.groups[key][:5]:\n",
    "        dflist.append(metadatadf_1_2019.iloc[index])\n",
    "        df = pd.DataFrame(dflist)"
   ]
  },
  {
   "cell_type": "code",
   "execution_count": 132,
   "metadata": {
    "scrolled": false
   },
   "outputs": [
    {
     "data": {
      "text/plain": [
       "0                 Op-Ed\n",
       "1                 Op-Ed\n",
       "2       Obituary (Obit)\n",
       "3                 Op-Ed\n",
       "4                 Op-Ed\n",
       "             ...       \n",
       "4477               News\n",
       "4478               News\n",
       "4479    Obituary (Obit)\n",
       "4480               News\n",
       "4481              Op-Ed\n",
       "Name: type_of_material, Length: 4482, dtype: object"
      ]
     },
     "execution_count": 132,
     "metadata": {},
     "output_type": "execute_result"
    }
   ],
   "source": [
    "metadatadf_1_2019['type_of_material']"
   ]
  },
  {
   "cell_type": "code",
   "execution_count": 133,
   "metadata": {},
   "outputs": [],
   "source": [
    "op_eddf = metadatadf_1_2019.iloc[op_ed]\n",
    "newsdf = metadatadf_1_2019.iloc[news]\n",
    "# newsopeddf = op_eddf.concat(newsdf)"
   ]
  },
  {
   "cell_type": "code",
   "execution_count": 134,
   "metadata": {},
   "outputs": [],
   "source": [
    "op_eddfURL = op_eddf['web_url']"
   ]
  },
  {
   "cell_type": "code",
   "execution_count": 137,
   "metadata": {},
   "outputs": [],
   "source": [
    "op_eddfURL = op_eddfURL[:5]"
   ]
  },
  {
   "cell_type": "code",
   "execution_count": 139,
   "metadata": {},
   "outputs": [],
   "source": [
    "def url_pdseries(lst):\n",
    "    \n",
    "    for url in lst:\n",
    "        page = requests.get(str(url))\n",
    "        soup = BeautifulSoup(page.content, 'html.parser')\n",
    "\n",
    "        #got text from all paragraphs\n",
    "        paragraph_list = []\n",
    "        for par in (soup.find_all(\"p\")):\n",
    "            paragraph_list.append(par.text)\n",
    "#             time.sleep(1)\n",
    "            \n",
    "    return paragraph_list "
   ]
  },
  {
   "cell_type": "code",
   "execution_count": 141,
   "metadata": {},
   "outputs": [
    {
     "name": "stderr",
     "output_type": "stream",
     "text": [
      "/Users/djbetts/opt/anaconda3/lib/python3.7/site-packages/ipykernel_launcher.py:1: SettingWithCopyWarning: \n",
      "A value is trying to be set on a copy of a slice from a DataFrame.\n",
      "Try using .loc[row_indexer,col_indexer] = value instead\n",
      "\n",
      "See the caveats in the documentation: https://pandas.pydata.org/pandas-docs/stable/user_guide/indexing.html#returning-a-view-versus-a-copy\n",
      "  \"\"\"Entry point for launching an IPython kernel.\n"
     ]
    }
   ],
   "source": [
    "op_eddf['paragraph_list'] = lambda x: x.apply(url_pdseries(op_eddfURL))"
   ]
  },
  {
   "cell_type": "code",
   "execution_count": null,
   "metadata": {},
   "outputs": [],
   "source": [
    "op_eddf.head()"
   ]
  },
  {
   "cell_type": "code",
   "execution_count": null,
   "metadata": {},
   "outputs": [],
   "source": [
    "ser['paragraph_list'] = paragraph_list"
   ]
  },
  {
   "cell_type": "code",
   "execution_count": null,
   "metadata": {},
   "outputs": [],
   "source": []
  },
  {
   "cell_type": "code",
   "execution_count": null,
   "metadata": {},
   "outputs": [],
   "source": []
  },
  {
   "cell_type": "code",
   "execution_count": null,
   "metadata": {},
   "outputs": [],
   "source": []
  },
  {
   "cell_type": "code",
   "execution_count": 121,
   "metadata": {},
   "outputs": [
    {
     "data": {
      "text/html": [
       "<div>\n",
       "<style scoped>\n",
       "    .dataframe tbody tr th:only-of-type {\n",
       "        vertical-align: middle;\n",
       "    }\n",
       "\n",
       "    .dataframe tbody tr th {\n",
       "        vertical-align: top;\n",
       "    }\n",
       "\n",
       "    .dataframe thead th {\n",
       "        text-align: right;\n",
       "    }\n",
       "</style>\n",
       "<table border=\"1\" class=\"dataframe\">\n",
       "  <thead>\n",
       "    <tr style=\"text-align: right;\">\n",
       "      <th></th>\n",
       "      <th>abstract</th>\n",
       "      <th>web_url</th>\n",
       "      <th>snippet</th>\n",
       "      <th>lead_paragraph</th>\n",
       "      <th>source</th>\n",
       "      <th>multimedia</th>\n",
       "      <th>headline</th>\n",
       "      <th>keywords</th>\n",
       "      <th>pub_date</th>\n",
       "      <th>document_type</th>\n",
       "      <th>news_desk</th>\n",
       "      <th>section_name</th>\n",
       "      <th>byline</th>\n",
       "      <th>type_of_material</th>\n",
       "      <th>_id</th>\n",
       "      <th>word_count</th>\n",
       "      <th>uri</th>\n",
       "      <th>print_section</th>\n",
       "      <th>print_page</th>\n",
       "      <th>subsection_name</th>\n",
       "    </tr>\n",
       "  </thead>\n",
       "  <tbody>\n",
       "    <tr>\n",
       "      <th>5</th>\n",
       "      <td>The quarterback won’t have a say in who will b...</td>\n",
       "      <td>https://www.nytimes.com/2018/12/31/sports/jets...</td>\n",
       "      <td>The quarterback won’t have a say in who will b...</td>\n",
       "      <td>FLORHAM PARK, N.J. — A day after the Jets fire...</td>\n",
       "      <td>The New York Times</td>\n",
       "      <td>[{'rank': 0, 'subtype': 'xlarge', 'caption': N...</td>\n",
       "      <td>{'main': 'Wanted: A Jets Coach Who Suits Sam D...</td>\n",
       "      <td>[{'name': 'subject', 'value': 'Football', 'ran...</td>\n",
       "      <td>2019-01-01T00:31:07+0000</td>\n",
       "      <td>article</td>\n",
       "      <td>Sports</td>\n",
       "      <td>Sports</td>\n",
       "      <td>{'original': 'By Zach Schonbrun', 'person': [{...</td>\n",
       "      <td>News</td>\n",
       "      <td>nyt://article/d4b8b655-fab7-5078-9adc-b638b2a3...</td>\n",
       "      <td>758</td>\n",
       "      <td>nyt://article/d4b8b655-fab7-5078-9adc-b638b2a3...</td>\n",
       "      <td>B</td>\n",
       "      <td>7</td>\n",
       "      <td>NaN</td>\n",
       "    </tr>\n",
       "    <tr>\n",
       "      <th>6</th>\n",
       "      <td>The United States Strategic Command’s tweet al...</td>\n",
       "      <td>https://www.nytimes.com/2018/12/31/us/strategi...</td>\n",
       "      <td>The United States Strategic Command’s tweet al...</td>\n",
       "      <td>The unified command responsible for the United...</td>\n",
       "      <td>The New York Times</td>\n",
       "      <td>[{'rank': 0, 'subtype': 'xlarge', 'caption': N...</td>\n",
       "      <td>{'main': 'Military Deletes New Year’s Eve Twee...</td>\n",
       "      <td>[{'name': 'organizations', 'value': 'UNITED ST...</td>\n",
       "      <td>2019-01-01T00:36:31+0000</td>\n",
       "      <td>article</td>\n",
       "      <td>Express</td>\n",
       "      <td>U.S.</td>\n",
       "      <td>{'original': 'By Matt Stevens and Thomas Gibbo...</td>\n",
       "      <td>News</td>\n",
       "      <td>nyt://article/1012e3a6-dc1e-5534-bbd8-27d30b87...</td>\n",
       "      <td>496</td>\n",
       "      <td>nyt://article/1012e3a6-dc1e-5534-bbd8-27d30b87...</td>\n",
       "      <td>NaN</td>\n",
       "      <td>NaN</td>\n",
       "      <td>NaN</td>\n",
       "    </tr>\n",
       "    <tr>\n",
       "      <th>7</th>\n",
       "      <td>There are now only two African-American head c...</td>\n",
       "      <td>https://www.nytimes.com/2018/12/31/sports/nfl-...</td>\n",
       "      <td>There are now only two African-American head c...</td>\n",
       "      <td>The N.F.L.’s 32 owners made an unexpected anno...</td>\n",
       "      <td>The New York Times</td>\n",
       "      <td>[{'rank': 0, 'subtype': 'xlarge', 'caption': N...</td>\n",
       "      <td>{'main': 'Firing of Several Black Coaches Puts...</td>\n",
       "      <td>[{'name': 'subject', 'value': 'Coaches and Man...</td>\n",
       "      <td>2019-01-01T00:38:58+0000</td>\n",
       "      <td>article</td>\n",
       "      <td>Sports</td>\n",
       "      <td>Sports</td>\n",
       "      <td>{'original': 'By Bill Pennington and Ken Belso...</td>\n",
       "      <td>News</td>\n",
       "      <td>nyt://article/708a9607-d581-5c81-a2ec-abe251ac...</td>\n",
       "      <td>1024</td>\n",
       "      <td>nyt://article/708a9607-d581-5c81-a2ec-abe251ac...</td>\n",
       "      <td>B</td>\n",
       "      <td>5</td>\n",
       "      <td>NaN</td>\n",
       "    </tr>\n",
       "    <tr>\n",
       "      <th>9</th>\n",
       "      <td>The television network A Haber broadcast foota...</td>\n",
       "      <td>https://www.nytimes.com/2018/12/31/world/middl...</td>\n",
       "      <td>The television network A Haber broadcast foota...</td>\n",
       "      <td>A Turkish television network broadcast video o...</td>\n",
       "      <td>The New York Times</td>\n",
       "      <td>[{'rank': 0, 'subtype': 'xlarge', 'caption': N...</td>\n",
       "      <td>{'main': 'Video on Turkish TV Is Said to Show ...</td>\n",
       "      <td>[{'name': 'persons', 'value': 'Khashoggi, Jama...</td>\n",
       "      <td>2019-01-01T00:45:40+0000</td>\n",
       "      <td>article</td>\n",
       "      <td>Foreign</td>\n",
       "      <td>World</td>\n",
       "      <td>{'original': 'By Alan Yuhas', 'person': [{'fir...</td>\n",
       "      <td>News</td>\n",
       "      <td>nyt://article/eb10b16d-c8ad-51bb-ac5f-e619d8db...</td>\n",
       "      <td>562</td>\n",
       "      <td>nyt://article/eb10b16d-c8ad-51bb-ac5f-e619d8db...</td>\n",
       "      <td>NaN</td>\n",
       "      <td>NaN</td>\n",
       "      <td>Middle East</td>\n",
       "    </tr>\n",
       "    <tr>\n",
       "      <th>10</th>\n",
       "      <td>President Emmanuel Macron of France urged his ...</td>\n",
       "      <td>https://www.nytimes.com/2018/12/31/world/europ...</td>\n",
       "      <td>President Emmanuel Macron of France urged his ...</td>\n",
       "      <td>PARIS — A French president struggling to reass...</td>\n",
       "      <td>The New York Times</td>\n",
       "      <td>[{'rank': 0, 'subtype': 'xlarge', 'caption': N...</td>\n",
       "      <td>{'main': 'Macron Vows Order ‘Without Compromis...</td>\n",
       "      <td>[{'name': 'subject', 'value': 'Yellow Vests Mo...</td>\n",
       "      <td>2019-01-01T01:04:01+0000</td>\n",
       "      <td>article</td>\n",
       "      <td>Foreign</td>\n",
       "      <td>World</td>\n",
       "      <td>{'original': 'By Adam Nossiter', 'person': [{'...</td>\n",
       "      <td>News</td>\n",
       "      <td>nyt://article/d6caab01-5de1-5795-840a-4d19b492...</td>\n",
       "      <td>925</td>\n",
       "      <td>nyt://article/d6caab01-5de1-5795-840a-4d19b492...</td>\n",
       "      <td>A</td>\n",
       "      <td>5</td>\n",
       "      <td>Europe</td>\n",
       "    </tr>\n",
       "    <tr>\n",
       "      <th>...</th>\n",
       "      <td>...</td>\n",
       "      <td>...</td>\n",
       "      <td>...</td>\n",
       "      <td>...</td>\n",
       "      <td>...</td>\n",
       "      <td>...</td>\n",
       "      <td>...</td>\n",
       "      <td>...</td>\n",
       "      <td>...</td>\n",
       "      <td>...</td>\n",
       "      <td>...</td>\n",
       "      <td>...</td>\n",
       "      <td>...</td>\n",
       "      <td>...</td>\n",
       "      <td>...</td>\n",
       "      <td>...</td>\n",
       "      <td>...</td>\n",
       "      <td>...</td>\n",
       "      <td>...</td>\n",
       "      <td>...</td>\n",
       "    </tr>\n",
       "    <tr>\n",
       "      <th>4474</th>\n",
       "      <td>Like Agatha Christie? Indifferent toward the S...</td>\n",
       "      <td>https://www.nytimes.com/2019/01/31/arts/televi...</td>\n",
       "      <td>Like Agatha Christie? Indifferent toward the S...</td>\n",
       "      <td>No matter how much free time you have this wee...</td>\n",
       "      <td>The New York Times</td>\n",
       "      <td>[{'rank': 0, 'subtype': 'xlarge', 'caption': N...</td>\n",
       "      <td>{'main': 'How Much Watching Time Do You Have T...</td>\n",
       "      <td>[{'name': 'subject', 'value': 'Television', 'r...</td>\n",
       "      <td>2019-01-31T23:21:13+0000</td>\n",
       "      <td>article</td>\n",
       "      <td>Weekend</td>\n",
       "      <td>Arts</td>\n",
       "      <td>{'original': 'By Margaret Lyons', 'person': [{...</td>\n",
       "      <td>News</td>\n",
       "      <td>nyt://article/cef23d3f-5590-52d1-b620-a03cd48e...</td>\n",
       "      <td>332</td>\n",
       "      <td>nyt://article/cef23d3f-5590-52d1-b620-a03cd48e...</td>\n",
       "      <td>C</td>\n",
       "      <td>14</td>\n",
       "      <td>Television</td>\n",
       "    </tr>\n",
       "    <tr>\n",
       "      <th>4476</th>\n",
       "      <td>In the On Politics newsletter: Ms. Abrams will...</td>\n",
       "      <td>https://www.nytimes.com/2019/01/31/us/politics...</td>\n",
       "      <td>In the On Politics newsletter: Ms. Abrams will...</td>\n",
       "      <td>Hi. Welcome to On Politics, your guide to the ...</td>\n",
       "      <td>The New York Times</td>\n",
       "      <td>[{'rank': 0, 'subtype': 'xlarge', 'caption': N...</td>\n",
       "      <td>{'main': 'Stacey Abrams and the Future of the ...</td>\n",
       "      <td>[{'name': 'subject', 'value': 'United States P...</td>\n",
       "      <td>2019-01-31T23:33:05+0000</td>\n",
       "      <td>article</td>\n",
       "      <td>Politics</td>\n",
       "      <td>U.S.</td>\n",
       "      <td>{'original': 'By Lisa Lerer', 'person': [{'fir...</td>\n",
       "      <td>News</td>\n",
       "      <td>nyt://article/1d99d352-c9d8-5e46-9538-18f0e82a...</td>\n",
       "      <td>1661</td>\n",
       "      <td>nyt://article/1d99d352-c9d8-5e46-9538-18f0e82a...</td>\n",
       "      <td>NaN</td>\n",
       "      <td>NaN</td>\n",
       "      <td>Politics</td>\n",
       "    </tr>\n",
       "    <tr>\n",
       "      <th>4477</th>\n",
       "      <td>Lawmakers reacted with concern and bewildermen...</td>\n",
       "      <td>https://www.nytimes.com/2019/01/31/us/politics...</td>\n",
       "      <td>Lawmakers reacted with concern and bewildermen...</td>\n",
       "      <td>WASHINGTON — President Trump proclaimed on Thu...</td>\n",
       "      <td>The New York Times</td>\n",
       "      <td>[]</td>\n",
       "      <td>{'main': 'As Trump Demands His Wall, Lawmakers...</td>\n",
       "      <td>[{'name': 'subject', 'value': 'Border Barriers...</td>\n",
       "      <td>2019-01-31T23:41:47+0000</td>\n",
       "      <td>article</td>\n",
       "      <td>Washington</td>\n",
       "      <td>U.S.</td>\n",
       "      <td>{'original': 'By Emily Cochrane', 'person': [{...</td>\n",
       "      <td>News</td>\n",
       "      <td>nyt://article/707e3aa0-5be3-58b1-be3c-dca07d45...</td>\n",
       "      <td>976</td>\n",
       "      <td>nyt://article/707e3aa0-5be3-58b1-be3c-dca07d45...</td>\n",
       "      <td>A</td>\n",
       "      <td>16</td>\n",
       "      <td>Politics</td>\n",
       "    </tr>\n",
       "    <tr>\n",
       "      <th>4478</th>\n",
       "      <td>A top diplomat said the Trump administration m...</td>\n",
       "      <td>https://www.nytimes.com/2019/01/31/world/asia/...</td>\n",
       "      <td>A top diplomat said the Trump administration m...</td>\n",
       "      <td>WASHINGTON — A top American diplomat signaled ...</td>\n",
       "      <td>The New York Times</td>\n",
       "      <td>[{'rank': 0, 'subtype': 'xlarge', 'caption': N...</td>\n",
       "      <td>{'main': 'U.S. Appears to Soften Timing for Li...</td>\n",
       "      <td>[{'name': 'subject', 'value': 'United States I...</td>\n",
       "      <td>2019-01-31T23:47:23+0000</td>\n",
       "      <td>article</td>\n",
       "      <td>Washington</td>\n",
       "      <td>World</td>\n",
       "      <td>{'original': 'By Edward Wong', 'person': [{'fi...</td>\n",
       "      <td>News</td>\n",
       "      <td>nyt://article/f5e536bb-e098-578e-83b4-891b22e9...</td>\n",
       "      <td>745</td>\n",
       "      <td>nyt://article/f5e536bb-e098-578e-83b4-891b22e9...</td>\n",
       "      <td>A</td>\n",
       "      <td>12</td>\n",
       "      <td>Asia Pacific</td>\n",
       "    </tr>\n",
       "    <tr>\n",
       "      <th>4480</th>\n",
       "      <td>In the past year, The Times published obituari...</td>\n",
       "      <td>https://www.nytimes.com/2019/01/31/reader-cent...</td>\n",
       "      <td>In the past year, The Times published obituari...</td>\n",
       "      <td>Times Insider explains who we are and what we ...</td>\n",
       "      <td>The New York Times</td>\n",
       "      <td>[{'rank': 0, 'subtype': 'xlarge', 'caption': N...</td>\n",
       "      <td>{'main': 'A Year Into the Overlooked Project, ...</td>\n",
       "      <td>[{'name': 'subject', 'value': 'Women and Girls...</td>\n",
       "      <td>2019-01-31T23:57:57+0000</td>\n",
       "      <td>article</td>\n",
       "      <td>Insider</td>\n",
       "      <td>Reader Center</td>\n",
       "      <td>{'original': 'By Amisha Padnani', 'person': [{...</td>\n",
       "      <td>News</td>\n",
       "      <td>nyt://article/a5e23cce-b82d-58b3-8782-c8b468f9...</td>\n",
       "      <td>695</td>\n",
       "      <td>nyt://article/a5e23cce-b82d-58b3-8782-c8b468f9...</td>\n",
       "      <td>A</td>\n",
       "      <td>2</td>\n",
       "      <td>NaN</td>\n",
       "    </tr>\n",
       "  </tbody>\n",
       "</table>\n",
       "<p>3134 rows × 20 columns</p>\n",
       "</div>"
      ],
      "text/plain": [
       "                                               abstract  \\\n",
       "5     The quarterback won’t have a say in who will b...   \n",
       "6     The United States Strategic Command’s tweet al...   \n",
       "7     There are now only two African-American head c...   \n",
       "9     The television network A Haber broadcast foota...   \n",
       "10    President Emmanuel Macron of France urged his ...   \n",
       "...                                                 ...   \n",
       "4474  Like Agatha Christie? Indifferent toward the S...   \n",
       "4476  In the On Politics newsletter: Ms. Abrams will...   \n",
       "4477  Lawmakers reacted with concern and bewildermen...   \n",
       "4478  A top diplomat said the Trump administration m...   \n",
       "4480  In the past year, The Times published obituari...   \n",
       "\n",
       "                                                web_url  \\\n",
       "5     https://www.nytimes.com/2018/12/31/sports/jets...   \n",
       "6     https://www.nytimes.com/2018/12/31/us/strategi...   \n",
       "7     https://www.nytimes.com/2018/12/31/sports/nfl-...   \n",
       "9     https://www.nytimes.com/2018/12/31/world/middl...   \n",
       "10    https://www.nytimes.com/2018/12/31/world/europ...   \n",
       "...                                                 ...   \n",
       "4474  https://www.nytimes.com/2019/01/31/arts/televi...   \n",
       "4476  https://www.nytimes.com/2019/01/31/us/politics...   \n",
       "4477  https://www.nytimes.com/2019/01/31/us/politics...   \n",
       "4478  https://www.nytimes.com/2019/01/31/world/asia/...   \n",
       "4480  https://www.nytimes.com/2019/01/31/reader-cent...   \n",
       "\n",
       "                                                snippet  \\\n",
       "5     The quarterback won’t have a say in who will b...   \n",
       "6     The United States Strategic Command’s tweet al...   \n",
       "7     There are now only two African-American head c...   \n",
       "9     The television network A Haber broadcast foota...   \n",
       "10    President Emmanuel Macron of France urged his ...   \n",
       "...                                                 ...   \n",
       "4474  Like Agatha Christie? Indifferent toward the S...   \n",
       "4476  In the On Politics newsletter: Ms. Abrams will...   \n",
       "4477  Lawmakers reacted with concern and bewildermen...   \n",
       "4478  A top diplomat said the Trump administration m...   \n",
       "4480  In the past year, The Times published obituari...   \n",
       "\n",
       "                                         lead_paragraph              source  \\\n",
       "5     FLORHAM PARK, N.J. — A day after the Jets fire...  The New York Times   \n",
       "6     The unified command responsible for the United...  The New York Times   \n",
       "7     The N.F.L.’s 32 owners made an unexpected anno...  The New York Times   \n",
       "9     A Turkish television network broadcast video o...  The New York Times   \n",
       "10    PARIS — A French president struggling to reass...  The New York Times   \n",
       "...                                                 ...                 ...   \n",
       "4474  No matter how much free time you have this wee...  The New York Times   \n",
       "4476  Hi. Welcome to On Politics, your guide to the ...  The New York Times   \n",
       "4477  WASHINGTON — President Trump proclaimed on Thu...  The New York Times   \n",
       "4478  WASHINGTON — A top American diplomat signaled ...  The New York Times   \n",
       "4480  Times Insider explains who we are and what we ...  The New York Times   \n",
       "\n",
       "                                             multimedia  \\\n",
       "5     [{'rank': 0, 'subtype': 'xlarge', 'caption': N...   \n",
       "6     [{'rank': 0, 'subtype': 'xlarge', 'caption': N...   \n",
       "7     [{'rank': 0, 'subtype': 'xlarge', 'caption': N...   \n",
       "9     [{'rank': 0, 'subtype': 'xlarge', 'caption': N...   \n",
       "10    [{'rank': 0, 'subtype': 'xlarge', 'caption': N...   \n",
       "...                                                 ...   \n",
       "4474  [{'rank': 0, 'subtype': 'xlarge', 'caption': N...   \n",
       "4476  [{'rank': 0, 'subtype': 'xlarge', 'caption': N...   \n",
       "4477                                                 []   \n",
       "4478  [{'rank': 0, 'subtype': 'xlarge', 'caption': N...   \n",
       "4480  [{'rank': 0, 'subtype': 'xlarge', 'caption': N...   \n",
       "\n",
       "                                               headline  \\\n",
       "5     {'main': 'Wanted: A Jets Coach Who Suits Sam D...   \n",
       "6     {'main': 'Military Deletes New Year’s Eve Twee...   \n",
       "7     {'main': 'Firing of Several Black Coaches Puts...   \n",
       "9     {'main': 'Video on Turkish TV Is Said to Show ...   \n",
       "10    {'main': 'Macron Vows Order ‘Without Compromis...   \n",
       "...                                                 ...   \n",
       "4474  {'main': 'How Much Watching Time Do You Have T...   \n",
       "4476  {'main': 'Stacey Abrams and the Future of the ...   \n",
       "4477  {'main': 'As Trump Demands His Wall, Lawmakers...   \n",
       "4478  {'main': 'U.S. Appears to Soften Timing for Li...   \n",
       "4480  {'main': 'A Year Into the Overlooked Project, ...   \n",
       "\n",
       "                                               keywords  \\\n",
       "5     [{'name': 'subject', 'value': 'Football', 'ran...   \n",
       "6     [{'name': 'organizations', 'value': 'UNITED ST...   \n",
       "7     [{'name': 'subject', 'value': 'Coaches and Man...   \n",
       "9     [{'name': 'persons', 'value': 'Khashoggi, Jama...   \n",
       "10    [{'name': 'subject', 'value': 'Yellow Vests Mo...   \n",
       "...                                                 ...   \n",
       "4474  [{'name': 'subject', 'value': 'Television', 'r...   \n",
       "4476  [{'name': 'subject', 'value': 'United States P...   \n",
       "4477  [{'name': 'subject', 'value': 'Border Barriers...   \n",
       "4478  [{'name': 'subject', 'value': 'United States I...   \n",
       "4480  [{'name': 'subject', 'value': 'Women and Girls...   \n",
       "\n",
       "                      pub_date document_type   news_desk   section_name  \\\n",
       "5     2019-01-01T00:31:07+0000       article      Sports         Sports   \n",
       "6     2019-01-01T00:36:31+0000       article     Express           U.S.   \n",
       "7     2019-01-01T00:38:58+0000       article      Sports         Sports   \n",
       "9     2019-01-01T00:45:40+0000       article     Foreign          World   \n",
       "10    2019-01-01T01:04:01+0000       article     Foreign          World   \n",
       "...                        ...           ...         ...            ...   \n",
       "4474  2019-01-31T23:21:13+0000       article     Weekend           Arts   \n",
       "4476  2019-01-31T23:33:05+0000       article    Politics           U.S.   \n",
       "4477  2019-01-31T23:41:47+0000       article  Washington           U.S.   \n",
       "4478  2019-01-31T23:47:23+0000       article  Washington          World   \n",
       "4480  2019-01-31T23:57:57+0000       article     Insider  Reader Center   \n",
       "\n",
       "                                                 byline type_of_material  \\\n",
       "5     {'original': 'By Zach Schonbrun', 'person': [{...             News   \n",
       "6     {'original': 'By Matt Stevens and Thomas Gibbo...             News   \n",
       "7     {'original': 'By Bill Pennington and Ken Belso...             News   \n",
       "9     {'original': 'By Alan Yuhas', 'person': [{'fir...             News   \n",
       "10    {'original': 'By Adam Nossiter', 'person': [{'...             News   \n",
       "...                                                 ...              ...   \n",
       "4474  {'original': 'By Margaret Lyons', 'person': [{...             News   \n",
       "4476  {'original': 'By Lisa Lerer', 'person': [{'fir...             News   \n",
       "4477  {'original': 'By Emily Cochrane', 'person': [{...             News   \n",
       "4478  {'original': 'By Edward Wong', 'person': [{'fi...             News   \n",
       "4480  {'original': 'By Amisha Padnani', 'person': [{...             News   \n",
       "\n",
       "                                                    _id  word_count  \\\n",
       "5     nyt://article/d4b8b655-fab7-5078-9adc-b638b2a3...         758   \n",
       "6     nyt://article/1012e3a6-dc1e-5534-bbd8-27d30b87...         496   \n",
       "7     nyt://article/708a9607-d581-5c81-a2ec-abe251ac...        1024   \n",
       "9     nyt://article/eb10b16d-c8ad-51bb-ac5f-e619d8db...         562   \n",
       "10    nyt://article/d6caab01-5de1-5795-840a-4d19b492...         925   \n",
       "...                                                 ...         ...   \n",
       "4474  nyt://article/cef23d3f-5590-52d1-b620-a03cd48e...         332   \n",
       "4476  nyt://article/1d99d352-c9d8-5e46-9538-18f0e82a...        1661   \n",
       "4477  nyt://article/707e3aa0-5be3-58b1-be3c-dca07d45...         976   \n",
       "4478  nyt://article/f5e536bb-e098-578e-83b4-891b22e9...         745   \n",
       "4480  nyt://article/a5e23cce-b82d-58b3-8782-c8b468f9...         695   \n",
       "\n",
       "                                                    uri print_section  \\\n",
       "5     nyt://article/d4b8b655-fab7-5078-9adc-b638b2a3...             B   \n",
       "6     nyt://article/1012e3a6-dc1e-5534-bbd8-27d30b87...           NaN   \n",
       "7     nyt://article/708a9607-d581-5c81-a2ec-abe251ac...             B   \n",
       "9     nyt://article/eb10b16d-c8ad-51bb-ac5f-e619d8db...           NaN   \n",
       "10    nyt://article/d6caab01-5de1-5795-840a-4d19b492...             A   \n",
       "...                                                 ...           ...   \n",
       "4474  nyt://article/cef23d3f-5590-52d1-b620-a03cd48e...             C   \n",
       "4476  nyt://article/1d99d352-c9d8-5e46-9538-18f0e82a...           NaN   \n",
       "4477  nyt://article/707e3aa0-5be3-58b1-be3c-dca07d45...             A   \n",
       "4478  nyt://article/f5e536bb-e098-578e-83b4-891b22e9...             A   \n",
       "4480  nyt://article/a5e23cce-b82d-58b3-8782-c8b468f9...             A   \n",
       "\n",
       "     print_page subsection_name  \n",
       "5             7             NaN  \n",
       "6           NaN             NaN  \n",
       "7             5             NaN  \n",
       "9           NaN     Middle East  \n",
       "10            5          Europe  \n",
       "...         ...             ...  \n",
       "4474         14      Television  \n",
       "4476        NaN        Politics  \n",
       "4477         16        Politics  \n",
       "4478         12    Asia Pacific  \n",
       "4480          2             NaN  \n",
       "\n",
       "[3134 rows x 20 columns]"
      ]
     },
     "execution_count": 121,
     "metadata": {},
     "output_type": "execute_result"
    }
   ],
   "source": [
    "newsdf"
   ]
  },
  {
   "cell_type": "markdown",
   "metadata": {},
   "source": [
    "# how to turn str into variable name"
   ]
  },
  {
   "cell_type": "code",
   "execution_count": null,
   "metadata": {},
   "outputs": [],
   "source": []
  },
  {
   "cell_type": "code",
   "execution_count": null,
   "metadata": {},
   "outputs": [],
   "source": [
    "# for key in dict_keys:\n",
    "#     lambda key: \n",
    "#     {key} = tom.groups[str(key)]\n"
   ]
  },
  {
   "cell_type": "code",
   "execution_count": null,
   "metadata": {},
   "outputs": [],
   "source": [
    "a"
   ]
  },
  {
   "cell_type": "code",
   "execution_count": null,
   "metadata": {},
   "outputs": [],
   "source": [
    "metadatadf_1_2019.iloc[a]"
   ]
  },
  {
   "cell_type": "code",
   "execution_count": null,
   "metadata": {},
   "outputs": [],
   "source": []
  }
 ],
 "metadata": {
  "kernelspec": {
   "display_name": "Python 3",
   "language": "python",
   "name": "python3"
  },
  "language_info": {
   "codemirror_mode": {
    "name": "ipython",
    "version": 3
   },
   "file_extension": ".py",
   "mimetype": "text/x-python",
   "name": "python",
   "nbconvert_exporter": "python",
   "pygments_lexer": "ipython3",
   "version": "3.7.9"
  }
 },
 "nbformat": 4,
 "nbformat_minor": 4
}
