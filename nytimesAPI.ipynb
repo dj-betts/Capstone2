{
 "cells": [
  {
   "cell_type": "code",
   "execution_count": 81,
   "metadata": {},
   "outputs": [],
   "source": [
    "import requests"
   ]
  },
  {
   "cell_type": "code",
   "execution_count": 82,
   "metadata": {},
   "outputs": [],
   "source": [
    "response = requests.get('https://api.nytimes.com/svc/archive/v1/2019/1.json?api-key=kwQUDL7cdaIuu03LazP2b3F2R0uY1kET',\n",
    "    params={'q': 'requests+language:python'})"
   ]
  },
  {
   "cell_type": "code",
   "execution_count": 83,
   "metadata": {},
   "outputs": [
    {
     "data": {
      "text/plain": [
       "requests.models.Response"
      ]
     },
     "execution_count": 83,
     "metadata": {},
     "output_type": "execute_result"
    }
   ],
   "source": [
    "type(response)"
   ]
  },
  {
   "cell_type": "code",
   "execution_count": 84,
   "metadata": {},
   "outputs": [
    {
     "data": {
      "text/plain": [
       "200"
      ]
     },
     "execution_count": 84,
     "metadata": {},
     "output_type": "execute_result"
    }
   ],
   "source": [
    "response.status_code"
   ]
  },
  {
   "cell_type": "code",
   "execution_count": 85,
   "metadata": {},
   "outputs": [],
   "source": [
    "json_response = response.json()"
   ]
  },
  {
   "cell_type": "code",
   "execution_count": null,
   "metadata": {},
   "outputs": [],
   "source": []
  },
  {
   "cell_type": "code",
   "execution_count": 101,
   "metadata": {},
   "outputs": [],
   "source": [
    "#json_response['response'] or json_response['copyright']\n",
    "json_response['response'];"
   ]
  },
  {
   "cell_type": "code",
   "execution_count": 114,
   "metadata": {},
   "outputs": [],
   "source": [
    "#docs = list, 4482 items long\n",
    "docs = json_response['response']['docs']"
   ]
  },
  {
   "cell_type": "code",
   "execution_count": 167,
   "metadata": {},
   "outputs": [],
   "source": [
    "article_keys = []\n",
    "for key in docs[0].keys():\n",
    "    keys.append(key)\n"
   ]
  },
  {
   "cell_type": "code",
   "execution_count": 168,
   "metadata": {},
   "outputs": [
    {
     "data": {
      "text/plain": [
       "['abstract',\n",
       " 'web_url',\n",
       " 'snippet',\n",
       " 'lead_paragraph',\n",
       " 'source',\n",
       " 'multimedia',\n",
       " 'headline',\n",
       " 'keywords',\n",
       " 'pub_date',\n",
       " 'document_type',\n",
       " 'news_desk',\n",
       " 'section_name',\n",
       " 'byline',\n",
       " 'type_of_material',\n",
       " '_id',\n",
       " 'word_count',\n",
       " 'uri']"
      ]
     },
     "execution_count": 168,
     "metadata": {},
     "output_type": "execute_result"
    }
   ],
   "source": [
    "keys"
   ]
  },
  {
   "cell_type": "code",
   "execution_count": 177,
   "metadata": {},
   "outputs": [
    {
     "name": "stdout",
     "output_type": "stream",
     "text": [
      "(THE KEY IS abstract: From the Treaty of Versailles to Prohibition, the events of that year shaped America, and the world, for a century to come. \n",
      "(THE KEY IS web_url: https://www.nytimes.com/2018/12/31/opinion/1919-america.html\n",
      "(THE KEY IS snippet: From the Treaty of Versailles to Prohibition, the events of that year shaped America, and the world, for a century to come. \n",
      "(THE KEY IS lead_paragraph: Throughout 2019, The New York Times Opinion section will publish an occasional series of essays on the ways in which the events of 1919 shaped the following century. \n",
      "(THE KEY IS source: The New York Times\n",
      "(THE KEY IS multimedia: [{'rank': 0, 'subtype': 'xlarge', 'caption': None, 'credit': None, 'type': 'image', 'url': 'images/2019/01/01/opinion/01Widmer1-Sub/01Widmer1-Sub-articleLarge.jpg', 'height': 467, 'width': 600, 'subType': 'xlarge', 'crop_name': 'articleLarge', 'legacy': {'xlarge': 'images/2019/01/01/opinion/01Widmer1-Sub/01Widmer1-Sub-articleLarge.jpg', 'xlargewidth': 600, 'xlargeheight': 467}}, {'rank': 0, 'subtype': 'jumbo', 'caption': None, 'credit': None, 'type': 'image', 'url': 'images/2019/01/01/opinion/01Widmer1-Sub/01Widmer1-Sub-jumbo.jpg', 'height': 797, 'width': 1024, 'subType': 'jumbo', 'crop_name': 'jumbo', 'legacy': {}}, {'rank': 0, 'subtype': 'superJumbo', 'caption': None, 'credit': None, 'type': 'image', 'url': 'images/2019/01/01/opinion/01Widmer1-Sub/01Widmer1-Sub-superJumbo.jpg', 'height': 1594, 'width': 2048, 'subType': 'superJumbo', 'crop_name': 'superJumbo', 'legacy': {}}, {'rank': 0, 'subtype': 'thumbnail', 'caption': None, 'credit': None, 'type': 'image', 'url': 'images/2019/01/01/opinion/01Widmer1-Sub/01Widmer1-Sub-thumbStandard.jpg', 'height': 75, 'width': 75, 'subType': 'thumbnail', 'crop_name': 'thumbStandard', 'legacy': {'thumbnail': 'images/2019/01/01/opinion/01Widmer1-Sub/01Widmer1-Sub-thumbStandard.jpg', 'thumbnailwidth': 75, 'thumbnailheight': 75}}, {'rank': 0, 'subtype': 'thumbLarge', 'caption': None, 'credit': None, 'type': 'image', 'url': 'images/2019/01/01/opinion/01Widmer1-Sub/01Widmer1-Sub-thumbLarge.jpg', 'height': 150, 'width': 150, 'subType': 'thumbLarge', 'crop_name': 'thumbLarge', 'legacy': {}}]\n",
      "(THE KEY IS headline: {'main': '1919: The Year of the Crack-Up', 'kicker': None, 'content_kicker': None, 'print_headline': '', 'name': None, 'seo': None, 'sub': None}\n",
      "(THE KEY IS keywords: [{'name': 'subject', 'value': 'United States Politics and Government', 'rank': 1, 'major': 'N'}, {'name': 'subject', 'value': 'New Year', 'rank': 2, 'major': 'N'}, {'name': 'organizations', 'value': 'League of Nations', 'rank': 3, 'major': 'N'}, {'name': 'persons', 'value': 'Wilson, Woodrow', 'rank': 4, 'major': 'N'}, {'name': 'glocations', 'value': 'Europe', 'rank': 5, 'major': 'N'}]\n",
      "(THE KEY IS pub_date: 2019-01-01T00:00:03+0000\n",
      "(THE KEY IS document_type: article\n",
      "(THE KEY IS news_desk: OpEd\n",
      "(THE KEY IS section_name: Opinion\n",
      "(THE KEY IS byline: {'original': 'By Ted Widmer', 'person': [{'firstname': 'Ted', 'middlename': None, 'lastname': 'Widmer', 'qualifier': None, 'title': None, 'role': 'reported', 'organization': '', 'rank': 1}], 'organization': None}\n",
      "(THE KEY IS type_of_material: Op-Ed\n",
      "(THE KEY IS _id: nyt://article/b205ee80-0859-514e-be2a-b8ecf0cc3b95\n",
      "(THE KEY IS word_count: 2248\n",
      "(THE KEY IS uri: nyt://article/b205ee80-0859-514e-be2a-b8ecf0cc3b95\n",
      "--->\n",
      "(THE KEY IS abstract: Imagine what we could do with our money, and hours, if we set our phones aside for a year.\n",
      "(THE KEY IS web_url: https://www.nytimes.com/2018/12/31/opinion/smartphones-screen-time.html\n",
      "(THE KEY IS snippet: Imagine what we could do with our money, and hours, if we set our phones aside for a year.\n",
      "(THE KEY IS lead_paragraph: More than three-quarters of all Americans own a smartphone. In 2018 those 253 million Americans spent $1,380 and 1,460 hours on their smartphone and other mobile devices. That’s 91 waking days; cumulatively, that adds up to 370 billion waking American hours and $349 billion.\n",
      "(THE KEY IS source: The New York Times\n",
      "(THE KEY IS multimedia: [{'rank': 0, 'subtype': 'xlarge', 'caption': None, 'credit': None, 'type': 'image', 'url': 'images/2018/12/31/opinion/31greenberg/merlin_148484211_ef18b14b-96b1-47fb-a715-f7a54240ec8b-articleLarge.jpg', 'height': 375, 'width': 600, 'subType': 'xlarge', 'crop_name': 'articleLarge', 'legacy': {'xlarge': 'images/2018/12/31/opinion/31greenberg/merlin_148484211_ef18b14b-96b1-47fb-a715-f7a54240ec8b-articleLarge.jpg', 'xlargewidth': 600, 'xlargeheight': 375}}, {'rank': 0, 'subtype': 'jumbo', 'caption': None, 'credit': None, 'type': 'image', 'url': 'images/2018/12/31/opinion/31greenberg/merlin_148484211_ef18b14b-96b1-47fb-a715-f7a54240ec8b-jumbo.jpg', 'height': 640, 'width': 1024, 'subType': 'jumbo', 'crop_name': 'jumbo', 'legacy': {}}, {'rank': 0, 'subtype': 'superJumbo', 'caption': None, 'credit': None, 'type': 'image', 'url': 'images/2018/12/31/opinion/31greenberg/merlin_148484211_ef18b14b-96b1-47fb-a715-f7a54240ec8b-superJumbo.jpg', 'height': 1280, 'width': 2048, 'subType': 'superJumbo', 'crop_name': 'superJumbo', 'legacy': {}}, {'rank': 0, 'subtype': 'thumbnail', 'caption': None, 'credit': None, 'type': 'image', 'url': 'images/2018/12/31/opinion/31greenberg/31greenberg-thumbStandard.jpg', 'height': 75, 'width': 75, 'subType': 'thumbnail', 'crop_name': 'thumbStandard', 'legacy': {'thumbnail': 'images/2018/12/31/opinion/31greenberg/31greenberg-thumbStandard.jpg', 'thumbnailwidth': 75, 'thumbnailheight': 75}}, {'rank': 0, 'subtype': 'thumbLarge', 'caption': None, 'credit': None, 'type': 'image', 'url': 'images/2018/12/31/opinion/31greenberg/31greenberg-thumbLarge.jpg', 'height': 150, 'width': 150, 'subType': 'thumbLarge', 'crop_name': 'thumbLarge', 'legacy': {}}]\n",
      "(THE KEY IS headline: {'main': 'In Search of Lost Screen Time', 'kicker': None, 'content_kicker': None, 'print_headline': 'In Search of Lost Screen Time', 'name': None, 'seo': None, 'sub': None}\n",
      "(THE KEY IS keywords: [{'name': 'subject', 'value': 'Smartphones', 'rank': 1, 'major': 'N'}, {'name': 'subject', 'value': 'Social Media', 'rank': 2, 'major': 'N'}]\n",
      "(THE KEY IS pub_date: 2019-01-01T00:00:07+0000\n",
      "(THE KEY IS document_type: article\n",
      "(THE KEY IS news_desk: OpEd\n",
      "(THE KEY IS section_name: Opinion\n",
      "(THE KEY IS byline: {'original': 'By Paul Greenberg', 'person': [{'firstname': 'Paul', 'middlename': None, 'lastname': 'Greenberg', 'qualifier': None, 'title': None, 'role': 'reported', 'organization': '', 'rank': 1}], 'organization': None}\n",
      "(THE KEY IS type_of_material: Op-Ed\n",
      "(THE KEY IS _id: nyt://article/e4936e7b-0060-5026-b32d-a01e0b76bab6\n",
      "(THE KEY IS word_count: 985\n",
      "(THE KEY IS uri: nyt://article/e4936e7b-0060-5026-b32d-a01e0b76bab6\n",
      "--->\n"
     ]
    }
   ],
   "source": [
    "for doc in docs[:2]:\n",
    "    for key in keys:\n",
    "        print(f'(THE KEY IS {key}: {doc[key]}')\n",
    "    print(\"--->\")\n",
    "#     print(doc['abstract'])\n",
    "#     print(doc['source'])\n",
    "#     print(doc['news_desk'])\n",
    "\n",
    "    #print(type(doc['pub_date']))"
   ]
  },
  {
   "cell_type": "code",
   "execution_count": 155,
   "metadata": {},
   "outputs": [
    {
     "ename": "AttributeError",
     "evalue": "'list' object has no attribute 'keys'",
     "output_type": "error",
     "traceback": [
      "\u001b[0;31m---------------------------------------------------------------------------\u001b[0m",
      "\u001b[0;31mAttributeError\u001b[0m                            Traceback (most recent call last)",
      "\u001b[0;32m<ipython-input-155-b5cdce45a79a>\u001b[0m in \u001b[0;36m<module>\u001b[0;34m\u001b[0m\n\u001b[0;32m----> 1\u001b[0;31m \u001b[0;32mfor\u001b[0m \u001b[0mkeys\u001b[0m \u001b[0;32min\u001b[0m \u001b[0mdocs\u001b[0m\u001b[0;34m[\u001b[0m\u001b[0;34m:\u001b[0m\u001b[0;36m5\u001b[0m\u001b[0;34m]\u001b[0m\u001b[0;34m.\u001b[0m\u001b[0mkeys\u001b[0m\u001b[0;34m(\u001b[0m\u001b[0;34m)\u001b[0m\u001b[0;34m:\u001b[0m\u001b[0;34m\u001b[0m\u001b[0;34m\u001b[0m\u001b[0m\n\u001b[0m\u001b[1;32m      2\u001b[0m     \u001b[0mprint\u001b[0m\u001b[0;34m(\u001b[0m\u001b[0mdoc\u001b[0m\u001b[0;34m[\u001b[0m\u001b[0mkeys\u001b[0m\u001b[0;34m]\u001b[0m\u001b[0;34m)\u001b[0m\u001b[0;34m\u001b[0m\u001b[0;34m\u001b[0m\u001b[0m\n\u001b[1;32m      3\u001b[0m     \u001b[0mprint\u001b[0m\u001b[0;34m(\u001b[0m\u001b[0;34m\"--->\"\u001b[0m\u001b[0;34m)\u001b[0m\u001b[0;34m\u001b[0m\u001b[0;34m\u001b[0m\u001b[0m\n\u001b[1;32m      4\u001b[0m     \u001b[0;31m#print(type(doc['pub_date']))\u001b[0m\u001b[0;34m\u001b[0m\u001b[0;34m\u001b[0m\u001b[0;34m\u001b[0m\u001b[0m\n",
      "\u001b[0;31mAttributeError\u001b[0m: 'list' object has no attribute 'keys'"
     ]
    }
   ],
   "source": [
    "for keys in docs[:5].keys():\n",
    "    print(doc[keys])\n",
    "    print(\"--->\")\n",
    "    #print(type(doc['pub_date']))"
   ]
  },
  {
   "cell_type": "code",
   "execution_count": null,
   "metadata": {},
   "outputs": [],
   "source": []
  },
  {
   "cell_type": "code",
   "execution_count": null,
   "metadata": {},
   "outputs": [],
   "source": []
  },
  {
   "cell_type": "code",
   "execution_count": null,
   "metadata": {},
   "outputs": [],
   "source": []
  },
  {
   "cell_type": "code",
   "execution_count": null,
   "metadata": {},
   "outputs": [],
   "source": []
  },
  {
   "cell_type": "code",
   "execution_count": null,
   "metadata": {},
   "outputs": [],
   "source": []
  }
 ],
 "metadata": {
  "kernelspec": {
   "display_name": "Python 3",
   "language": "python",
   "name": "python3"
  },
  "language_info": {
   "codemirror_mode": {
    "name": "ipython",
    "version": 3
   },
   "file_extension": ".py",
   "mimetype": "text/x-python",
   "name": "python",
   "nbconvert_exporter": "python",
   "pygments_lexer": "ipython3",
   "version": "3.7.9"
  }
 },
 "nbformat": 4,
 "nbformat_minor": 4
}
