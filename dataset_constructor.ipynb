{
 "cells": [
  {
   "cell_type": "code",
   "execution_count": 1,
   "metadata": {},
   "outputs": [],
   "source": [
    "import pandas as pd"
   ]
  },
  {
   "cell_type": "code",
   "execution_count": null,
   "metadata": {},
   "outputs": [],
   "source": [
    "from datetime import datetime"
   ]
  },
  {
   "cell_type": "code",
   "execution_count": null,
   "metadata": {},
   "outputs": [],
   "source": [
    "#import for turning byline string-type into byline dictionary-type\n",
    "\n",
    "import ast"
   ]
  },
  {
   "cell_type": "code",
   "execution_count": null,
   "metadata": {},
   "outputs": [],
   "source": [
    "import ast\n",
    "def trim_first_name(row):\n",
    "    try: \n",
    "        lead_paragraph = row.lead_paragraph\n",
    "        byline = row.byline\n",
    "        text = row.text\n",
    "\n",
    "        byline = ast.literal_eval(byline)\n",
    "        person = byline['person']\n",
    "        first = person[0]['firstname']\n",
    "\n",
    "        first_split = text.split(lead_paragraph)\n",
    "        first_split = first_split[1]\n",
    "\n",
    "        second_split = first_split.split(first)\n",
    "        output = second_split[0]\n",
    "    \n",
    "    except:\n",
    "        \n",
    "        output = 'NaN'\n",
    "    \n",
    "    return output"
   ]
  },
  {
   "cell_type": "code",
   "execution_count": 4,
   "metadata": {},
   "outputs": [],
   "source": [
    "_2019_punc_string = '[\\', .“-”’!—:()?@]$;\"–/#|&‘°\\\\…%<‐+¡«»_•*>›=€·■♦£💃🏽∙≠{}¿😂¥̇̃★§🇺🇸©！💣。^‑🔥😡″̀🚨⃣😤🌫`●🤭✓📖📹✋👀¢💔😞‒📲📺🎙￼😎↓❤️😘🎉🥂🦔🥩🐐🍑🤸🕳🌵⛽⚕🔊™†‾′̈״÷💜💛¨´💥☄́~‚⌚↑🏁🇰🇪🌎→🗣─‼◇😾🤷🏻♂✔💪®♪😱👍،¯⌘🌈🤩✨̊🤣−😉♥👏💩🤐💋🧓👮👴♀🥴🐎⚡🤔🙁×💯🚂🙏🏾่াং়ে্িু🍆💦🎥💌◾📱👋🏼؟🙂🚫❗🙄🛑🌧❄̶🤝；🤯🧵😹¶➡😏🔧✌➼◉🐱⚪̧̄➔😺😁🇬🇧👎🍺'"
   ]
  },
  {
   "cell_type": "markdown",
   "metadata": {},
   "source": [
    "# import csv"
   ]
  },
  {
   "cell_type": "code",
   "execution_count": null,
   "metadata": {},
   "outputs": [],
   "source": [
    "# jan19 = pd.read_csv('2019/jan19.csv', index_col='Unnamed: 0')\n",
    "# feb19 = pd.read_csv('2019/feb19.csv', index_col='Unnamed: 0')\n",
    "# mar19 = pd.read_csv('2019/mar19.csv', index_col='Unnamed: 0')\n",
    "# apr19 = pd.read_csv('2019/apr19.csv', index_col='Unnamed: 0')\n",
    "# may19 = pd.read_csv('2019/may19.csv', index_col='Unnamed: 0')\n",
    "# jun19 = pd.read_csv('2019/jun19.csv', index_col='Unnamed: 0')\n",
    "# jul19 = pd.read_csv('2019/jul19.csv', index_col='Unnamed: 0')\n",
    "# aug19 = pd.read_csv('2019/aug19.csv', index_col='Unnamed: 0')\n",
    "# sep19 = pd.read_csv('2019/sep19.csv', index_col='Unnamed: 0')\n",
    "# oct19 = pd.read_csv('2019/oct19.csv', index_col='Unnamed: 0')\n",
    "# nov19 = pd.read_csv('2019/nov19.csv', index_col='Unnamed: 0')\n",
    "# dec19 = pd.read_csv('2019/dec19.csv', index_col='Unnamed: 0')"
   ]
  },
  {
   "cell_type": "code",
   "execution_count": null,
   "metadata": {},
   "outputs": [],
   "source": [
    "# jan19_df = jan19.copy()\n",
    "# feb19_df = feb19.copy()\n",
    "# mar19_df = mar19.copy()\n",
    "# apr19_df = apr19.copy()\n",
    "# may19_df = may19.copy()\n",
    "# jun19_df = jun19.copy()\n",
    "# jul19_df = jul19.copy()\n",
    "# aug19_df = aug19.copy()\n",
    "# sep19_df = sep19.copy()\n",
    "# oct19_df = oct19.copy()\n",
    "# nov19_df = nov19.copy()\n",
    "# dec19_df = dec19.copy()"
   ]
  },
  {
   "cell_type": "code",
   "execution_count": null,
   "metadata": {},
   "outputs": [],
   "source": [
    "#list_2019_df = [jan19_df, feb19_df, mar19_df, apr19_df, may19_df, jun19_df, jul19_df, aug19_df, sep19_df, oct19_df, nov19_df, dec19_df]"
   ]
  },
  {
   "cell_type": "code",
   "execution_count": null,
   "metadata": {},
   "outputs": [],
   "source": [
    "# %%time\n",
    "# uber2019 = pd.concat(list_2019_df)\n",
    "# uber2019.reset_index(drop=True, inplace=True)"
   ]
  },
  {
   "cell_type": "code",
   "execution_count": null,
   "metadata": {},
   "outputs": [],
   "source": [
    "jan19 = pd.read_csv('2019/jan19.csv', index_col='Unnamed: 0')"
   ]
  },
  {
   "cell_type": "code",
   "execution_count": null,
   "metadata": {},
   "outputs": [],
   "source": [
    "# jan18 = pd.read_csv('2018/jan18.csv', index_col='Unnamed: 0')\n",
    "# feb18 = pd.read_csv('2018/feb18.csv', index_col='Unnamed: 0')\n",
    "# mar18 = pd.read_csv('2018/mar18.csv', index_col='Unnamed: 0')\n",
    "# apr18 = pd.read_csv('2018/apr18.csv', index_col='Unnamed: 0')\n",
    "# may18 = pd.read_csv('2018/may18.csv', index_col='Unnamed: 0')\n",
    "# jun18 = pd.read_csv('2018/jun18.csv', index_col='Unnamed: 0')\n",
    "# jul18 = pd.read_csv('2018/jul18.csv', index_col='Unnamed: 0')\n",
    "# aug18 = pd.read_csv('2018/aug18.csv', index_col='Unnamed: 0')\n",
    "# sep18 = pd.read_csv('2018/sep18.csv', index_col='Unnamed: 0')\n",
    "# oct18 = pd.read_csv('2018/oct18.csv', index_col='Unnamed: 0')\n",
    "# nov18 = pd.read_csv('2018/nov18.csv', index_col='Unnamed: 0')\n",
    "# dec18 = pd.read_csv('2018/dec18.csv', index_col='Unnamed: 0')"
   ]
  },
  {
   "cell_type": "code",
   "execution_count": null,
   "metadata": {},
   "outputs": [],
   "source": [
    "# jan18_df = jan18.copy()\n",
    "# feb18_df = feb18.copy()\n",
    "# mar18_df = mar18.copy()\n",
    "# apr18_df = apr18.copy()\n",
    "# may18_df = may18.copy()\n",
    "# jun18_df = jun18.copy()\n",
    "# jul18_df = jul18.copy()\n",
    "# aug18_df = aug18.copy()\n",
    "# sep18_df = sep18.copy()\n",
    "# oct18_df = oct18.copy()\n",
    "# nov18_df = nov18.copy()\n",
    "# dec18_df = dec18.copy()"
   ]
  },
  {
   "cell_type": "code",
   "execution_count": null,
   "metadata": {},
   "outputs": [],
   "source": [
    "# list_2018_df = [jan18_df, feb18_df, mar18_df, apr18_df, may18_df, jun18_df, jul18_df, aug18_df, sep18_df, oct18_df, nov18_df, dec18_df]"
   ]
  },
  {
   "cell_type": "code",
   "execution_count": null,
   "metadata": {},
   "outputs": [],
   "source": [
    "# %%time\n",
    "# uber2018 = pd.concat(list_2018_df)\n",
    "# uber2018.reset_index(drop=True, inplace=True)"
   ]
  },
  {
   "cell_type": "code",
   "execution_count": null,
   "metadata": {},
   "outputs": [],
   "source": [
    "# jan17 = pd.read_csv('2017/jan17.csv', index_col='Unnamed: 0')\n",
    "# feb17 = pd.read_csv('2017/feb17.csv', index_col='Unnamed: 0')\n",
    "# mar17 = pd.read_csv('2017/mar17.csv', index_col='Unnamed: 0')\n",
    "# apr17 = pd.read_csv('2017/apr17.csv', index_col='Unnamed: 0')\n",
    "# may17 = pd.read_csv('2017/may17.csv', index_col='Unnamed: 0')\n",
    "# jun17 = pd.read_csv('2017/jun17.csv', index_col='Unnamed: 0')\n",
    "# jul17 = pd.read_csv('2017/jul17.csv', index_col='Unnamed: 0')\n",
    "# aug17 = pd.read_csv('2017/aug17.csv', index_col='Unnamed: 0')\n",
    "# sep17 = pd.read_csv('2017/sep17.csv', index_col='Unnamed: 0')\n",
    "# oct17 = pd.read_csv('2017/oct17.csv', index_col='Unnamed: 0')\n",
    "# nov17 = pd.read_csv('2017/nov17.csv', index_col='Unnamed: 0')\n",
    "# dec17 = pd.read_csv('2017/dec17.csv', index_col='Unnamed: 0')"
   ]
  },
  {
   "cell_type": "code",
   "execution_count": null,
   "metadata": {},
   "outputs": [],
   "source": [
    "# jan17_df = jan17.copy()\n",
    "# feb17_df = feb17.copy()\n",
    "# mar17_df = mar17.copy()\n",
    "# apr17_df = apr17.copy()\n",
    "# may17_df = may17.copy()\n",
    "# jun17_df = jun17.copy()\n",
    "# jul17_df = jul17.copy()\n",
    "# aug17_df = aug17.copy()\n",
    "# sep17_df = sep17.copy()\n",
    "# oct17_df = oct17.copy()\n",
    "# nov17_df = nov17.copy()\n",
    "# dec17_df = dec17.copy()"
   ]
  },
  {
   "cell_type": "code",
   "execution_count": null,
   "metadata": {},
   "outputs": [],
   "source": [
    "# list_2017_df = [jan17_df, feb17_df, mar17_df, apr17_df, may17_df, jun17_df, jul17_df, aug17_df, sep17_df, oct17_df, nov17_df, dec17_df]"
   ]
  },
  {
   "cell_type": "code",
   "execution_count": null,
   "metadata": {},
   "outputs": [],
   "source": [
    "# %%time\n",
    "# uber2017 = pd.concat(list_2017_df)\n",
    "# uber2017.reset_index(drop=True, inplace=True)"
   ]
  },
  {
   "cell_type": "code",
   "execution_count": null,
   "metadata": {},
   "outputs": [],
   "source": [
    "# jan16 = pd.read_csv('2016/jan16.csv', index_col='Unnamed: 0')\n",
    "# feb16 = pd.read_csv('2016/feb16.csv', index_col='Unnamed: 0')\n",
    "# mar16 = pd.read_csv('2016/mar16.csv', index_col='Unnamed: 0')\n",
    "# apr16 = pd.read_csv('2016/apr16.csv', index_col='Unnamed: 0')\n",
    "# may16 = pd.read_csv('2016/may16.csv', index_col='Unnamed: 0')\n",
    "# jun16 = pd.read_csv('2016/jun16.csv', index_col='Unnamed: 0')\n",
    "# jul16 = pd.read_csv('2016/jul16.csv', index_col='Unnamed: 0')\n",
    "# aug16 = pd.read_csv('2016/aug16.csv', index_col='Unnamed: 0')\n",
    "# sep16 = pd.read_csv('2016/sep16.csv', index_col='Unnamed: 0')\n",
    "# oct16 = pd.read_csv('2016/oct16.csv', index_col='Unnamed: 0')\n",
    "# nov16 = pd.read_csv('2016/nov16.csv', index_col='Unnamed: 0')\n",
    "# dec16 = pd.read_csv('2016/dec16.csv', index_col='Unnamed: 0')"
   ]
  },
  {
   "cell_type": "code",
   "execution_count": null,
   "metadata": {},
   "outputs": [],
   "source": [
    "# jan16_df = jan16.copy()\n",
    "# feb16_df = feb16.copy()\n",
    "# mar16_df = mar16.copy()\n",
    "# apr16_df = apr16.copy()\n",
    "# may16_df = may16.copy()\n",
    "# jun16_df = jun16.copy()\n",
    "# jul16_df = jul16.copy()\n",
    "# aug16_df = aug16.copy()\n",
    "# sep16_df = sep16.copy()\n",
    "# oct16_df = oct16.copy()\n",
    "# nov16_df = nov16.copy()\n",
    "# dec16_df = dec16.copy()"
   ]
  },
  {
   "cell_type": "code",
   "execution_count": null,
   "metadata": {},
   "outputs": [],
   "source": [
    "# list_2016_df = [jan16_df, feb16_df, mar16_df, apr16_df, may16_df, jun16_df, jul16_df, aug16_df, sep16_df, oct16_df, nov16_df, dec16_df]"
   ]
  },
  {
   "cell_type": "code",
   "execution_count": null,
   "metadata": {},
   "outputs": [],
   "source": [
    "# %%time\n",
    "# uber2016 = pd.concat(list_2016_df)\n",
    "# uber2016.reset_index(drop=True, inplace=True)"
   ]
  },
  {
   "cell_type": "code",
   "execution_count": null,
   "metadata": {},
   "outputs": [],
   "source": [
    "# print(uber2019.shape)\n",
    "# print(uber2018.shape)\n",
    "# print(uber2017.shape)\n",
    "# print(uber2016.shape)"
   ]
  },
  {
   "cell_type": "markdown",
   "metadata": {},
   "source": [
    "# concat years into ranges"
   ]
  },
  {
   "cell_type": "code",
   "execution_count": 3,
   "metadata": {},
   "outputs": [],
   "source": [
    "# function to concat ranges"
   ]
  },
  {
   "cell_type": "markdown",
   "metadata": {},
   "source": [
    "# column parsing"
   ]
  },
  {
   "cell_type": "code",
   "execution_count": null,
   "metadata": {},
   "outputs": [],
   "source": [
    "all_but_text_type = ['abstract', 'web_url', 'snippet', 'lead_paragraph', 'source',\n",
    "       'multimedia', 'headline', 'keywords', 'pub_date', 'document_type',\n",
    "       'news_desk', 'section_name', 'byline', '_id',\n",
    "       'word_count', 'uri', 'print_section', 'print_page', 'subsection_name']"
   ]
  },
  {
   "cell_type": "code",
   "execution_count": null,
   "metadata": {},
   "outputs": [],
   "source": [
    "text_type = ['text', 'type_of_material']"
   ]
  },
  {
   "cell_type": "markdown",
   "metadata": {},
   "source": [
    "# filter type_of_material by section_name"
   ]
  },
  {
   "cell_type": "code",
   "execution_count": null,
   "metadata": {},
   "outputs": [],
   "source": [
    "lean_af = uber2019.copy()"
   ]
  },
  {
   "cell_type": "code",
   "execution_count": null,
   "metadata": {},
   "outputs": [],
   "source": [
    "p_sec_na = lean_af.print_section.notna()"
   ]
  },
  {
   "cell_type": "code",
   "execution_count": null,
   "metadata": {},
   "outputs": [],
   "source": [
    "lean_af = lean_af[p_sec_na]"
   ]
  },
  {
   "cell_type": "code",
   "execution_count": null,
   "metadata": {},
   "outputs": [],
   "source": [
    "lean_af.shape"
   ]
  },
  {
   "cell_type": "code",
   "execution_count": null,
   "metadata": {},
   "outputs": [],
   "source": [
    "sum(eda['type_of_material'] == 'News')"
   ]
  },
  {
   "cell_type": "code",
   "execution_count": null,
   "metadata": {},
   "outputs": [],
   "source": [
    "sum(eda['type_of_material'] == 'Op-Ed')"
   ]
  },
  {
   "cell_type": "code",
   "execution_count": null,
   "metadata": {},
   "outputs": [],
   "source": [
    "lean_af.shape"
   ]
  },
  {
   "cell_type": "code",
   "execution_count": null,
   "metadata": {},
   "outputs": [],
   "source": [
    "%%time\n",
    "#lean_af = lean_af.drop(all_but_text_type, axis=1)\n",
    "lean_af.reset_index(inplace=True, drop=True)\n",
    "lean_af = lean_af[text_type]\n",
    "#lean_af.to_csv('YOUR FILENAME.csv')\n",
    "lean_af.head()\n",
    "lean_af.shape"
   ]
  }
 ],
 "metadata": {
  "kernelspec": {
   "display_name": "Python 3",
   "language": "python",
   "name": "python3"
  },
  "language_info": {
   "codemirror_mode": {
    "name": "ipython",
    "version": 3
   },
   "file_extension": ".py",
   "mimetype": "text/x-python",
   "name": "python",
   "nbconvert_exporter": "python",
   "pygments_lexer": "ipython3",
   "version": "3.7.9"
  }
 },
 "nbformat": 4,
 "nbformat_minor": 4
}
