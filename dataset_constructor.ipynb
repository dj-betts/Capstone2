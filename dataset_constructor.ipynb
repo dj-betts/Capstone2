{
 "cells": [
  {
   "cell_type": "code",
   "execution_count": 34,
   "metadata": {},
   "outputs": [],
   "source": [
    "import pandas as pd"
   ]
  },
  {
   "cell_type": "code",
   "execution_count": 35,
   "metadata": {},
   "outputs": [],
   "source": [
    "from datetime import datetime"
   ]
  },
  {
   "cell_type": "code",
   "execution_count": 36,
   "metadata": {},
   "outputs": [],
   "source": [
    "#import for turning byline string-type into byline dictionary-type\n",
    "\n",
    "import ast"
   ]
  },
  {
   "cell_type": "code",
   "execution_count": 37,
   "metadata": {},
   "outputs": [],
   "source": [
    "import ast\n",
    "def trim_first_name(row):\n",
    "    try: \n",
    "        lead_paragraph = row.lead_paragraph\n",
    "        byline = row.byline\n",
    "        text = row.text\n",
    "\n",
    "        byline = ast.literal_eval(byline)\n",
    "        person = byline['person']\n",
    "        first = person[0]['firstname']\n",
    "\n",
    "        first_split = text.split(lead_paragraph)\n",
    "        first_split = first_split[1]\n",
    "\n",
    "        second_split = first_split.split(first)\n",
    "        output = second_split[0]\n",
    "    \n",
    "    except:\n",
    "        \n",
    "        output = 'NaN'\n",
    "    \n",
    "    return output"
   ]
  },
  {
   "cell_type": "code",
   "execution_count": 38,
   "metadata": {},
   "outputs": [],
   "source": [
    "#function that removes string.punctuation w/out the '?'\n",
    "def punc_strip(string):\n",
    "    my_lil_punc_string = '!\"#$$%&\\()*+,-./:;<=>@[\\\\]^_`{|}~'\n",
    "    extras = '[\\',.“-”’!—:()?@]$;\"–/#|&‘°\\\\…%<‐+¡«»_•*>›=€·■♦£💃🏽∙≠{}¿😂¥̇̃★§🇺🇸©！💣。^‑🔥😡″̀🚨⃣😤🌫`●🤭✓📖📹✋👀¢💔😞‒📲📺🎙￼😎↓❤️😘🎉🥂🦔🥩🐐🍑🤸🕳🌵⛽⚕🔊™†‾′̈״÷💜💛¨´💥☄́~‚⌚↑🏁🇰🇪🌎→🗣─‼◇😾🤷🏻♂✔💪®♪😱👍،¯⌘🌈🤩✨̊🤣−😉♥👏💩🤐💋🧓👮👴♀🥴🐎⚡🤔🙁×💯🚂🙏🏾่াং়ে্িু🍆💦🎥💌◾📱👋🏼؟🙂🚫❗🙄🛑🌧❄̶🤝；🤯🧵😹¶➡😏🔧✌➼◉🐱⚪̧̄➔😺😁🇬🇧👎🍺'\n",
    "    punc_list = my_lil_punc_string + extras\n",
    "    \n",
    "    for char in string:\n",
    "        if char in punc_list:  \n",
    "            string = string.replace(char, \"\")\n",
    "            \n",
    "    return string"
   ]
  },
  {
   "cell_type": "code",
   "execution_count": 39,
   "metadata": {},
   "outputs": [],
   "source": [
    "_2019_punc_string = '[\\', .“-”’!—:()?@]$;\"–/#|&‘°\\\\…%<‐+¡«»_•*>›=€·■♦£💃🏽∙≠{}¿😂¥̇̃★§🇺🇸©！💣。^‑🔥😡″̀🚨⃣😤🌫`●🤭✓📖📹✋👀¢💔😞‒📲📺🎙￼😎↓❤️😘🎉🥂🦔🥩🐐🍑🤸🕳🌵⛽⚕🔊™†‾′̈״÷💜💛¨´💥☄́~‚⌚↑🏁🇰🇪🌎→🗣─‼◇😾🤷🏻♂✔💪®♪😱👍،¯⌘🌈🤩✨̊🤣−😉♥👏💩🤐💋🧓👮👴♀🥴🐎⚡🤔🙁×💯🚂🙏🏾่াং়ে্িু🍆💦🎥💌◾📱👋🏼؟🙂🚫❗🙄🛑🌧❄̶🤝；🤯🧵😹¶➡😏🔧✌➼◉🐱⚪̧̄➔😺😁🇬🇧👎🍺'"
   ]
  },
  {
   "cell_type": "markdown",
   "metadata": {},
   "source": [
    "# import csv"
   ]
  },
  {
   "cell_type": "markdown",
   "metadata": {},
   "source": [
    "## 2019"
   ]
  },
  {
   "cell_type": "code",
   "execution_count": 63,
   "metadata": {},
   "outputs": [
    {
     "name": "stdout",
     "output_type": "stream",
     "text": [
      "11:42:49.776971\n",
      "CPU times: user 2.73 s, sys: 290 ms, total: 3.02 s\n",
      "Wall time: 3.02 s\n"
     ]
    }
   ],
   "source": [
    "%%time\n",
    "print(datetime.now().time())\n",
    "jan19 = pd.read_csv('2019_build/_01_2019.csv', index_col='Unnamed: 0')\n",
    "feb19 = pd.read_csv('2019_build/_02_2019.csv', index_col='Unnamed: 0')\n",
    "mar19 = pd.read_csv('2019_build/_03_2019.csv', index_col='Unnamed: 0')\n",
    "apr19 = pd.read_csv('2019_build/_04_2019.csv', index_col='Unnamed: 0')\n",
    "may19 = pd.read_csv('2019_build/_05_2019.csv', index_col='Unnamed: 0')\n",
    "jun19 = pd.read_csv('2019_build/_06_2019.csv', index_col='Unnamed: 0')\n",
    "jul19 = pd.read_csv('2019_build/_07_2019.csv', index_col='Unnamed: 0')\n",
    "aug19 = pd.read_csv('2019_build/_08_2019.csv', index_col='Unnamed: 0')\n",
    "sep19 = pd.read_csv('2019_build/_09_2019.csv', index_col='Unnamed: 0')\n",
    "oct19 = pd.read_csv('2019_build/_10_2019.csv', index_col='Unnamed: 0')\n",
    "nov19 = pd.read_csv('2019_build/_11_2019.csv', index_col='Unnamed: 0')\n",
    "dec19 = pd.read_csv('2019_build/_12_2019.csv', index_col='Unnamed: 0')"
   ]
  },
  {
   "cell_type": "code",
   "execution_count": 56,
   "metadata": {},
   "outputs": [],
   "source": [
    "jan19_df = jan19.copy()\n",
    "feb19_df = feb19.copy()\n",
    "mar19_df = mar19.copy()\n",
    "apr19_df = apr19.copy()\n",
    "may19_df = may19.copy()\n",
    "jun19_df = jun19.copy()\n",
    "jul19_df = jul19.copy()\n",
    "aug19_df = aug19.copy()\n",
    "sep19_df = sep19.copy()\n",
    "oct19_df = oct19.copy()\n",
    "nov19_df = nov19.copy()\n",
    "dec19_df = dec19.copy()"
   ]
  },
  {
   "cell_type": "code",
   "execution_count": 57,
   "metadata": {},
   "outputs": [],
   "source": [
    "list_2019_df = [jan19_df, feb19_df, mar19_df, apr19_df, may19_df, jun19_df, jul19_df, aug19_df, sep19_df, oct19_df, nov19_df, dec19_df]"
   ]
  },
  {
   "cell_type": "code",
   "execution_count": 58,
   "metadata": {},
   "outputs": [
    {
     "name": "stdout",
     "output_type": "stream",
     "text": [
      "CPU times: user 78.2 ms, sys: 31.8 ms, total: 110 ms\n",
      "Wall time: 109 ms\n"
     ]
    }
   ],
   "source": [
    "%%time\n",
    "uber2019 = pd.concat(list_2019_df)\n",
    "uber2019.reset_index(drop=True, inplace=True)"
   ]
  },
  {
   "cell_type": "code",
   "execution_count": 59,
   "metadata": {},
   "outputs": [
    {
     "data": {
      "text/plain": [
       "Index(['abstract', 'web_url', 'snippet', 'lead_paragraph', 'source',\n",
       "       'multimedia', 'headline', 'keywords', 'pub_date', 'document_type',\n",
       "       'news_desk', 'section_name', 'byline', 'type_of_material', '_id',\n",
       "       'word_count', 'uri', 'print_section', 'print_page', 'subsection_name',\n",
       "       'text'],\n",
       "      dtype='object')"
      ]
     },
     "execution_count": 59,
     "metadata": {},
     "output_type": "execute_result"
    }
   ],
   "source": [
    "uber2019.columns"
   ]
  },
  {
   "cell_type": "code",
   "execution_count": 60,
   "metadata": {},
   "outputs": [
    {
     "name": "stdout",
     "output_type": "stream",
     "text": [
      "Op-Ed: 4139\n",
      "News: 37609\n",
      "(41748, 21)\n"
     ]
    }
   ],
   "source": [
    "print(f'Op-Ed: {sum(uber2019.type_of_material == \"Op-Ed\")}')\n",
    "print(f'News: {sum(uber2019.type_of_material == \"News\")}')\n",
    "print(uber2019.shape)"
   ]
  },
  {
   "cell_type": "code",
   "execution_count": 46,
   "metadata": {},
   "outputs": [
    {
     "data": {
      "text/plain": [
       "37609"
      ]
     },
     "execution_count": 46,
     "metadata": {},
     "output_type": "execute_result"
    }
   ],
   "source": [
    "sum(uber2019.type_of_material == \"News\")"
   ]
  },
  {
   "cell_type": "markdown",
   "metadata": {},
   "source": [
    "## 2018"
   ]
  },
  {
   "cell_type": "code",
   "execution_count": 31,
   "metadata": {},
   "outputs": [
    {
     "name": "stdout",
     "output_type": "stream",
     "text": [
      "11:04:11.450449\n",
      "CPU times: user 2.87 s, sys: 414 ms, total: 3.29 s\n",
      "Wall time: 3.29 s\n"
     ]
    }
   ],
   "source": []
  },
  {
   "cell_type": "code",
   "execution_count": 66,
   "metadata": {},
   "outputs": [
    {
     "name": "stdout",
     "output_type": "stream",
     "text": [
      "2020-12-05 11:50:25.664535\n",
      "CPU times: user 2.35 s, sys: 256 ms, total: 2.6 s\n",
      "Wall time: 2.6 s\n"
     ]
    }
   ],
   "source": [
    "%%time\n",
    "print(datetime.now())\n",
    "\n",
    "jan18 = pd.read_csv('2018_build/_01_2018.csv', index_col='Unnamed: 0')\n",
    "feb18 = pd.read_csv('2018_build/_01_2018.csv', index_col='Unnamed: 0')\n",
    "mar18 = pd.read_csv('2018_build/_01_2018.csv', index_col='Unnamed: 0')\n",
    "apr18 = pd.read_csv('2018_build/_01_2018.csv', index_col='Unnamed: 0')\n",
    "may18 = pd.read_csv('2018_build/_01_2018.csv', index_col='Unnamed: 0')\n",
    "jun18 = pd.read_csv('2018_build/_01_2018.csv', index_col='Unnamed: 0')\n",
    "jul18 = pd.read_csv('2018_build/_01_2018.csv', index_col='Unnamed: 0')\n",
    "aug18 = pd.read_csv('2018_build/_01_2018.csv', index_col='Unnamed: 0')\n",
    "sep18 = pd.read_csv('2018_build/_01_2018.csv', index_col='Unnamed: 0')\n",
    "oct18 = pd.read_csv('2018_build/_01_2018.csv', index_col='Unnamed: 0')\n",
    "#nov18 = pd.read_csv('2018_build/_01_2018.csv', index_col='Unnamed: 0')\n",
    "dec18 = pd.read_csv('2018_build/_01_2018.csv', index_col='Unnamed: 0')"
   ]
  },
  {
   "cell_type": "code",
   "execution_count": 68,
   "metadata": {},
   "outputs": [
    {
     "name": "stdout",
     "output_type": "stream",
     "text": [
      "2020-12-05 11:51:02.937354\n",
      "CPU times: user 12.8 ms, sys: 1.89 ms, total: 14.7 ms\n",
      "Wall time: 13.2 ms\n"
     ]
    }
   ],
   "source": [
    "%%time\n",
    "print(datetime.now())\n",
    "\n",
    "\n",
    "jan18_df = jan18.copy()\n",
    "feb18_df = feb18.copy()\n",
    "mar18_df = mar18.copy()\n",
    "apr18_df = apr18.copy()\n",
    "may18_df = may18.copy()\n",
    "jun18_df = jun18.copy()\n",
    "jul18_df = jul18.copy()\n",
    "aug18_df = aug18.copy()\n",
    "sep18_df = sep18.copy()\n",
    "oct18_df = oct18.copy()\n",
    "#nov18_df = nov18.copy()\n",
    "dec18_df = dec18.copy()"
   ]
  },
  {
   "cell_type": "code",
   "execution_count": 69,
   "metadata": {},
   "outputs": [],
   "source": [
    "list_2018_df = [jan18_df, feb18_df, mar18_df, apr18_df, may18_df, jun18_df, jul18_df, aug18_df, sep18_df, oct18_df, dec18_df]# nov18_df,"
   ]
  },
  {
   "cell_type": "code",
   "execution_count": 71,
   "metadata": {},
   "outputs": [
    {
     "name": "stdout",
     "output_type": "stream",
     "text": [
      "Op-Ed: 3993\n",
      "News: 35255\n",
      "(39248, 21)\n",
      "CPU times: user 50.1 ms, sys: 5.28 ms, total: 55.4 ms\n",
      "Wall time: 54.5 ms\n"
     ]
    }
   ],
   "source": [
    "%%time\n",
    "uber2018 = pd.concat(list_2018_df)\n",
    "uber2018.reset_index(drop=True, inplace=True)\n",
    "\n",
    "print(f'Op-Ed: {sum(uber2018.type_of_material == \"Op-Ed\")}')\n",
    "print(f'News: {sum(uber2018.type_of_material == \"News\")}')\n",
    "print(uber2018.shape)"
   ]
  },
  {
   "cell_type": "markdown",
   "metadata": {},
   "source": [
    "## 2017"
   ]
  },
  {
   "cell_type": "code",
   "execution_count": 72,
   "metadata": {},
   "outputs": [],
   "source": [
    "jan17 = pd.read_csv('2017_build/_01_2017.csv', index_col='Unnamed: 0')\n",
    "feb17 = pd.read_csv('2017_build/_02_2017.csv', index_col='Unnamed: 0')\n",
    "mar17 = pd.read_csv('2017_build/_03_2017.csv', index_col='Unnamed: 0')\n",
    "apr17 = pd.read_csv('2017_build/_04_2017.csv', index_col='Unnamed: 0')\n",
    "may17 = pd.read_csv('2017_build/_05_2017.csv', index_col='Unnamed: 0')\n",
    "jun17 = pd.read_csv('2017_build/_06_2017.csv', index_col='Unnamed: 0')\n",
    "jul17 = pd.read_csv('2017_build/_07_2017.csv', index_col='Unnamed: 0')\n",
    "aug17 = pd.read_csv('2017_build/_08_2017.csv', index_col='Unnamed: 0')\n",
    "sep17 = pd.read_csv('2017_build/_09_2017.csv', index_col='Unnamed: 0')\n",
    "oct17 = pd.read_csv('2017_build/_10_2017.csv', index_col='Unnamed: 0')\n",
    "nov17 = pd.read_csv('2017_build/_11_2017.csv', index_col='Unnamed: 0')\n",
    "dec17 = pd.read_csv('2017_build/_12_2017.csv', index_col='Unnamed: 0')"
   ]
  },
  {
   "cell_type": "code",
   "execution_count": 73,
   "metadata": {},
   "outputs": [],
   "source": [
    "jan17_df = jan17.copy()\n",
    "feb17_df = feb17.copy()\n",
    "mar17_df = mar17.copy()\n",
    "apr17_df = apr17.copy()\n",
    "may17_df = may17.copy()\n",
    "jun17_df = jun17.copy()\n",
    "jul17_df = jul17.copy()\n",
    "aug17_df = aug17.copy()\n",
    "sep17_df = sep17.copy()\n",
    "oct17_df = oct17.copy()\n",
    "nov17_df = nov17.copy()\n",
    "dec17_df = dec17.copy()"
   ]
  },
  {
   "cell_type": "code",
   "execution_count": 74,
   "metadata": {},
   "outputs": [],
   "source": [
    "list_2017_df = [jan17_df, feb17_df, mar17_df, apr17_df, may17_df, jun17_df, jul17_df, aug17_df, sep17_df, oct17_df, nov17_df, dec17_df]"
   ]
  },
  {
   "cell_type": "code",
   "execution_count": 76,
   "metadata": {},
   "outputs": [
    {
     "name": "stdout",
     "output_type": "stream",
     "text": [
      "Op-Ed: 3993\n",
      "News: 35255\n",
      "(39248, 21)\n",
      "CPU times: user 51.2 ms, sys: 6.15 ms, total: 57.4 ms\n",
      "Wall time: 56 ms\n"
     ]
    }
   ],
   "source": [
    "%%time\n",
    "uber2017 = pd.concat(list_2018_df)\n",
    "uber2017.reset_index(drop=True, inplace=True)\n",
    "\n",
    "print(f'Op-Ed: {sum(uber2017.type_of_material == \"Op-Ed\")}')\n",
    "print(f'News: {sum(uber2017.type_of_material == \"News\")}')\n",
    "print(uber2017.shape)"
   ]
  },
  {
   "cell_type": "markdown",
   "metadata": {},
   "source": [
    "# 2016"
   ]
  },
  {
   "cell_type": "code",
   "execution_count": 20,
   "metadata": {},
   "outputs": [],
   "source": [
    "jan16 = pd.read_csv('2016_build/jan16.csv', index_col='Unnamed: 0')\n",
    "feb16 = pd.read_csv('2016_build/feb16.csv', index_col='Unnamed: 0')\n",
    "mar16 = pd.read_csv('2016_build/mar16.csv', index_col='Unnamed: 0')\n",
    "apr16 = pd.read_csv('2016_build/apr16.csv', index_col='Unnamed: 0')\n",
    "may16 = pd.read_csv('2016_build/may16.csv', index_col='Unnamed: 0')\n",
    "jun16 = pd.read_csv('2016_build/jun16.csv', index_col='Unnamed: 0')\n",
    "jul16 = pd.read_csv('2016_build/jul16.csv', index_col='Unnamed: 0')\n",
    "aug16 = pd.read_csv('2016_build/aug16.csv', index_col='Unnamed: 0')\n",
    "sep16 = pd.read_csv('2016_build/sep16.csv', index_col='Unnamed: 0')\n",
    "oct16 = pd.read_csv('2016_build/oct16.csv', index_col='Unnamed: 0')\n",
    "nov16 = pd.read_csv('2016_build/nov16.csv', index_col='Unnamed: 0')\n",
    "dec16 = pd.read_csv('2016_build/dec16.csv', index_col='Unnamed: 0')"
   ]
  },
  {
   "cell_type": "code",
   "execution_count": 21,
   "metadata": {},
   "outputs": [],
   "source": [
    "jan16_df = jan16.copy()\n",
    "feb16_df = feb16.copy()\n",
    "mar16_df = mar16.copy()\n",
    "apr16_df = apr16.copy()\n",
    "may16_df = may16.copy()\n",
    "jun16_df = jun16.copy()\n",
    "jul16_df = jul16.copy()\n",
    "aug16_df = aug16.copy()\n",
    "sep16_df = sep16.copy()\n",
    "oct16_df = oct16.copy()\n",
    "nov16_df = nov16.copy()\n",
    "dec16_df = dec16.copy()"
   ]
  },
  {
   "cell_type": "code",
   "execution_count": 22,
   "metadata": {},
   "outputs": [],
   "source": [
    "list_2016_df = [jan16_df, feb16_df, mar16_df, apr16_df, may16_df, jun16_df, jul16_df, aug16_df, sep16_df, oct16_df, nov16_df, dec16_df]"
   ]
  },
  {
   "cell_type": "code",
   "execution_count": 23,
   "metadata": {},
   "outputs": [],
   "source": [
    "%%time\n",
    "uber2016 = pd.concat(list_2016_df)\n",
    "uber2016.reset_index(drop=True, inplace=True)"
   ]
  },
  {
   "cell_type": "code",
   "execution_count": 24,
   "metadata": {},
   "outputs": [],
   "source": [
    "print(uber2019.shape)\n",
    "print(uber2018.shape)\n",
    "print(uber2017.shape)\n",
    "print(uber2016.shape)"
   ]
  },
  {
   "cell_type": "code",
   "execution_count": null,
   "metadata": {},
   "outputs": [],
   "source": [
    "#full_19 = uber2019.to_csv('raw_19.csv')"
   ]
  },
  {
   "cell_type": "markdown",
   "metadata": {},
   "source": [
    "# concat years into ranges"
   ]
  },
  {
   "cell_type": "code",
   "execution_count": 25,
   "metadata": {},
   "outputs": [],
   "source": [
    "# function to concat ranges"
   ]
  },
  {
   "cell_type": "markdown",
   "metadata": {},
   "source": [
    "# column parsing"
   ]
  },
  {
   "cell_type": "code",
   "execution_count": 109,
   "metadata": {},
   "outputs": [],
   "source": [
    "all_but_text_type = ['abstract', 'web_url', 'snippet', 'lead_paragraph', 'source',\n",
    "       'multimedia', 'headline', 'keywords', 'pub_date', 'document_type',\n",
    "       'news_desk', 'section_name', 'byline', '_id',\n",
    "       'word_count', 'uri', 'print_section', 'print_page', 'subsection_name']"
   ]
  },
  {
   "cell_type": "code",
   "execution_count": 110,
   "metadata": {},
   "outputs": [],
   "source": [
    "text_type = ['text', 'type_of_material']"
   ]
  },
  {
   "cell_type": "code",
   "execution_count": null,
   "metadata": {},
   "outputs": [],
   "source": []
  },
  {
   "cell_type": "code",
   "execution_count": null,
   "metadata": {},
   "outputs": [],
   "source": []
  },
  {
   "cell_type": "code",
   "execution_count": null,
   "metadata": {},
   "outputs": [],
   "source": []
  },
  {
   "cell_type": "code",
   "execution_count": null,
   "metadata": {},
   "outputs": [],
   "source": []
  },
  {
   "cell_type": "code",
   "execution_count": null,
   "metadata": {},
   "outputs": [],
   "source": []
  },
  {
   "cell_type": "code",
   "execution_count": null,
   "metadata": {},
   "outputs": [],
   "source": []
  },
  {
   "cell_type": "code",
   "execution_count": null,
   "metadata": {},
   "outputs": [],
   "source": []
  },
  {
   "cell_type": "code",
   "execution_count": null,
   "metadata": {},
   "outputs": [],
   "source": []
  },
  {
   "cell_type": "code",
   "execution_count": null,
   "metadata": {},
   "outputs": [],
   "source": []
  },
  {
   "cell_type": "code",
   "execution_count": null,
   "metadata": {},
   "outputs": [],
   "source": []
  },
  {
   "cell_type": "markdown",
   "metadata": {},
   "source": [
    "# capstone2 export"
   ]
  },
  {
   "cell_type": "code",
   "execution_count": 143,
   "metadata": {},
   "outputs": [],
   "source": [
    "capstone2 = uber2019.copy()"
   ]
  },
  {
   "cell_type": "code",
   "execution_count": 149,
   "metadata": {},
   "outputs": [
    {
     "data": {
      "text/plain": [
       "Index(['abstract', 'web_url', 'snippet', 'lead_paragraph', 'source',\n",
       "       'multimedia', 'headline', 'keywords', 'pub_date', 'document_type',\n",
       "       'news_desk', 'section_name', 'byline', 'type_of_material', '_id',\n",
       "       'word_count', 'uri', 'print_section', 'print_page', 'subsection_name',\n",
       "       'text'],\n",
       "      dtype='object')"
      ]
     },
     "execution_count": 149,
     "metadata": {},
     "output_type": "execute_result"
    }
   ],
   "source": [
    "capstone2.columns"
   ]
  },
  {
   "cell_type": "markdown",
   "metadata": {},
   "source": [
    "## filter type_of_material by section_name (2019 ONLY!)"
   ]
  },
  {
   "cell_type": "code",
   "execution_count": 151,
   "metadata": {},
   "outputs": [],
   "source": [
    "capstone2['text'] = capstone2.apply(trim_first_name, axis=1)"
   ]
  },
  {
   "cell_type": "markdown",
   "metadata": {},
   "source": [
    "## filter type_of_material by section_name (2019 ONLY!)"
   ]
  },
  {
   "cell_type": "code",
   "execution_count": 152,
   "metadata": {},
   "outputs": [
    {
     "data": {
      "text/plain": [
       "(41748, 21)"
      ]
     },
     "execution_count": 152,
     "metadata": {},
     "output_type": "execute_result"
    }
   ],
   "source": [
    "capstone2.shape"
   ]
  },
  {
   "cell_type": "code",
   "execution_count": 153,
   "metadata": {},
   "outputs": [],
   "source": [
    "p_sec_na = capstone2.print_section.notna()"
   ]
  },
  {
   "cell_type": "code",
   "execution_count": 154,
   "metadata": {},
   "outputs": [],
   "source": [
    "capstone2 = capstone2[p_sec_na]"
   ]
  },
  {
   "cell_type": "code",
   "execution_count": 155,
   "metadata": {},
   "outputs": [
    {
     "data": {
      "text/plain": [
       "(30256, 21)"
      ]
     },
     "execution_count": 155,
     "metadata": {},
     "output_type": "execute_result"
    }
   ],
   "source": [
    "capstone2.shape"
   ]
  },
  {
   "cell_type": "code",
   "execution_count": 156,
   "metadata": {},
   "outputs": [
    {
     "data": {
      "text/plain": [
       "28213"
      ]
     },
     "execution_count": 156,
     "metadata": {},
     "output_type": "execute_result"
    }
   ],
   "source": [
    "sum(capstone2['type_of_material'] == 'News')"
   ]
  },
  {
   "cell_type": "code",
   "execution_count": 157,
   "metadata": {},
   "outputs": [
    {
     "data": {
      "text/plain": [
       "2043"
      ]
     },
     "execution_count": 157,
     "metadata": {},
     "output_type": "execute_result"
    }
   ],
   "source": [
    "sum(capstone2['type_of_material'] == 'Op-Ed')"
   ]
  },
  {
   "cell_type": "code",
   "execution_count": 158,
   "metadata": {},
   "outputs": [
    {
     "name": "stdout",
     "output_type": "stream",
     "text": [
      "(30256, 21)\n",
      "CPU times: user 551 µs, sys: 279 µs, total: 830 µs\n",
      "Wall time: 1.79 ms\n"
     ]
    }
   ],
   "source": [
    "%%time\n",
    "# p_sec_na = capstone2.print_section.notna()\n",
    "# capstone2 = capstone2[[p_sec_na]]#.reset_index(inplace=True)\n",
    "print(capstone2.shape)"
   ]
  },
  {
   "cell_type": "code",
   "execution_count": 159,
   "metadata": {},
   "outputs": [],
   "source": [
    "p_sec_na = capstone2.print_section.notna()"
   ]
  },
  {
   "cell_type": "code",
   "execution_count": null,
   "metadata": {},
   "outputs": [],
   "source": []
  },
  {
   "cell_type": "code",
   "execution_count": 160,
   "metadata": {},
   "outputs": [
    {
     "name": "stdout",
     "output_type": "stream",
     "text": [
      "  text type_of_material\n",
      "0  NaN            Op-Ed\n",
      "1  NaN            Op-Ed\n",
      "2  NaN            Op-Ed\n",
      "3  NaN            Op-Ed\n",
      "4  NaN            Op-Ed\n",
      "News     28213\n",
      "Op-Ed     2043\n",
      "Name: type_of_material, dtype: int64\n",
      "CPU times: user 14.8 ms, sys: 2.36 ms, total: 17.2 ms\n",
      "Wall time: 20.1 ms\n"
     ]
    }
   ],
   "source": [
    "%%time\n",
    "capstone2.reset_index(inplace=True, drop=True)\n",
    "capstone2 = capstone2[text_type]\n",
    "print(capstone2.head())\n",
    "print(capstone2.type_of_material.value_counts())"
   ]
  },
  {
   "cell_type": "code",
   "execution_count": 161,
   "metadata": {},
   "outputs": [
    {
     "data": {
      "text/plain": [
       "(30256, 2)"
      ]
     },
     "execution_count": 161,
     "metadata": {},
     "output_type": "execute_result"
    }
   ],
   "source": [
    "capstone2.shape"
   ]
  },
  {
   "cell_type": "markdown",
   "metadata": {},
   "source": [
    "# take out your punctuation"
   ]
  },
  {
   "cell_type": "code",
   "execution_count": 104,
   "metadata": {},
   "outputs": [
    {
     "name": "stdout",
     "output_type": "stream",
     "text": [
      "CPU times: user 3.33 s, sys: 216 ms, total: 3.55 s\n",
      "Wall time: 3.65 s\n"
     ]
    }
   ],
   "source": [
    "%%time\n",
    "capstone2.to_csv('data/capstone2_2019_final.csv')"
   ]
  },
  {
   "cell_type": "markdown",
   "metadata": {},
   "source": [
    "# didn't move type_of_material news section opinion to type_of_material"
   ]
  },
  {
   "cell_type": "code",
   "execution_count": 105,
   "metadata": {},
   "outputs": [
    {
     "name": "stdout",
     "output_type": "stream",
     "text": [
      "CPU times: user 28.7 s, sys: 332 ms, total: 29 s\n",
      "Wall time: 29.3 s\n"
     ]
    },
    {
     "data": {
      "text/plain": [
       "0         In 2019 heres what we could do instead In mos...\n",
       "1         Many years before back in Russia the two youn...\n",
       "2         At a critical moment in the film just after t...\n",
       "3         No other country in the world symbolizes the ...\n",
       "4         The cycle has to be reversed In the United St...\n",
       "                               ...                        \n",
       "30251                                                  NaN\n",
       "30252     The two men have a history of friction and Ch...\n",
       "30253     Inside his checked luggage wrapped in a plast...\n",
       "30254     Chief Gallagher was acquitted this summer of ...\n",
       "30255     Draft letters posted online Tuesday by the En...\n",
       "Name: text, Length: 30256, dtype: object"
      ]
     },
     "execution_count": 105,
     "metadata": {},
     "output_type": "execute_result"
    }
   ],
   "source": [
    "%%time\n",
    "capstone2.text.apply(punc_strip)"
   ]
  },
  {
   "cell_type": "code",
   "execution_count": 106,
   "metadata": {},
   "outputs": [
    {
     "ename": "AttributeError",
     "evalue": "'DataFrame' object has no attribute 'print_section'",
     "output_type": "error",
     "traceback": [
      "\u001b[0;31m---------------------------------------------------------------------------\u001b[0m",
      "\u001b[0;31mAttributeError\u001b[0m                            Traceback (most recent call last)",
      "\u001b[0;32m<timed exec>\u001b[0m in \u001b[0;36m<module>\u001b[0;34m\u001b[0m\n",
      "\u001b[0;32m~/opt/anaconda3/lib/python3.7/site-packages/pandas/core/generic.py\u001b[0m in \u001b[0;36m__getattr__\u001b[0;34m(self, name)\u001b[0m\n\u001b[1;32m   5137\u001b[0m             \u001b[0;32mif\u001b[0m \u001b[0mself\u001b[0m\u001b[0;34m.\u001b[0m\u001b[0m_info_axis\u001b[0m\u001b[0;34m.\u001b[0m\u001b[0m_can_hold_identifiers_and_holds_name\u001b[0m\u001b[0;34m(\u001b[0m\u001b[0mname\u001b[0m\u001b[0;34m)\u001b[0m\u001b[0;34m:\u001b[0m\u001b[0;34m\u001b[0m\u001b[0;34m\u001b[0m\u001b[0m\n\u001b[1;32m   5138\u001b[0m                 \u001b[0;32mreturn\u001b[0m \u001b[0mself\u001b[0m\u001b[0;34m[\u001b[0m\u001b[0mname\u001b[0m\u001b[0;34m]\u001b[0m\u001b[0;34m\u001b[0m\u001b[0;34m\u001b[0m\u001b[0m\n\u001b[0;32m-> 5139\u001b[0;31m             \u001b[0;32mreturn\u001b[0m \u001b[0mobject\u001b[0m\u001b[0;34m.\u001b[0m\u001b[0m__getattribute__\u001b[0m\u001b[0;34m(\u001b[0m\u001b[0mself\u001b[0m\u001b[0;34m,\u001b[0m \u001b[0mname\u001b[0m\u001b[0;34m)\u001b[0m\u001b[0;34m\u001b[0m\u001b[0;34m\u001b[0m\u001b[0m\n\u001b[0m\u001b[1;32m   5140\u001b[0m \u001b[0;34m\u001b[0m\u001b[0m\n\u001b[1;32m   5141\u001b[0m     \u001b[0;32mdef\u001b[0m \u001b[0m__setattr__\u001b[0m\u001b[0;34m(\u001b[0m\u001b[0mself\u001b[0m\u001b[0;34m,\u001b[0m \u001b[0mname\u001b[0m\u001b[0;34m:\u001b[0m \u001b[0mstr\u001b[0m\u001b[0;34m,\u001b[0m \u001b[0mvalue\u001b[0m\u001b[0;34m)\u001b[0m \u001b[0;34m->\u001b[0m \u001b[0;32mNone\u001b[0m\u001b[0;34m:\u001b[0m\u001b[0;34m\u001b[0m\u001b[0;34m\u001b[0m\u001b[0m\n",
      "\u001b[0;31mAttributeError\u001b[0m: 'DataFrame' object has no attribute 'print_section'"
     ]
    }
   ],
   "source": [
    "%%time\n",
    "p_sec_na = capstone2.print_section.notna()\n",
    "capstone2 = capstone2[p_sec_na]#.reset_index(inplace=True)"
   ]
  },
  {
   "cell_type": "code",
   "execution_count": 107,
   "metadata": {},
   "outputs": [
    {
     "name": "stdout",
     "output_type": "stream",
     "text": [
      "CPU times: user 2 µs, sys: 0 ns, total: 2 µs\n",
      "Wall time: 3.81 µs\n"
     ]
    },
    {
     "data": {
      "text/html": [
       "<div>\n",
       "<style scoped>\n",
       "    .dataframe tbody tr th:only-of-type {\n",
       "        vertical-align: middle;\n",
       "    }\n",
       "\n",
       "    .dataframe tbody tr th {\n",
       "        vertical-align: top;\n",
       "    }\n",
       "\n",
       "    .dataframe thead th {\n",
       "        text-align: right;\n",
       "    }\n",
       "</style>\n",
       "<table border=\"1\" class=\"dataframe\">\n",
       "  <thead>\n",
       "    <tr style=\"text-align: right;\">\n",
       "      <th></th>\n",
       "      <th>text</th>\n",
       "      <th>type_of_material</th>\n",
       "    </tr>\n",
       "  </thead>\n",
       "  <tbody>\n",
       "    <tr>\n",
       "      <th>0</th>\n",
       "      <td>', 'In 2019, here’s what we could do instead.'...</td>\n",
       "      <td>Op-Ed</td>\n",
       "    </tr>\n",
       "    <tr>\n",
       "      <th>1</th>\n",
       "      <td>', 'Many years before, back in Russia, the two...</td>\n",
       "      <td>Op-Ed</td>\n",
       "    </tr>\n",
       "    <tr>\n",
       "      <th>2</th>\n",
       "      <td>', 'At a critical moment in the film, just aft...</td>\n",
       "      <td>Op-Ed</td>\n",
       "    </tr>\n",
       "    <tr>\n",
       "      <th>3</th>\n",
       "      <td>', 'No other country in the world symbolizes t...</td>\n",
       "      <td>Op-Ed</td>\n",
       "    </tr>\n",
       "    <tr>\n",
       "      <th>4</th>\n",
       "      <td>', 'The cycle has to be reversed. In the Unite...</td>\n",
       "      <td>Op-Ed</td>\n",
       "    </tr>\n",
       "    <tr>\n",
       "      <th>...</th>\n",
       "      <td>...</td>\n",
       "      <td>...</td>\n",
       "    </tr>\n",
       "    <tr>\n",
       "      <th>30251</th>\n",
       "      <td>NaN</td>\n",
       "      <td>News</td>\n",
       "    </tr>\n",
       "    <tr>\n",
       "      <th>30252</th>\n",
       "      <td>', 'The two men have a history of friction, an...</td>\n",
       "      <td>News</td>\n",
       "    </tr>\n",
       "    <tr>\n",
       "      <th>30253</th>\n",
       "      <td>', 'Inside his checked luggage, wrapped in a p...</td>\n",
       "      <td>News</td>\n",
       "    </tr>\n",
       "    <tr>\n",
       "      <th>30254</th>\n",
       "      <td>', 'Chief Gallagher was acquitted this summer ...</td>\n",
       "      <td>News</td>\n",
       "    </tr>\n",
       "    <tr>\n",
       "      <th>30255</th>\n",
       "      <td>', 'Draft letters posted online Tuesday by the...</td>\n",
       "      <td>News</td>\n",
       "    </tr>\n",
       "  </tbody>\n",
       "</table>\n",
       "<p>30256 rows × 2 columns</p>\n",
       "</div>"
      ],
      "text/plain": [
       "                                                    text type_of_material\n",
       "0      ', 'In 2019, here’s what we could do instead.'...            Op-Ed\n",
       "1      ', 'Many years before, back in Russia, the two...            Op-Ed\n",
       "2      ', 'At a critical moment in the film, just aft...            Op-Ed\n",
       "3      ', 'No other country in the world symbolizes t...            Op-Ed\n",
       "4      ', 'The cycle has to be reversed. In the Unite...            Op-Ed\n",
       "...                                                  ...              ...\n",
       "30251                                                NaN             News\n",
       "30252  ', 'The two men have a history of friction, an...             News\n",
       "30253  ', 'Inside his checked luggage, wrapped in a p...             News\n",
       "30254  ', 'Chief Gallagher was acquitted this summer ...             News\n",
       "30255  ', 'Draft letters posted online Tuesday by the...             News\n",
       "\n",
       "[30256 rows x 2 columns]"
      ]
     },
     "execution_count": 107,
     "metadata": {},
     "output_type": "execute_result"
    }
   ],
   "source": [
    "%%time\n",
    "capstone2"
   ]
  },
  {
   "cell_type": "code",
   "execution_count": null,
   "metadata": {},
   "outputs": [],
   "source": []
  },
  {
   "cell_type": "code",
   "execution_count": 22,
   "metadata": {},
   "outputs": [
    {
     "name": "stdout",
     "output_type": "stream",
     "text": [
      "10:31:29.367782\n"
     ]
    }
   ],
   "source": []
  },
  {
   "cell_type": "code",
   "execution_count": null,
   "metadata": {},
   "outputs": [],
   "source": []
  }
 ],
 "metadata": {
  "kernelspec": {
   "display_name": "Python 3",
   "language": "python",
   "name": "python3"
  },
  "language_info": {
   "codemirror_mode": {
    "name": "ipython",
    "version": 3
   },
   "file_extension": ".py",
   "mimetype": "text/x-python",
   "name": "python",
   "nbconvert_exporter": "python",
   "pygments_lexer": "ipython3",
   "version": "3.7.9"
  }
 },
 "nbformat": 4,
 "nbformat_minor": 4
}
