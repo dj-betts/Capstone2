{
 "cells": [
  {
   "cell_type": "code",
   "execution_count": 2,
   "metadata": {},
   "outputs": [],
   "source": [
    "import pandas as pd"
   ]
  },
  {
   "cell_type": "code",
   "execution_count": 3,
   "metadata": {},
   "outputs": [],
   "source": [
    "from datetime import datetime"
   ]
  },
  {
   "cell_type": "code",
   "execution_count": 4,
   "metadata": {},
   "outputs": [],
   "source": [
    "#import for turning byline string-type into byline dictionary-type\n",
    "\n",
    "import ast"
   ]
  },
  {
   "cell_type": "markdown",
   "metadata": {},
   "source": [
    "## filter type_of_material by section_name (2019 ONLY!)"
   ]
  },
  {
   "cell_type": "code",
   "execution_count": 151,
   "metadata": {},
   "outputs": [],
   "source": [
    "capstone2['text'] = capstone2.apply(trim_first_name, axis=1)"
   ]
  },
  {
   "cell_type": "markdown",
   "metadata": {},
   "source": [
    "## filter type_of_material by section_name (2019 ONLY!)"
   ]
  },
  {
   "cell_type": "code",
   "execution_count": 152,
   "metadata": {},
   "outputs": [
    {
     "data": {
      "text/plain": [
       "(41748, 21)"
      ]
     },
     "execution_count": 152,
     "metadata": {},
     "output_type": "execute_result"
    }
   ],
   "source": [
    "capstone2.shape"
   ]
  },
  {
   "cell_type": "code",
   "execution_count": 153,
   "metadata": {},
   "outputs": [],
   "source": [
    "p_sec_na = capstone2.print_section.notna()"
   ]
  },
  {
   "cell_type": "code",
   "execution_count": 154,
   "metadata": {},
   "outputs": [],
   "source": [
    "capstone2 = capstone2[p_sec_na]"
   ]
  },
  {
   "cell_type": "code",
   "execution_count": 155,
   "metadata": {},
   "outputs": [
    {
     "data": {
      "text/plain": [
       "(30256, 21)"
      ]
     },
     "execution_count": 155,
     "metadata": {},
     "output_type": "execute_result"
    }
   ],
   "source": [
    "capstone2.shape"
   ]
  },
  {
   "cell_type": "code",
   "execution_count": 156,
   "metadata": {},
   "outputs": [
    {
     "data": {
      "text/plain": [
       "28213"
      ]
     },
     "execution_count": 156,
     "metadata": {},
     "output_type": "execute_result"
    }
   ],
   "source": [
    "sum(capstone2['type_of_material'] == 'News')"
   ]
  },
  {
   "cell_type": "code",
   "execution_count": 157,
   "metadata": {},
   "outputs": [
    {
     "data": {
      "text/plain": [
       "2043"
      ]
     },
     "execution_count": 157,
     "metadata": {},
     "output_type": "execute_result"
    }
   ],
   "source": [
    "sum(capstone2['type_of_material'] == 'Op-Ed')"
   ]
  },
  {
   "cell_type": "code",
   "execution_count": 158,
   "metadata": {},
   "outputs": [
    {
     "name": "stdout",
     "output_type": "stream",
     "text": [
      "(30256, 21)\n",
      "CPU times: user 551 µs, sys: 279 µs, total: 830 µs\n",
      "Wall time: 1.79 ms\n"
     ]
    }
   ],
   "source": [
    "%%time\n",
    "# p_sec_na = capstone2.print_section.notna()\n",
    "# capstone2 = capstone2[[p_sec_na]]#.reset_index(inplace=True)\n",
    "print(capstone2.shape)"
   ]
  },
  {
   "cell_type": "code",
   "execution_count": 159,
   "metadata": {},
   "outputs": [],
   "source": [
    "p_sec_na = capstone2.print_section.notna()"
   ]
  },
  {
   "cell_type": "code",
   "execution_count": null,
   "metadata": {},
   "outputs": [],
   "source": []
  },
  {
   "cell_type": "code",
   "execution_count": 160,
   "metadata": {},
   "outputs": [
    {
     "name": "stdout",
     "output_type": "stream",
     "text": [
      "  text type_of_material\n",
      "0  NaN            Op-Ed\n",
      "1  NaN            Op-Ed\n",
      "2  NaN            Op-Ed\n",
      "3  NaN            Op-Ed\n",
      "4  NaN            Op-Ed\n",
      "News     28213\n",
      "Op-Ed     2043\n",
      "Name: type_of_material, dtype: int64\n",
      "CPU times: user 14.8 ms, sys: 2.36 ms, total: 17.2 ms\n",
      "Wall time: 20.1 ms\n"
     ]
    }
   ],
   "source": [
    "%%time\n",
    "capstone2.reset_index(inplace=True, drop=True)\n",
    "capstone2 = capstone2[text_type]\n",
    "print(capstone2.head())\n",
    "print(capstone2.type_of_material.value_counts())"
   ]
  },
  {
   "cell_type": "code",
   "execution_count": 161,
   "metadata": {},
   "outputs": [
    {
     "data": {
      "text/plain": [
       "(30256, 2)"
      ]
     },
     "execution_count": 161,
     "metadata": {},
     "output_type": "execute_result"
    }
   ],
   "source": [
    "capstone2.shape"
   ]
  },
  {
   "cell_type": "markdown",
   "metadata": {},
   "source": [
    "# take out your punctuation"
   ]
  },
  {
   "cell_type": "code",
   "execution_count": 104,
   "metadata": {},
   "outputs": [
    {
     "name": "stdout",
     "output_type": "stream",
     "text": [
      "CPU times: user 3.33 s, sys: 216 ms, total: 3.55 s\n",
      "Wall time: 3.65 s\n"
     ]
    }
   ],
   "source": [
    "%%time\n",
    "capstone2.to_csv('data/capstone2_2019_final.csv')"
   ]
  },
  {
   "cell_type": "markdown",
   "metadata": {},
   "source": [
    "# didn't move type_of_material news section opinion to type_of_material"
   ]
  },
  {
   "cell_type": "code",
   "execution_count": 105,
   "metadata": {},
   "outputs": [
    {
     "name": "stdout",
     "output_type": "stream",
     "text": [
      "CPU times: user 28.7 s, sys: 332 ms, total: 29 s\n",
      "Wall time: 29.3 s\n"
     ]
    },
    {
     "data": {
      "text/plain": [
       "0         In 2019 heres what we could do instead In mos...\n",
       "1         Many years before back in Russia the two youn...\n",
       "2         At a critical moment in the film just after t...\n",
       "3         No other country in the world symbolizes the ...\n",
       "4         The cycle has to be reversed In the United St...\n",
       "                               ...                        \n",
       "30251                                                  NaN\n",
       "30252     The two men have a history of friction and Ch...\n",
       "30253     Inside his checked luggage wrapped in a plast...\n",
       "30254     Chief Gallagher was acquitted this summer of ...\n",
       "30255     Draft letters posted online Tuesday by the En...\n",
       "Name: text, Length: 30256, dtype: object"
      ]
     },
     "execution_count": 105,
     "metadata": {},
     "output_type": "execute_result"
    }
   ],
   "source": [
    "%%time\n",
    "capstone2.text.apply(punc_strip)"
   ]
  },
  {
   "cell_type": "code",
   "execution_count": 106,
   "metadata": {},
   "outputs": [
    {
     "ename": "AttributeError",
     "evalue": "'DataFrame' object has no attribute 'print_section'",
     "output_type": "error",
     "traceback": [
      "\u001b[0;31m---------------------------------------------------------------------------\u001b[0m",
      "\u001b[0;31mAttributeError\u001b[0m                            Traceback (most recent call last)",
      "\u001b[0;32m<timed exec>\u001b[0m in \u001b[0;36m<module>\u001b[0;34m\u001b[0m\n",
      "\u001b[0;32m~/opt/anaconda3/lib/python3.7/site-packages/pandas/core/generic.py\u001b[0m in \u001b[0;36m__getattr__\u001b[0;34m(self, name)\u001b[0m\n\u001b[1;32m   5137\u001b[0m             \u001b[0;32mif\u001b[0m \u001b[0mself\u001b[0m\u001b[0;34m.\u001b[0m\u001b[0m_info_axis\u001b[0m\u001b[0;34m.\u001b[0m\u001b[0m_can_hold_identifiers_and_holds_name\u001b[0m\u001b[0;34m(\u001b[0m\u001b[0mname\u001b[0m\u001b[0;34m)\u001b[0m\u001b[0;34m:\u001b[0m\u001b[0;34m\u001b[0m\u001b[0;34m\u001b[0m\u001b[0m\n\u001b[1;32m   5138\u001b[0m                 \u001b[0;32mreturn\u001b[0m \u001b[0mself\u001b[0m\u001b[0;34m[\u001b[0m\u001b[0mname\u001b[0m\u001b[0;34m]\u001b[0m\u001b[0;34m\u001b[0m\u001b[0;34m\u001b[0m\u001b[0m\n\u001b[0;32m-> 5139\u001b[0;31m             \u001b[0;32mreturn\u001b[0m \u001b[0mobject\u001b[0m\u001b[0;34m.\u001b[0m\u001b[0m__getattribute__\u001b[0m\u001b[0;34m(\u001b[0m\u001b[0mself\u001b[0m\u001b[0;34m,\u001b[0m \u001b[0mname\u001b[0m\u001b[0;34m)\u001b[0m\u001b[0;34m\u001b[0m\u001b[0;34m\u001b[0m\u001b[0m\n\u001b[0m\u001b[1;32m   5140\u001b[0m \u001b[0;34m\u001b[0m\u001b[0m\n\u001b[1;32m   5141\u001b[0m     \u001b[0;32mdef\u001b[0m \u001b[0m__setattr__\u001b[0m\u001b[0;34m(\u001b[0m\u001b[0mself\u001b[0m\u001b[0;34m,\u001b[0m \u001b[0mname\u001b[0m\u001b[0;34m:\u001b[0m \u001b[0mstr\u001b[0m\u001b[0;34m,\u001b[0m \u001b[0mvalue\u001b[0m\u001b[0;34m)\u001b[0m \u001b[0;34m->\u001b[0m \u001b[0;32mNone\u001b[0m\u001b[0;34m:\u001b[0m\u001b[0;34m\u001b[0m\u001b[0;34m\u001b[0m\u001b[0m\n",
      "\u001b[0;31mAttributeError\u001b[0m: 'DataFrame' object has no attribute 'print_section'"
     ]
    }
   ],
   "source": [
    "%%time\n",
    "p_sec_na = capstone2.print_section.notna()\n",
    "capstone2 = capstone2[p_sec_na]#.reset_index(inplace=True)"
   ]
  },
  {
   "cell_type": "code",
   "execution_count": 107,
   "metadata": {},
   "outputs": [
    {
     "name": "stdout",
     "output_type": "stream",
     "text": [
      "CPU times: user 2 µs, sys: 0 ns, total: 2 µs\n",
      "Wall time: 3.81 µs\n"
     ]
    },
    {
     "data": {
      "text/html": [
       "<div>\n",
       "<style scoped>\n",
       "    .dataframe tbody tr th:only-of-type {\n",
       "        vertical-align: middle;\n",
       "    }\n",
       "\n",
       "    .dataframe tbody tr th {\n",
       "        vertical-align: top;\n",
       "    }\n",
       "\n",
       "    .dataframe thead th {\n",
       "        text-align: right;\n",
       "    }\n",
       "</style>\n",
       "<table border=\"1\" class=\"dataframe\">\n",
       "  <thead>\n",
       "    <tr style=\"text-align: right;\">\n",
       "      <th></th>\n",
       "      <th>text</th>\n",
       "      <th>type_of_material</th>\n",
       "    </tr>\n",
       "  </thead>\n",
       "  <tbody>\n",
       "    <tr>\n",
       "      <th>0</th>\n",
       "      <td>', 'In 2019, here’s what we could do instead.'...</td>\n",
       "      <td>Op-Ed</td>\n",
       "    </tr>\n",
       "    <tr>\n",
       "      <th>1</th>\n",
       "      <td>', 'Many years before, back in Russia, the two...</td>\n",
       "      <td>Op-Ed</td>\n",
       "    </tr>\n",
       "    <tr>\n",
       "      <th>2</th>\n",
       "      <td>', 'At a critical moment in the film, just aft...</td>\n",
       "      <td>Op-Ed</td>\n",
       "    </tr>\n",
       "    <tr>\n",
       "      <th>3</th>\n",
       "      <td>', 'No other country in the world symbolizes t...</td>\n",
       "      <td>Op-Ed</td>\n",
       "    </tr>\n",
       "    <tr>\n",
       "      <th>4</th>\n",
       "      <td>', 'The cycle has to be reversed. In the Unite...</td>\n",
       "      <td>Op-Ed</td>\n",
       "    </tr>\n",
       "    <tr>\n",
       "      <th>...</th>\n",
       "      <td>...</td>\n",
       "      <td>...</td>\n",
       "    </tr>\n",
       "    <tr>\n",
       "      <th>30251</th>\n",
       "      <td>NaN</td>\n",
       "      <td>News</td>\n",
       "    </tr>\n",
       "    <tr>\n",
       "      <th>30252</th>\n",
       "      <td>', 'The two men have a history of friction, an...</td>\n",
       "      <td>News</td>\n",
       "    </tr>\n",
       "    <tr>\n",
       "      <th>30253</th>\n",
       "      <td>', 'Inside his checked luggage, wrapped in a p...</td>\n",
       "      <td>News</td>\n",
       "    </tr>\n",
       "    <tr>\n",
       "      <th>30254</th>\n",
       "      <td>', 'Chief Gallagher was acquitted this summer ...</td>\n",
       "      <td>News</td>\n",
       "    </tr>\n",
       "    <tr>\n",
       "      <th>30255</th>\n",
       "      <td>', 'Draft letters posted online Tuesday by the...</td>\n",
       "      <td>News</td>\n",
       "    </tr>\n",
       "  </tbody>\n",
       "</table>\n",
       "<p>30256 rows × 2 columns</p>\n",
       "</div>"
      ],
      "text/plain": [
       "                                                    text type_of_material\n",
       "0      ', 'In 2019, here’s what we could do instead.'...            Op-Ed\n",
       "1      ', 'Many years before, back in Russia, the two...            Op-Ed\n",
       "2      ', 'At a critical moment in the film, just aft...            Op-Ed\n",
       "3      ', 'No other country in the world symbolizes t...            Op-Ed\n",
       "4      ', 'The cycle has to be reversed. In the Unite...            Op-Ed\n",
       "...                                                  ...              ...\n",
       "30251                                                NaN             News\n",
       "30252  ', 'The two men have a history of friction, an...             News\n",
       "30253  ', 'Inside his checked luggage, wrapped in a p...             News\n",
       "30254  ', 'Chief Gallagher was acquitted this summer ...             News\n",
       "30255  ', 'Draft letters posted online Tuesday by the...             News\n",
       "\n",
       "[30256 rows x 2 columns]"
      ]
     },
     "execution_count": 107,
     "metadata": {},
     "output_type": "execute_result"
    }
   ],
   "source": [
    "%%time\n",
    "capstone2"
   ]
  },
  {
   "cell_type": "code",
   "execution_count": 232,
   "metadata": {},
   "outputs": [],
   "source": [
    "_2016_2019_df = pd.concat([uber2016, uber2017, uber2019, uber2019,])\n"
   ]
  },
  {
   "cell_type": "code",
   "execution_count": 233,
   "metadata": {},
   "outputs": [
    {
     "name": "stdout",
     "output_type": "stream",
     "text": [
      "2020-12-06 08:48:07.851120\n",
      "CPU times: user 29.2 s, sys: 2.26 s, total: 31.5 s\n",
      "Wall time: 33.4 s\n"
     ]
    }
   ],
   "source": [
    "%%time\n",
    "print(datetime.now())\n",
    "\n",
    "\n",
    "_2016_2019_df.to_csv('data/_2016_2019.csv')"
   ]
  },
  {
   "cell_type": "code",
   "execution_count": null,
   "metadata": {},
   "outputs": [],
   "source": []
  },
  {
   "cell_type": "code",
   "execution_count": null,
   "metadata": {},
   "outputs": [],
   "source": []
  },
  {
   "cell_type": "code",
   "execution_count": null,
   "metadata": {},
   "outputs": [],
   "source": []
  },
  {
   "cell_type": "code",
   "execution_count": 113,
   "metadata": {},
   "outputs": [],
   "source": [
    "# (uber2018.tail())\n"
   ]
  },
  {
   "cell_type": "code",
   "execution_count": 100,
   "metadata": {},
   "outputs": [
    {
     "data": {
      "text/html": [
       "<div>\n",
       "<style scoped>\n",
       "    .dataframe tbody tr th:only-of-type {\n",
       "        vertical-align: middle;\n",
       "    }\n",
       "\n",
       "    .dataframe tbody tr th {\n",
       "        vertical-align: top;\n",
       "    }\n",
       "\n",
       "    .dataframe thead th {\n",
       "        text-align: right;\n",
       "    }\n",
       "</style>\n",
       "<table border=\"1\" class=\"dataframe\">\n",
       "  <thead>\n",
       "    <tr style=\"text-align: right;\">\n",
       "      <th></th>\n",
       "      <th>abstract</th>\n",
       "      <th>web_url</th>\n",
       "      <th>snippet</th>\n",
       "      <th>lead_paragraph</th>\n",
       "      <th>print_section</th>\n",
       "      <th>print_page</th>\n",
       "      <th>source</th>\n",
       "      <th>multimedia</th>\n",
       "      <th>headline</th>\n",
       "      <th>keywords</th>\n",
       "      <th>...</th>\n",
       "      <th>document_type</th>\n",
       "      <th>news_desk</th>\n",
       "      <th>section_name</th>\n",
       "      <th>byline</th>\n",
       "      <th>type_of_material</th>\n",
       "      <th>_id</th>\n",
       "      <th>word_count</th>\n",
       "      <th>uri</th>\n",
       "      <th>subsection_name</th>\n",
       "      <th>text</th>\n",
       "    </tr>\n",
       "  </thead>\n",
       "  <tbody>\n",
       "    <tr>\n",
       "      <th>42811</th>\n",
       "      <td>Two new nonfiction books explore the adventure...</td>\n",
       "      <td>https://www.nytimes.com/2018/01/31/nyregion/wa...</td>\n",
       "      <td>Two new nonfiction books explore the adventure...</td>\n",
       "      <td>Two journalists, inspired by engrossing yet li...</td>\n",
       "      <td>MB</td>\n",
       "      <td>3.0</td>\n",
       "      <td>The New York Times</td>\n",
       "      <td>[{'rank': 0, 'subtype': 'xlarge', 'caption': N...</td>\n",
       "      <td>{'main': 'Escape from New York, or Embracing I...</td>\n",
       "      <td>[{'name': 'subject', 'value': 'Books and Liter...</td>\n",
       "      <td>...</td>\n",
       "      <td>article</td>\n",
       "      <td>Metropolitan</td>\n",
       "      <td>New York</td>\n",
       "      <td>{'original': 'By Sam Roberts', 'person': [{'fi...</td>\n",
       "      <td>News</td>\n",
       "      <td>nyt://article/c73054ac-33de-5468-af19-1caaabd5...</td>\n",
       "      <td>741</td>\n",
       "      <td>nyt://article/c73054ac-33de-5468-af19-1caaabd5...</td>\n",
       "      <td>NaN</td>\n",
       "      <td>['Advertisement', 'Supported by', 'Bookshelf',...</td>\n",
       "    </tr>\n",
       "    <tr>\n",
       "      <th>42812</th>\n",
       "      <td>When the price of Bitcoin goes down, activity ...</td>\n",
       "      <td>https://www.nytimes.com/2018/01/31/technology/...</td>\n",
       "      <td>When the price of Bitcoin goes down, activity ...</td>\n",
       "      <td>A growing number of virtual currency investors...</td>\n",
       "      <td>B</td>\n",
       "      <td>3.0</td>\n",
       "      <td>The New York Times</td>\n",
       "      <td>[{'rank': 0, 'subtype': 'xlarge', 'caption': N...</td>\n",
       "      <td>{'main': 'Worries Grow That the Price of Bitco...</td>\n",
       "      <td>[{'name': 'subject', 'value': 'Virtual Currenc...</td>\n",
       "      <td>...</td>\n",
       "      <td>article</td>\n",
       "      <td>Business</td>\n",
       "      <td>Technology</td>\n",
       "      <td>{'original': 'By Nathaniel Popper', 'person': ...</td>\n",
       "      <td>News</td>\n",
       "      <td>nyt://article/e8045005-3df8-5649-a793-5a8e9ed9...</td>\n",
       "      <td>1312</td>\n",
       "      <td>nyt://article/e8045005-3df8-5649-a793-5a8e9ed9...</td>\n",
       "      <td>NaN</td>\n",
       "      <td>['Advertisement', 'Supported by', 'By Nathanie...</td>\n",
       "    </tr>\n",
       "    <tr>\n",
       "      <th>42813</th>\n",
       "      <td>John Copley was dismissed from the Met’s reviv...</td>\n",
       "      <td>https://www.nytimes.com/2018/01/31/arts/music/...</td>\n",
       "      <td>John Copley was dismissed from the Met’s reviv...</td>\n",
       "      <td>The Metropolitan Opera fired the veteran Briti...</td>\n",
       "      <td>C</td>\n",
       "      <td>2.0</td>\n",
       "      <td>The New York Times</td>\n",
       "      <td>[{'rank': 0, 'subtype': 'xlarge', 'caption': N...</td>\n",
       "      <td>{'main': 'Met Opera Fires Stage Director, Citi...</td>\n",
       "      <td>[{'name': 'subject', 'value': 'Opera', 'rank':...</td>\n",
       "      <td>...</td>\n",
       "      <td>article</td>\n",
       "      <td>Culture</td>\n",
       "      <td>Arts</td>\n",
       "      <td>{'original': 'By Michael Cooper', 'person': [{...</td>\n",
       "      <td>News</td>\n",
       "      <td>nyt://article/270ea0f1-5b52-5eb3-862d-6914932a...</td>\n",
       "      <td>409</td>\n",
       "      <td>nyt://article/270ea0f1-5b52-5eb3-862d-6914932a...</td>\n",
       "      <td>Music</td>\n",
       "      <td>['Advertisement', 'Supported by', 'By Michael ...</td>\n",
       "    </tr>\n",
       "    <tr>\n",
       "      <th>42814</th>\n",
       "      <td>The company’s shift to providing cloud service...</td>\n",
       "      <td>https://www.nytimes.com/2018/01/31/technology/...</td>\n",
       "      <td>The company’s shift to providing cloud service...</td>\n",
       "      <td>SEATTLE — Microsoft has spent years adjusting ...</td>\n",
       "      <td>B</td>\n",
       "      <td>3.0</td>\n",
       "      <td>The New York Times</td>\n",
       "      <td>[{'rank': 0, 'subtype': 'xlarge', 'caption': N...</td>\n",
       "      <td>{'main': 'Microsoft Sales Lifted by Cloud Comp...</td>\n",
       "      <td>[{'name': 'organizations', 'value': 'Microsoft...</td>\n",
       "      <td>...</td>\n",
       "      <td>article</td>\n",
       "      <td>Business</td>\n",
       "      <td>Technology</td>\n",
       "      <td>{'original': 'By Nick Wingfield', 'person': [{...</td>\n",
       "      <td>News</td>\n",
       "      <td>nyt://article/a1b7c58a-5539-5366-ae11-c59975a2...</td>\n",
       "      <td>500</td>\n",
       "      <td>nyt://article/a1b7c58a-5539-5366-ae11-c59975a2...</td>\n",
       "      <td>NaN</td>\n",
       "      <td>['Advertisement', 'Supported by', 'By Nick Win...</td>\n",
       "    </tr>\n",
       "    <tr>\n",
       "      <th>42815</th>\n",
       "      <td>Lawmakers said the broadcaster faced a crisis ...</td>\n",
       "      <td>https://www.nytimes.com/2018/01/31/world/europ...</td>\n",
       "      <td>Lawmakers said the broadcaster faced a crisis ...</td>\n",
       "      <td>LONDON — Months of turmoil over gender inequit...</td>\n",
       "      <td>A</td>\n",
       "      <td>9.0</td>\n",
       "      <td>The New York Times</td>\n",
       "      <td>[{'rank': 0, 'subtype': 'xlarge', 'caption': N...</td>\n",
       "      <td>{'main': 'BBC Managers Face Barrage of Critici...</td>\n",
       "      <td>[{'name': 'organizations', 'value': 'British B...</td>\n",
       "      <td>...</td>\n",
       "      <td>article</td>\n",
       "      <td>Foreign</td>\n",
       "      <td>World</td>\n",
       "      <td>{'original': 'By Amie Tsang', 'person': [{'fir...</td>\n",
       "      <td>News</td>\n",
       "      <td>nyt://article/a5770c78-ca67-5bc1-ab37-f631b6e5...</td>\n",
       "      <td>908</td>\n",
       "      <td>nyt://article/a5770c78-ca67-5bc1-ab37-f631b6e5...</td>\n",
       "      <td>Europe</td>\n",
       "      <td>['Advertisement', 'Supported by', 'By Amie Tsa...</td>\n",
       "    </tr>\n",
       "  </tbody>\n",
       "</table>\n",
       "<p>5 rows × 21 columns</p>\n",
       "</div>"
      ],
      "text/plain": [
       "                                                abstract  \\\n",
       "42811  Two new nonfiction books explore the adventure...   \n",
       "42812  When the price of Bitcoin goes down, activity ...   \n",
       "42813  John Copley was dismissed from the Met’s reviv...   \n",
       "42814  The company’s shift to providing cloud service...   \n",
       "42815  Lawmakers said the broadcaster faced a crisis ...   \n",
       "\n",
       "                                                 web_url  \\\n",
       "42811  https://www.nytimes.com/2018/01/31/nyregion/wa...   \n",
       "42812  https://www.nytimes.com/2018/01/31/technology/...   \n",
       "42813  https://www.nytimes.com/2018/01/31/arts/music/...   \n",
       "42814  https://www.nytimes.com/2018/01/31/technology/...   \n",
       "42815  https://www.nytimes.com/2018/01/31/world/europ...   \n",
       "\n",
       "                                                 snippet  \\\n",
       "42811  Two new nonfiction books explore the adventure...   \n",
       "42812  When the price of Bitcoin goes down, activity ...   \n",
       "42813  John Copley was dismissed from the Met’s reviv...   \n",
       "42814  The company’s shift to providing cloud service...   \n",
       "42815  Lawmakers said the broadcaster faced a crisis ...   \n",
       "\n",
       "                                          lead_paragraph print_section  \\\n",
       "42811  Two journalists, inspired by engrossing yet li...            MB   \n",
       "42812  A growing number of virtual currency investors...             B   \n",
       "42813  The Metropolitan Opera fired the veteran Briti...             C   \n",
       "42814  SEATTLE — Microsoft has spent years adjusting ...             B   \n",
       "42815  LONDON — Months of turmoil over gender inequit...             A   \n",
       "\n",
       "       print_page              source  \\\n",
       "42811         3.0  The New York Times   \n",
       "42812         3.0  The New York Times   \n",
       "42813         2.0  The New York Times   \n",
       "42814         3.0  The New York Times   \n",
       "42815         9.0  The New York Times   \n",
       "\n",
       "                                              multimedia  \\\n",
       "42811  [{'rank': 0, 'subtype': 'xlarge', 'caption': N...   \n",
       "42812  [{'rank': 0, 'subtype': 'xlarge', 'caption': N...   \n",
       "42813  [{'rank': 0, 'subtype': 'xlarge', 'caption': N...   \n",
       "42814  [{'rank': 0, 'subtype': 'xlarge', 'caption': N...   \n",
       "42815  [{'rank': 0, 'subtype': 'xlarge', 'caption': N...   \n",
       "\n",
       "                                                headline  \\\n",
       "42811  {'main': 'Escape from New York, or Embracing I...   \n",
       "42812  {'main': 'Worries Grow That the Price of Bitco...   \n",
       "42813  {'main': 'Met Opera Fires Stage Director, Citi...   \n",
       "42814  {'main': 'Microsoft Sales Lifted by Cloud Comp...   \n",
       "42815  {'main': 'BBC Managers Face Barrage of Critici...   \n",
       "\n",
       "                                                keywords  ... document_type  \\\n",
       "42811  [{'name': 'subject', 'value': 'Books and Liter...  ...       article   \n",
       "42812  [{'name': 'subject', 'value': 'Virtual Currenc...  ...       article   \n",
       "42813  [{'name': 'subject', 'value': 'Opera', 'rank':...  ...       article   \n",
       "42814  [{'name': 'organizations', 'value': 'Microsoft...  ...       article   \n",
       "42815  [{'name': 'organizations', 'value': 'British B...  ...       article   \n",
       "\n",
       "          news_desk section_name  \\\n",
       "42811  Metropolitan     New York   \n",
       "42812      Business   Technology   \n",
       "42813       Culture         Arts   \n",
       "42814      Business   Technology   \n",
       "42815       Foreign        World   \n",
       "\n",
       "                                                  byline type_of_material  \\\n",
       "42811  {'original': 'By Sam Roberts', 'person': [{'fi...             News   \n",
       "42812  {'original': 'By Nathaniel Popper', 'person': ...             News   \n",
       "42813  {'original': 'By Michael Cooper', 'person': [{...             News   \n",
       "42814  {'original': 'By Nick Wingfield', 'person': [{...             News   \n",
       "42815  {'original': 'By Amie Tsang', 'person': [{'fir...             News   \n",
       "\n",
       "                                                     _id word_count  \\\n",
       "42811  nyt://article/c73054ac-33de-5468-af19-1caaabd5...        741   \n",
       "42812  nyt://article/e8045005-3df8-5649-a793-5a8e9ed9...       1312   \n",
       "42813  nyt://article/270ea0f1-5b52-5eb3-862d-6914932a...        409   \n",
       "42814  nyt://article/a1b7c58a-5539-5366-ae11-c59975a2...        500   \n",
       "42815  nyt://article/a5770c78-ca67-5bc1-ab37-f631b6e5...        908   \n",
       "\n",
       "                                                     uri subsection_name  \\\n",
       "42811  nyt://article/c73054ac-33de-5468-af19-1caaabd5...             NaN   \n",
       "42812  nyt://article/e8045005-3df8-5649-a793-5a8e9ed9...             NaN   \n",
       "42813  nyt://article/270ea0f1-5b52-5eb3-862d-6914932a...           Music   \n",
       "42814  nyt://article/a1b7c58a-5539-5366-ae11-c59975a2...             NaN   \n",
       "42815  nyt://article/a5770c78-ca67-5bc1-ab37-f631b6e5...          Europe   \n",
       "\n",
       "                                                    text  \n",
       "42811  ['Advertisement', 'Supported by', 'Bookshelf',...  \n",
       "42812  ['Advertisement', 'Supported by', 'By Nathanie...  \n",
       "42813  ['Advertisement', 'Supported by', 'By Michael ...  \n",
       "42814  ['Advertisement', 'Supported by', 'By Nick Win...  \n",
       "42815  ['Advertisement', 'Supported by', 'By Amie Tsa...  \n",
       "\n",
       "[5 rows x 21 columns]"
      ]
     },
     "execution_count": 100,
     "metadata": {},
     "output_type": "execute_result"
    }
   ],
   "source": [
    "(uber2017.tail())\n"
   ]
  },
  {
   "cell_type": "code",
   "execution_count": 103,
   "metadata": {},
   "outputs": [
    {
     "data": {
      "text/html": [
       "<div>\n",
       "<style scoped>\n",
       "    .dataframe tbody tr th:only-of-type {\n",
       "        vertical-align: middle;\n",
       "    }\n",
       "\n",
       "    .dataframe tbody tr th {\n",
       "        vertical-align: top;\n",
       "    }\n",
       "\n",
       "    .dataframe thead th {\n",
       "        text-align: right;\n",
       "    }\n",
       "</style>\n",
       "<table border=\"1\" class=\"dataframe\">\n",
       "  <thead>\n",
       "    <tr style=\"text-align: right;\">\n",
       "      <th></th>\n",
       "      <th>abstract</th>\n",
       "      <th>web_url</th>\n",
       "      <th>snippet</th>\n",
       "      <th>lead_paragraph</th>\n",
       "      <th>print_section</th>\n",
       "      <th>print_page</th>\n",
       "      <th>source</th>\n",
       "      <th>multimedia</th>\n",
       "      <th>headline</th>\n",
       "      <th>keywords</th>\n",
       "      <th>...</th>\n",
       "      <th>news_desk</th>\n",
       "      <th>section_name</th>\n",
       "      <th>byline</th>\n",
       "      <th>type_of_material</th>\n",
       "      <th>_id</th>\n",
       "      <th>word_count</th>\n",
       "      <th>uri</th>\n",
       "      <th>subsection_name</th>\n",
       "      <th>text</th>\n",
       "      <th>Unnamed: 0</th>\n",
       "    </tr>\n",
       "  </thead>\n",
       "  <tbody>\n",
       "    <tr>\n",
       "      <th>0</th>\n",
       "      <td>Bill Cosby came close to escaping sexual assau...</td>\n",
       "      <td>https://www.nytimes.com/2016/01/01/opinion/no-...</td>\n",
       "      <td>Bill Cosby came close to escaping sexual assau...</td>\n",
       "      <td>THIS week, Bill Cosby was charged with three c...</td>\n",
       "      <td>A</td>\n",
       "      <td>23</td>\n",
       "      <td>The New York Times</td>\n",
       "      <td>[{'rank': 0, 'subtype': 'xlarge', 'caption': N...</td>\n",
       "      <td>{'main': 'No More Statutes of Limitations for ...</td>\n",
       "      <td>[{'name': 'subject', 'value': 'Sex Crimes', 'r...</td>\n",
       "      <td>...</td>\n",
       "      <td>OpEd</td>\n",
       "      <td>Opinion</td>\n",
       "      <td>{'original': 'By Jill Filipovic', 'person': [{...</td>\n",
       "      <td>Op-Ed</td>\n",
       "      <td>nyt://article/df95e7d6-e02e-5b2b-a7f4-0c4e19a8...</td>\n",
       "      <td>914.0</td>\n",
       "      <td>nyt://article/df95e7d6-e02e-5b2b-a7f4-0c4e19a8...</td>\n",
       "      <td>NaN</td>\n",
       "      <td>['Advertisement', 'Supported by', 'By Jill Fil...</td>\n",
       "      <td>NaN</td>\n",
       "    </tr>\n",
       "    <tr>\n",
       "      <th>1</th>\n",
       "      <td>A court document made public on Thursday sugge...</td>\n",
       "      <td>https://www.nytimes.com/2016/01/01/us/freddie-...</td>\n",
       "      <td>A court document made public on Thursday sugge...</td>\n",
       "      <td>Freddie Gray, the 25-year-old black man who di...</td>\n",
       "      <td>A</td>\n",
       "      <td>13</td>\n",
       "      <td>The New York Times</td>\n",
       "      <td>[{'rank': 0, 'subtype': 'xlarge', 'caption': N...</td>\n",
       "      <td>{'main': 'Freddie Gray Complained of ‘Bad Back...</td>\n",
       "      <td>[{'name': 'persons', 'value': 'Bidgood, Jess',...</td>\n",
       "      <td>...</td>\n",
       "      <td>National</td>\n",
       "      <td>U.S.</td>\n",
       "      <td>{'original': 'By Jess Bidgood', 'person': [{'f...</td>\n",
       "      <td>News</td>\n",
       "      <td>nyt://article/79e2170e-3754-5ea8-b08d-ac8b0b51...</td>\n",
       "      <td>359.0</td>\n",
       "      <td>nyt://article/79e2170e-3754-5ea8-b08d-ac8b0b51...</td>\n",
       "      <td>NaN</td>\n",
       "      <td>['Advertisement', 'Supported by', 'By Jess Bid...</td>\n",
       "      <td>NaN</td>\n",
       "    </tr>\n",
       "    <tr>\n",
       "      <th>2</th>\n",
       "      <td>Led by quarterback Deshaun Watson, the Tigers ...</td>\n",
       "      <td>https://www.nytimes.com/2016/01/01/sports/ncaa...</td>\n",
       "      <td>Led by quarterback Deshaun Watson, the Tigers ...</td>\n",
       "      <td>MIAMI GARDENS, Fla. — No. 1 Clemson rose to pr...</td>\n",
       "      <td>B</td>\n",
       "      <td>6</td>\n",
       "      <td>The New York Times</td>\n",
       "      <td>[{'rank': 0, 'subtype': 'xlarge', 'caption': N...</td>\n",
       "      <td>{'main': 'No. 1 Clemson Advances to National C...</td>\n",
       "      <td>[{'name': 'subject', 'value': 'Football (Colle...</td>\n",
       "      <td>...</td>\n",
       "      <td>Sports</td>\n",
       "      <td>Sports</td>\n",
       "      <td>{'original': 'By Tim Rohan', 'person': [{'firs...</td>\n",
       "      <td>News</td>\n",
       "      <td>nyt://article/c2a99cd5-e675-52ba-9fa1-b1b8c20d...</td>\n",
       "      <td>840.0</td>\n",
       "      <td>nyt://article/c2a99cd5-e675-52ba-9fa1-b1b8c20d...</td>\n",
       "      <td>College Football</td>\n",
       "      <td>['Advertisement', 'Supported by', 'Clemson 37,...</td>\n",
       "      <td>NaN</td>\n",
       "    </tr>\n",
       "    <tr>\n",
       "      <th>3</th>\n",
       "      <td>A federal judge has warned that prosecutors ma...</td>\n",
       "      <td>https://www.nytimes.com/2016/01/01/nyregion/pr...</td>\n",
       "      <td>A federal judge has warned that prosecutors ma...</td>\n",
       "      <td>Marked with an official seal, the federal subp...</td>\n",
       "      <td>A</td>\n",
       "      <td>17</td>\n",
       "      <td>The New York Times</td>\n",
       "      <td>[{'rank': 0, 'subtype': 'xlarge', 'caption': N...</td>\n",
       "      <td>{'main': 'Prosecutors’\\xa0Secrecy Orders on Su...</td>\n",
       "      <td>[{'name': 'persons', 'value': 'Clifford, Steph...</td>\n",
       "      <td>...</td>\n",
       "      <td>Metro</td>\n",
       "      <td>New York</td>\n",
       "      <td>{'original': 'By Stephanie Clifford', 'person'...</td>\n",
       "      <td>News</td>\n",
       "      <td>nyt://article/1b3d2f6f-bb2d-5382-a747-ef72774f...</td>\n",
       "      <td>1142.0</td>\n",
       "      <td>nyt://article/1b3d2f6f-bb2d-5382-a747-ef72774f...</td>\n",
       "      <td>NaN</td>\n",
       "      <td>['Advertisement', 'Supported by', 'By Stephani...</td>\n",
       "      <td>NaN</td>\n",
       "    </tr>\n",
       "    <tr>\n",
       "      <th>4</th>\n",
       "      <td>William Ackman’s hedge fund said in a regulato...</td>\n",
       "      <td>https://www.nytimes.com/2016/01/01/business/de...</td>\n",
       "      <td>William Ackman’s hedge fund said in a regulato...</td>\n",
       "      <td>The hedge fund of William A. Ackman said on Th...</td>\n",
       "      <td>NaN</td>\n",
       "      <td>NaN</td>\n",
       "      <td>The New York Times</td>\n",
       "      <td>[]</td>\n",
       "      <td>{'main': 'Ackman Sheds Some Valeant Shares', '...</td>\n",
       "      <td>[{'name': 'organizations', 'value': 'Pershing ...</td>\n",
       "      <td>...</td>\n",
       "      <td>Business</td>\n",
       "      <td>Business Day</td>\n",
       "      <td>{'original': 'By Peter Eavis', 'person': [{'fi...</td>\n",
       "      <td>News</td>\n",
       "      <td>nyt://article/59c9ce1d-d0ce-5d8b-a182-54bf5bfa...</td>\n",
       "      <td>350.0</td>\n",
       "      <td>nyt://article/59c9ce1d-d0ce-5d8b-a182-54bf5bfa...</td>\n",
       "      <td>DealBook</td>\n",
       "      <td>['Advertisement', 'Supported by', 'By Peter Ea...</td>\n",
       "      <td>NaN</td>\n",
       "    </tr>\n",
       "  </tbody>\n",
       "</table>\n",
       "<p>5 rows × 22 columns</p>\n",
       "</div>"
      ],
      "text/plain": [
       "                                            abstract  \\\n",
       "0  Bill Cosby came close to escaping sexual assau...   \n",
       "1  A court document made public on Thursday sugge...   \n",
       "2  Led by quarterback Deshaun Watson, the Tigers ...   \n",
       "3  A federal judge has warned that prosecutors ma...   \n",
       "4  William Ackman’s hedge fund said in a regulato...   \n",
       "\n",
       "                                             web_url  \\\n",
       "0  https://www.nytimes.com/2016/01/01/opinion/no-...   \n",
       "1  https://www.nytimes.com/2016/01/01/us/freddie-...   \n",
       "2  https://www.nytimes.com/2016/01/01/sports/ncaa...   \n",
       "3  https://www.nytimes.com/2016/01/01/nyregion/pr...   \n",
       "4  https://www.nytimes.com/2016/01/01/business/de...   \n",
       "\n",
       "                                             snippet  \\\n",
       "0  Bill Cosby came close to escaping sexual assau...   \n",
       "1  A court document made public on Thursday sugge...   \n",
       "2  Led by quarterback Deshaun Watson, the Tigers ...   \n",
       "3  A federal judge has warned that prosecutors ma...   \n",
       "4  William Ackman’s hedge fund said in a regulato...   \n",
       "\n",
       "                                      lead_paragraph print_section print_page  \\\n",
       "0  THIS week, Bill Cosby was charged with three c...             A         23   \n",
       "1  Freddie Gray, the 25-year-old black man who di...             A         13   \n",
       "2  MIAMI GARDENS, Fla. — No. 1 Clemson rose to pr...             B          6   \n",
       "3  Marked with an official seal, the federal subp...             A         17   \n",
       "4  The hedge fund of William A. Ackman said on Th...           NaN        NaN   \n",
       "\n",
       "               source                                         multimedia  \\\n",
       "0  The New York Times  [{'rank': 0, 'subtype': 'xlarge', 'caption': N...   \n",
       "1  The New York Times  [{'rank': 0, 'subtype': 'xlarge', 'caption': N...   \n",
       "2  The New York Times  [{'rank': 0, 'subtype': 'xlarge', 'caption': N...   \n",
       "3  The New York Times  [{'rank': 0, 'subtype': 'xlarge', 'caption': N...   \n",
       "4  The New York Times                                                 []   \n",
       "\n",
       "                                            headline  \\\n",
       "0  {'main': 'No More Statutes of Limitations for ...   \n",
       "1  {'main': 'Freddie Gray Complained of ‘Bad Back...   \n",
       "2  {'main': 'No. 1 Clemson Advances to National C...   \n",
       "3  {'main': 'Prosecutors’\\xa0Secrecy Orders on Su...   \n",
       "4  {'main': 'Ackman Sheds Some Valeant Shares', '...   \n",
       "\n",
       "                                            keywords  ... news_desk  \\\n",
       "0  [{'name': 'subject', 'value': 'Sex Crimes', 'r...  ...      OpEd   \n",
       "1  [{'name': 'persons', 'value': 'Bidgood, Jess',...  ...  National   \n",
       "2  [{'name': 'subject', 'value': 'Football (Colle...  ...    Sports   \n",
       "3  [{'name': 'persons', 'value': 'Clifford, Steph...  ...     Metro   \n",
       "4  [{'name': 'organizations', 'value': 'Pershing ...  ...  Business   \n",
       "\n",
       "   section_name                                             byline  \\\n",
       "0       Opinion  {'original': 'By Jill Filipovic', 'person': [{...   \n",
       "1          U.S.  {'original': 'By Jess Bidgood', 'person': [{'f...   \n",
       "2        Sports  {'original': 'By Tim Rohan', 'person': [{'firs...   \n",
       "3      New York  {'original': 'By Stephanie Clifford', 'person'...   \n",
       "4  Business Day  {'original': 'By Peter Eavis', 'person': [{'fi...   \n",
       "\n",
       "  type_of_material                                                _id  \\\n",
       "0            Op-Ed  nyt://article/df95e7d6-e02e-5b2b-a7f4-0c4e19a8...   \n",
       "1             News  nyt://article/79e2170e-3754-5ea8-b08d-ac8b0b51...   \n",
       "2             News  nyt://article/c2a99cd5-e675-52ba-9fa1-b1b8c20d...   \n",
       "3             News  nyt://article/1b3d2f6f-bb2d-5382-a747-ef72774f...   \n",
       "4             News  nyt://article/59c9ce1d-d0ce-5d8b-a182-54bf5bfa...   \n",
       "\n",
       "  word_count                                                uri  \\\n",
       "0      914.0  nyt://article/df95e7d6-e02e-5b2b-a7f4-0c4e19a8...   \n",
       "1      359.0  nyt://article/79e2170e-3754-5ea8-b08d-ac8b0b51...   \n",
       "2      840.0  nyt://article/c2a99cd5-e675-52ba-9fa1-b1b8c20d...   \n",
       "3     1142.0  nyt://article/1b3d2f6f-bb2d-5382-a747-ef72774f...   \n",
       "4      350.0  nyt://article/59c9ce1d-d0ce-5d8b-a182-54bf5bfa...   \n",
       "\n",
       "    subsection_name                                               text  \\\n",
       "0               NaN  ['Advertisement', 'Supported by', 'By Jill Fil...   \n",
       "1               NaN  ['Advertisement', 'Supported by', 'By Jess Bid...   \n",
       "2  College Football  ['Advertisement', 'Supported by', 'Clemson 37,...   \n",
       "3               NaN  ['Advertisement', 'Supported by', 'By Stephani...   \n",
       "4          DealBook  ['Advertisement', 'Supported by', 'By Peter Ea...   \n",
       "\n",
       "  Unnamed: 0  \n",
       "0        NaN  \n",
       "1        NaN  \n",
       "2        NaN  \n",
       "3        NaN  \n",
       "4        NaN  \n",
       "\n",
       "[5 rows x 22 columns]"
      ]
     },
     "execution_count": 103,
     "metadata": {},
     "output_type": "execute_result"
    }
   ],
   "source": []
  },
  {
   "cell_type": "code",
   "execution_count": 114,
   "metadata": {},
   "outputs": [
    {
     "name": "stdout",
     "output_type": "stream",
     "text": [
      "2020-12-05 23:47:17.862106\n",
      "(3568, 21)\n",
      "(3568, 21)\n",
      "(3568, 21)\n",
      "(3568, 21)\n",
      "(3568, 21)\n",
      "(3568, 21)\n",
      "(3568, 21)\n",
      "(3568, 21)\n",
      "(3568, 21)\n",
      "(3568, 21)\n",
      "(3568, 21)\n",
      "(3568, 21)\n",
      "CPU times: user 701 µs, sys: 1.38 ms, total: 2.08 ms\n",
      "Wall time: 1.91 ms\n"
     ]
    }
   ],
   "source": [
    "%%time\n",
    "print(datetime.now())\n",
    "\n",
    "print(jan18_df.shape)\n",
    "print(feb18_df.shape)\n",
    "print(mar18_df.shape)\n",
    "print(apr18_df.shape)\n",
    "print(may18_df.shape)\n",
    "print(jun18_df.shape)\n",
    "print(jul18_df.shape)\n",
    "print(aug18_df.shape)\n",
    "print(sep18_df.shape)\n",
    "print(oct18_df.shape)\n",
    "print(nov18_df.shape)\n",
    "print(dec18_df.shape)"
   ]
  },
  {
   "cell_type": "code",
   "execution_count": 115,
   "metadata": {},
   "outputs": [
    {
     "name": "stdout",
     "output_type": "stream",
     "text": [
      "2020-12-05 23:47:18.623771\n",
      "(3625, 21)\n",
      "(3471, 21)\n",
      "(4002, 21)\n",
      "(3607, 21)\n",
      "(3990, 21)\n",
      "(3889, 21)\n",
      "(3555, 21)\n",
      "(3638, 21)\n",
      "(3679, 21)\n",
      "(3899, 21)\n",
      "(3595, 21)\n",
      "(3343, 21)\n",
      "CPU times: user 542 µs, sys: 766 µs, total: 1.31 ms\n",
      "Wall time: 1.11 ms\n"
     ]
    }
   ],
   "source": [
    "%%time\n",
    "print(datetime.now())\n",
    "\n",
    "print(jan17_df.shape)\n",
    "print(feb17_df.shape)\n",
    "print(mar17_df.shape)\n",
    "print(apr17_df.shape)\n",
    "print(may17_df.shape)\n",
    "print(jun17_df.shape)\n",
    "print(jul17_df.shape)\n",
    "print(aug17_df.shape)\n",
    "print(sep17_df.shape)\n",
    "print(oct17_df.shape)\n",
    "print(nov17_df.shape)\n",
    "print(dec17_df.shape)"
   ]
  },
  {
   "cell_type": "markdown",
   "metadata": {},
   "source": [
    "# policitical news"
   ]
  },
  {
   "cell_type": "code",
   "execution_count": 10,
   "metadata": {},
   "outputs": [],
   "source": [
    "full_19 = pd.read_csv('raw_19.csv', index_col = 'Unnamed: 0')\n",
    "# full_18 = pd.read_csv('raw_18.csv')\n",
    "# full_17 = pd.read_csv('raw_17.csv')\n",
    "# full_16 = pd.read_csv('raw_16.csv')"
   ]
  },
  {
   "cell_type": "code",
   "execution_count": 11,
   "metadata": {},
   "outputs": [],
   "source": [
    "_2019_df = full_19.copy()"
   ]
  },
  {
   "cell_type": "code",
   "execution_count": 12,
   "metadata": {},
   "outputs": [
    {
     "data": {
      "text/plain": [
       "Index(['abstract', 'web_url', 'snippet', 'lead_paragraph', 'source',\n",
       "       'multimedia', 'headline', 'keywords', 'pub_date', 'document_type',\n",
       "       'news_desk', 'section_name', 'byline', 'type_of_material', '_id',\n",
       "       'word_count', 'uri', 'print_section', 'print_page', 'subsection_name',\n",
       "       'text'],\n",
       "      dtype='object')"
      ]
     },
     "execution_count": 12,
     "metadata": {},
     "output_type": "execute_result"
    }
   ],
   "source": [
    "_2019_df.columns"
   ]
  },
  {
   "cell_type": "code",
   "execution_count": 73,
   "metadata": {},
   "outputs": [
    {
     "data": {
      "text/plain": [
       "0        [{'name': 'subject', 'value': 'United States P...\n",
       "1        [{'name': 'subject', 'value': 'Smartphones', '...\n",
       "2        [{'name': 'persons', 'value': 'Trump, Donald J...\n",
       "3        [{'name': 'subject', 'value': 'United States P...\n",
       "4        [{'name': 'subject', 'value': 'Football', 'ran...\n",
       "                               ...                        \n",
       "41743    [{'name': 'persons', 'value': 'Roberts, John G...\n",
       "41744    [{'name': 'persons', 'value': 'Zheng, Zaosong'...\n",
       "41745    [{'name': 'subject', 'value': 'New Year', 'ran...\n",
       "41746    [{'name': 'persons', 'value': 'Gallagher, Edwa...\n",
       "41747    [{'name': 'organizations', 'value': 'Environme...\n",
       "Name: keywords, Length: 41748, dtype: object"
      ]
     },
     "execution_count": 73,
     "metadata": {},
     "output_type": "execute_result"
    }
   ],
   "source": [
    "keywords_1 = _2019_df.keywords[0]\n",
    "keywords_1 = ast.literal_eval(keywords_1)"
   ]
  },
  {
   "cell_type": "code",
   "execution_count": 77,
   "metadata": {},
   "outputs": [],
   "source": [
    "_2019_df.keywords = _2019_df.keywords.apply(lambda x: ast.literal_eval(x))"
   ]
  },
  {
   "cell_type": "code",
   "execution_count": 87,
   "metadata": {},
   "outputs": [
    {
     "data": {
      "text/plain": [
       "{'name': 'subject',\n",
       " 'value': 'United States Politics and Government',\n",
       " 'rank': 1,\n",
       " 'major': 'N'}"
      ]
     },
     "execution_count": 87,
     "metadata": {},
     "output_type": "execute_result"
    }
   ],
   "source": [
    "_2019_df.keywords[0][0]"
   ]
  },
  {
   "cell_type": "code",
   "execution_count": 79,
   "metadata": {},
   "outputs": [
    {
     "data": {
      "text/plain": [
       "[{'name': 'subject',\n",
       "  'value': 'United States Politics and Government',\n",
       "  'rank': 1,\n",
       "  'major': 'N'},\n",
       " {'name': 'subject', 'value': 'New Year', 'rank': 2, 'major': 'N'},\n",
       " {'name': 'organizations',\n",
       "  'value': 'League of Nations',\n",
       "  'rank': 3,\n",
       "  'major': 'N'},\n",
       " {'name': 'persons', 'value': 'Wilson, Woodrow', 'rank': 4, 'major': 'N'},\n",
       " {'name': 'glocations', 'value': 'Europe', 'rank': 5, 'major': 'N'}]"
      ]
     },
     "execution_count": 79,
     "metadata": {},
     "output_type": "execute_result"
    }
   ],
   "source": [
    "keywords_1"
   ]
  },
  {
   "cell_type": "code",
   "execution_count": null,
   "metadata": {},
   "outputs": [],
   "source": []
  },
  {
   "cell_type": "code",
   "execution_count": null,
   "metadata": {},
   "outputs": [],
   "source": []
  },
  {
   "cell_type": "code",
   "execution_count": null,
   "metadata": {},
   "outputs": [],
   "source": []
  },
  {
   "cell_type": "code",
   "execution_count": null,
   "metadata": {},
   "outputs": [],
   "source": []
  },
  {
   "cell_type": "code",
   "execution_count": 54,
   "metadata": {},
   "outputs": [],
   "source": [
    "word_count = _2019_df.word_count"
   ]
  },
  {
   "cell_type": "code",
   "execution_count": null,
   "metadata": {},
   "outputs": [],
   "source": [
    "matplotlib.pyplot.hist(x, bins=None, range=None, density=None, weights=None, cumulative=False, bottom=None, histtype='bar', align='mid', orientation='vertical', rwidth=None, log=False, color=None, label=None, stacked=False, normed=None, *, data=None, **kwargs)"
   ]
  },
  {
   "cell_type": "code",
   "execution_count": 71,
   "metadata": {},
   "outputs": [
    {
     "data": {
      "text/plain": [
       "<AxesSubplot:>"
      ]
     },
     "execution_count": 71,
     "metadata": {},
     "output_type": "execute_result"
    },
    {
     "data": {
      "image/png": "[encoded data removed]",
      "text/plain": [
       "<Figure size 432x288 with 1 Axes>"
      ]
     },
     "metadata": {
      "needs_background": "light"
     },
     "output_type": "display_data"
    }
   ],
   "source": [
    "word_count.hist(bins = 2000, range=(0, 2000))\n"
   ]
  },
  {
   "cell_type": "code",
   "execution_count": null,
   "metadata": {},
   "outputs": [],
   "source": []
  },
  {
   "cell_type": "code",
   "execution_count": null,
   "metadata": {},
   "outputs": [],
   "source": []
  },
  {
   "cell_type": "code",
   "execution_count": null,
   "metadata": {},
   "outputs": [],
   "source": []
  },
  {
   "cell_type": "code",
   "execution_count": 46,
   "metadata": {},
   "outputs": [
    {
     "ename": "ValueError",
     "evalue": "malformed node or string: [{'name': 'subject', 'value': 'United States Politics and Government', 'rank': 1, 'major': 'N'}, {'name': 'subject', 'value': 'New Year', 'rank': 2, 'major': 'N'}, {'name': 'organizations', 'value': 'League of Nations', 'rank': 3, 'major': 'N'}, {'name': 'persons', 'value': 'Wilson, Woodrow', 'rank': 4, 'major': 'N'}, {'name': 'glocations', 'value': 'Europe', 'rank': 5, 'major': 'N'}]",
     "output_type": "error",
     "traceback": [
      "\u001b[0;31m---------------------------------------------------------------------------\u001b[0m",
      "\u001b[0;31mValueError\u001b[0m                                Traceback (most recent call last)",
      "\u001b[0;32m<ipython-input-46-23c69043840b>\u001b[0m in \u001b[0;36m<module>\u001b[0;34m\u001b[0m\n\u001b[0;32m----> 1\u001b[0;31m \u001b[0mkeywords_1\u001b[0m \u001b[0;34m=\u001b[0m \u001b[0mast\u001b[0m\u001b[0;34m.\u001b[0m\u001b[0mliteral_eval\u001b[0m\u001b[0;34m(\u001b[0m\u001b[0mkeywords_1\u001b[0m\u001b[0;34m)\u001b[0m\u001b[0;34m\u001b[0m\u001b[0;34m\u001b[0m\u001b[0m\n\u001b[0m",
      "\u001b[0;32m~/opt/anaconda3/lib/python3.7/ast.py\u001b[0m in \u001b[0;36mliteral_eval\u001b[0;34m(node_or_string)\u001b[0m\n\u001b[1;32m     89\u001b[0m                     \u001b[0;32mreturn\u001b[0m \u001b[0mleft\u001b[0m \u001b[0;34m-\u001b[0m \u001b[0mright\u001b[0m\u001b[0;34m\u001b[0m\u001b[0;34m\u001b[0m\u001b[0m\n\u001b[1;32m     90\u001b[0m         \u001b[0;32mreturn\u001b[0m \u001b[0m_convert_signed_num\u001b[0m\u001b[0;34m(\u001b[0m\u001b[0mnode\u001b[0m\u001b[0;34m)\u001b[0m\u001b[0;34m\u001b[0m\u001b[0;34m\u001b[0m\u001b[0m\n\u001b[0;32m---> 91\u001b[0;31m     \u001b[0;32mreturn\u001b[0m \u001b[0m_convert\u001b[0m\u001b[0;34m(\u001b[0m\u001b[0mnode_or_string\u001b[0m\u001b[0;34m)\u001b[0m\u001b[0;34m\u001b[0m\u001b[0;34m\u001b[0m\u001b[0m\n\u001b[0m\u001b[1;32m     92\u001b[0m \u001b[0;34m\u001b[0m\u001b[0m\n\u001b[1;32m     93\u001b[0m \u001b[0;34m\u001b[0m\u001b[0m\n",
      "\u001b[0;32m~/opt/anaconda3/lib/python3.7/ast.py\u001b[0m in \u001b[0;36m_convert\u001b[0;34m(node)\u001b[0m\n\u001b[1;32m     88\u001b[0m                 \u001b[0;32melse\u001b[0m\u001b[0;34m:\u001b[0m\u001b[0;34m\u001b[0m\u001b[0;34m\u001b[0m\u001b[0m\n\u001b[1;32m     89\u001b[0m                     \u001b[0;32mreturn\u001b[0m \u001b[0mleft\u001b[0m \u001b[0;34m-\u001b[0m \u001b[0mright\u001b[0m\u001b[0;34m\u001b[0m\u001b[0;34m\u001b[0m\u001b[0m\n\u001b[0;32m---> 90\u001b[0;31m         \u001b[0;32mreturn\u001b[0m \u001b[0m_convert_signed_num\u001b[0m\u001b[0;34m(\u001b[0m\u001b[0mnode\u001b[0m\u001b[0;34m)\u001b[0m\u001b[0;34m\u001b[0m\u001b[0;34m\u001b[0m\u001b[0m\n\u001b[0m\u001b[1;32m     91\u001b[0m     \u001b[0;32mreturn\u001b[0m \u001b[0m_convert\u001b[0m\u001b[0;34m(\u001b[0m\u001b[0mnode_or_string\u001b[0m\u001b[0;34m)\u001b[0m\u001b[0;34m\u001b[0m\u001b[0;34m\u001b[0m\u001b[0m\n\u001b[1;32m     92\u001b[0m \u001b[0;34m\u001b[0m\u001b[0m\n",
      "\u001b[0;32m~/opt/anaconda3/lib/python3.7/ast.py\u001b[0m in \u001b[0;36m_convert_signed_num\u001b[0;34m(node)\u001b[0m\n\u001b[1;32m     61\u001b[0m             \u001b[0;32melse\u001b[0m\u001b[0;34m:\u001b[0m\u001b[0;34m\u001b[0m\u001b[0;34m\u001b[0m\u001b[0m\n\u001b[1;32m     62\u001b[0m                 \u001b[0;32mreturn\u001b[0m \u001b[0;34m-\u001b[0m \u001b[0moperand\u001b[0m\u001b[0;34m\u001b[0m\u001b[0;34m\u001b[0m\u001b[0m\n\u001b[0;32m---> 63\u001b[0;31m         \u001b[0;32mreturn\u001b[0m \u001b[0m_convert_num\u001b[0m\u001b[0;34m(\u001b[0m\u001b[0mnode\u001b[0m\u001b[0;34m)\u001b[0m\u001b[0;34m\u001b[0m\u001b[0;34m\u001b[0m\u001b[0m\n\u001b[0m\u001b[1;32m     64\u001b[0m     \u001b[0;32mdef\u001b[0m \u001b[0m_convert\u001b[0m\u001b[0;34m(\u001b[0m\u001b[0mnode\u001b[0m\u001b[0;34m)\u001b[0m\u001b[0;34m:\u001b[0m\u001b[0;34m\u001b[0m\u001b[0;34m\u001b[0m\u001b[0m\n\u001b[1;32m     65\u001b[0m         \u001b[0;32mif\u001b[0m \u001b[0misinstance\u001b[0m\u001b[0;34m(\u001b[0m\u001b[0mnode\u001b[0m\u001b[0;34m,\u001b[0m \u001b[0mConstant\u001b[0m\u001b[0;34m)\u001b[0m\u001b[0;34m:\u001b[0m\u001b[0;34m\u001b[0m\u001b[0;34m\u001b[0m\u001b[0m\n",
      "\u001b[0;32m~/opt/anaconda3/lib/python3.7/ast.py\u001b[0m in \u001b[0;36m_convert_num\u001b[0;34m(node)\u001b[0m\n\u001b[1;32m     53\u001b[0m         \u001b[0;32melif\u001b[0m \u001b[0misinstance\u001b[0m\u001b[0;34m(\u001b[0m\u001b[0mnode\u001b[0m\u001b[0;34m,\u001b[0m \u001b[0mNum\u001b[0m\u001b[0;34m)\u001b[0m\u001b[0;34m:\u001b[0m\u001b[0;34m\u001b[0m\u001b[0;34m\u001b[0m\u001b[0m\n\u001b[1;32m     54\u001b[0m             \u001b[0;32mreturn\u001b[0m \u001b[0mnode\u001b[0m\u001b[0;34m.\u001b[0m\u001b[0mn\u001b[0m\u001b[0;34m\u001b[0m\u001b[0;34m\u001b[0m\u001b[0m\n\u001b[0;32m---> 55\u001b[0;31m         \u001b[0;32mraise\u001b[0m \u001b[0mValueError\u001b[0m\u001b[0;34m(\u001b[0m\u001b[0;34m'malformed node or string: '\u001b[0m \u001b[0;34m+\u001b[0m \u001b[0mrepr\u001b[0m\u001b[0;34m(\u001b[0m\u001b[0mnode\u001b[0m\u001b[0;34m)\u001b[0m\u001b[0;34m)\u001b[0m\u001b[0;34m\u001b[0m\u001b[0;34m\u001b[0m\u001b[0m\n\u001b[0m\u001b[1;32m     56\u001b[0m     \u001b[0;32mdef\u001b[0m \u001b[0m_convert_signed_num\u001b[0m\u001b[0;34m(\u001b[0m\u001b[0mnode\u001b[0m\u001b[0;34m)\u001b[0m\u001b[0;34m:\u001b[0m\u001b[0;34m\u001b[0m\u001b[0;34m\u001b[0m\u001b[0m\n\u001b[1;32m     57\u001b[0m         \u001b[0;32mif\u001b[0m \u001b[0misinstance\u001b[0m\u001b[0;34m(\u001b[0m\u001b[0mnode\u001b[0m\u001b[0;34m,\u001b[0m \u001b[0mUnaryOp\u001b[0m\u001b[0;34m)\u001b[0m \u001b[0;32mand\u001b[0m \u001b[0misinstance\u001b[0m\u001b[0;34m(\u001b[0m\u001b[0mnode\u001b[0m\u001b[0;34m.\u001b[0m\u001b[0mop\u001b[0m\u001b[0;34m,\u001b[0m \u001b[0;34m(\u001b[0m\u001b[0mUAdd\u001b[0m\u001b[0;34m,\u001b[0m \u001b[0mUSub\u001b[0m\u001b[0;34m)\u001b[0m\u001b[0;34m)\u001b[0m\u001b[0;34m:\u001b[0m\u001b[0;34m\u001b[0m\u001b[0;34m\u001b[0m\u001b[0m\n",
      "\u001b[0;31mValueError\u001b[0m: malformed node or string: [{'name': 'subject', 'value': 'United States Politics and Government', 'rank': 1, 'major': 'N'}, {'name': 'subject', 'value': 'New Year', 'rank': 2, 'major': 'N'}, {'name': 'organizations', 'value': 'League of Nations', 'rank': 3, 'major': 'N'}, {'name': 'persons', 'value': 'Wilson, Woodrow', 'rank': 4, 'major': 'N'}, {'name': 'glocations', 'value': 'Europe', 'rank': 5, 'major': 'N'}]"
     ]
    }
   ],
   "source": []
  },
  {
   "cell_type": "code",
   "execution_count": 43,
   "metadata": {},
   "outputs": [
    {
     "data": {
      "text/plain": [
       "[{'name': 'subject',\n",
       "  'value': 'United States Politics and Government',\n",
       "  'rank': 1,\n",
       "  'major': 'N'},\n",
       " {'name': 'subject', 'value': 'New Year', 'rank': 2, 'major': 'N'},\n",
       " {'name': 'organizations',\n",
       "  'value': 'League of Nations',\n",
       "  'rank': 3,\n",
       "  'major': 'N'},\n",
       " {'name': 'persons', 'value': 'Wilson, Woodrow', 'rank': 4, 'major': 'N'},\n",
       " {'name': 'glocations', 'value': 'Europe', 'rank': 5, 'major': 'N'}]"
      ]
     },
     "execution_count": 43,
     "metadata": {},
     "output_type": "execute_result"
    }
   ],
   "source": [
    "keywords_1"
   ]
  },
  {
   "cell_type": "code",
   "execution_count": null,
   "metadata": {},
   "outputs": [],
   "source": []
  }
 ],
 "metadata": {
  "kernelspec": {
   "display_name": "Python 3",
   "language": "python",
   "name": "python3"
  },
  "language_info": {
   "codemirror_mode": {
    "name": "ipython",
    "version": 3
   },
   "file_extension": ".py",
   "mimetype": "text/x-python",
   "name": "python",
   "nbconvert_exporter": "python",
   "pygments_lexer": "ipython3",
   "version": "3.7.9"
  }
 },
 "nbformat": 4,
 "nbformat_minor": 4
}
