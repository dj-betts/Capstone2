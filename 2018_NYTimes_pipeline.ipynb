{
 "cells": [
  {
   "cell_type": "code",
   "execution_count": 1,
   "metadata": {},
   "outputs": [],
   "source": [
    "import time\n",
    "import sys\n",
    "import json\n",
    "import datetime"
   ]
  },
  {
   "cell_type": "code",
   "execution_count": 2,
   "metadata": {},
   "outputs": [],
   "source": [
    "import requests\n",
    "from bs4 import BeautifulSoup"
   ]
  },
  {
   "cell_type": "code",
   "execution_count": 3,
   "metadata": {},
   "outputs": [],
   "source": [
    "import pandas as pd\n",
    "import numpy as np"
   ]
  },
  {
   "cell_type": "code",
   "execution_count": 4,
   "metadata": {},
   "outputs": [],
   "source": [
    "def api_metadata_docs(api):\n",
    "    #api = 'https://api.nytimes.com/svc/archive/v1/{year}/{month}.json?api-key=kwQUDL7cdaIuu03LazP2b3F2R0uY1kET'\n",
    "    api_request = requests.get(api, params={'q': 'requests+language:python'})\n",
    "    print(api_request.status_code)\n",
    "    json = api_request.json()\n",
    "    json_response = json['response']\n",
    "    json_docs = json_response['docs']\n",
    "    return json_docs"
   ]
  },
  {
   "cell_type": "code",
   "execution_count": 5,
   "metadata": {},
   "outputs": [],
   "source": [
    "def json_metedata_df(json):\n",
    "    list_of_series = []\n",
    "    max_columns = []\n",
    "    \n",
    "    for doc in json:\n",
    "        metadata = []\n",
    "        metadata_keys = []\n",
    "        \n",
    "        for key in doc.keys():\n",
    "            metadata_keys.append(key)\n",
    "            metadata.append(doc[key])\n",
    "            metadata_ser = pd.Series(data=metadata, index=metadata_keys)\n",
    "        list_of_series.append(metadata_ser)\n",
    "        \n",
    "    metadata_df = pd.DataFrame(data=list_of_series)\n",
    "    print(metadata_df.shape)\n",
    "    return metadata_df"
   ]
  },
  {
   "cell_type": "code",
   "execution_count": 6,
   "metadata": {},
   "outputs": [],
   "source": [
    "#takes in a df and returns only oped and news from \"type of material\" column\n",
    "def oped_news_filter(df):\n",
    "    oped_news_df = df.copy()\n",
    "    \n",
    "    oped_news_df = oped_news_df[oped_news_df.type_of_material.isin(['Op-Ed', 'News'])]\n",
    "    print(oped_news_df.shape)\n",
    "    return oped_news_df"
   ]
  },
  {
   "cell_type": "code",
   "execution_count": 7,
   "metadata": {},
   "outputs": [],
   "source": [
    "def url_pargraph_list(url):\n",
    "    \n",
    "    page = requests.get((url))\n",
    "    soup = BeautifulSoup(page.content, 'html.parser')\n",
    "\n",
    "    #got text from all paragraphs\n",
    "    paragraph_list = []\n",
    "    for par in (soup.find_all(\"p\")):\n",
    "        paragraph_list.append(par.text)\n",
    "        \n",
    "    return paragraph_list\n",
    "#     return paragraph_list "
   ]
  },
  {
   "cell_type": "code",
   "execution_count": 8,
   "metadata": {},
   "outputs": [],
   "source": [
    "#working function from df to df w/ text!\n",
    "def dnld_art_apply(df):\n",
    "    articles_df = df.copy()\n",
    "    \n",
    "    text = articles_df['web_url'].apply(\n",
    "        lambda row: \n",
    "        url_pargraph_list(\n",
    "            url = row))\n",
    "    \n",
    "    articles_df['text'] = text\n",
    "    \n",
    "    return articles_df    "
   ]
  },
  {
   "cell_type": "markdown",
   "metadata": {},
   "source": [
    "# jan18"
   ]
  },
  {
   "cell_type": "code",
   "execution_count": 9,
   "metadata": {},
   "outputs": [],
   "source": [
    "# %%time\n",
    "# jan18_api = 'https://api.nytimes.com/svc/archive/v1/2018/1.json?api-key=kwQUDL7cdaIuu03LazP2b3F2R0uY1kET'"
   ]
  },
  {
   "cell_type": "code",
   "execution_count": 10,
   "metadata": {},
   "outputs": [],
   "source": [
    "# %%time\n",
    "# #api request from archive for metadata json\n",
    "\n",
    "# jan18_json = api_metadata_docs(api=jan18_api)"
   ]
  },
  {
   "cell_type": "code",
   "execution_count": 11,
   "metadata": {},
   "outputs": [],
   "source": [
    "# %%time\n",
    "# #json to metadata_df\n",
    "\n",
    "# jan18_metadata_df = json_metedata_df(json=jan18_json)"
   ]
  },
  {
   "cell_type": "code",
   "execution_count": 12,
   "metadata": {},
   "outputs": [],
   "source": [
    "# %%time\n",
    "# #filter from full metadata df to features and target dataframe\n",
    "\n",
    "# jan18_oped_news_df = oped_news_filter(jan18_metadata_df)"
   ]
  },
  {
   "cell_type": "code",
   "execution_count": 13,
   "metadata": {},
   "outputs": [],
   "source": [
    "# %%time\n",
    "# #scrape  thousands of html files\n",
    "\n",
    "# jan18 = dnld_art_apply(jan18_oped_news_df)"
   ]
  },
  {
   "cell_type": "code",
   "execution_count": 14,
   "metadata": {},
   "outputs": [],
   "source": [
    "# %%time\n",
    "# jan18.to_csv('jan18.csv')"
   ]
  },
  {
   "cell_type": "markdown",
   "metadata": {},
   "source": [
    "# feb18"
   ]
  },
  {
   "cell_type": "code",
   "execution_count": 15,
   "metadata": {},
   "outputs": [],
   "source": [
    "def streamline_scrape(month_num, month=\"\", year=\"\"):\n",
    "    api = f'https://api.nytimes.com/svc/archive/v1/{year}/{month_num}.json?api-key=kwQUDL7cdaIuu03LazP2b3F2R0uY1kET'\n",
    "    json = api_metadata_docs(api)\n",
    "    metadata_df = json_metedata_df(json)\n",
    "    oped_news_df = oped_news_filter(metadata_df)\n",
    "    output = dnld_art_apply(oped_news_df)\n",
    "    return output.to_csv(f'{month}{year}.csv')"
   ]
  },
  {
   "cell_type": "code",
   "execution_count": 16,
   "metadata": {},
   "outputs": [],
   "source": [
    "# %%time\n",
    "# streamline_scrape(month_num='2', month = 'feb', year='2018')"
   ]
  },
  {
   "cell_type": "markdown",
   "metadata": {},
   "source": [
    "# mar18\n"
   ]
  },
  {
   "cell_type": "code",
   "execution_count": 17,
   "metadata": {},
   "outputs": [],
   "source": [
    "# %%time\n",
    "# print(datetime.datetime.now())\n",
    "\n",
    "# streamline_scrape(month_num='3', month='mar', year='2018')"
   ]
  },
  {
   "cell_type": "markdown",
   "metadata": {},
   "source": [
    "# apr18"
   ]
  },
  {
   "cell_type": "code",
   "execution_count": 18,
   "metadata": {},
   "outputs": [],
   "source": [
    "# %%time\n",
    "# print(datetime.datetime.now())\n",
    "\n",
    "# streamline_scrape(month_num='3', month='apr', year='2018')"
   ]
  },
  {
   "cell_type": "markdown",
   "metadata": {},
   "source": [
    "\n",
    "# may18\n"
   ]
  },
  {
   "cell_type": "code",
   "execution_count": null,
   "metadata": {},
   "outputs": [],
   "source": [
    "# %%time\n",
    "# print(datetime.datetime.now())\n",
    "\n",
    "# streamline_scrape(month_num='5', month='may', year='2018')\n",
    "\n",
    "# 2020-12-03 22:16:34.030566\n",
    "# 200\n",
    "# (5127, 20)\n",
    "# (3910, 20)\n",
    "# CPU times: user 3min 6s, sys: 8.05 s, total: 3min 14s\n",
    "# Wall time: 38min 51s"
   ]
  },
  {
   "cell_type": "markdown",
   "metadata": {},
   "source": [
    "# jun18"
   ]
  },
  {
   "cell_type": "code",
   "execution_count": 20,
   "metadata": {
    "scrolled": true
   },
   "outputs": [
    {
     "name": "stdout",
     "output_type": "stream",
     "text": [
      "2020-12-03 22:55:25.918804\n",
      "200\n",
      "(4988, 20)\n",
      "(3767, 20)\n",
      "CPU times: user 3min 5s, sys: 8.02 s, total: 3min 13s\n",
      "Wall time: 38min 8s\n"
     ]
    }
   ],
   "source": [
    "# %%time\n",
    "# print(datetime.datetime.now())\n",
    "\n",
    "# streamline_scrape(month_num='6', month='jun', year='2018')\n",
    "\n",
    "# 2020-12-03 22:55:25.918804\n",
    "# 200\n",
    "# (4988, 20)\n",
    "# (3767, 20)\n",
    "# CPU times: user 3min 5s, sys: 8.02 s, total: 3min 13s\n",
    "# Wall time: 38min 8s"
   ]
  },
  {
   "cell_type": "markdown",
   "metadata": {},
   "source": [
    "\n",
    "# jul18\n"
   ]
  },
  {
   "cell_type": "code",
   "execution_count": null,
   "metadata": {},
   "outputs": [],
   "source": [
    "# %%time\n",
    "# print(datetime.datetime.now())\n",
    "\n",
    "# streamline_scrape(month_num='7', month='jul', year='2018')\n",
    "\n",
    "# 2020-12-03 23:33:34.514406\n",
    "# 200\n",
    "# (4444, 20)\n",
    "# (3416, 20)\n",
    "# CPU times: user 2min 41s, sys: 7.34 s, total: 2min 48s\n",
    "# Wall time: 32min 25s"
   ]
  },
  {
   "cell_type": "markdown",
   "metadata": {},
   "source": [
    "# aug18\n"
   ]
  },
  {
   "cell_type": "code",
   "execution_count": 22,
   "metadata": {},
   "outputs": [
    {
     "name": "stdout",
     "output_type": "stream",
     "text": [
      "2020-12-04 00:05:59.538720\n",
      "200\n",
      "(6381, 20)\n",
      "(3489, 20)\n",
      "CPU times: user 2min 14s, sys: 5.75 s, total: 2min 20s\n",
      "Wall time: 32min 34s\n"
     ]
    }
   ],
   "source": [
    "%%time\n",
    "print(datetime.datetime.now())\n",
    "\n",
    "streamline_scrape(month_num='8', month='aug', year='2018')"
   ]
  },
  {
   "cell_type": "markdown",
   "metadata": {},
   "source": [
    "\n",
    "# sep18\n"
   ]
  },
  {
   "cell_type": "code",
   "execution_count": null,
   "metadata": {},
   "outputs": [
    {
     "name": "stdout",
     "output_type": "stream",
     "text": [
      "2020-12-04 00:38:34.381361\n",
      "200\n",
      "(4722, 20)\n",
      "(3591, 20)\n"
     ]
    }
   ],
   "source": [
    "%%time\n",
    "print(datetime.datetime.now())\n",
    "\n",
    "streamline_scrape(month_num='9', month='sep', year='2018')"
   ]
  },
  {
   "cell_type": "markdown",
   "metadata": {},
   "source": [
    "# oct 18"
   ]
  },
  {
   "cell_type": "code",
   "execution_count": null,
   "metadata": {},
   "outputs": [],
   "source": [
    "%%time\n",
    "print(datetime.datetime.now())\n",
    "\n",
    "streamline_scrape(month_num='10', month='oct', year='2018')"
   ]
  },
  {
   "cell_type": "markdown",
   "metadata": {},
   "source": [
    "# nov18"
   ]
  },
  {
   "cell_type": "code",
   "execution_count": null,
   "metadata": {},
   "outputs": [],
   "source": [
    "%%time\n",
    "print(datetime.datetime.now())\n",
    "\n",
    "streamline_scrape(month_num='7', month='jul', year='2018')"
   ]
  },
  {
   "cell_type": "markdown",
   "metadata": {},
   "source": [
    "# dec18"
   ]
  },
  {
   "cell_type": "code",
   "execution_count": null,
   "metadata": {},
   "outputs": [],
   "source": [
    "%%time\n",
    "print(datetime.datetime.now())\n",
    "\n",
    "streamline_scrape(month_num='12', month='dec', year='2018')"
   ]
  },
  {
   "cell_type": "markdown",
   "metadata": {},
   "source": [
    "# jan17\n"
   ]
  },
  {
   "cell_type": "code",
   "execution_count": null,
   "metadata": {},
   "outputs": [],
   "source": [
    "%%time\n",
    "print(datetime.datetime.now())\n",
    "\n",
    "streamline_scrape(month_num='1', month='jan', year='2017')"
   ]
  },
  {
   "cell_type": "markdown",
   "metadata": {},
   "source": [
    "# feb17\n"
   ]
  },
  {
   "cell_type": "code",
   "execution_count": null,
   "metadata": {},
   "outputs": [],
   "source": [
    "%%time\n",
    "print(datetime.datetime.now())\n",
    "\n",
    "streamline_scrape(month_num='2', month='feb', year='2017')"
   ]
  },
  {
   "cell_type": "markdown",
   "metadata": {},
   "source": [
    "# mar17\n"
   ]
  },
  {
   "cell_type": "code",
   "execution_count": null,
   "metadata": {},
   "outputs": [],
   "source": [
    "%%time\n",
    "print(datetime.datetime.now())\n",
    "\n",
    "streamline_scrape(month_num='3', month='mar', year='2017')"
   ]
  },
  {
   "cell_type": "markdown",
   "metadata": {},
   "source": [
    "# apr17\n"
   ]
  },
  {
   "cell_type": "code",
   "execution_count": null,
   "metadata": {},
   "outputs": [],
   "source": [
    "%%time\n",
    "print(datetime.datetime.now())\n",
    "\n",
    "streamline_scrape(month_num='4', month='apr', year='2017')"
   ]
  },
  {
   "cell_type": "markdown",
   "metadata": {},
   "source": [
    "# may17\n"
   ]
  },
  {
   "cell_type": "code",
   "execution_count": null,
   "metadata": {},
   "outputs": [],
   "source": [
    "%%time\n",
    "print(datetime.datetime.now())\n",
    "\n",
    "streamline_scrape(month_num='5', month='may', year='2017')"
   ]
  },
  {
   "cell_type": "markdown",
   "metadata": {},
   "source": [
    "# jun17\n"
   ]
  },
  {
   "cell_type": "code",
   "execution_count": null,
   "metadata": {},
   "outputs": [],
   "source": [
    "%%time\n",
    "print(datetime.datetime.now())\n",
    "\n",
    "streamline_scrape(month_num='6', month='jun', year='2017')"
   ]
  },
  {
   "cell_type": "markdown",
   "metadata": {},
   "source": [
    "# jul17\n"
   ]
  },
  {
   "cell_type": "code",
   "execution_count": null,
   "metadata": {},
   "outputs": [],
   "source": [
    "%%time\n",
    "print(datetime.datetime.now())\n",
    "\n",
    "streamline_scrape(month_num='7', month='jul', year='2017')"
   ]
  },
  {
   "cell_type": "markdown",
   "metadata": {},
   "source": [
    "# aug17\n"
   ]
  },
  {
   "cell_type": "code",
   "execution_count": null,
   "metadata": {},
   "outputs": [],
   "source": [
    "%%time\n",
    "print(datetime.datetime.now())\n",
    "\n",
    "streamline_scrape(month_num='8', month='aug', year='2017')"
   ]
  },
  {
   "cell_type": "markdown",
   "metadata": {},
   "source": [
    "# sep17\n"
   ]
  },
  {
   "cell_type": "code",
   "execution_count": null,
   "metadata": {},
   "outputs": [],
   "source": [
    "%%time\n",
    "print(datetime.datetime.now())\n",
    "\n",
    "streamline_scrape(month_num='9', month='sep', year='2017')"
   ]
  },
  {
   "cell_type": "markdown",
   "metadata": {},
   "source": [
    "# oct17\n"
   ]
  },
  {
   "cell_type": "code",
   "execution_count": null,
   "metadata": {},
   "outputs": [],
   "source": [
    "%%time\n",
    "print(datetime.datetime.now())\n",
    "\n",
    "streamline_scrape(month_num='10', month='oct', year='2017')"
   ]
  },
  {
   "cell_type": "markdown",
   "metadata": {},
   "source": [
    "# nov17\n"
   ]
  },
  {
   "cell_type": "code",
   "execution_count": null,
   "metadata": {},
   "outputs": [],
   "source": [
    "%%time\n",
    "print(datetime.datetime.now())\n",
    "\n",
    "streamline_scrape(month_num='11', month='nov', year='2017')"
   ]
  },
  {
   "cell_type": "markdown",
   "metadata": {},
   "source": [
    "# dec17"
   ]
  },
  {
   "cell_type": "code",
   "execution_count": null,
   "metadata": {},
   "outputs": [],
   "source": [
    "%%time\n",
    "print(datetime.datetime.now())\n",
    "\n",
    "streamline_scrape(month_num='12', month='dec', year='2017')"
   ]
  },
  {
   "cell_type": "markdown",
   "metadata": {},
   "source": [
    "# jan16\n"
   ]
  },
  {
   "cell_type": "code",
   "execution_count": null,
   "metadata": {},
   "outputs": [],
   "source": [
    "%%time\n",
    "print(datetime.datetime.now())\n",
    "\n",
    "streamline_scrape(month_num='1', month='jan', year='2016')"
   ]
  },
  {
   "cell_type": "markdown",
   "metadata": {},
   "source": [
    "# feb16\n"
   ]
  },
  {
   "cell_type": "code",
   "execution_count": null,
   "metadata": {},
   "outputs": [],
   "source": [
    "%%time\n",
    "print(datetime.datetime.now())\n",
    "\n",
    "streamline_scrape(month_num='2', month='feb', year='2016')"
   ]
  },
  {
   "cell_type": "markdown",
   "metadata": {},
   "source": [
    "# mar16\n"
   ]
  },
  {
   "cell_type": "code",
   "execution_count": null,
   "metadata": {},
   "outputs": [],
   "source": [
    "%%time\n",
    "print(datetime.datetime.now())\n",
    "\n",
    "streamline_scrape(month_num='3', month='mar', year='2016')"
   ]
  },
  {
   "cell_type": "markdown",
   "metadata": {},
   "source": [
    "# apr16\n"
   ]
  },
  {
   "cell_type": "code",
   "execution_count": null,
   "metadata": {},
   "outputs": [],
   "source": [
    "%%time\n",
    "print(datetime.datetime.now())\n",
    "\n",
    "streamline_scrape(month_num='4', month='apr', year='2016')"
   ]
  },
  {
   "cell_type": "markdown",
   "metadata": {},
   "source": [
    "# may16\n"
   ]
  },
  {
   "cell_type": "code",
   "execution_count": null,
   "metadata": {},
   "outputs": [],
   "source": [
    "%%time\n",
    "print(datetime.datetime.now())\n",
    "\n",
    "streamline_scrape(month_num='5', month='may', year='2016')"
   ]
  },
  {
   "cell_type": "markdown",
   "metadata": {},
   "source": [
    "# jun16\n"
   ]
  },
  {
   "cell_type": "code",
   "execution_count": null,
   "metadata": {},
   "outputs": [],
   "source": [
    "%%time\n",
    "print(datetime.datetime.now())\n",
    "\n",
    "streamline_scrape(month_num='6', month='jun', year='2016')"
   ]
  },
  {
   "cell_type": "markdown",
   "metadata": {},
   "source": [
    "# jul16\n"
   ]
  },
  {
   "cell_type": "code",
   "execution_count": null,
   "metadata": {},
   "outputs": [],
   "source": [
    "%%time\n",
    "print(datetime.datetime.now())\n",
    "\n",
    "streamline_scrape(month_num='7', month='jul', year='2016')"
   ]
  },
  {
   "cell_type": "markdown",
   "metadata": {},
   "source": [
    "# aug16\n"
   ]
  },
  {
   "cell_type": "code",
   "execution_count": null,
   "metadata": {},
   "outputs": [],
   "source": [
    "%%time\n",
    "print(datetime.datetime.now())\n",
    "\n",
    "streamline_scrape(month_num='8', month='aug', year='2016')"
   ]
  },
  {
   "cell_type": "markdown",
   "metadata": {},
   "source": [
    "# sep16\n"
   ]
  },
  {
   "cell_type": "code",
   "execution_count": null,
   "metadata": {},
   "outputs": [],
   "source": [
    "%%time\n",
    "print(datetime.datetime.now())\n",
    "\n",
    "streamline_scrape(month_num='9', month='sep', year='2016')"
   ]
  },
  {
   "cell_type": "markdown",
   "metadata": {},
   "source": [
    "# oct16\n"
   ]
  },
  {
   "cell_type": "code",
   "execution_count": null,
   "metadata": {},
   "outputs": [],
   "source": [
    "%%time\n",
    "print(datetime.datetime.now())\n",
    "\n",
    "streamline_scrape(month_num='10', month='oct', year='2016')"
   ]
  },
  {
   "cell_type": "markdown",
   "metadata": {},
   "source": [
    "# nov16\n"
   ]
  },
  {
   "cell_type": "code",
   "execution_count": null,
   "metadata": {},
   "outputs": [],
   "source": [
    "%%time\n",
    "print(datetime.datetime.now())\n",
    "\n",
    "streamline_scrape(month_num='11', month='nov', year='2016')"
   ]
  },
  {
   "cell_type": "markdown",
   "metadata": {},
   "source": [
    "# dec16"
   ]
  },
  {
   "cell_type": "code",
   "execution_count": null,
   "metadata": {},
   "outputs": [],
   "source": [
    "%%time\n",
    "print(datetime.datetime.now())\n",
    "\n",
    "streamline_scrape(month_num='12', month='dec', year='2016')"
   ]
  }
 ],
 "metadata": {
  "kernelspec": {
   "display_name": "Python 3",
   "language": "python",
   "name": "python3"
  },
  "language_info": {
   "codemirror_mode": {
    "name": "ipython",
    "version": 3
   },
   "file_extension": ".py",
   "mimetype": "text/x-python",
   "name": "python",
   "nbconvert_exporter": "python",
   "pygments_lexer": "ipython3",
   "version": "3.7.9"
  }
 },
 "nbformat": 4,
 "nbformat_minor": 4
}
