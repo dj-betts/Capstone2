{
 "cells": [
  {
   "cell_type": "code",
   "execution_count": 1,
   "metadata": {},
   "outputs": [],
   "source": [
    "import pandas as pd"
   ]
  },
  {
   "cell_type": "code",
   "execution_count": 2,
   "metadata": {},
   "outputs": [],
   "source": [
    "from datetime import datetime"
   ]
  },
  {
   "cell_type": "code",
   "execution_count": 3,
   "metadata": {},
   "outputs": [],
   "source": [
    "#import for turning byline string-type into byline dictionary-type\n",
    "\n",
    "import ast"
   ]
  },
  {
   "cell_type": "code",
   "execution_count": 4,
   "metadata": {},
   "outputs": [],
   "source": [
    "jan19 = pd.read_csv('2019/jan19.csv', index_col='Unnamed: 0')\n",
    "feb19 = pd.read_csv('2019/feb19.csv', index_col='Unnamed: 0')\n",
    "mar19 = pd.read_csv('2019/mar19.csv', index_col='Unnamed: 0')\n",
    "apr19 = pd.read_csv('2019/apr19.csv', index_col='Unnamed: 0')\n",
    "may19 = pd.read_csv('2019/may19.csv', index_col='Unnamed: 0')\n",
    "jun19 = pd.read_csv('2019/jun19.csv', index_col='Unnamed: 0')\n",
    "jul19 = pd.read_csv('2019/jul19.csv', index_col='Unnamed: 0')\n",
    "aug19 = pd.read_csv('2019/aug19.csv', index_col='Unnamed: 0')\n",
    "sep19 = pd.read_csv('2019/sep19.csv', index_col='Unnamed: 0')\n",
    "oct19 = pd.read_csv('2019/oct19.csv', index_col='Unnamed: 0')\n",
    "nov19 = pd.read_csv('2019/nov19.csv', index_col='Unnamed: 0')\n",
    "dec19 = pd.read_csv('2019/dec19.csv', index_col='Unnamed: 0')"
   ]
  },
  {
   "cell_type": "code",
   "execution_count": 5,
   "metadata": {},
   "outputs": [],
   "source": [
    "jan19_df = jan19.copy()\n",
    "feb19_df = feb19.copy()\n",
    "mar19_df = mar19.copy()\n",
    "apr19_df = apr19.copy()\n",
    "may19_df = may19.copy()\n",
    "jun19_df = jun19.copy()\n",
    "jul19_df = jul19.copy()\n",
    "aug19_df = aug19.copy()\n",
    "sep19_df = sep19.copy()\n",
    "oct19_df = oct19.copy()\n",
    "nov19_df = nov19.copy()\n",
    "dec19_df = dec19.copy()"
   ]
  },
  {
   "cell_type": "code",
   "execution_count": 6,
   "metadata": {},
   "outputs": [],
   "source": [
    "list_2019_df = [jan19_df, feb19_df, mar19_df, apr19_df, may19_df, jun19_df, jul19_df, aug19_df, sep19_df, oct19_df, nov19_df, dec19_df]"
   ]
  },
  {
   "cell_type": "code",
   "execution_count": 7,
   "metadata": {},
   "outputs": [
    {
     "name": "stdout",
     "output_type": "stream",
     "text": [
      "CPU times: user 40.2 ms, sys: 6.4 ms, total: 46.6 ms\n",
      "Wall time: 46.3 ms\n"
     ]
    }
   ],
   "source": [
    "%%time\n",
    "uber2019 = pd.concat(list_2019_df)\n",
    "uber2019.reset_index(drop=True, inplace=True)"
   ]
  },
  {
   "cell_type": "code",
   "execution_count": 8,
   "metadata": {},
   "outputs": [
    {
     "data": {
      "text/plain": [
       "(41748, 21)"
      ]
     },
     "execution_count": 8,
     "metadata": {},
     "output_type": "execute_result"
    }
   ],
   "source": [
    "uber2019.shape"
   ]
  },
  {
   "cell_type": "code",
   "execution_count": 9,
   "metadata": {},
   "outputs": [],
   "source": [
    "#uber2019.tail();"
   ]
  },
  {
   "cell_type": "code",
   "execution_count": 10,
   "metadata": {},
   "outputs": [],
   "source": [
    "all_but_text_type = ['abstract', 'web_url', 'snippet', 'lead_paragraph', 'source',\n",
    "       'multimedia', 'headline', 'keywords', 'pub_date', 'document_type',\n",
    "       'news_desk', 'section_name', 'byline', '_id',\n",
    "       'word_count', 'uri', 'print_section', 'print_page', 'subsection_name']"
   ]
  },
  {
   "cell_type": "markdown",
   "metadata": {},
   "source": [
    "# drop some rows and export for more eda\n",
    "# make df for eda"
   ]
  },
  {
   "cell_type": "code",
   "execution_count": 11,
   "metadata": {},
   "outputs": [],
   "source": [
    "eda = uber2019.copy()"
   ]
  },
  {
   "cell_type": "code",
   "execution_count": 12,
   "metadata": {},
   "outputs": [],
   "source": [
    "columns_drop = ['web_url','source','multimedia', '_id', 'uri']"
   ]
  },
  {
   "cell_type": "code",
   "execution_count": 13,
   "metadata": {},
   "outputs": [],
   "source": [
    "eda.drop(columns_drop, axis=1, inplace=True)\n",
    "eda.reset_index(drop=True, inplace=True)"
   ]
  },
  {
   "cell_type": "markdown",
   "metadata": {},
   "source": [
    "# convert pub_date string to datetime object and iterate through each date and choose equal number of op_ed v news"
   ]
  },
  {
   "cell_type": "code",
   "execution_count": 14,
   "metadata": {},
   "outputs": [],
   "source": [
    "#date_time_obj = datetime.strptime(test_date_str, '%Y-%m-%d %H:%M:%S')"
   ]
  },
  {
   "cell_type": "code",
   "execution_count": 15,
   "metadata": {},
   "outputs": [],
   "source": [
    "#datetime.fromisoformat(test_date_str)"
   ]
  },
  {
   "cell_type": "code",
   "execution_count": 16,
   "metadata": {},
   "outputs": [],
   "source": [
    "#d = datetime.fromisoformat(test_date_str)\n",
    "#d.strftime('%Y-%m-%d %H:%M:%S')"
   ]
  },
  {
   "cell_type": "code",
   "execution_count": 17,
   "metadata": {},
   "outputs": [],
   "source": [
    "#test_date_str.strftime('%Y-%m-%d %H:%M:%S')"
   ]
  },
  {
   "cell_type": "markdown",
   "metadata": {},
   "source": [
    "# cap news stories at max number of op_ed stories and export for NLP"
   ]
  },
  {
   "cell_type": "code",
   "execution_count": 18,
   "metadata": {},
   "outputs": [],
   "source": [
    "oped_mask = uber2019['type_of_material'] == \"Op-Ed\"\n",
    "news_mask = uber2019['type_of_material'] == \"News\""
   ]
  },
  {
   "cell_type": "code",
   "execution_count": 19,
   "metadata": {},
   "outputs": [],
   "source": [
    "oped_df = uber2019[oped_mask]\n",
    "news_df = uber2019[news_mask]"
   ]
  },
  {
   "cell_type": "code",
   "execution_count": 20,
   "metadata": {},
   "outputs": [
    {
     "data": {
      "text/plain": [
       "(4139, 21)"
      ]
     },
     "execution_count": 20,
     "metadata": {},
     "output_type": "execute_result"
    }
   ],
   "source": [
    "oped_df.shape"
   ]
  },
  {
   "cell_type": "code",
   "execution_count": 21,
   "metadata": {},
   "outputs": [
    {
     "data": {
      "text/plain": [
       "(37609, 21)"
      ]
     },
     "execution_count": 21,
     "metadata": {},
     "output_type": "execute_result"
    }
   ],
   "source": [
    "news_df.shape"
   ]
  },
  {
   "cell_type": "markdown",
   "metadata": {},
   "source": [
    "- pseudocode\n",
    "1. sort op-ed and news\n",
    "2. randomly choose (ranint) oped or news to create 50/50 split database"
   ]
  },
  {
   "cell_type": "markdown",
   "metadata": {},
   "source": [
    "# dataset of full type and text"
   ]
  },
  {
   "cell_type": "code",
   "execution_count": 22,
   "metadata": {},
   "outputs": [],
   "source": [
    "#_2019_text_type_df = uber2019.drop(all_but_text_type, axis=1)"
   ]
  },
  {
   "cell_type": "code",
   "execution_count": 23,
   "metadata": {},
   "outputs": [],
   "source": [
    "#_2019_text_type_df.reset_index(inplace=True, drop=True)"
   ]
  },
  {
   "cell_type": "code",
   "execution_count": 24,
   "metadata": {},
   "outputs": [],
   "source": [
    "#_2019_text_type_df = _2019_text_type_df[['text', 'type_of_material']]"
   ]
  },
  {
   "cell_type": "code",
   "execution_count": 25,
   "metadata": {},
   "outputs": [],
   "source": [
    "#_2019_text_type_df.to_csv('2019_text_type.csv')"
   ]
  },
  {
   "cell_type": "code",
   "execution_count": 26,
   "metadata": {},
   "outputs": [],
   "source": [
    "#_2019_text_type_df.head()"
   ]
  },
  {
   "cell_type": "markdown",
   "metadata": {},
   "source": [
    "# dataset for jan19 multi naive baise"
   ]
  },
  {
   "cell_type": "code",
   "execution_count": 27,
   "metadata": {},
   "outputs": [],
   "source": [
    "#jan19_df = jan19_df.drop(all_but_text_type, axis=1)"
   ]
  },
  {
   "cell_type": "code",
   "execution_count": 28,
   "metadata": {},
   "outputs": [],
   "source": [
    "#jan19_df.reset_index(inplace=True, drop=True)"
   ]
  },
  {
   "cell_type": "code",
   "execution_count": 29,
   "metadata": {},
   "outputs": [],
   "source": [
    "#jan19_df = jan19_df[['text', 'type_of_material']]"
   ]
  },
  {
   "cell_type": "code",
   "execution_count": 30,
   "metadata": {},
   "outputs": [],
   "source": [
    "#jan19_df.to_csv('jan19.csv')"
   ]
  },
  {
   "cell_type": "markdown",
   "metadata": {},
   "source": [
    "# function to target actual text of article. peal off extra paragraph added by beautiful soup"
   ]
  },
  {
   "cell_type": "code",
   "execution_count": 31,
   "metadata": {},
   "outputs": [],
   "source": [
    "_2019_trim_fat_df = uber2019.copy()"
   ]
  },
  {
   "cell_type": "code",
   "execution_count": 32,
   "metadata": {},
   "outputs": [
    {
     "data": {
      "text/plain": [
       "(41748, 21)"
      ]
     },
     "execution_count": 32,
     "metadata": {},
     "output_type": "execute_result"
    }
   ],
   "source": [
    "_2019_trim_fat_df.shape"
   ]
  },
  {
   "cell_type": "code",
   "execution_count": 33,
   "metadata": {},
   "outputs": [],
   "source": [
    "lead_paragraph = _2019_trim_fat_df.lead_paragraph[0]"
   ]
  },
  {
   "cell_type": "code",
   "execution_count": 34,
   "metadata": {},
   "outputs": [],
   "source": [
    "text = _2019_trim_fat_df.text[0]"
   ]
  },
  {
   "cell_type": "code",
   "execution_count": 35,
   "metadata": {},
   "outputs": [
    {
     "data": {
      "text/plain": [
       "str"
      ]
     },
     "execution_count": 35,
     "metadata": {},
     "output_type": "execute_result"
    }
   ],
   "source": [
    "type(text)"
   ]
  },
  {
   "cell_type": "code",
   "execution_count": 36,
   "metadata": {},
   "outputs": [],
   "source": [
    "lead_paragraph_split = text.split(lead_paragraph)"
   ]
  },
  {
   "cell_type": "code",
   "execution_count": 37,
   "metadata": {},
   "outputs": [],
   "source": [
    "cut_one = lead_paragraph_split[1]"
   ]
  },
  {
   "cell_type": "code",
   "execution_count": 38,
   "metadata": {},
   "outputs": [],
   "source": [
    "cut_one;"
   ]
  },
  {
   "cell_type": "code",
   "execution_count": 39,
   "metadata": {},
   "outputs": [],
   "source": [
    "byline = _2019_trim_fat_df.byline[0]"
   ]
  },
  {
   "cell_type": "code",
   "execution_count": 40,
   "metadata": {},
   "outputs": [
    {
     "data": {
      "text/plain": [
       "\"{'original': 'By Ted Widmer', 'person': [{'firstname': 'Ted', 'middlename': None, 'lastname': 'Widmer', 'qualifier': None, 'title': None, 'role': 'reported', 'organization': '', 'rank': 1}], 'organization': None}\""
      ]
     },
     "execution_count": 40,
     "metadata": {},
     "output_type": "execute_result"
    }
   ],
   "source": [
    "byline"
   ]
  },
  {
   "cell_type": "code",
   "execution_count": 41,
   "metadata": {},
   "outputs": [],
   "source": [
    "import ast"
   ]
  },
  {
   "cell_type": "code",
   "execution_count": 42,
   "metadata": {},
   "outputs": [],
   "source": [
    "byline = ast.literal_eval(byline)"
   ]
  },
  {
   "cell_type": "code",
   "execution_count": 43,
   "metadata": {},
   "outputs": [],
   "source": [
    "person = byline['person']"
   ]
  },
  {
   "cell_type": "code",
   "execution_count": 44,
   "metadata": {},
   "outputs": [],
   "source": [
    "first_last = person[0]['firstname'] + \" \" + person[0]['lastname']"
   ]
  },
  {
   "cell_type": "code",
   "execution_count": 45,
   "metadata": {},
   "outputs": [
    {
     "data": {
      "text/plain": [
       "'Ted Widmer'"
      ]
     },
     "execution_count": 45,
     "metadata": {},
     "output_type": "execute_result"
    }
   ],
   "source": [
    "first_last"
   ]
  },
  {
   "cell_type": "code",
   "execution_count": 46,
   "metadata": {},
   "outputs": [],
   "source": [
    "cut_two = cut_one.split(first_last)"
   ]
  },
  {
   "cell_type": "code",
   "execution_count": 47,
   "metadata": {},
   "outputs": [],
   "source": [
    "output_text = cut_two[0]"
   ]
  },
  {
   "cell_type": "code",
   "execution_count": 48,
   "metadata": {},
   "outputs": [
    {
     "data": {
      "text/plain": [
       "str"
      ]
     },
     "execution_count": 48,
     "metadata": {},
     "output_type": "execute_result"
    }
   ],
   "source": [
    "type(output_text)"
   ]
  },
  {
   "cell_type": "code",
   "execution_count": 49,
   "metadata": {},
   "outputs": [],
   "source": [
    "output_text;"
   ]
  },
  {
   "cell_type": "code",
   "execution_count": 50,
   "metadata": {},
   "outputs": [],
   "source": [
    "original = byline['original']"
   ]
  },
  {
   "cell_type": "code",
   "execution_count": 51,
   "metadata": {},
   "outputs": [
    {
     "data": {
      "text/plain": [
       "'Ted Widmer'"
      ]
     },
     "execution_count": 51,
     "metadata": {},
     "output_type": "execute_result"
    }
   ],
   "source": [
    "original[3:]"
   ]
  },
  {
   "cell_type": "code",
   "execution_count": 52,
   "metadata": {},
   "outputs": [
    {
     "data": {
      "text/plain": [
       "(41748, 21)"
      ]
     },
     "execution_count": 52,
     "metadata": {},
     "output_type": "execute_result"
    }
   ],
   "source": [
    "(_2019_trim_fat_df).shape"
   ]
  },
  {
   "cell_type": "code",
   "execution_count": 66,
   "metadata": {},
   "outputs": [],
   "source": [
    "import ast\n",
    "def trim_first_name(row):\n",
    "    try: \n",
    "        lead_paragraph = row.lead_paragraph\n",
    "        byline = row.byline\n",
    "        text = row.text\n",
    "\n",
    "        byline = ast.literal_eval(byline)\n",
    "        person = byline['person']\n",
    "        first = person[0]['firstname']\n",
    "\n",
    "        first_split = text.split(lead_paragraph)\n",
    "        first_split = first_split[1]\n",
    "\n",
    "        second_split = first_split.split(first_last)\n",
    "        output = second_split[0]\n",
    "    \n",
    "    except:\n",
    "        output = None\n",
    "    \n",
    "    \n",
    "    return output"
   ]
  },
  {
   "cell_type": "code",
   "execution_count": 67,
   "metadata": {},
   "outputs": [
    {
     "name": "stdout",
     "output_type": "stream",
     "text": [
      "CPU times: user 3.86 s, sys: 234 ms, total: 4.1 s\n",
      "Wall time: 4.18 s\n"
     ]
    }
   ],
   "source": [
    "%%time\n",
    "#trim and filter df\n",
    "_2019_trim_fat_df['new_text'] = _2019_trim_fat_df.apply(trim_first_name, axis=1)"
   ]
  },
  {
   "cell_type": "code",
   "execution_count": 68,
   "metadata": {},
   "outputs": [
    {
     "data": {
      "text/plain": [
       "(41748, 22)"
      ]
     },
     "execution_count": 68,
     "metadata": {},
     "output_type": "execute_result"
    }
   ],
   "source": [
    "_2019_trim_fat_df.shape"
   ]
  },
  {
   "cell_type": "code",
   "execution_count": 74,
   "metadata": {},
   "outputs": [],
   "source": [
    "trimed_articles_df = _2019_trim_fat_df[_2019_trim_fat_df['new_text'] != \" \"]"
   ]
  },
  {
   "cell_type": "code",
   "execution_count": 75,
   "metadata": {},
   "outputs": [
    {
     "data": {
      "text/plain": [
       "(41748, 22)"
      ]
     },
     "execution_count": 75,
     "metadata": {},
     "output_type": "execute_result"
    }
   ],
   "source": [
    "trimed_articles_df.shape"
   ]
  },
  {
   "cell_type": "code",
   "execution_count": 77,
   "metadata": {},
   "outputs": [
    {
     "data": {
      "text/plain": [
       "\"', 'In his essay “The Crack-Up,” F. Scott Fitzgerald wrote, “The test of a first-rate intelligence is the ability to hold two opposed ideas in the mind at the same time, and still retain the ability to function.”', 'On New Year’s Day 1919, the headlines in The New York Times gave a hint of how difficult that would be for Americans, struggling to live up to the shimmering promises they had made to the world during the Great War, which had ended just over a month before.', 'Poles, newly independent but already threatened by their neighbors, were calling on Americans to protect them. Other countries, like Ireland, were on the cusp of independence, but asking for help. A bewildering set of new responsibilities was settling upon a country that had long cherished its freedom from the Old World.', 'Overwhelmingly, Americans longed to get their old lives back. But there was no clear road map to “normalcy,” to use a word that began to gain traction in the chaos of the postwar years. Grammarians faulted it as a clumsy neologism, but that only made it more popular. A rakish Ohio senator, Warren Harding, would eventually ride it all the way to the White House. In a crackly old recording, he can be heard promising, vaguely, to make America great again. It didn’t work out well.', 'There were reasons to believe lofty promises as 1919 was beginning. With peace, everything felt new again. That was certainly true in the geopolitical realm, as negotiators convened in Paris, eager to redraw the world map. It was difficult to know where to begin. The German, Austrian and Ottoman empires were now part of the ash heap of history, in the memorable phrase of Leon Trotsky. His country, Russia, had not disappeared, but it was undergoing a transformation so profound that it was destabilizing half of Europe. Overseas, territories belonging to the belligerents were being exchanged like carpets at a second-hand bazaar. A century later, from the Middle East to Africa, the world is still struggling with the decisions made hastily in 1919.', 'But if anyone could solve these nasty problems, Americans could. To a beleaguered world, they seemed almost superhuman. Despite their late entry into the war, they had shaped the conflict decisively with their manpower, their matériel and their chirpy marketing. “Democracy” was the word of the hour, an elixir for all problems, according to President Woodrow Wilson, who intoned it with impressive solemnity.', 'For a time, the world believed it. As he headed to Paris, for what was the longest overseas trip of a president, he was lionized as few leaders have ever been. Film footage captures the odd contrast of his quiet oceanic passage, followed by the euphoria of the crowds in France, who hoped he would solve all of their problems. That was a tall order.', 'We still live close to that grainy footage, inside the world that emerged from Versailles and its Hall of Mirrors. German resentment of the harsh conditions imposed fueled the rise of Adolf Hitler, who, like many, found his political voice in 1919. Historians would later trace the origins of World War II to the treaty’s shortcomings, and the swirling nationalisms that it failed to calm. President Wilson promised to build a world “safe for democracy,” but the result was neither safe nor, in many cases, democratic. A British politician whose career barely survived the war, Winston Churchill, saw it more clearly as a “crippled, broken world,” divided along fault lines that had never been obliterated.', 'Large parts of the British, French and Belgian empires remained intact, to the distress of millions hoping for democracies of their own. Inspired by the winds of change, independence movements sprang up around the world. Some were successful, but for many others, self-determination, another one of Wilson’s ringing phrases, was elusive at best. Weary European diplomats chafed at his moralistic speeches, which they scorned as “sermonettes.” The president of France, Georges Clemenceau, complained that “talking to Wilson was something like conversing with Jesus Christ!” Wilson would surely have seconded the thought.', 'Still, there were pockets of realism within the idealism of a politician who, for all his blind spots, understood that the world could not continue as before. Wilson has long been criticized for his failures, but he was correct in his grasp of a core truth, still relevant, that a lazy return to unbridled nationalism was a recipe for conflict. Like most presidents, he did not relish consulting with Congress, a misreading of democracy that boomeranged on him, as a newly elected Republican majority refused to approve his plan for a League of Nations.', 'Desperate to outflank them, he tried to take his case directly to the people, with boisterous rallies, far from East Coast elites — another way in which 2019 mirrors 1919. The strain of that effort resulted in a stroke, which nearly incapacitated Wilson for the last year of his presidency. Democracy’s great spokesman had imperiled the very system of government that he went to such lengths to defend. His crack-up was one of many in 1919.', 'To young writers like Fitzgerald, who received his first book contract in 1919, it was obvious that the old words were not working and new ones needed to be found. Some writers simply invented their own — James Joyce was constantly writing new ones in his scribbledehobble, or notebook.', 'Others lamented what had vanished, while dreading what was to come next. “Many ingenious lovely things are gone,” William Butler Yeats wrote, in a poem titled “Nineteen hundred and Nineteen.” Less than five years had elapsed since the war started in 1914, but everything felt different. To Yeats, the new sights and sounds were terrifying: In one of his most famous poems, “The Second Coming,” he imagined an apocalypse populated by fantastic beasts that would give J.K. Rowling a run for her money. Despite its gloom, it has become one of the most over-quoted poems in history.', 'But for millions of others, the sights and sounds of 1919 were glorious. The waging of the war had released a galvanic energy from Americans, who attacked the problem of victory with stunning efficiency. That included tremendous contributions from immigrants, women and African-Americans, who were raucously celebrated in victory parades upon return. One parade in New York feted the famous Harlem Hellfighters regiment, marching behind a spirited band playing a kind of music most Americans had never heard, soon to be known as jazz.', 'One of the hottest songs of 1919 was a novelty hit, “How Ya Gonna Keep ’Em Down on the Farm (After They’ve Seen Paree)?” It was a fair question for a country that was not going to return easily to prewar attitudes about race and citizenship. The return of the doughboys brought an exuberant close to the war effort, but also exacerbated tensions over who was entitled to democracy and self-determination, those pesky phrases that Woodrow Wilson kept repeating.', 'Throughout 1919, that was another way in which Americans seemed to hold two opposing thoughts at the same time. Large numbers of African-Americans chose their own form of self-determination by moving out of the South, toward Northern cities, the Midwest and the West Coast, a demographic change that altered America forever. But even after the move, many found democracy a daily challenge.', 'That year in the South, two children born near each other, on either side of the Alabama-Georgia line, revealed how quickly the country was changing. Jackie Robinson grew up in a new kind of America, thanks to his mother, who moved with him to California. George Wallace spent most of life trying to hold back the tide of change that Robinson’s generation helped unleash.', 'Throughout a long year, these tensions simmered just below America’s gleaming surfaces. An ugly race riot in Chicago took the lives of 38 people in late July. Other anxieties targeted immigrants, who found Americans less welcoming than the statue that greeted them in New York Harbor. To defenders of the old order, America had done her part, and there was no need to open the floodgates. But to many others, seeking a broader form of democracy, Wilson’s rhetoric seemed to describe a country that existed more vividly in his imagination than reality.', 'Torn in these two directions, the world’s wealthiest country seemed headed to its own form of a crack-up. Throughout 1919, waves of fear paralyzed Americans, as they reeled from a deadly influenza epidemic at the start of the year, then a campaign of letter bombs sent by anarchists in the spring. A vigorous government response led to the creation of the F.B.I. and a series of raids conducted by an overzealous attorney general, A. Mitchell Palmer. These “Palmer Raids” awakened fears of a police state and once again revealed how difficult democracy could be. A retaliatory bomb, directed at Palmer, exploded outside his house in Washington, nearly killing his neighbor, Franklin Roosevelt. When Roosevelt gave the speech that named the New Deal, 13 years later, he remembered Wilson who, for all of his failings, had ushered Americans into a new era.', 'A long century has elapsed, but the contradictions of 1919 still bear scrutiny. The old fault lines seem closer to the surface than they did in Roosevelt’s day, when Americans were largely united behind the great efforts to end poverty and crush fascism.', 'A hundred years ago, it was possible to look at the same country and see two very different versions of America. To be sure, this was a thriving nation of immigrants, innovating at a dizzying rate, with bustling cities that were the envy of the world. It was also a quieter country, dominated by its farmers and small towns, politically and socially conservative, and dismayed by the excesses of what would soon be known as the Jazz Age. Prohibition was another achievement — for what it’s worth — of 1919.', 'Neither side had a monopoly on virtue, as events would prove. Urban and rural America produced an equal share of political rascals. And rascality, in various guises, was another feature of life, as new forms of entertainment began to dominate attention, demanding villains and heroes in equal measure. In many cases, the war had accelerated this trend, advancing research in radio communication and using newsreels to mobilize support for the military effort. Soon, mass communication was affecting all Americans, rural and urban alike. Huge new movie palaces were built — the Capitol, in New York, could seat 4,000 — and Hollywood continued to grow apace, a new kind of dream factory, built around studios and stars.', 'Sports was a big business as well — in one case, a bit too big, as mobsters were able to alter the outcome of the 1919 World Series. Money affected fans in other ways, too — when the owner of the Boston Red Sox traded Babe Ruth to the New York Yankees at the end of the year, he invoked a curse on his team, which would not win another World Series until 2004.', 'The rural-urban divide was moderated in another way. Sales of automobiles nearly doubled in 1919, as Americans happily returned to their leisure pursuits and expanded their horizons in every sense. One eager driver was able to coax his vehicle to 120 miles an hour — in Brooklyn! ', 'Fortunately, no crackups resulted. ', 'Soon cars were changing everything. New suburban rings bloomed around cities, joining the urban and the rural to create something that was not quite either. An accidental effect of the war was a significant boost in oil production, as a result of a heavy emphasis on machines like tanks and airplanes that used internal combustion engines. Americans were quick to corral these markets, just as they embraced the automobile like no one else. But prewar experimentation in steam-powered and electric vehicles waned as a result. ', 'To better support this all-important vehicle, thousands of miles of highway were built, and that too changed the country forever. To promote the idea of interstate travel, a military convoy left Washington for California in July 1919. The New York Times called it “the largest aggregation of motor vehicles ever started on a trip of such length.”', 'But the convoy broke down repeatedly, and took 62 days to reach its destination. It averaged just six miles an hour, and almost didn’t make it out of Utah. As it turned out, there were almost no paved roads between Illinois and Nevada. Decades later, the officer who led the convoy, Dwight D. Eisenhower, would push for a national highway system as president. Even with a well-publicized divide between red and blue states, we can generally reach each other when we need to, and that is another unexpected result of a pivotal year.', 'In his overquoted poem from 1919, Yeats wrote “things fall apart, the center cannot hold.” Those words often ring true today, in another divided moment. But one of the comforts of history is seeing how wrong the earlier prognosticators of doom could be. By studying the ways in which we failed to fall apart, perhaps we can glean a small harvest of hope for the year ahead.', '\""
      ]
     },
     "execution_count": 77,
     "metadata": {},
     "output_type": "execute_result"
    }
   ],
   "source": [
    "trimed_articles_df.new_text[0]"
   ]
  },
  {
   "cell_type": "code",
   "execution_count": null,
   "metadata": {},
   "outputs": [],
   "source": []
  },
  {
   "cell_type": "code",
   "execution_count": null,
   "metadata": {},
   "outputs": [],
   "source": []
  }
 ],
 "metadata": {
  "kernelspec": {
   "display_name": "Python 3",
   "language": "python",
   "name": "python3"
  },
  "language_info": {
   "codemirror_mode": {
    "name": "ipython",
    "version": 3
   },
   "file_extension": ".py",
   "mimetype": "text/x-python",
   "name": "python",
   "nbconvert_exporter": "python",
   "pygments_lexer": "ipython3",
   "version": "3.7.9"
  }
 },
 "nbformat": 4,
 "nbformat_minor": 4
}
