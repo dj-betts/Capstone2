{
 "cells": [
  {
   "cell_type": "code",
   "execution_count": 1,
   "metadata": {},
   "outputs": [],
   "source": [
    "import pandas as pd"
   ]
  },
  {
   "cell_type": "code",
   "execution_count": 2,
   "metadata": {},
   "outputs": [],
   "source": [
    "from datetime import datetime"
   ]
  },
  {
   "cell_type": "code",
   "execution_count": 3,
   "metadata": {},
   "outputs": [],
   "source": [
    "#import for turning byline string-type into byline dictionary-type\n",
    "\n",
    "import ast"
   ]
  },
  {
   "cell_type": "code",
   "execution_count": 4,
   "metadata": {},
   "outputs": [],
   "source": [
    "jan19 = pd.read_csv('2019/jan19.csv', index_col='Unnamed: 0')\n",
    "feb19 = pd.read_csv('2019/feb19.csv', index_col='Unnamed: 0')\n",
    "mar19 = pd.read_csv('2019/mar19.csv', index_col='Unnamed: 0')\n",
    "apr19 = pd.read_csv('2019/apr19.csv', index_col='Unnamed: 0')\n",
    "may19 = pd.read_csv('2019/may19.csv', index_col='Unnamed: 0')\n",
    "jun19 = pd.read_csv('2019/jun19.csv', index_col='Unnamed: 0')\n",
    "jul19 = pd.read_csv('2019/jul19.csv', index_col='Unnamed: 0')\n",
    "aug19 = pd.read_csv('2019/aug19.csv', index_col='Unnamed: 0')\n",
    "sep19 = pd.read_csv('2019/sep19.csv', index_col='Unnamed: 0')\n",
    "oct19 = pd.read_csv('2019/oct19.csv', index_col='Unnamed: 0')\n",
    "nov19 = pd.read_csv('2019/nov19.csv', index_col='Unnamed: 0')\n",
    "dec19 = pd.read_csv('2019/dec19.csv', index_col='Unnamed: 0')"
   ]
  },
  {
   "cell_type": "code",
   "execution_count": 5,
   "metadata": {},
   "outputs": [],
   "source": [
    "jan19_df = jan19.copy()\n",
    "feb19_df = feb19.copy()\n",
    "mar19_df = mar19.copy()\n",
    "apr19_df = apr19.copy()\n",
    "may19_df = may19.copy()\n",
    "jun19_df = jun19.copy()\n",
    "jul19_df = jul19.copy()\n",
    "aug19_df = aug19.copy()\n",
    "sep19_df = sep19.copy()\n",
    "oct19_df = oct19.copy()\n",
    "nov19_df = nov19.copy()\n",
    "dec19_df = dec19.copy()"
   ]
  },
  {
   "cell_type": "code",
   "execution_count": 6,
   "metadata": {},
   "outputs": [],
   "source": [
    "list_2019_df = [jan19_df, feb19_df, mar19_df, apr19_df, may19_df, jun19_df, jul19_df, aug19_df, sep19_df, oct19_df, nov19_df, dec19_df]"
   ]
  },
  {
   "cell_type": "code",
   "execution_count": 7,
   "metadata": {},
   "outputs": [
    {
     "name": "stdout",
     "output_type": "stream",
     "text": [
      "CPU times: user 37.2 ms, sys: 6.87 ms, total: 44 ms\n",
      "Wall time: 43.2 ms\n"
     ]
    }
   ],
   "source": [
    "%%time\n",
    "uber2019 = pd.concat(list_2019_df)\n",
    "uber2019.reset_index(drop=True, inplace=True)"
   ]
  },
  {
   "cell_type": "code",
   "execution_count": 8,
   "metadata": {},
   "outputs": [
    {
     "data": {
      "text/plain": [
       "(41748, 21)"
      ]
     },
     "execution_count": 8,
     "metadata": {},
     "output_type": "execute_result"
    }
   ],
   "source": [
    "uber2019.shape"
   ]
  },
  {
   "cell_type": "code",
   "execution_count": 9,
   "metadata": {},
   "outputs": [],
   "source": [
    "#uber2019.tail();"
   ]
  },
  {
   "cell_type": "code",
   "execution_count": 10,
   "metadata": {},
   "outputs": [],
   "source": [
    "all_but_text_type = ['abstract', 'web_url', 'snippet', 'lead_paragraph', 'source',\n",
    "       'multimedia', 'headline', 'keywords', 'pub_date', 'document_type',\n",
    "       'news_desk', 'section_name', 'byline', '_id',\n",
    "       'word_count', 'uri', 'print_section', 'print_page', 'subsection_name']"
   ]
  },
  {
   "cell_type": "markdown",
   "metadata": {},
   "source": [
    "# drop some rows and export for more eda\n",
    "# make df for eda"
   ]
  },
  {
   "cell_type": "code",
   "execution_count": 11,
   "metadata": {},
   "outputs": [],
   "source": [
    "eda = uber2019.copy()"
   ]
  },
  {
   "cell_type": "code",
   "execution_count": 12,
   "metadata": {},
   "outputs": [],
   "source": [
    "columns_drop = ['web_url','source','multimedia', '_id', 'uri']"
   ]
  },
  {
   "cell_type": "code",
   "execution_count": 13,
   "metadata": {},
   "outputs": [],
   "source": [
    "eda.drop(columns_drop, axis=1, inplace=True)\n",
    "eda.reset_index(drop=True, inplace=True)"
   ]
  },
  {
   "cell_type": "markdown",
   "metadata": {},
   "source": [
    "# convert pub_date string to datetime object and iterate through each date and choose equal number of op_ed v news"
   ]
  },
  {
   "cell_type": "code",
   "execution_count": 14,
   "metadata": {},
   "outputs": [],
   "source": [
    "#date_time_obj = datetime.strptime(test_date_str, '%Y-%m-%d %H:%M:%S')"
   ]
  },
  {
   "cell_type": "code",
   "execution_count": 15,
   "metadata": {},
   "outputs": [],
   "source": [
    "#datetime.fromisoformat(test_date_str)"
   ]
  },
  {
   "cell_type": "code",
   "execution_count": 16,
   "metadata": {},
   "outputs": [],
   "source": [
    "#d = datetime.fromisoformat(test_date_str)\n",
    "#d.strftime('%Y-%m-%d %H:%M:%S')"
   ]
  },
  {
   "cell_type": "code",
   "execution_count": 17,
   "metadata": {},
   "outputs": [],
   "source": [
    "#test_date_str.strftime('%Y-%m-%d %H:%M:%S')"
   ]
  },
  {
   "cell_type": "markdown",
   "metadata": {},
   "source": [
    "# cap news stories at max number of op_ed stories and export for NLP"
   ]
  },
  {
   "cell_type": "code",
   "execution_count": 18,
   "metadata": {},
   "outputs": [],
   "source": [
    "oped_mask = uber2019['type_of_material'] == \"Op-Ed\"\n",
    "news_mask = uber2019['type_of_material'] == \"News\""
   ]
  },
  {
   "cell_type": "code",
   "execution_count": 19,
   "metadata": {},
   "outputs": [],
   "source": [
    "oped_df = uber2019[oped_mask]\n",
    "news_df = uber2019[news_mask]"
   ]
  },
  {
   "cell_type": "code",
   "execution_count": 20,
   "metadata": {},
   "outputs": [
    {
     "data": {
      "text/plain": [
       "(4139, 21)"
      ]
     },
     "execution_count": 20,
     "metadata": {},
     "output_type": "execute_result"
    }
   ],
   "source": [
    "oped_df.shape"
   ]
  },
  {
   "cell_type": "code",
   "execution_count": 21,
   "metadata": {},
   "outputs": [
    {
     "data": {
      "text/plain": [
       "(37609, 21)"
      ]
     },
     "execution_count": 21,
     "metadata": {},
     "output_type": "execute_result"
    }
   ],
   "source": [
    "news_df.shape"
   ]
  },
  {
   "cell_type": "markdown",
   "metadata": {},
   "source": [
    "- pseudocode\n",
    "1. sort op-ed and news\n",
    "2. randomly choose (ranint) oped or news to create 50/50 split database"
   ]
  },
  {
   "cell_type": "markdown",
   "metadata": {},
   "source": [
    "# dataset of full type and text"
   ]
  },
  {
   "cell_type": "code",
   "execution_count": 22,
   "metadata": {},
   "outputs": [],
   "source": [
    "#_2019_text_type_df = uber2019.drop(all_but_text_type, axis=1)"
   ]
  },
  {
   "cell_type": "code",
   "execution_count": 23,
   "metadata": {},
   "outputs": [],
   "source": [
    "#_2019_text_type_df.reset_index(inplace=True, drop=True)"
   ]
  },
  {
   "cell_type": "code",
   "execution_count": 24,
   "metadata": {},
   "outputs": [],
   "source": [
    "#_2019_text_type_df = _2019_text_type_df[['text', 'type_of_material']]"
   ]
  },
  {
   "cell_type": "code",
   "execution_count": 25,
   "metadata": {},
   "outputs": [],
   "source": [
    "#_2019_text_type_df.to_csv('2019_text_type.csv')"
   ]
  },
  {
   "cell_type": "code",
   "execution_count": 26,
   "metadata": {},
   "outputs": [],
   "source": [
    "#_2019_text_type_df.head()"
   ]
  },
  {
   "cell_type": "markdown",
   "metadata": {},
   "source": [
    "# dataset for jan19 multi naive baise"
   ]
  },
  {
   "cell_type": "code",
   "execution_count": 27,
   "metadata": {},
   "outputs": [],
   "source": [
    "#jan19_df = jan19_df.drop(all_but_text_type, axis=1)"
   ]
  },
  {
   "cell_type": "code",
   "execution_count": 28,
   "metadata": {},
   "outputs": [],
   "source": [
    "#jan19_df.reset_index(inplace=True, drop=True)"
   ]
  },
  {
   "cell_type": "code",
   "execution_count": 29,
   "metadata": {},
   "outputs": [],
   "source": [
    "#jan19_df = jan19_df[['text', 'type_of_material']]"
   ]
  },
  {
   "cell_type": "code",
   "execution_count": 30,
   "metadata": {},
   "outputs": [],
   "source": [
    "#jan19_df.to_csv('jan19.csv')"
   ]
  },
  {
   "cell_type": "markdown",
   "metadata": {},
   "source": [
    "# function to target actual text of article. peal off extra paragraph added by beautiful soup"
   ]
  },
  {
   "cell_type": "markdown",
   "metadata": {},
   "source": [
    "## there were a portion of these that weren't able to parse the string completely"
   ]
  },
  {
   "cell_type": "code",
   "execution_count": 136,
   "metadata": {},
   "outputs": [],
   "source": [
    "_2019_trim_fat_df = uber2019.copy()"
   ]
  },
  {
   "cell_type": "code",
   "execution_count": 137,
   "metadata": {},
   "outputs": [
    {
     "data": {
      "text/plain": [
       "(41748, 21)"
      ]
     },
     "execution_count": 137,
     "metadata": {},
     "output_type": "execute_result"
    }
   ],
   "source": [
    "_2019_trim_fat_df.shape"
   ]
  },
  {
   "cell_type": "code",
   "execution_count": 393,
   "metadata": {},
   "outputs": [],
   "source": [
    "import ast\n",
    "def trim_first_name(row):\n",
    "    try: \n",
    "        lead_paragraph = row.lead_paragraph\n",
    "        byline = row.byline\n",
    "        text = row.text\n",
    "\n",
    "        byline = ast.literal_eval(byline)\n",
    "        person = byline['person']\n",
    "        first = person[0]['firstname']\n",
    "\n",
    "        first_split = text.split(lead_paragraph)\n",
    "        first_split = first_split[1]\n",
    "\n",
    "        second_split = first_split.split(first)\n",
    "        output = second_split[0]\n",
    "    \n",
    "    except:\n",
    "        del[row]\n",
    "    \n",
    "        return output"
   ]
  },
  {
   "cell_type": "code",
   "execution_count": 408,
   "metadata": {},
   "outputs": [],
   "source": [
    "import ast\n",
    "def trim_first_name(row):\n",
    "    try: \n",
    "        lead_paragraph = row.lead_paragraph\n",
    "        byline = row.byline\n",
    "        text = row.text\n",
    "\n",
    "        byline = ast.literal_eval(byline)\n",
    "        person = byline['person']\n",
    "        first = person[0]['firstname']\n",
    "\n",
    "        first_split = text.split(lead_paragraph)\n",
    "        first_split = first_split[1]\n",
    "\n",
    "        second_split = first_split.split(first)\n",
    "        output = second_split[0]\n",
    "    \n",
    "    except:\n",
    "\n",
    "        output = 'NaN'\n",
    "    \n",
    "    \n",
    "    return output"
   ]
  },
  {
   "cell_type": "code",
   "execution_count": 409,
   "metadata": {},
   "outputs": [],
   "source": [
    "_2019_trim_fat_df = uber2019.copy()"
   ]
  },
  {
   "cell_type": "code",
   "execution_count": 410,
   "metadata": {},
   "outputs": [
    {
     "data": {
      "text/plain": [
       "(41748, 21)"
      ]
     },
     "execution_count": 410,
     "metadata": {},
     "output_type": "execute_result"
    }
   ],
   "source": [
    "_2019_trim_fat_df.shape"
   ]
  },
  {
   "cell_type": "code",
   "execution_count": 411,
   "metadata": {},
   "outputs": [],
   "source": [
    "#_2019_trim_fat_df[[_2019_trim_fat_df.text == None]]"
   ]
  },
  {
   "cell_type": "code",
   "execution_count": 412,
   "metadata": {},
   "outputs": [
    {
     "name": "stdout",
     "output_type": "stream",
     "text": [
      "CPU times: user 3.8 s, sys: 361 ms, total: 4.17 s\n",
      "Wall time: 4.22 s\n"
     ]
    }
   ],
   "source": [
    "%%time\n",
    "#trim and filter df..\n",
    "_2019_trim_fat_df['text'] = _2019_trim_fat_df.apply(trim_first_name, axis=1)"
   ]
  },
  {
   "cell_type": "code",
   "execution_count": 413,
   "metadata": {},
   "outputs": [
    {
     "data": {
      "text/plain": [
       "0        False\n",
       "1        False\n",
       "2        False\n",
       "3        False\n",
       "4        False\n",
       "         ...  \n",
       "41743    False\n",
       "41744    False\n",
       "41745    False\n",
       "41746    False\n",
       "41747    False\n",
       "Name: text, Length: 41748, dtype: bool"
      ]
     },
     "execution_count": 413,
     "metadata": {},
     "output_type": "execute_result"
    }
   ],
   "source": [
    "_2019_trim_fat_df.text == 'Nan'"
   ]
  },
  {
   "cell_type": "code",
   "execution_count": 414,
   "metadata": {},
   "outputs": [
    {
     "data": {
      "text/plain": [
       "13    ', 'But if he doesn’t compromise, if he instea...\n",
       "14                                                  NaN\n",
       "15    ', 'It also sent to Washington a new kind of m...\n",
       "Name: text, dtype: object"
      ]
     },
     "execution_count": 414,
     "metadata": {},
     "output_type": "execute_result"
    }
   ],
   "source": [
    "_2019_trim_fat_df.text[13:16]"
   ]
  },
  {
   "cell_type": "code",
   "execution_count": 415,
   "metadata": {},
   "outputs": [],
   "source": [
    "none_df = _2019_trim_fat_df[_2019_trim_fat_df['text'] == 'NaN'].copy()"
   ]
  },
  {
   "cell_type": "code",
   "execution_count": null,
   "metadata": {},
   "outputs": [],
   "source": []
  },
  {
   "cell_type": "code",
   "execution_count": 416,
   "metadata": {},
   "outputs": [
    {
     "data": {
      "text/plain": [
       "182"
      ]
     },
     "execution_count": 416,
     "metadata": {},
     "output_type": "execute_result"
    }
   ],
   "source": [
    "sum(none_df.type_of_material == \"Op-Ed\")"
   ]
  },
  {
   "cell_type": "code",
   "execution_count": 417,
   "metadata": {},
   "outputs": [
    {
     "data": {
      "text/plain": [
       "3838"
      ]
     },
     "execution_count": 417,
     "metadata": {},
     "output_type": "execute_result"
    }
   ],
   "source": [
    "sum(none_df.type_of_material == \"News\")"
   ]
  },
  {
   "cell_type": "code",
   "execution_count": 418,
   "metadata": {},
   "outputs": [
    {
     "data": {
      "text/html": [
       "<div>\n",
       "<style scoped>\n",
       "    .dataframe tbody tr th:only-of-type {\n",
       "        vertical-align: middle;\n",
       "    }\n",
       "\n",
       "    .dataframe tbody tr th {\n",
       "        vertical-align: top;\n",
       "    }\n",
       "\n",
       "    .dataframe thead th {\n",
       "        text-align: right;\n",
       "    }\n",
       "</style>\n",
       "<table border=\"1\" class=\"dataframe\">\n",
       "  <thead>\n",
       "    <tr style=\"text-align: right;\">\n",
       "      <th></th>\n",
       "      <th>abstract</th>\n",
       "      <th>web_url</th>\n",
       "      <th>snippet</th>\n",
       "      <th>lead_paragraph</th>\n",
       "      <th>source</th>\n",
       "      <th>multimedia</th>\n",
       "      <th>headline</th>\n",
       "      <th>keywords</th>\n",
       "      <th>pub_date</th>\n",
       "      <th>document_type</th>\n",
       "      <th>...</th>\n",
       "      <th>section_name</th>\n",
       "      <th>byline</th>\n",
       "      <th>type_of_material</th>\n",
       "      <th>_id</th>\n",
       "      <th>word_count</th>\n",
       "      <th>uri</th>\n",
       "      <th>print_section</th>\n",
       "      <th>print_page</th>\n",
       "      <th>subsection_name</th>\n",
       "      <th>text</th>\n",
       "    </tr>\n",
       "  </thead>\n",
       "  <tbody>\n",
       "    <tr>\n",
       "      <th>0</th>\n",
       "      <td>From the Treaty of Versailles to Prohibition, ...</td>\n",
       "      <td>https://www.nytimes.com/2018/12/31/opinion/191...</td>\n",
       "      <td>From the Treaty of Versailles to Prohibition, ...</td>\n",
       "      <td>Throughout 2019, The New York Times Opinion se...</td>\n",
       "      <td>The New York Times</td>\n",
       "      <td>[{'rank': 0, 'subtype': 'xlarge', 'caption': N...</td>\n",
       "      <td>{'main': '1919: The Year of the Crack-Up', 'ki...</td>\n",
       "      <td>[{'name': 'subject', 'value': 'United States P...</td>\n",
       "      <td>2019-01-01T00:00:03+0000</td>\n",
       "      <td>article</td>\n",
       "      <td>...</td>\n",
       "      <td>Opinion</td>\n",
       "      <td>{'original': 'By Ted Widmer', 'person': [{'fir...</td>\n",
       "      <td>Op-Ed</td>\n",
       "      <td>nyt://article/b205ee80-0859-514e-be2a-b8ecf0cc...</td>\n",
       "      <td>2248</td>\n",
       "      <td>nyt://article/b205ee80-0859-514e-be2a-b8ecf0cc...</td>\n",
       "      <td>NaN</td>\n",
       "      <td>NaN</td>\n",
       "      <td>NaN</td>\n",
       "      <td>', 'In his essay “The Crack-Up,” F. Scott Fitz...</td>\n",
       "    </tr>\n",
       "    <tr>\n",
       "      <th>1</th>\n",
       "      <td>Imagine what we could do with our money, and h...</td>\n",
       "      <td>https://www.nytimes.com/2018/12/31/opinion/sma...</td>\n",
       "      <td>Imagine what we could do with our money, and h...</td>\n",
       "      <td>More than three-quarters of all Americans own ...</td>\n",
       "      <td>The New York Times</td>\n",
       "      <td>[{'rank': 0, 'subtype': 'xlarge', 'caption': N...</td>\n",
       "      <td>{'main': 'In Search of Lost Screen Time', 'kic...</td>\n",
       "      <td>[{'name': 'subject', 'value': 'Smartphones', '...</td>\n",
       "      <td>2019-01-01T00:00:07+0000</td>\n",
       "      <td>article</td>\n",
       "      <td>...</td>\n",
       "      <td>Opinion</td>\n",
       "      <td>{'original': 'By Paul Greenberg', 'person': [{...</td>\n",
       "      <td>Op-Ed</td>\n",
       "      <td>nyt://article/e4936e7b-0060-5026-b32d-a01e0b76...</td>\n",
       "      <td>985</td>\n",
       "      <td>nyt://article/e4936e7b-0060-5026-b32d-a01e0b76...</td>\n",
       "      <td>A</td>\n",
       "      <td>19</td>\n",
       "      <td>NaN</td>\n",
       "      <td>', 'In 2019, here’s what we could do instead.'...</td>\n",
       "    </tr>\n",
       "    <tr>\n",
       "      <th>2</th>\n",
       "      <td>Can the Constitution withstand the partisans?</td>\n",
       "      <td>https://www.nytimes.com/2018/12/31/opinion/tru...</td>\n",
       "      <td>Can the Constitution withstand the partisans?</td>\n",
       "      <td>In Willa Cather’s novel “My Antonia,” there ar...</td>\n",
       "      <td>The New York Times</td>\n",
       "      <td>[{'rank': 0, 'subtype': 'xlarge', 'caption': N...</td>\n",
       "      <td>{'main': '2019: The Year of the Wolves', 'kick...</td>\n",
       "      <td>[{'name': 'persons', 'value': 'Trump, Donald J...</td>\n",
       "      <td>2019-01-01T00:15:31+0000</td>\n",
       "      <td>article</td>\n",
       "      <td>...</td>\n",
       "      <td>Opinion</td>\n",
       "      <td>{'original': 'By David Brooks', 'person': [{'f...</td>\n",
       "      <td>Op-Ed</td>\n",
       "      <td>nyt://article/079f32e4-f544-562e-9c92-b47209c3...</td>\n",
       "      <td>845</td>\n",
       "      <td>nyt://article/079f32e4-f544-562e-9c92-b47209c3...</td>\n",
       "      <td>A</td>\n",
       "      <td>19</td>\n",
       "      <td>NaN</td>\n",
       "      <td>', 'Many years before, back in Russia, the two...</td>\n",
       "    </tr>\n",
       "    <tr>\n",
       "      <th>3</th>\n",
       "      <td>The Christian right doesn’t like the president...</td>\n",
       "      <td>https://www.nytimes.com/2018/12/31/opinion/tru...</td>\n",
       "      <td>The Christian right doesn’t like the president...</td>\n",
       "      <td>The month before the 2018 midterms, a thousand...</td>\n",
       "      <td>The New York Times</td>\n",
       "      <td>[{'rank': 0, 'subtype': 'xlarge', 'caption': N...</td>\n",
       "      <td>{'main': 'Why Trump Reigns as King Cyrus', 'ki...</td>\n",
       "      <td>[{'name': 'subject', 'value': 'United States P...</td>\n",
       "      <td>2019-01-01T00:29:12+0000</td>\n",
       "      <td>article</td>\n",
       "      <td>...</td>\n",
       "      <td>Opinion</td>\n",
       "      <td>{'original': 'By Katherine Stewart', 'person':...</td>\n",
       "      <td>Op-Ed</td>\n",
       "      <td>nyt://article/99ea5a45-885e-5fce-bd4a-6a9a999b...</td>\n",
       "      <td>879</td>\n",
       "      <td>nyt://article/99ea5a45-885e-5fce-bd4a-6a9a999b...</td>\n",
       "      <td>A</td>\n",
       "      <td>19</td>\n",
       "      <td>NaN</td>\n",
       "      <td>', 'At a critical moment in the film, just aft...</td>\n",
       "    </tr>\n",
       "    <tr>\n",
       "      <th>4</th>\n",
       "      <td>The United States is spending beyond its means...</td>\n",
       "      <td>https://www.nytimes.com/2019/01/01/opinion/afg...</td>\n",
       "      <td>The United States is spending beyond its means...</td>\n",
       "      <td>The decision by President Trump to withdraw 7,...</td>\n",
       "      <td>The New York Times</td>\n",
       "      <td>[{'rank': 0, 'subtype': 'xlarge', 'caption': N...</td>\n",
       "      <td>{'main': 'Time to Get Out of Afghanistan', 'ki...</td>\n",
       "      <td>[{'name': 'subject', 'value': 'United States D...</td>\n",
       "      <td>2019-01-01T11:00:04+0000</td>\n",
       "      <td>article</td>\n",
       "      <td>...</td>\n",
       "      <td>Opinion</td>\n",
       "      <td>{'original': 'By Robert D. Kaplan', 'person': ...</td>\n",
       "      <td>Op-Ed</td>\n",
       "      <td>nyt://article/0c1a5924-a0e7-5baa-b65d-88eb4d56...</td>\n",
       "      <td>1116</td>\n",
       "      <td>nyt://article/0c1a5924-a0e7-5baa-b65d-88eb4d56...</td>\n",
       "      <td>A</td>\n",
       "      <td>19</td>\n",
       "      <td>NaN</td>\n",
       "      <td>', 'No other country in the world symbolizes t...</td>\n",
       "    </tr>\n",
       "    <tr>\n",
       "      <th>5</th>\n",
       "      <td>Get ready for a year dominated by the struggle...</td>\n",
       "      <td>https://www.nytimes.com/2019/01/01/opinion/tru...</td>\n",
       "      <td>Get ready for a year dominated by the struggle...</td>\n",
       "      <td>This article is part of the Opinion Today news...</td>\n",
       "      <td>The New York Times</td>\n",
       "      <td>[{'rank': 0, 'subtype': 'xlarge', 'caption': N...</td>\n",
       "      <td>{'main': 'Happy New Year', 'kicker': None, 'co...</td>\n",
       "      <td>[{'name': 'subject', 'value': 'Podcasts', 'ran...</td>\n",
       "      <td>2019-01-01T13:06:48+0000</td>\n",
       "      <td>article</td>\n",
       "      <td>...</td>\n",
       "      <td>Opinion</td>\n",
       "      <td>{'original': 'By David Leonhardt', 'person': [...</td>\n",
       "      <td>Op-Ed</td>\n",
       "      <td>nyt://article/9472feec-98c8-5c11-a2fb-a9abd4aa...</td>\n",
       "      <td>341</td>\n",
       "      <td>nyt://article/9472feec-98c8-5c11-a2fb-a9abd4aa...</td>\n",
       "      <td>NaN</td>\n",
       "      <td>NaN</td>\n",
       "      <td>NaN</td>\n",
       "      <td>', 'It’s been a while since the United States ...</td>\n",
       "    </tr>\n",
       "    <tr>\n",
       "      <th>6</th>\n",
       "      <td>Skeptical reporting has still been too favorable.</td>\n",
       "      <td>https://www.nytimes.com/2019/01/01/opinion/the...</td>\n",
       "      <td>Skeptical reporting has still been too favorable.</td>\n",
       "      <td>The 2017 tax cut has received pretty bad press...</td>\n",
       "      <td>The New York Times</td>\n",
       "      <td>[{'rank': 0, 'subtype': 'xlarge', 'caption': N...</td>\n",
       "      <td>{'main': 'The Trump Tax Cut: Even Worse Than Y...</td>\n",
       "      <td>[{'name': 'subject', 'value': 'Corporate Taxes...</td>\n",
       "      <td>2019-01-01T17:47:14+0000</td>\n",
       "      <td>article</td>\n",
       "      <td>...</td>\n",
       "      <td>Opinion</td>\n",
       "      <td>{'original': 'By Paul Krugman', 'person': [{'f...</td>\n",
       "      <td>Op-Ed</td>\n",
       "      <td>nyt://article/ee20a89f-0716-5cf3-99a9-40500f9e...</td>\n",
       "      <td>680</td>\n",
       "      <td>nyt://article/ee20a89f-0716-5cf3-99a9-40500f9e...</td>\n",
       "      <td>NaN</td>\n",
       "      <td>NaN</td>\n",
       "      <td>NaN</td>\n",
       "      <td>', 'Yet coverage actually hasn’t been negative...</td>\n",
       "    </tr>\n",
       "    <tr>\n",
       "      <th>7</th>\n",
       "      <td>In modern-day “re-education” prisons, Beijing ...</td>\n",
       "      <td>https://www.nytimes.com/2019/01/02/opinion/uig...</td>\n",
       "      <td>In modern-day “re-education” prisons, Beijing ...</td>\n",
       "      <td>One of the darkest episodes of the 20th centur...</td>\n",
       "      <td>The New York Times</td>\n",
       "      <td>[{'rank': 0, 'subtype': 'xlarge', 'caption': N...</td>\n",
       "      <td>{'main': 'China’s Gulag for Muslims ', 'kicker...</td>\n",
       "      <td>[{'name': 'glocations', 'value': 'China', 'ran...</td>\n",
       "      <td>2019-01-02T11:00:03+0000</td>\n",
       "      <td>article</td>\n",
       "      <td>...</td>\n",
       "      <td>Opinion</td>\n",
       "      <td>{'original': 'By Mustafa Akyol', 'person': [{'...</td>\n",
       "      <td>Op-Ed</td>\n",
       "      <td>nyt://article/232a19ad-5069-517c-bb56-d51f8767...</td>\n",
       "      <td>1021</td>\n",
       "      <td>nyt://article/232a19ad-5069-517c-bb56-d51f8767...</td>\n",
       "      <td>NaN</td>\n",
       "      <td>NaN</td>\n",
       "      <td>NaN</td>\n",
       "      <td>', '“Thin strands of human lives stretch from ...</td>\n",
       "    </tr>\n",
       "    <tr>\n",
       "      <th>8</th>\n",
       "      <td>The president is facing a level of intraparty ...</td>\n",
       "      <td>https://www.nytimes.com/2019/01/02/opinion/rom...</td>\n",
       "      <td>The president is facing a level of intraparty ...</td>\n",
       "      <td>This article is part of the Opinion Today news...</td>\n",
       "      <td>The New York Times</td>\n",
       "      <td>[{'rank': 0, 'subtype': 'xlarge', 'caption': N...</td>\n",
       "      <td>{'main': 'Mitt Romney, Piling On Trump', 'kick...</td>\n",
       "      <td>[{'name': 'persons', 'value': 'Trump, Donald J...</td>\n",
       "      <td>2019-01-02T13:21:35+0000</td>\n",
       "      <td>article</td>\n",
       "      <td>...</td>\n",
       "      <td>Opinion</td>\n",
       "      <td>{'original': 'By David Leonhardt', 'person': [...</td>\n",
       "      <td>Op-Ed</td>\n",
       "      <td>nyt://article/5f547059-a90b-568f-8cd1-0db51fc2...</td>\n",
       "      <td>575</td>\n",
       "      <td>nyt://article/5f547059-a90b-568f-8cd1-0db51fc2...</td>\n",
       "      <td>NaN</td>\n",
       "      <td>NaN</td>\n",
       "      <td>NaN</td>\n",
       "      <td>', 'Partisanship is a helluva drug (to steal a...</td>\n",
       "    </tr>\n",
       "    <tr>\n",
       "      <th>9</th>\n",
       "      <td>Only Washington and Beijing, working together,...</td>\n",
       "      <td>https://www.nytimes.com/2019/01/02/opinion/ame...</td>\n",
       "      <td>Only Washington and Beijing, working together,...</td>\n",
       "      <td>In the United States, support for a cooperativ...</td>\n",
       "      <td>The New York Times</td>\n",
       "      <td>[{'rank': 0, 'subtype': 'xlarge', 'caption': N...</td>\n",
       "      <td>{'main': 'Why the World Needs America and Chin...</td>\n",
       "      <td>[{'name': 'subject', 'value': 'United States I...</td>\n",
       "      <td>2019-01-02T20:00:03+0000</td>\n",
       "      <td>article</td>\n",
       "      <td>...</td>\n",
       "      <td>Opinion</td>\n",
       "      <td>{'original': 'By Robert E. Rubin', 'person': [...</td>\n",
       "      <td>Op-Ed</td>\n",
       "      <td>nyt://article/81be9216-422a-54e8-8ad4-6bad1253...</td>\n",
       "      <td>785</td>\n",
       "      <td>nyt://article/81be9216-422a-54e8-8ad4-6bad1253...</td>\n",
       "      <td>A</td>\n",
       "      <td>21</td>\n",
       "      <td>NaN</td>\n",
       "      <td>', 'The cycle has to be reversed. In the Unite...</td>\n",
       "    </tr>\n",
       "    <tr>\n",
       "      <th>10</th>\n",
       "      <td>The notion that limiting women’s reproduction ...</td>\n",
       "      <td>https://www.nytimes.com/2019/01/02/opinion/iud...</td>\n",
       "      <td>The notion that limiting women’s reproduction ...</td>\n",
       "      <td>Over the past decade, more and more women have...</td>\n",
       "      <td>The New York Times</td>\n",
       "      <td>[{'rank': 0, 'subtype': 'xlarge', 'caption': N...</td>\n",
       "      <td>{'main': 'The Dangerous Rise of the IUD as Pov...</td>\n",
       "      <td>[{'name': 'subject', 'value': 'Discrimination'...</td>\n",
       "      <td>2019-01-02T20:00:03+0000</td>\n",
       "      <td>article</td>\n",
       "      <td>...</td>\n",
       "      <td>Opinion</td>\n",
       "      <td>{'original': 'By Christine Dehlendorf and Kels...</td>\n",
       "      <td>Op-Ed</td>\n",
       "      <td>nyt://article/c19ce27e-5e6d-53cd-9f03-a3431af1...</td>\n",
       "      <td>899</td>\n",
       "      <td>nyt://article/c19ce27e-5e6d-53cd-9f03-a3431af1...</td>\n",
       "      <td>A</td>\n",
       "      <td>21</td>\n",
       "      <td>NaN</td>\n",
       "      <td>', 'However, many researchers, advocates and p...</td>\n",
       "    </tr>\n",
       "    <tr>\n",
       "      <th>11</th>\n",
       "      <td>Love, political change, a pennant: Readers res...</td>\n",
       "      <td>https://www.nytimes.com/2019/01/02/opinion/201...</td>\n",
       "      <td>Love, political change, a pennant: Readers res...</td>\n",
       "      <td>How do you define hope — a state of mind, a pl...</td>\n",
       "      <td>The New York Times</td>\n",
       "      <td>[{'rank': 0, 'subtype': 'xlarge', 'caption': N...</td>\n",
       "      <td>{'main': 'Your Hopes for 2019', 'kicker': None...</td>\n",
       "      <td>[{'name': 'subject', 'value': 'Love (Emotion)'...</td>\n",
       "      <td>2019-01-02T23:08:11+0000</td>\n",
       "      <td>article</td>\n",
       "      <td>...</td>\n",
       "      <td>Opinion</td>\n",
       "      <td>{'original': 'By Rachel L. Harris and Lisa Tar...</td>\n",
       "      <td>Op-Ed</td>\n",
       "      <td>nyt://article/00b83d87-72b6-57e3-9c9b-d0fd8060...</td>\n",
       "      <td>2026</td>\n",
       "      <td>nyt://article/00b83d87-72b6-57e3-9c9b-d0fd8060...</td>\n",
       "      <td>NaN</td>\n",
       "      <td>NaN</td>\n",
       "      <td>NaN</td>\n",
       "      <td>', 'We asked readers to define what hope means...</td>\n",
       "    </tr>\n",
       "    <tr>\n",
       "      <th>12</th>\n",
       "      <td>I moved to Europe because I couldn’t afford to...</td>\n",
       "      <td>https://www.nytimes.com/2019/01/02/opinion/fra...</td>\n",
       "      <td>I moved to Europe because I couldn’t afford to...</td>\n",
       "      <td>TOURS, France — A dozen of us sit expectantly ...</td>\n",
       "      <td>The New York Times</td>\n",
       "      <td>[{'rank': 0, 'subtype': 'xlarge', 'caption': N...</td>\n",
       "      <td>{'main': 'What a French Doctor’s Office Taught...</td>\n",
       "      <td>[{'name': 'subject', 'value': 'Health Insuranc...</td>\n",
       "      <td>2019-01-03T00:15:02+0000</td>\n",
       "      <td>article</td>\n",
       "      <td>...</td>\n",
       "      <td>Opinion</td>\n",
       "      <td>{'original': 'By Erica Rex', 'person': [{'firs...</td>\n",
       "      <td>Op-Ed</td>\n",
       "      <td>nyt://article/b5b5af94-2e4d-5e57-a2ca-76962a5a...</td>\n",
       "      <td>851</td>\n",
       "      <td>nyt://article/b5b5af94-2e4d-5e57-a2ca-76962a5a...</td>\n",
       "      <td>A</td>\n",
       "      <td>21</td>\n",
       "      <td>NaN</td>\n",
       "      <td>', 'The copies of Paris Match and Le Monde on ...</td>\n",
       "    </tr>\n",
       "    <tr>\n",
       "      <th>13</th>\n",
       "      <td>Just look to California to see what President ...</td>\n",
       "      <td>https://www.nytimes.com/2019/01/02/opinion/tru...</td>\n",
       "      <td>Just look to California to see what President ...</td>\n",
       "      <td>President Trump seems to think that his hard-l...</td>\n",
       "      <td>The New York Times</td>\n",
       "      <td>[{'rank': 0, 'subtype': 'xlarge', 'caption': N...</td>\n",
       "      <td>{'main': 'Why Republicans Should Support Immig...</td>\n",
       "      <td>[{'name': 'subject', 'value': 'Immigration and...</td>\n",
       "      <td>2019-01-03T01:12:25+0000</td>\n",
       "      <td>article</td>\n",
       "      <td>...</td>\n",
       "      <td>Opinion</td>\n",
       "      <td>{'original': 'By Jordan Bruneau', 'person': [{...</td>\n",
       "      <td>Op-Ed</td>\n",
       "      <td>nyt://article/8985d375-91b6-55b3-855e-34501937...</td>\n",
       "      <td>796</td>\n",
       "      <td>nyt://article/8985d375-91b6-55b3-855e-34501937...</td>\n",
       "      <td>A</td>\n",
       "      <td>21</td>\n",
       "      <td>NaN</td>\n",
       "      <td>', 'But if he doesn’t compromise, if he instea...</td>\n",
       "    </tr>\n",
       "    <tr>\n",
       "      <th>14</th>\n",
       "      <td>Plus Ashley Nicole Black on political comedy.</td>\n",
       "      <td>https://www.nytimes.com/2019/01/03/opinion/col...</td>\n",
       "      <td>Plus Ashley Nicole Black on political comedy.</td>\n",
       "      <td>Listen and subscribe to our podcast from your ...</td>\n",
       "      <td>The New York Times</td>\n",
       "      <td>[]</td>\n",
       "      <td>{'main': 'Your Questions, Answered', 'kicker':...</td>\n",
       "      <td>[{'name': 'persons', 'value': 'Douthat, Ross G...</td>\n",
       "      <td>2019-01-03T10:00:07+0000</td>\n",
       "      <td>article</td>\n",
       "      <td>...</td>\n",
       "      <td>Opinion</td>\n",
       "      <td>{'original': '', 'person': [], 'organization':...</td>\n",
       "      <td>Op-Ed</td>\n",
       "      <td>nyt://article/a133f38a-dfbb-55d5-9ba6-7f06a593...</td>\n",
       "      <td>834</td>\n",
       "      <td>nyt://article/a133f38a-dfbb-55d5-9ba6-7f06a593...</td>\n",
       "      <td>NaN</td>\n",
       "      <td>NaN</td>\n",
       "      <td>NaN</td>\n",
       "      <td>NaN</td>\n",
       "    </tr>\n",
       "    <tr>\n",
       "      <th>15</th>\n",
       "      <td>New House members should study how their earli...</td>\n",
       "      <td>https://www.nytimes.com/2019/01/03/opinion/hou...</td>\n",
       "      <td>New House members should study how their earli...</td>\n",
       "      <td>Forty-four years ago, in another year of natio...</td>\n",
       "      <td>The New York Times</td>\n",
       "      <td>[{'rank': 0, 'subtype': 'xlarge', 'caption': N...</td>\n",
       "      <td>{'main': 'The Watergate Class of ’74 Has Valua...</td>\n",
       "      <td>[{'name': 'organizations', 'value': 'House of ...</td>\n",
       "      <td>2019-01-03T11:00:04+0000</td>\n",
       "      <td>article</td>\n",
       "      <td>...</td>\n",
       "      <td>Opinion</td>\n",
       "      <td>{'original': 'By Mark Schmitt', 'person': [{'f...</td>\n",
       "      <td>Op-Ed</td>\n",
       "      <td>nyt://article/1d7d4f0e-54c0-51a9-b52c-66bd0bfa...</td>\n",
       "      <td>1140</td>\n",
       "      <td>nyt://article/1d7d4f0e-54c0-51a9-b52c-66bd0bfa...</td>\n",
       "      <td>A</td>\n",
       "      <td>19</td>\n",
       "      <td>NaN</td>\n",
       "      <td>', 'It also sent to Washington a new kind of m...</td>\n",
       "    </tr>\n",
       "    <tr>\n",
       "      <th>16</th>\n",
       "      <td>Conservative judges worry that the Second Amen...</td>\n",
       "      <td>https://www.nytimes.com/2019/01/03/opinion/gun...</td>\n",
       "      <td>Conservative judges worry that the Second Amen...</td>\n",
       "      <td>A specter is haunting the Supreme Court  — dis...</td>\n",
       "      <td>The New York Times</td>\n",
       "      <td>[{'rank': 0, 'subtype': 'xlarge', 'caption': N...</td>\n",
       "      <td>{'main': 'A Call to Arms at the Supreme Court'...</td>\n",
       "      <td>[{'name': 'subject', 'value': 'Firearms', 'ran...</td>\n",
       "      <td>2019-01-03T11:00:04+0000</td>\n",
       "      <td>article</td>\n",
       "      <td>...</td>\n",
       "      <td>Opinion</td>\n",
       "      <td>{'original': 'By Linda Greenhouse', 'person': ...</td>\n",
       "      <td>Op-Ed</td>\n",
       "      <td>nyt://article/63381d2a-8f97-550d-9fc9-409a3360...</td>\n",
       "      <td>2010</td>\n",
       "      <td>nyt://article/63381d2a-8f97-550d-9fc9-409a3360...</td>\n",
       "      <td>NaN</td>\n",
       "      <td>NaN</td>\n",
       "      <td>NaN</td>\n",
       "      <td>', 'If you are unaware of these outlandish cla...</td>\n",
       "    </tr>\n",
       "    <tr>\n",
       "      <th>17</th>\n",
       "      <td>Fundamental discoveries don’t always have prac...</td>\n",
       "      <td>https://www.nytimes.com/2019/01/03/opinion/new...</td>\n",
       "      <td>Fundamental discoveries don’t always have prac...</td>\n",
       "      <td>In October 1939, as Hitler, Mussolini and Stal...</td>\n",
       "      <td>The New York Times</td>\n",
       "      <td>[{'rank': 0, 'subtype': 'xlarge', 'caption': N...</td>\n",
       "      <td>{'main': 'Useless Knowledge Begets New Horizon...</td>\n",
       "      <td>[{'name': 'subject', 'value': 'New Horizons (S...</td>\n",
       "      <td>2019-01-03T11:00:04+0000</td>\n",
       "      <td>article</td>\n",
       "      <td>...</td>\n",
       "      <td>Opinion</td>\n",
       "      <td>{'original': 'By Bret Stephens', 'person': [{'...</td>\n",
       "      <td>Op-Ed</td>\n",
       "      <td>nyt://article/b1487d64-046f-53ca-aa3d-0e27c0db...</td>\n",
       "      <td>978</td>\n",
       "      <td>nyt://article/b1487d64-046f-53ca-aa3d-0e27c0db...</td>\n",
       "      <td>NaN</td>\n",
       "      <td>NaN</td>\n",
       "      <td>NaN</td>\n",
       "      <td>', 'Noting the way in which the concerns of mo...</td>\n",
       "    </tr>\n",
       "    <tr>\n",
       "      <th>18</th>\n",
       "      <td>It’s the start of a new year, after all. So he...</td>\n",
       "      <td>https://www.nytimes.com/2019/01/03/opinion/dem...</td>\n",
       "      <td>It’s the start of a new year, after all. So he...</td>\n",
       "      <td>This article is part of the Opinion Today news...</td>\n",
       "      <td>The New York Times</td>\n",
       "      <td>[{'rank': 0, 'subtype': 'xlarge', 'caption': N...</td>\n",
       "      <td>{'main': 'A Double Dose of Optimism', 'kicker'...</td>\n",
       "      <td>[{'name': 'subject', 'value': 'United States E...</td>\n",
       "      <td>2019-01-03T14:06:06+0000</td>\n",
       "      <td>article</td>\n",
       "      <td>...</td>\n",
       "      <td>Opinion</td>\n",
       "      <td>{'original': 'By David Leonhardt', 'person': [...</td>\n",
       "      <td>Op-Ed</td>\n",
       "      <td>nyt://article/1229f7e2-ca9e-58e4-969c-44c16b6c...</td>\n",
       "      <td>672</td>\n",
       "      <td>nyt://article/1229f7e2-ca9e-58e4-969c-44c16b6c...</td>\n",
       "      <td>NaN</td>\n",
       "      <td>NaN</td>\n",
       "      <td>NaN</td>\n",
       "      <td>', 'In the spirit of a new year, I give you a ...</td>\n",
       "    </tr>\n",
       "    <tr>\n",
       "      <th>19</th>\n",
       "      <td>The reforms by the country’s new prime ministe...</td>\n",
       "      <td>https://www.nytimes.com/2019/01/03/opinion/eth...</td>\n",
       "      <td>The reforms by the country’s new prime ministe...</td>\n",
       "      <td>Abiy Ahmed, the 42-year-old prime minister of ...</td>\n",
       "      <td>The New York Times</td>\n",
       "      <td>[{'rank': 0, 'subtype': 'xlarge', 'caption': N...</td>\n",
       "      <td>{'main': 'The Trouble With Ethiopia’s Ethnic F...</td>\n",
       "      <td>[{'name': 'glocations', 'value': 'Ethiopia', '...</td>\n",
       "      <td>2019-01-03T16:00:03+0000</td>\n",
       "      <td>article</td>\n",
       "      <td>...</td>\n",
       "      <td>Opinion</td>\n",
       "      <td>{'original': 'By Mahmood Mamdani', 'person': [...</td>\n",
       "      <td>Op-Ed</td>\n",
       "      <td>nyt://article/4bc2e0ce-06cc-5e23-aac4-fd5bc17c...</td>\n",
       "      <td>1116</td>\n",
       "      <td>nyt://article/4bc2e0ce-06cc-5e23-aac4-fd5bc17c...</td>\n",
       "      <td>NaN</td>\n",
       "      <td>NaN</td>\n",
       "      <td>NaN</td>\n",
       "      <td>', 'Mr. Abiy has been celebrated as a reformer...</td>\n",
       "    </tr>\n",
       "  </tbody>\n",
       "</table>\n",
       "<p>20 rows × 21 columns</p>\n",
       "</div>"
      ],
      "text/plain": [
       "                                             abstract  \\\n",
       "0   From the Treaty of Versailles to Prohibition, ...   \n",
       "1   Imagine what we could do with our money, and h...   \n",
       "2       Can the Constitution withstand the partisans?   \n",
       "3   The Christian right doesn’t like the president...   \n",
       "4   The United States is spending beyond its means...   \n",
       "5   Get ready for a year dominated by the struggle...   \n",
       "6   Skeptical reporting has still been too favorable.   \n",
       "7   In modern-day “re-education” prisons, Beijing ...   \n",
       "8   The president is facing a level of intraparty ...   \n",
       "9   Only Washington and Beijing, working together,...   \n",
       "10  The notion that limiting women’s reproduction ...   \n",
       "11  Love, political change, a pennant: Readers res...   \n",
       "12  I moved to Europe because I couldn’t afford to...   \n",
       "13  Just look to California to see what President ...   \n",
       "14      Plus Ashley Nicole Black on political comedy.   \n",
       "15  New House members should study how their earli...   \n",
       "16  Conservative judges worry that the Second Amen...   \n",
       "17  Fundamental discoveries don’t always have prac...   \n",
       "18  It’s the start of a new year, after all. So he...   \n",
       "19  The reforms by the country’s new prime ministe...   \n",
       "\n",
       "                                              web_url  \\\n",
       "0   https://www.nytimes.com/2018/12/31/opinion/191...   \n",
       "1   https://www.nytimes.com/2018/12/31/opinion/sma...   \n",
       "2   https://www.nytimes.com/2018/12/31/opinion/tru...   \n",
       "3   https://www.nytimes.com/2018/12/31/opinion/tru...   \n",
       "4   https://www.nytimes.com/2019/01/01/opinion/afg...   \n",
       "5   https://www.nytimes.com/2019/01/01/opinion/tru...   \n",
       "6   https://www.nytimes.com/2019/01/01/opinion/the...   \n",
       "7   https://www.nytimes.com/2019/01/02/opinion/uig...   \n",
       "8   https://www.nytimes.com/2019/01/02/opinion/rom...   \n",
       "9   https://www.nytimes.com/2019/01/02/opinion/ame...   \n",
       "10  https://www.nytimes.com/2019/01/02/opinion/iud...   \n",
       "11  https://www.nytimes.com/2019/01/02/opinion/201...   \n",
       "12  https://www.nytimes.com/2019/01/02/opinion/fra...   \n",
       "13  https://www.nytimes.com/2019/01/02/opinion/tru...   \n",
       "14  https://www.nytimes.com/2019/01/03/opinion/col...   \n",
       "15  https://www.nytimes.com/2019/01/03/opinion/hou...   \n",
       "16  https://www.nytimes.com/2019/01/03/opinion/gun...   \n",
       "17  https://www.nytimes.com/2019/01/03/opinion/new...   \n",
       "18  https://www.nytimes.com/2019/01/03/opinion/dem...   \n",
       "19  https://www.nytimes.com/2019/01/03/opinion/eth...   \n",
       "\n",
       "                                              snippet  \\\n",
       "0   From the Treaty of Versailles to Prohibition, ...   \n",
       "1   Imagine what we could do with our money, and h...   \n",
       "2       Can the Constitution withstand the partisans?   \n",
       "3   The Christian right doesn’t like the president...   \n",
       "4   The United States is spending beyond its means...   \n",
       "5   Get ready for a year dominated by the struggle...   \n",
       "6   Skeptical reporting has still been too favorable.   \n",
       "7   In modern-day “re-education” prisons, Beijing ...   \n",
       "8   The president is facing a level of intraparty ...   \n",
       "9   Only Washington and Beijing, working together,...   \n",
       "10  The notion that limiting women’s reproduction ...   \n",
       "11  Love, political change, a pennant: Readers res...   \n",
       "12  I moved to Europe because I couldn’t afford to...   \n",
       "13  Just look to California to see what President ...   \n",
       "14      Plus Ashley Nicole Black on political comedy.   \n",
       "15  New House members should study how their earli...   \n",
       "16  Conservative judges worry that the Second Amen...   \n",
       "17  Fundamental discoveries don’t always have prac...   \n",
       "18  It’s the start of a new year, after all. So he...   \n",
       "19  The reforms by the country’s new prime ministe...   \n",
       "\n",
       "                                       lead_paragraph              source  \\\n",
       "0   Throughout 2019, The New York Times Opinion se...  The New York Times   \n",
       "1   More than three-quarters of all Americans own ...  The New York Times   \n",
       "2   In Willa Cather’s novel “My Antonia,” there ar...  The New York Times   \n",
       "3   The month before the 2018 midterms, a thousand...  The New York Times   \n",
       "4   The decision by President Trump to withdraw 7,...  The New York Times   \n",
       "5   This article is part of the Opinion Today news...  The New York Times   \n",
       "6   The 2017 tax cut has received pretty bad press...  The New York Times   \n",
       "7   One of the darkest episodes of the 20th centur...  The New York Times   \n",
       "8   This article is part of the Opinion Today news...  The New York Times   \n",
       "9   In the United States, support for a cooperativ...  The New York Times   \n",
       "10  Over the past decade, more and more women have...  The New York Times   \n",
       "11  How do you define hope — a state of mind, a pl...  The New York Times   \n",
       "12  TOURS, France — A dozen of us sit expectantly ...  The New York Times   \n",
       "13  President Trump seems to think that his hard-l...  The New York Times   \n",
       "14  Listen and subscribe to our podcast from your ...  The New York Times   \n",
       "15  Forty-four years ago, in another year of natio...  The New York Times   \n",
       "16  A specter is haunting the Supreme Court  — dis...  The New York Times   \n",
       "17  In October 1939, as Hitler, Mussolini and Stal...  The New York Times   \n",
       "18  This article is part of the Opinion Today news...  The New York Times   \n",
       "19  Abiy Ahmed, the 42-year-old prime minister of ...  The New York Times   \n",
       "\n",
       "                                           multimedia  \\\n",
       "0   [{'rank': 0, 'subtype': 'xlarge', 'caption': N...   \n",
       "1   [{'rank': 0, 'subtype': 'xlarge', 'caption': N...   \n",
       "2   [{'rank': 0, 'subtype': 'xlarge', 'caption': N...   \n",
       "3   [{'rank': 0, 'subtype': 'xlarge', 'caption': N...   \n",
       "4   [{'rank': 0, 'subtype': 'xlarge', 'caption': N...   \n",
       "5   [{'rank': 0, 'subtype': 'xlarge', 'caption': N...   \n",
       "6   [{'rank': 0, 'subtype': 'xlarge', 'caption': N...   \n",
       "7   [{'rank': 0, 'subtype': 'xlarge', 'caption': N...   \n",
       "8   [{'rank': 0, 'subtype': 'xlarge', 'caption': N...   \n",
       "9   [{'rank': 0, 'subtype': 'xlarge', 'caption': N...   \n",
       "10  [{'rank': 0, 'subtype': 'xlarge', 'caption': N...   \n",
       "11  [{'rank': 0, 'subtype': 'xlarge', 'caption': N...   \n",
       "12  [{'rank': 0, 'subtype': 'xlarge', 'caption': N...   \n",
       "13  [{'rank': 0, 'subtype': 'xlarge', 'caption': N...   \n",
       "14                                                 []   \n",
       "15  [{'rank': 0, 'subtype': 'xlarge', 'caption': N...   \n",
       "16  [{'rank': 0, 'subtype': 'xlarge', 'caption': N...   \n",
       "17  [{'rank': 0, 'subtype': 'xlarge', 'caption': N...   \n",
       "18  [{'rank': 0, 'subtype': 'xlarge', 'caption': N...   \n",
       "19  [{'rank': 0, 'subtype': 'xlarge', 'caption': N...   \n",
       "\n",
       "                                             headline  \\\n",
       "0   {'main': '1919: The Year of the Crack-Up', 'ki...   \n",
       "1   {'main': 'In Search of Lost Screen Time', 'kic...   \n",
       "2   {'main': '2019: The Year of the Wolves', 'kick...   \n",
       "3   {'main': 'Why Trump Reigns as King Cyrus', 'ki...   \n",
       "4   {'main': 'Time to Get Out of Afghanistan', 'ki...   \n",
       "5   {'main': 'Happy New Year', 'kicker': None, 'co...   \n",
       "6   {'main': 'The Trump Tax Cut: Even Worse Than Y...   \n",
       "7   {'main': 'China’s Gulag for Muslims ', 'kicker...   \n",
       "8   {'main': 'Mitt Romney, Piling On Trump', 'kick...   \n",
       "9   {'main': 'Why the World Needs America and Chin...   \n",
       "10  {'main': 'The Dangerous Rise of the IUD as Pov...   \n",
       "11  {'main': 'Your Hopes for 2019', 'kicker': None...   \n",
       "12  {'main': 'What a French Doctor’s Office Taught...   \n",
       "13  {'main': 'Why Republicans Should Support Immig...   \n",
       "14  {'main': 'Your Questions, Answered', 'kicker':...   \n",
       "15  {'main': 'The Watergate Class of ’74 Has Valua...   \n",
       "16  {'main': 'A Call to Arms at the Supreme Court'...   \n",
       "17  {'main': 'Useless Knowledge Begets New Horizon...   \n",
       "18  {'main': 'A Double Dose of Optimism', 'kicker'...   \n",
       "19  {'main': 'The Trouble With Ethiopia’s Ethnic F...   \n",
       "\n",
       "                                             keywords  \\\n",
       "0   [{'name': 'subject', 'value': 'United States P...   \n",
       "1   [{'name': 'subject', 'value': 'Smartphones', '...   \n",
       "2   [{'name': 'persons', 'value': 'Trump, Donald J...   \n",
       "3   [{'name': 'subject', 'value': 'United States P...   \n",
       "4   [{'name': 'subject', 'value': 'United States D...   \n",
       "5   [{'name': 'subject', 'value': 'Podcasts', 'ran...   \n",
       "6   [{'name': 'subject', 'value': 'Corporate Taxes...   \n",
       "7   [{'name': 'glocations', 'value': 'China', 'ran...   \n",
       "8   [{'name': 'persons', 'value': 'Trump, Donald J...   \n",
       "9   [{'name': 'subject', 'value': 'United States I...   \n",
       "10  [{'name': 'subject', 'value': 'Discrimination'...   \n",
       "11  [{'name': 'subject', 'value': 'Love (Emotion)'...   \n",
       "12  [{'name': 'subject', 'value': 'Health Insuranc...   \n",
       "13  [{'name': 'subject', 'value': 'Immigration and...   \n",
       "14  [{'name': 'persons', 'value': 'Douthat, Ross G...   \n",
       "15  [{'name': 'organizations', 'value': 'House of ...   \n",
       "16  [{'name': 'subject', 'value': 'Firearms', 'ran...   \n",
       "17  [{'name': 'subject', 'value': 'New Horizons (S...   \n",
       "18  [{'name': 'subject', 'value': 'United States E...   \n",
       "19  [{'name': 'glocations', 'value': 'Ethiopia', '...   \n",
       "\n",
       "                    pub_date document_type  ... section_name  \\\n",
       "0   2019-01-01T00:00:03+0000       article  ...      Opinion   \n",
       "1   2019-01-01T00:00:07+0000       article  ...      Opinion   \n",
       "2   2019-01-01T00:15:31+0000       article  ...      Opinion   \n",
       "3   2019-01-01T00:29:12+0000       article  ...      Opinion   \n",
       "4   2019-01-01T11:00:04+0000       article  ...      Opinion   \n",
       "5   2019-01-01T13:06:48+0000       article  ...      Opinion   \n",
       "6   2019-01-01T17:47:14+0000       article  ...      Opinion   \n",
       "7   2019-01-02T11:00:03+0000       article  ...      Opinion   \n",
       "8   2019-01-02T13:21:35+0000       article  ...      Opinion   \n",
       "9   2019-01-02T20:00:03+0000       article  ...      Opinion   \n",
       "10  2019-01-02T20:00:03+0000       article  ...      Opinion   \n",
       "11  2019-01-02T23:08:11+0000       article  ...      Opinion   \n",
       "12  2019-01-03T00:15:02+0000       article  ...      Opinion   \n",
       "13  2019-01-03T01:12:25+0000       article  ...      Opinion   \n",
       "14  2019-01-03T10:00:07+0000       article  ...      Opinion   \n",
       "15  2019-01-03T11:00:04+0000       article  ...      Opinion   \n",
       "16  2019-01-03T11:00:04+0000       article  ...      Opinion   \n",
       "17  2019-01-03T11:00:04+0000       article  ...      Opinion   \n",
       "18  2019-01-03T14:06:06+0000       article  ...      Opinion   \n",
       "19  2019-01-03T16:00:03+0000       article  ...      Opinion   \n",
       "\n",
       "                                               byline type_of_material  \\\n",
       "0   {'original': 'By Ted Widmer', 'person': [{'fir...            Op-Ed   \n",
       "1   {'original': 'By Paul Greenberg', 'person': [{...            Op-Ed   \n",
       "2   {'original': 'By David Brooks', 'person': [{'f...            Op-Ed   \n",
       "3   {'original': 'By Katherine Stewart', 'person':...            Op-Ed   \n",
       "4   {'original': 'By Robert D. Kaplan', 'person': ...            Op-Ed   \n",
       "5   {'original': 'By David Leonhardt', 'person': [...            Op-Ed   \n",
       "6   {'original': 'By Paul Krugman', 'person': [{'f...            Op-Ed   \n",
       "7   {'original': 'By Mustafa Akyol', 'person': [{'...            Op-Ed   \n",
       "8   {'original': 'By David Leonhardt', 'person': [...            Op-Ed   \n",
       "9   {'original': 'By Robert E. Rubin', 'person': [...            Op-Ed   \n",
       "10  {'original': 'By Christine Dehlendorf and Kels...            Op-Ed   \n",
       "11  {'original': 'By Rachel L. Harris and Lisa Tar...            Op-Ed   \n",
       "12  {'original': 'By Erica Rex', 'person': [{'firs...            Op-Ed   \n",
       "13  {'original': 'By Jordan Bruneau', 'person': [{...            Op-Ed   \n",
       "14  {'original': '', 'person': [], 'organization':...            Op-Ed   \n",
       "15  {'original': 'By Mark Schmitt', 'person': [{'f...            Op-Ed   \n",
       "16  {'original': 'By Linda Greenhouse', 'person': ...            Op-Ed   \n",
       "17  {'original': 'By Bret Stephens', 'person': [{'...            Op-Ed   \n",
       "18  {'original': 'By David Leonhardt', 'person': [...            Op-Ed   \n",
       "19  {'original': 'By Mahmood Mamdani', 'person': [...            Op-Ed   \n",
       "\n",
       "                                                  _id word_count  \\\n",
       "0   nyt://article/b205ee80-0859-514e-be2a-b8ecf0cc...       2248   \n",
       "1   nyt://article/e4936e7b-0060-5026-b32d-a01e0b76...        985   \n",
       "2   nyt://article/079f32e4-f544-562e-9c92-b47209c3...        845   \n",
       "3   nyt://article/99ea5a45-885e-5fce-bd4a-6a9a999b...        879   \n",
       "4   nyt://article/0c1a5924-a0e7-5baa-b65d-88eb4d56...       1116   \n",
       "5   nyt://article/9472feec-98c8-5c11-a2fb-a9abd4aa...        341   \n",
       "6   nyt://article/ee20a89f-0716-5cf3-99a9-40500f9e...        680   \n",
       "7   nyt://article/232a19ad-5069-517c-bb56-d51f8767...       1021   \n",
       "8   nyt://article/5f547059-a90b-568f-8cd1-0db51fc2...        575   \n",
       "9   nyt://article/81be9216-422a-54e8-8ad4-6bad1253...        785   \n",
       "10  nyt://article/c19ce27e-5e6d-53cd-9f03-a3431af1...        899   \n",
       "11  nyt://article/00b83d87-72b6-57e3-9c9b-d0fd8060...       2026   \n",
       "12  nyt://article/b5b5af94-2e4d-5e57-a2ca-76962a5a...        851   \n",
       "13  nyt://article/8985d375-91b6-55b3-855e-34501937...        796   \n",
       "14  nyt://article/a133f38a-dfbb-55d5-9ba6-7f06a593...        834   \n",
       "15  nyt://article/1d7d4f0e-54c0-51a9-b52c-66bd0bfa...       1140   \n",
       "16  nyt://article/63381d2a-8f97-550d-9fc9-409a3360...       2010   \n",
       "17  nyt://article/b1487d64-046f-53ca-aa3d-0e27c0db...        978   \n",
       "18  nyt://article/1229f7e2-ca9e-58e4-969c-44c16b6c...        672   \n",
       "19  nyt://article/4bc2e0ce-06cc-5e23-aac4-fd5bc17c...       1116   \n",
       "\n",
       "                                                  uri print_section  \\\n",
       "0   nyt://article/b205ee80-0859-514e-be2a-b8ecf0cc...           NaN   \n",
       "1   nyt://article/e4936e7b-0060-5026-b32d-a01e0b76...             A   \n",
       "2   nyt://article/079f32e4-f544-562e-9c92-b47209c3...             A   \n",
       "3   nyt://article/99ea5a45-885e-5fce-bd4a-6a9a999b...             A   \n",
       "4   nyt://article/0c1a5924-a0e7-5baa-b65d-88eb4d56...             A   \n",
       "5   nyt://article/9472feec-98c8-5c11-a2fb-a9abd4aa...           NaN   \n",
       "6   nyt://article/ee20a89f-0716-5cf3-99a9-40500f9e...           NaN   \n",
       "7   nyt://article/232a19ad-5069-517c-bb56-d51f8767...           NaN   \n",
       "8   nyt://article/5f547059-a90b-568f-8cd1-0db51fc2...           NaN   \n",
       "9   nyt://article/81be9216-422a-54e8-8ad4-6bad1253...             A   \n",
       "10  nyt://article/c19ce27e-5e6d-53cd-9f03-a3431af1...             A   \n",
       "11  nyt://article/00b83d87-72b6-57e3-9c9b-d0fd8060...           NaN   \n",
       "12  nyt://article/b5b5af94-2e4d-5e57-a2ca-76962a5a...             A   \n",
       "13  nyt://article/8985d375-91b6-55b3-855e-34501937...             A   \n",
       "14  nyt://article/a133f38a-dfbb-55d5-9ba6-7f06a593...           NaN   \n",
       "15  nyt://article/1d7d4f0e-54c0-51a9-b52c-66bd0bfa...             A   \n",
       "16  nyt://article/63381d2a-8f97-550d-9fc9-409a3360...           NaN   \n",
       "17  nyt://article/b1487d64-046f-53ca-aa3d-0e27c0db...           NaN   \n",
       "18  nyt://article/1229f7e2-ca9e-58e4-969c-44c16b6c...           NaN   \n",
       "19  nyt://article/4bc2e0ce-06cc-5e23-aac4-fd5bc17c...           NaN   \n",
       "\n",
       "   print_page subsection_name  \\\n",
       "0         NaN             NaN   \n",
       "1          19             NaN   \n",
       "2          19             NaN   \n",
       "3          19             NaN   \n",
       "4          19             NaN   \n",
       "5         NaN             NaN   \n",
       "6         NaN             NaN   \n",
       "7         NaN             NaN   \n",
       "8         NaN             NaN   \n",
       "9          21             NaN   \n",
       "10         21             NaN   \n",
       "11        NaN             NaN   \n",
       "12         21             NaN   \n",
       "13         21             NaN   \n",
       "14        NaN             NaN   \n",
       "15         19             NaN   \n",
       "16        NaN             NaN   \n",
       "17        NaN             NaN   \n",
       "18        NaN             NaN   \n",
       "19        NaN             NaN   \n",
       "\n",
       "                                                 text  \n",
       "0   ', 'In his essay “The Crack-Up,” F. Scott Fitz...  \n",
       "1   ', 'In 2019, here’s what we could do instead.'...  \n",
       "2   ', 'Many years before, back in Russia, the two...  \n",
       "3   ', 'At a critical moment in the film, just aft...  \n",
       "4   ', 'No other country in the world symbolizes t...  \n",
       "5   ', 'It’s been a while since the United States ...  \n",
       "6   ', 'Yet coverage actually hasn’t been negative...  \n",
       "7   ', '“Thin strands of human lives stretch from ...  \n",
       "8   ', 'Partisanship is a helluva drug (to steal a...  \n",
       "9   ', 'The cycle has to be reversed. In the Unite...  \n",
       "10  ', 'However, many researchers, advocates and p...  \n",
       "11  ', 'We asked readers to define what hope means...  \n",
       "12  ', 'The copies of Paris Match and Le Monde on ...  \n",
       "13  ', 'But if he doesn’t compromise, if he instea...  \n",
       "14                                                NaN  \n",
       "15  ', 'It also sent to Washington a new kind of m...  \n",
       "16  ', 'If you are unaware of these outlandish cla...  \n",
       "17  ', 'Noting the way in which the concerns of mo...  \n",
       "18  ', 'In the spirit of a new year, I give you a ...  \n",
       "19  ', 'Mr. Abiy has been celebrated as a reformer...  \n",
       "\n",
       "[20 rows x 21 columns]"
      ]
     },
     "execution_count": 418,
     "metadata": {},
     "output_type": "execute_result"
    }
   ],
   "source": [
    "_2019_trim_fat_df.head(20)"
   ]
  },
  {
   "cell_type": "code",
   "execution_count": 419,
   "metadata": {},
   "outputs": [],
   "source": [
    "# trim2019_text_type_df = _2019_trim_fat_df.drop(all_but_text_type, axis=1)\n",
    "# trim2019_text_type_df.reset_index(inplace=True, drop=True)\n",
    "# trim2019_text_type_df = trim2019_text_type_df[['text', 'type_of_material']]\n",
    "# trim2019_text_type_df.to_csv('trim2019_text_type.csv')\n",
    "# trim2019_text_type_df.head()"
   ]
  },
  {
   "cell_type": "code",
   "execution_count": null,
   "metadata": {},
   "outputs": [],
   "source": []
  },
  {
   "cell_type": "code",
   "execution_count": null,
   "metadata": {},
   "outputs": [],
   "source": []
  },
  {
   "cell_type": "code",
   "execution_count": null,
   "metadata": {},
   "outputs": [],
   "source": []
  },
  {
   "cell_type": "code",
   "execution_count": null,
   "metadata": {},
   "outputs": [],
   "source": []
  },
  {
   "cell_type": "code",
   "execution_count": null,
   "metadata": {},
   "outputs": [],
   "source": []
  },
  {
   "cell_type": "code",
   "execution_count": null,
   "metadata": {},
   "outputs": [],
   "source": []
  },
  {
   "cell_type": "code",
   "execution_count": null,
   "metadata": {},
   "outputs": [],
   "source": []
  },
  {
   "cell_type": "code",
   "execution_count": null,
   "metadata": {},
   "outputs": [],
   "source": []
  }
 ],
 "metadata": {
  "kernelspec": {
   "display_name": "Python 3",
   "language": "python",
   "name": "python3"
  },
  "language_info": {
   "codemirror_mode": {
    "name": "ipython",
    "version": 3
   },
   "file_extension": ".py",
   "mimetype": "text/x-python",
   "name": "python",
   "nbconvert_exporter": "python",
   "pygments_lexer": "ipython3",
   "version": "3.7.9"
  }
 },
 "nbformat": 4,
 "nbformat_minor": 4
}
