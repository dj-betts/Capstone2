{
 "cells": [
  {
   "cell_type": "code",
   "execution_count": 443,
   "metadata": {},
   "outputs": [],
   "source": [
    "import pandas as pd"
   ]
  },
  {
   "cell_type": "code",
   "execution_count": 444,
   "metadata": {},
   "outputs": [],
   "source": [
    "from datetime import datetime"
   ]
  },
  {
   "cell_type": "code",
   "execution_count": 445,
   "metadata": {},
   "outputs": [],
   "source": [
    "#import for turning byline string-type into byline dictionary-type\n",
    "\n",
    "import ast"
   ]
  },
  {
   "cell_type": "code",
   "execution_count": 446,
   "metadata": {},
   "outputs": [],
   "source": [
    "jan19 = pd.read_csv('2019/jan19.csv', index_col='Unnamed: 0')\n",
    "feb19 = pd.read_csv('2019/feb19.csv', index_col='Unnamed: 0')\n",
    "mar19 = pd.read_csv('2019/mar19.csv', index_col='Unnamed: 0')\n",
    "apr19 = pd.read_csv('2019/apr19.csv', index_col='Unnamed: 0')\n",
    "may19 = pd.read_csv('2019/may19.csv', index_col='Unnamed: 0')\n",
    "jun19 = pd.read_csv('2019/jun19.csv', index_col='Unnamed: 0')\n",
    "jul19 = pd.read_csv('2019/jul19.csv', index_col='Unnamed: 0')\n",
    "aug19 = pd.read_csv('2019/aug19.csv', index_col='Unnamed: 0')\n",
    "sep19 = pd.read_csv('2019/sep19.csv', index_col='Unnamed: 0')\n",
    "oct19 = pd.read_csv('2019/oct19.csv', index_col='Unnamed: 0')\n",
    "nov19 = pd.read_csv('2019/nov19.csv', index_col='Unnamed: 0')\n",
    "dec19 = pd.read_csv('2019/dec19.csv', index_col='Unnamed: 0')"
   ]
  },
  {
   "cell_type": "code",
   "execution_count": 447,
   "metadata": {},
   "outputs": [],
   "source": [
    "jan19_df = jan19.copy()\n",
    "feb19_df = feb19.copy()\n",
    "mar19_df = mar19.copy()\n",
    "apr19_df = apr19.copy()\n",
    "may19_df = may19.copy()\n",
    "jun19_df = jun19.copy()\n",
    "jul19_df = jul19.copy()\n",
    "aug19_df = aug19.copy()\n",
    "sep19_df = sep19.copy()\n",
    "oct19_df = oct19.copy()\n",
    "nov19_df = nov19.copy()\n",
    "dec19_df = dec19.copy()"
   ]
  },
  {
   "cell_type": "code",
   "execution_count": 448,
   "metadata": {},
   "outputs": [],
   "source": [
    "list_2019_df = [jan19_df, feb19_df, mar19_df, apr19_df, may19_df, jun19_df, jul19_df, aug19_df, sep19_df, oct19_df, nov19_df, dec19_df]"
   ]
  },
  {
   "cell_type": "code",
   "execution_count": 449,
   "metadata": {},
   "outputs": [
    {
     "name": "stdout",
     "output_type": "stream",
     "text": [
      "CPU times: user 48 ms, sys: 6.18 ms, total: 54.2 ms\n",
      "Wall time: 53.7 ms\n"
     ]
    }
   ],
   "source": [
    "%%time\n",
    "uber2019 = pd.concat(list_2019_df)\n",
    "uber2019.reset_index(drop=True, inplace=True)"
   ]
  },
  {
   "cell_type": "code",
   "execution_count": 450,
   "metadata": {},
   "outputs": [
    {
     "data": {
      "text/plain": [
       "(41748, 21)"
      ]
     },
     "execution_count": 450,
     "metadata": {},
     "output_type": "execute_result"
    }
   ],
   "source": [
    "uber2019.shape"
   ]
  },
  {
   "cell_type": "code",
   "execution_count": 451,
   "metadata": {},
   "outputs": [],
   "source": [
    "#uber2019.tail();"
   ]
  },
  {
   "cell_type": "code",
   "execution_count": 452,
   "metadata": {},
   "outputs": [],
   "source": [
    "all_but_text_type = ['abstract', 'web_url', 'snippet', 'lead_paragraph', 'source',\n",
    "       'multimedia', 'headline', 'keywords', 'pub_date', 'document_type',\n",
    "       'news_desk', 'section_name', 'byline', '_id',\n",
    "       'word_count', 'uri', 'print_section', 'print_page', 'subsection_name']"
   ]
  },
  {
   "cell_type": "markdown",
   "metadata": {},
   "source": [
    "# drop some rows and export for more eda\n",
    "# make df for eda"
   ]
  },
  {
   "cell_type": "code",
   "execution_count": 11,
   "metadata": {},
   "outputs": [],
   "source": [
    "eda = uber2019.copy()"
   ]
  },
  {
   "cell_type": "code",
   "execution_count": 12,
   "metadata": {},
   "outputs": [],
   "source": [
    "columns_drop = ['web_url','source','multimedia', '_id', 'uri']"
   ]
  },
  {
   "cell_type": "code",
   "execution_count": 13,
   "metadata": {},
   "outputs": [],
   "source": [
    "eda.drop(columns_drop, axis=1, inplace=True)\n",
    "eda.reset_index(drop=True, inplace=True)"
   ]
  },
  {
   "cell_type": "markdown",
   "metadata": {},
   "source": [
    "# convert pub_date string to datetime object and iterate through each date and choose equal number of op_ed v news"
   ]
  },
  {
   "cell_type": "code",
   "execution_count": 14,
   "metadata": {},
   "outputs": [],
   "source": [
    "#date_time_obj = datetime.strptime(test_date_str, '%Y-%m-%d %H:%M:%S')"
   ]
  },
  {
   "cell_type": "code",
   "execution_count": 15,
   "metadata": {},
   "outputs": [],
   "source": [
    "#datetime.fromisoformat(test_date_str)"
   ]
  },
  {
   "cell_type": "code",
   "execution_count": 16,
   "metadata": {},
   "outputs": [],
   "source": [
    "#d = datetime.fromisoformat(test_date_str)\n",
    "#d.strftime('%Y-%m-%d %H:%M:%S')"
   ]
  },
  {
   "cell_type": "code",
   "execution_count": 17,
   "metadata": {},
   "outputs": [],
   "source": [
    "#test_date_str.strftime('%Y-%m-%d %H:%M:%S')"
   ]
  },
  {
   "cell_type": "markdown",
   "metadata": {},
   "source": [
    "# cap news stories at max number of op_ed stories and export for NLP"
   ]
  },
  {
   "cell_type": "code",
   "execution_count": 18,
   "metadata": {},
   "outputs": [],
   "source": [
    "oped_mask = uber2019['type_of_material'] == \"Op-Ed\"\n",
    "news_mask = uber2019['type_of_material'] == \"News\""
   ]
  },
  {
   "cell_type": "code",
   "execution_count": 19,
   "metadata": {},
   "outputs": [],
   "source": [
    "oped_df = uber2019[oped_mask]\n",
    "news_df = uber2019[news_mask]"
   ]
  },
  {
   "cell_type": "code",
   "execution_count": 20,
   "metadata": {},
   "outputs": [
    {
     "data": {
      "text/plain": [
       "(4139, 21)"
      ]
     },
     "execution_count": 20,
     "metadata": {},
     "output_type": "execute_result"
    }
   ],
   "source": [
    "oped_df.shape"
   ]
  },
  {
   "cell_type": "code",
   "execution_count": 21,
   "metadata": {},
   "outputs": [
    {
     "data": {
      "text/plain": [
       "(37609, 21)"
      ]
     },
     "execution_count": 21,
     "metadata": {},
     "output_type": "execute_result"
    }
   ],
   "source": [
    "news_df.shape"
   ]
  },
  {
   "cell_type": "markdown",
   "metadata": {},
   "source": [
    "- pseudocode\n",
    "1. sort op-ed and news\n",
    "2. randomly choose (ranint) oped or news to create 50/50 split database"
   ]
  },
  {
   "cell_type": "markdown",
   "metadata": {},
   "source": [
    "# dataset of full type and text"
   ]
  },
  {
   "cell_type": "code",
   "execution_count": 22,
   "metadata": {},
   "outputs": [],
   "source": [
    "#_2019_text_type_df = uber2019.drop(all_but_text_type, axis=1)"
   ]
  },
  {
   "cell_type": "code",
   "execution_count": 23,
   "metadata": {},
   "outputs": [],
   "source": [
    "#_2019_text_type_df.reset_index(inplace=True, drop=True)"
   ]
  },
  {
   "cell_type": "code",
   "execution_count": 24,
   "metadata": {},
   "outputs": [],
   "source": [
    "#_2019_text_type_df = _2019_text_type_df[['text', 'type_of_material']]"
   ]
  },
  {
   "cell_type": "code",
   "execution_count": 25,
   "metadata": {},
   "outputs": [],
   "source": [
    "#_2019_text_type_df.to_csv('2019_text_type.csv')"
   ]
  },
  {
   "cell_type": "code",
   "execution_count": 26,
   "metadata": {},
   "outputs": [],
   "source": [
    "#_2019_text_type_df.head()"
   ]
  },
  {
   "cell_type": "markdown",
   "metadata": {},
   "source": [
    "# dataset for jan19 multi naive baise"
   ]
  },
  {
   "cell_type": "code",
   "execution_count": 27,
   "metadata": {},
   "outputs": [],
   "source": [
    "#jan19_df = jan19_df.drop(all_but_text_type, axis=1)"
   ]
  },
  {
   "cell_type": "code",
   "execution_count": 28,
   "metadata": {},
   "outputs": [],
   "source": [
    "#jan19_df.reset_index(inplace=True, drop=True)"
   ]
  },
  {
   "cell_type": "code",
   "execution_count": 29,
   "metadata": {},
   "outputs": [],
   "source": [
    "#jan19_df = jan19_df[['text', 'type_of_material']]"
   ]
  },
  {
   "cell_type": "code",
   "execution_count": 30,
   "metadata": {},
   "outputs": [],
   "source": [
    "#jan19_df.to_csv('jan19.csv')"
   ]
  },
  {
   "cell_type": "markdown",
   "metadata": {},
   "source": [
    "# function to target actual text of article. peal off extra paragraph added by beautiful soup"
   ]
  },
  {
   "cell_type": "markdown",
   "metadata": {},
   "source": [
    "## there were a portion of these that weren't able to parse the string completely"
   ]
  },
  {
   "cell_type": "code",
   "execution_count": 453,
   "metadata": {},
   "outputs": [],
   "source": [
    "_2019_trim_fat_df = uber2019.copy()"
   ]
  },
  {
   "cell_type": "code",
   "execution_count": 454,
   "metadata": {},
   "outputs": [
    {
     "data": {
      "text/plain": [
       "(41748, 21)"
      ]
     },
     "execution_count": 454,
     "metadata": {},
     "output_type": "execute_result"
    }
   ],
   "source": [
    "_2019_trim_fat_df.shape"
   ]
  },
  {
   "cell_type": "code",
   "execution_count": 455,
   "metadata": {},
   "outputs": [],
   "source": [
    "import ast\n",
    "def trim_first_name(row):\n",
    "    try: \n",
    "        lead_paragraph = row.lead_paragraph\n",
    "        byline = row.byline\n",
    "        text = row.text\n",
    "\n",
    "        byline = ast.literal_eval(byline)\n",
    "        person = byline['person']\n",
    "        first = person[0]['firstname']\n",
    "\n",
    "        first_split = text.split(lead_paragraph)\n",
    "        first_split = first_split[1]\n",
    "\n",
    "        second_split = first_split.split(first)\n",
    "        output = second_split[0]\n",
    "    \n",
    "    except:\n",
    "        \n",
    "        output = 'NaN'\n",
    "    \n",
    "    \n",
    "    return output"
   ]
  },
  {
   "cell_type": "code",
   "execution_count": 456,
   "metadata": {},
   "outputs": [],
   "source": [
    "_2019_trim_fat_df = uber2019.copy()"
   ]
  },
  {
   "cell_type": "code",
   "execution_count": 457,
   "metadata": {},
   "outputs": [
    {
     "data": {
      "text/plain": [
       "(41748, 21)"
      ]
     },
     "execution_count": 457,
     "metadata": {},
     "output_type": "execute_result"
    }
   ],
   "source": [
    "_2019_trim_fat_df.shape"
   ]
  },
  {
   "cell_type": "code",
   "execution_count": 458,
   "metadata": {},
   "outputs": [],
   "source": [
    "#_2019_trim_fat_df[[_2019_trim_fat_df.text == None]]"
   ]
  },
  {
   "cell_type": "code",
   "execution_count": 466,
   "metadata": {},
   "outputs": [
    {
     "name": "stdout",
     "output_type": "stream",
     "text": [
      "CPU times: user 3.49 s, sys: 1.63 s, total: 5.11 s\n",
      "Wall time: 6.48 s\n"
     ]
    }
   ],
   "source": [
    "%%time\n",
    "#trim and filter df..\n",
    "_2019_trim_fat_df['text'] = _2019_trim_fat_df.apply(trim_first_name, axis=1)"
   ]
  },
  {
   "cell_type": "code",
   "execution_count": 460,
   "metadata": {},
   "outputs": [],
   "source": [
    "output_df = _2019_trim_fat_df[_2019_trim_fat_df['text'] != 'NaN']"
   ]
  },
  {
   "cell_type": "code",
   "execution_count": 461,
   "metadata": {},
   "outputs": [],
   "source": [
    "output_df.reset_index(inplace=True)"
   ]
  },
  {
   "cell_type": "code",
   "execution_count": 462,
   "metadata": {},
   "outputs": [
    {
     "data": {
      "text/html": [
       "<div>\n",
       "<style scoped>\n",
       "    .dataframe tbody tr th:only-of-type {\n",
       "        vertical-align: middle;\n",
       "    }\n",
       "\n",
       "    .dataframe tbody tr th {\n",
       "        vertical-align: top;\n",
       "    }\n",
       "\n",
       "    .dataframe thead th {\n",
       "        text-align: right;\n",
       "    }\n",
       "</style>\n",
       "<table border=\"1\" class=\"dataframe\">\n",
       "  <thead>\n",
       "    <tr style=\"text-align: right;\">\n",
       "      <th></th>\n",
       "      <th>index</th>\n",
       "      <th>abstract</th>\n",
       "      <th>web_url</th>\n",
       "      <th>snippet</th>\n",
       "      <th>lead_paragraph</th>\n",
       "      <th>source</th>\n",
       "      <th>multimedia</th>\n",
       "      <th>headline</th>\n",
       "      <th>keywords</th>\n",
       "      <th>pub_date</th>\n",
       "      <th>...</th>\n",
       "      <th>section_name</th>\n",
       "      <th>byline</th>\n",
       "      <th>type_of_material</th>\n",
       "      <th>_id</th>\n",
       "      <th>word_count</th>\n",
       "      <th>uri</th>\n",
       "      <th>print_section</th>\n",
       "      <th>print_page</th>\n",
       "      <th>subsection_name</th>\n",
       "      <th>text</th>\n",
       "    </tr>\n",
       "  </thead>\n",
       "  <tbody>\n",
       "    <tr>\n",
       "      <th>0</th>\n",
       "      <td>0</td>\n",
       "      <td>From the Treaty of Versailles to Prohibition, ...</td>\n",
       "      <td>https://www.nytimes.com/2018/12/31/opinion/191...</td>\n",
       "      <td>From the Treaty of Versailles to Prohibition, ...</td>\n",
       "      <td>Throughout 2019, The New York Times Opinion se...</td>\n",
       "      <td>The New York Times</td>\n",
       "      <td>[{'rank': 0, 'subtype': 'xlarge', 'caption': N...</td>\n",
       "      <td>{'main': '1919: The Year of the Crack-Up', 'ki...</td>\n",
       "      <td>[{'name': 'subject', 'value': 'United States P...</td>\n",
       "      <td>2019-01-01T00:00:03+0000</td>\n",
       "      <td>...</td>\n",
       "      <td>Opinion</td>\n",
       "      <td>{'original': 'By Ted Widmer', 'person': [{'fir...</td>\n",
       "      <td>Op-Ed</td>\n",
       "      <td>nyt://article/b205ee80-0859-514e-be2a-b8ecf0cc...</td>\n",
       "      <td>2248</td>\n",
       "      <td>nyt://article/b205ee80-0859-514e-be2a-b8ecf0cc...</td>\n",
       "      <td>NaN</td>\n",
       "      <td>NaN</td>\n",
       "      <td>NaN</td>\n",
       "      <td>', 'In his essay “The Crack-Up,” F. Scott Fitz...</td>\n",
       "    </tr>\n",
       "    <tr>\n",
       "      <th>1</th>\n",
       "      <td>1</td>\n",
       "      <td>Imagine what we could do with our money, and h...</td>\n",
       "      <td>https://www.nytimes.com/2018/12/31/opinion/sma...</td>\n",
       "      <td>Imagine what we could do with our money, and h...</td>\n",
       "      <td>More than three-quarters of all Americans own ...</td>\n",
       "      <td>The New York Times</td>\n",
       "      <td>[{'rank': 0, 'subtype': 'xlarge', 'caption': N...</td>\n",
       "      <td>{'main': 'In Search of Lost Screen Time', 'kic...</td>\n",
       "      <td>[{'name': 'subject', 'value': 'Smartphones', '...</td>\n",
       "      <td>2019-01-01T00:00:07+0000</td>\n",
       "      <td>...</td>\n",
       "      <td>Opinion</td>\n",
       "      <td>{'original': 'By Paul Greenberg', 'person': [{...</td>\n",
       "      <td>Op-Ed</td>\n",
       "      <td>nyt://article/e4936e7b-0060-5026-b32d-a01e0b76...</td>\n",
       "      <td>985</td>\n",
       "      <td>nyt://article/e4936e7b-0060-5026-b32d-a01e0b76...</td>\n",
       "      <td>A</td>\n",
       "      <td>19</td>\n",
       "      <td>NaN</td>\n",
       "      <td>', 'In 2019, here’s what we could do instead.'...</td>\n",
       "    </tr>\n",
       "    <tr>\n",
       "      <th>2</th>\n",
       "      <td>2</td>\n",
       "      <td>Can the Constitution withstand the partisans?</td>\n",
       "      <td>https://www.nytimes.com/2018/12/31/opinion/tru...</td>\n",
       "      <td>Can the Constitution withstand the partisans?</td>\n",
       "      <td>In Willa Cather’s novel “My Antonia,” there ar...</td>\n",
       "      <td>The New York Times</td>\n",
       "      <td>[{'rank': 0, 'subtype': 'xlarge', 'caption': N...</td>\n",
       "      <td>{'main': '2019: The Year of the Wolves', 'kick...</td>\n",
       "      <td>[{'name': 'persons', 'value': 'Trump, Donald J...</td>\n",
       "      <td>2019-01-01T00:15:31+0000</td>\n",
       "      <td>...</td>\n",
       "      <td>Opinion</td>\n",
       "      <td>{'original': 'By David Brooks', 'person': [{'f...</td>\n",
       "      <td>Op-Ed</td>\n",
       "      <td>nyt://article/079f32e4-f544-562e-9c92-b47209c3...</td>\n",
       "      <td>845</td>\n",
       "      <td>nyt://article/079f32e4-f544-562e-9c92-b47209c3...</td>\n",
       "      <td>A</td>\n",
       "      <td>19</td>\n",
       "      <td>NaN</td>\n",
       "      <td>', 'Many years before, back in Russia, the two...</td>\n",
       "    </tr>\n",
       "    <tr>\n",
       "      <th>3</th>\n",
       "      <td>3</td>\n",
       "      <td>The Christian right doesn’t like the president...</td>\n",
       "      <td>https://www.nytimes.com/2018/12/31/opinion/tru...</td>\n",
       "      <td>The Christian right doesn’t like the president...</td>\n",
       "      <td>The month before the 2018 midterms, a thousand...</td>\n",
       "      <td>The New York Times</td>\n",
       "      <td>[{'rank': 0, 'subtype': 'xlarge', 'caption': N...</td>\n",
       "      <td>{'main': 'Why Trump Reigns as King Cyrus', 'ki...</td>\n",
       "      <td>[{'name': 'subject', 'value': 'United States P...</td>\n",
       "      <td>2019-01-01T00:29:12+0000</td>\n",
       "      <td>...</td>\n",
       "      <td>Opinion</td>\n",
       "      <td>{'original': 'By Katherine Stewart', 'person':...</td>\n",
       "      <td>Op-Ed</td>\n",
       "      <td>nyt://article/99ea5a45-885e-5fce-bd4a-6a9a999b...</td>\n",
       "      <td>879</td>\n",
       "      <td>nyt://article/99ea5a45-885e-5fce-bd4a-6a9a999b...</td>\n",
       "      <td>A</td>\n",
       "      <td>19</td>\n",
       "      <td>NaN</td>\n",
       "      <td>', 'At a critical moment in the film, just aft...</td>\n",
       "    </tr>\n",
       "    <tr>\n",
       "      <th>4</th>\n",
       "      <td>4</td>\n",
       "      <td>The United States is spending beyond its means...</td>\n",
       "      <td>https://www.nytimes.com/2019/01/01/opinion/afg...</td>\n",
       "      <td>The United States is spending beyond its means...</td>\n",
       "      <td>The decision by President Trump to withdraw 7,...</td>\n",
       "      <td>The New York Times</td>\n",
       "      <td>[{'rank': 0, 'subtype': 'xlarge', 'caption': N...</td>\n",
       "      <td>{'main': 'Time to Get Out of Afghanistan', 'ki...</td>\n",
       "      <td>[{'name': 'subject', 'value': 'United States D...</td>\n",
       "      <td>2019-01-01T11:00:04+0000</td>\n",
       "      <td>...</td>\n",
       "      <td>Opinion</td>\n",
       "      <td>{'original': 'By Robert D. Kaplan', 'person': ...</td>\n",
       "      <td>Op-Ed</td>\n",
       "      <td>nyt://article/0c1a5924-a0e7-5baa-b65d-88eb4d56...</td>\n",
       "      <td>1116</td>\n",
       "      <td>nyt://article/0c1a5924-a0e7-5baa-b65d-88eb4d56...</td>\n",
       "      <td>A</td>\n",
       "      <td>19</td>\n",
       "      <td>NaN</td>\n",
       "      <td>', 'No other country in the world symbolizes t...</td>\n",
       "    </tr>\n",
       "    <tr>\n",
       "      <th>...</th>\n",
       "      <td>...</td>\n",
       "      <td>...</td>\n",
       "      <td>...</td>\n",
       "      <td>...</td>\n",
       "      <td>...</td>\n",
       "      <td>...</td>\n",
       "      <td>...</td>\n",
       "      <td>...</td>\n",
       "      <td>...</td>\n",
       "      <td>...</td>\n",
       "      <td>...</td>\n",
       "      <td>...</td>\n",
       "      <td>...</td>\n",
       "      <td>...</td>\n",
       "      <td>...</td>\n",
       "      <td>...</td>\n",
       "      <td>...</td>\n",
       "      <td>...</td>\n",
       "      <td>...</td>\n",
       "      <td>...</td>\n",
       "      <td>...</td>\n",
       "    </tr>\n",
       "    <tr>\n",
       "      <th>37723</th>\n",
       "      <td>41743</td>\n",
       "      <td>Chief Justice John Roberts’s year-end report o...</td>\n",
       "      <td>https://www.nytimes.com/2019/12/31/us/john-rob...</td>\n",
       "      <td>Chief Justice John Roberts’s year-end report o...</td>\n",
       "      <td>WASHINGTON — As Chief Justice John G. Roberts ...</td>\n",
       "      <td>The New York Times</td>\n",
       "      <td>[{'rank': 0, 'subtype': 'xlarge', 'caption': N...</td>\n",
       "      <td>{'main': 'Impeachment Trial Looming, Chief Jus...</td>\n",
       "      <td>[{'name': 'persons', 'value': 'Roberts, John G...</td>\n",
       "      <td>2019-12-31T23:00:07+0000</td>\n",
       "      <td>...</td>\n",
       "      <td>U.S.</td>\n",
       "      <td>{'original': 'By Adam Liptak', 'person': [{'fi...</td>\n",
       "      <td>News</td>\n",
       "      <td>nyt://article/5e9cc890-63a1-5573-9b22-cbc35be7...</td>\n",
       "      <td>931</td>\n",
       "      <td>nyt://article/5e9cc890-63a1-5573-9b22-cbc35be7...</td>\n",
       "      <td>A</td>\n",
       "      <td>11</td>\n",
       "      <td>NaN</td>\n",
       "      <td>', 'The two men have a history of friction, an...</td>\n",
       "    </tr>\n",
       "    <tr>\n",
       "      <th>37724</th>\n",
       "      <td>41744</td>\n",
       "      <td>Zaosong Zheng, a promising cancer researcher, ...</td>\n",
       "      <td>https://www.nytimes.com/2019/12/31/us/chinese-...</td>\n",
       "      <td>Zaosong Zheng, a promising cancer researcher, ...</td>\n",
       "      <td>BOSTON — Zaosong Zheng was preparing to board ...</td>\n",
       "      <td>The New York Times</td>\n",
       "      <td>[{'rank': 0, 'subtype': 'xlarge', 'caption': N...</td>\n",
       "      <td>{'main': 'Stolen Research: Chinese Scientist I...</td>\n",
       "      <td>[{'name': 'persons', 'value': 'Zheng, Zaosong'...</td>\n",
       "      <td>2019-12-31T23:01:57+0000</td>\n",
       "      <td>...</td>\n",
       "      <td>U.S.</td>\n",
       "      <td>{'original': 'By Ellen Barry', 'person': [{'fi...</td>\n",
       "      <td>News</td>\n",
       "      <td>nyt://article/c51354b7-b4cb-501b-8d23-7a3712ae...</td>\n",
       "      <td>872</td>\n",
       "      <td>nyt://article/c51354b7-b4cb-501b-8d23-7a3712ae...</td>\n",
       "      <td>A</td>\n",
       "      <td>10</td>\n",
       "      <td>NaN</td>\n",
       "      <td>', 'Inside his checked luggage, wrapped in a p...</td>\n",
       "    </tr>\n",
       "    <tr>\n",
       "      <th>37725</th>\n",
       "      <td>41745</td>\n",
       "      <td>The 2010s, reviewed.</td>\n",
       "      <td>https://www.nytimes.com/2019/12/31/opinion/dec...</td>\n",
       "      <td>The 2010s, reviewed.</td>\n",
       "      <td>This article is part of the Debatable newslett...</td>\n",
       "      <td>The New York Times</td>\n",
       "      <td>[{'rank': 0, 'subtype': 'xlarge', 'caption': N...</td>\n",
       "      <td>{'main': 'The Extremely Online Decade of ‘Get ...</td>\n",
       "      <td>[{'name': 'subject', 'value': 'New Year', 'ran...</td>\n",
       "      <td>2019-12-31T23:05:04+0000</td>\n",
       "      <td>...</td>\n",
       "      <td>Opinion</td>\n",
       "      <td>{'original': 'By Spencer Bokat-Lindell', 'pers...</td>\n",
       "      <td>Op-Ed</td>\n",
       "      <td>nyt://article/954ff8cd-f691-53ca-abcf-54dc90ca...</td>\n",
       "      <td>2116</td>\n",
       "      <td>nyt://article/954ff8cd-f691-53ca-abcf-54dc90ca...</td>\n",
       "      <td>NaN</td>\n",
       "      <td>NaN</td>\n",
       "      <td>NaN</td>\n",
       "      <td>', 'Do you remember, dear reader, when it was ...</td>\n",
       "    </tr>\n",
       "    <tr>\n",
       "      <th>37726</th>\n",
       "      <td>41746</td>\n",
       "      <td>After receiving presidential clemency, Edward ...</td>\n",
       "      <td>https://www.nytimes.com/2019/12/31/us/navy-sea...</td>\n",
       "      <td>After receiving presidential clemency, Edward ...</td>\n",
       "      <td>A year ago, Navy SEAL Chief Petty Officer Edwa...</td>\n",
       "      <td>The New York Times</td>\n",
       "      <td>[{'rank': 0, 'subtype': 'xlarge', 'caption': N...</td>\n",
       "      <td>{'main': 'From the Brig to Mar-a-Lago, Former ...</td>\n",
       "      <td>[{'name': 'persons', 'value': 'Gallagher, Edwa...</td>\n",
       "      <td>2019-12-31T23:17:09+0000</td>\n",
       "      <td>...</td>\n",
       "      <td>U.S.</td>\n",
       "      <td>{'original': 'By Dave Philipps', 'person': [{'...</td>\n",
       "      <td>News</td>\n",
       "      <td>nyt://article/1678dcb4-8d35-5b90-966b-821ae090...</td>\n",
       "      <td>1285</td>\n",
       "      <td>nyt://article/1678dcb4-8d35-5b90-966b-821ae090...</td>\n",
       "      <td>A</td>\n",
       "      <td>1</td>\n",
       "      <td>NaN</td>\n",
       "      <td>', 'Chief Gallagher was acquitted this summer ...</td>\n",
       "    </tr>\n",
       "    <tr>\n",
       "      <th>37727</th>\n",
       "      <td>41747</td>\n",
       "      <td>The Trump administration staffed an E.P.A. adv...</td>\n",
       "      <td>https://www.nytimes.com/2019/12/31/climate/epa...</td>\n",
       "      <td>The Trump administration staffed an E.P.A. adv...</td>\n",
       "      <td>WASHINGTON — A top panel of government-appoint...</td>\n",
       "      <td>The New York Times</td>\n",
       "      <td>[{'rank': 0, 'subtype': 'xlarge', 'caption': N...</td>\n",
       "      <td>{'main': 'Science Panel Staffed With Trump App...</td>\n",
       "      <td>[{'name': 'organizations', 'value': 'Environme...</td>\n",
       "      <td>2019-12-31T23:52:00+0000</td>\n",
       "      <td>...</td>\n",
       "      <td>Climate</td>\n",
       "      <td>{'original': 'By Coral Davenport and Lisa Frie...</td>\n",
       "      <td>News</td>\n",
       "      <td>nyt://article/7275793c-5887-557f-8f63-8e167a5b...</td>\n",
       "      <td>1340</td>\n",
       "      <td>nyt://article/7275793c-5887-557f-8f63-8e167a5b...</td>\n",
       "      <td>A</td>\n",
       "      <td>1</td>\n",
       "      <td>NaN</td>\n",
       "      <td>', 'Draft letters posted online Tuesday by the...</td>\n",
       "    </tr>\n",
       "  </tbody>\n",
       "</table>\n",
       "<p>37728 rows × 22 columns</p>\n",
       "</div>"
      ],
      "text/plain": [
       "       index                                           abstract  \\\n",
       "0          0  From the Treaty of Versailles to Prohibition, ...   \n",
       "1          1  Imagine what we could do with our money, and h...   \n",
       "2          2      Can the Constitution withstand the partisans?   \n",
       "3          3  The Christian right doesn’t like the president...   \n",
       "4          4  The United States is spending beyond its means...   \n",
       "...      ...                                                ...   \n",
       "37723  41743  Chief Justice John Roberts’s year-end report o...   \n",
       "37724  41744  Zaosong Zheng, a promising cancer researcher, ...   \n",
       "37725  41745                               The 2010s, reviewed.   \n",
       "37726  41746  After receiving presidential clemency, Edward ...   \n",
       "37727  41747  The Trump administration staffed an E.P.A. adv...   \n",
       "\n",
       "                                                 web_url  \\\n",
       "0      https://www.nytimes.com/2018/12/31/opinion/191...   \n",
       "1      https://www.nytimes.com/2018/12/31/opinion/sma...   \n",
       "2      https://www.nytimes.com/2018/12/31/opinion/tru...   \n",
       "3      https://www.nytimes.com/2018/12/31/opinion/tru...   \n",
       "4      https://www.nytimes.com/2019/01/01/opinion/afg...   \n",
       "...                                                  ...   \n",
       "37723  https://www.nytimes.com/2019/12/31/us/john-rob...   \n",
       "37724  https://www.nytimes.com/2019/12/31/us/chinese-...   \n",
       "37725  https://www.nytimes.com/2019/12/31/opinion/dec...   \n",
       "37726  https://www.nytimes.com/2019/12/31/us/navy-sea...   \n",
       "37727  https://www.nytimes.com/2019/12/31/climate/epa...   \n",
       "\n",
       "                                                 snippet  \\\n",
       "0      From the Treaty of Versailles to Prohibition, ...   \n",
       "1      Imagine what we could do with our money, and h...   \n",
       "2          Can the Constitution withstand the partisans?   \n",
       "3      The Christian right doesn’t like the president...   \n",
       "4      The United States is spending beyond its means...   \n",
       "...                                                  ...   \n",
       "37723  Chief Justice John Roberts’s year-end report o...   \n",
       "37724  Zaosong Zheng, a promising cancer researcher, ...   \n",
       "37725                               The 2010s, reviewed.   \n",
       "37726  After receiving presidential clemency, Edward ...   \n",
       "37727  The Trump administration staffed an E.P.A. adv...   \n",
       "\n",
       "                                          lead_paragraph              source  \\\n",
       "0      Throughout 2019, The New York Times Opinion se...  The New York Times   \n",
       "1      More than three-quarters of all Americans own ...  The New York Times   \n",
       "2      In Willa Cather’s novel “My Antonia,” there ar...  The New York Times   \n",
       "3      The month before the 2018 midterms, a thousand...  The New York Times   \n",
       "4      The decision by President Trump to withdraw 7,...  The New York Times   \n",
       "...                                                  ...                 ...   \n",
       "37723  WASHINGTON — As Chief Justice John G. Roberts ...  The New York Times   \n",
       "37724  BOSTON — Zaosong Zheng was preparing to board ...  The New York Times   \n",
       "37725  This article is part of the Debatable newslett...  The New York Times   \n",
       "37726  A year ago, Navy SEAL Chief Petty Officer Edwa...  The New York Times   \n",
       "37727  WASHINGTON — A top panel of government-appoint...  The New York Times   \n",
       "\n",
       "                                              multimedia  \\\n",
       "0      [{'rank': 0, 'subtype': 'xlarge', 'caption': N...   \n",
       "1      [{'rank': 0, 'subtype': 'xlarge', 'caption': N...   \n",
       "2      [{'rank': 0, 'subtype': 'xlarge', 'caption': N...   \n",
       "3      [{'rank': 0, 'subtype': 'xlarge', 'caption': N...   \n",
       "4      [{'rank': 0, 'subtype': 'xlarge', 'caption': N...   \n",
       "...                                                  ...   \n",
       "37723  [{'rank': 0, 'subtype': 'xlarge', 'caption': N...   \n",
       "37724  [{'rank': 0, 'subtype': 'xlarge', 'caption': N...   \n",
       "37725  [{'rank': 0, 'subtype': 'xlarge', 'caption': N...   \n",
       "37726  [{'rank': 0, 'subtype': 'xlarge', 'caption': N...   \n",
       "37727  [{'rank': 0, 'subtype': 'xlarge', 'caption': N...   \n",
       "\n",
       "                                                headline  \\\n",
       "0      {'main': '1919: The Year of the Crack-Up', 'ki...   \n",
       "1      {'main': 'In Search of Lost Screen Time', 'kic...   \n",
       "2      {'main': '2019: The Year of the Wolves', 'kick...   \n",
       "3      {'main': 'Why Trump Reigns as King Cyrus', 'ki...   \n",
       "4      {'main': 'Time to Get Out of Afghanistan', 'ki...   \n",
       "...                                                  ...   \n",
       "37723  {'main': 'Impeachment Trial Looming, Chief Jus...   \n",
       "37724  {'main': 'Stolen Research: Chinese Scientist I...   \n",
       "37725  {'main': 'The Extremely Online Decade of ‘Get ...   \n",
       "37726  {'main': 'From the Brig to Mar-a-Lago, Former ...   \n",
       "37727  {'main': 'Science Panel Staffed With Trump App...   \n",
       "\n",
       "                                                keywords  \\\n",
       "0      [{'name': 'subject', 'value': 'United States P...   \n",
       "1      [{'name': 'subject', 'value': 'Smartphones', '...   \n",
       "2      [{'name': 'persons', 'value': 'Trump, Donald J...   \n",
       "3      [{'name': 'subject', 'value': 'United States P...   \n",
       "4      [{'name': 'subject', 'value': 'United States D...   \n",
       "...                                                  ...   \n",
       "37723  [{'name': 'persons', 'value': 'Roberts, John G...   \n",
       "37724  [{'name': 'persons', 'value': 'Zheng, Zaosong'...   \n",
       "37725  [{'name': 'subject', 'value': 'New Year', 'ran...   \n",
       "37726  [{'name': 'persons', 'value': 'Gallagher, Edwa...   \n",
       "37727  [{'name': 'organizations', 'value': 'Environme...   \n",
       "\n",
       "                       pub_date  ... section_name  \\\n",
       "0      2019-01-01T00:00:03+0000  ...      Opinion   \n",
       "1      2019-01-01T00:00:07+0000  ...      Opinion   \n",
       "2      2019-01-01T00:15:31+0000  ...      Opinion   \n",
       "3      2019-01-01T00:29:12+0000  ...      Opinion   \n",
       "4      2019-01-01T11:00:04+0000  ...      Opinion   \n",
       "...                         ...  ...          ...   \n",
       "37723  2019-12-31T23:00:07+0000  ...         U.S.   \n",
       "37724  2019-12-31T23:01:57+0000  ...         U.S.   \n",
       "37725  2019-12-31T23:05:04+0000  ...      Opinion   \n",
       "37726  2019-12-31T23:17:09+0000  ...         U.S.   \n",
       "37727  2019-12-31T23:52:00+0000  ...      Climate   \n",
       "\n",
       "                                                  byline type_of_material  \\\n",
       "0      {'original': 'By Ted Widmer', 'person': [{'fir...            Op-Ed   \n",
       "1      {'original': 'By Paul Greenberg', 'person': [{...            Op-Ed   \n",
       "2      {'original': 'By David Brooks', 'person': [{'f...            Op-Ed   \n",
       "3      {'original': 'By Katherine Stewart', 'person':...            Op-Ed   \n",
       "4      {'original': 'By Robert D. Kaplan', 'person': ...            Op-Ed   \n",
       "...                                                  ...              ...   \n",
       "37723  {'original': 'By Adam Liptak', 'person': [{'fi...             News   \n",
       "37724  {'original': 'By Ellen Barry', 'person': [{'fi...             News   \n",
       "37725  {'original': 'By Spencer Bokat-Lindell', 'pers...            Op-Ed   \n",
       "37726  {'original': 'By Dave Philipps', 'person': [{'...             News   \n",
       "37727  {'original': 'By Coral Davenport and Lisa Frie...             News   \n",
       "\n",
       "                                                     _id word_count  \\\n",
       "0      nyt://article/b205ee80-0859-514e-be2a-b8ecf0cc...       2248   \n",
       "1      nyt://article/e4936e7b-0060-5026-b32d-a01e0b76...        985   \n",
       "2      nyt://article/079f32e4-f544-562e-9c92-b47209c3...        845   \n",
       "3      nyt://article/99ea5a45-885e-5fce-bd4a-6a9a999b...        879   \n",
       "4      nyt://article/0c1a5924-a0e7-5baa-b65d-88eb4d56...       1116   \n",
       "...                                                  ...        ...   \n",
       "37723  nyt://article/5e9cc890-63a1-5573-9b22-cbc35be7...        931   \n",
       "37724  nyt://article/c51354b7-b4cb-501b-8d23-7a3712ae...        872   \n",
       "37725  nyt://article/954ff8cd-f691-53ca-abcf-54dc90ca...       2116   \n",
       "37726  nyt://article/1678dcb4-8d35-5b90-966b-821ae090...       1285   \n",
       "37727  nyt://article/7275793c-5887-557f-8f63-8e167a5b...       1340   \n",
       "\n",
       "                                                     uri  print_section  \\\n",
       "0      nyt://article/b205ee80-0859-514e-be2a-b8ecf0cc...            NaN   \n",
       "1      nyt://article/e4936e7b-0060-5026-b32d-a01e0b76...              A   \n",
       "2      nyt://article/079f32e4-f544-562e-9c92-b47209c3...              A   \n",
       "3      nyt://article/99ea5a45-885e-5fce-bd4a-6a9a999b...              A   \n",
       "4      nyt://article/0c1a5924-a0e7-5baa-b65d-88eb4d56...              A   \n",
       "...                                                  ...            ...   \n",
       "37723  nyt://article/5e9cc890-63a1-5573-9b22-cbc35be7...              A   \n",
       "37724  nyt://article/c51354b7-b4cb-501b-8d23-7a3712ae...              A   \n",
       "37725  nyt://article/954ff8cd-f691-53ca-abcf-54dc90ca...            NaN   \n",
       "37726  nyt://article/1678dcb4-8d35-5b90-966b-821ae090...              A   \n",
       "37727  nyt://article/7275793c-5887-557f-8f63-8e167a5b...              A   \n",
       "\n",
       "      print_page subsection_name  \\\n",
       "0            NaN             NaN   \n",
       "1             19             NaN   \n",
       "2             19             NaN   \n",
       "3             19             NaN   \n",
       "4             19             NaN   \n",
       "...          ...             ...   \n",
       "37723         11             NaN   \n",
       "37724         10             NaN   \n",
       "37725        NaN             NaN   \n",
       "37726          1             NaN   \n",
       "37727          1             NaN   \n",
       "\n",
       "                                                    text  \n",
       "0      ', 'In his essay “The Crack-Up,” F. Scott Fitz...  \n",
       "1      ', 'In 2019, here’s what we could do instead.'...  \n",
       "2      ', 'Many years before, back in Russia, the two...  \n",
       "3      ', 'At a critical moment in the film, just aft...  \n",
       "4      ', 'No other country in the world symbolizes t...  \n",
       "...                                                  ...  \n",
       "37723  ', 'The two men have a history of friction, an...  \n",
       "37724  ', 'Inside his checked luggage, wrapped in a p...  \n",
       "37725  ', 'Do you remember, dear reader, when it was ...  \n",
       "37726  ', 'Chief Gallagher was acquitted this summer ...  \n",
       "37727  ', 'Draft letters posted online Tuesday by the...  \n",
       "\n",
       "[37728 rows x 22 columns]"
      ]
     },
     "execution_count": 462,
     "metadata": {},
     "output_type": "execute_result"
    }
   ],
   "source": [
    "output_df"
   ]
  },
  {
   "cell_type": "code",
   "execution_count": 463,
   "metadata": {},
   "outputs": [
    {
     "data": {
      "text/plain": [
       "(37728, 2)"
      ]
     },
     "execution_count": 463,
     "metadata": {},
     "output_type": "execute_result"
    }
   ],
   "source": [
    "output_df = output_df.drop(all_but_text_type, axis=1)\n",
    "output_df.reset_index(inplace=True, drop=True)\n",
    "output_df = output_df[['text', 'type_of_material']]\n",
    "output_df.to_csv('drop2019_text_type.csv')\n",
    "output_df.head()\n",
    "output_df.shape"
   ]
  },
  {
   "cell_type": "code",
   "execution_count": 465,
   "metadata": {},
   "outputs": [],
   "source": [
    "#drop 4000 articles"
   ]
  },
  {
   "cell_type": "code",
   "execution_count": null,
   "metadata": {},
   "outputs": [],
   "source": []
  },
  {
   "cell_type": "code",
   "execution_count": null,
   "metadata": {},
   "outputs": [],
   "source": []
  },
  {
   "cell_type": "code",
   "execution_count": null,
   "metadata": {},
   "outputs": [],
   "source": []
  },
  {
   "cell_type": "code",
   "execution_count": null,
   "metadata": {},
   "outputs": [],
   "source": []
  },
  {
   "cell_type": "code",
   "execution_count": null,
   "metadata": {},
   "outputs": [],
   "source": []
  },
  {
   "cell_type": "code",
   "execution_count": null,
   "metadata": {},
   "outputs": [],
   "source": []
  },
  {
   "cell_type": "code",
   "execution_count": null,
   "metadata": {},
   "outputs": [],
   "source": []
  }
 ],
 "metadata": {
  "kernelspec": {
   "display_name": "Python 3",
   "language": "python",
   "name": "python3"
  },
  "language_info": {
   "codemirror_mode": {
    "name": "ipython",
    "version": 3
   },
   "file_extension": ".py",
   "mimetype": "text/x-python",
   "name": "python",
   "nbconvert_exporter": "python",
   "pygments_lexer": "ipython3",
   "version": "3.7.9"
  }
 },
 "nbformat": 4,
 "nbformat_minor": 4
}
