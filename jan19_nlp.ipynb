{
 "cells": [
  {
   "cell_type": "code",
   "execution_count": 105,
   "metadata": {},
   "outputs": [],
   "source": [
    "import pandas as pd"
   ]
  },
  {
   "cell_type": "code",
   "execution_count": 106,
   "metadata": {},
   "outputs": [],
   "source": [
    "import numpy as np"
   ]
  },
  {
   "cell_type": "code",
   "execution_count": 107,
   "metadata": {},
   "outputs": [],
   "source": [
    "import spacy"
   ]
  },
  {
   "cell_type": "code",
   "execution_count": 134,
   "metadata": {},
   "outputs": [],
   "source": [
    "from sklearn.feature_extraction.text import CountVectorizer, TfidfVectorizer"
   ]
  },
  {
   "cell_type": "code",
   "execution_count": 212,
   "metadata": {},
   "outputs": [],
   "source": [
    "df = pd.read_csv('type_text.csv', index_col='Unnamed: 0')"
   ]
  },
  {
   "cell_type": "code",
   "execution_count": 213,
   "metadata": {},
   "outputs": [],
   "source": [
    "type_text_df = df.copy()"
   ]
  },
  {
   "cell_type": "code",
   "execution_count": 214,
   "metadata": {},
   "outputs": [],
   "source": [
    "# def flatten(lst):\n",
    "#     doc = []\n",
    "#     for string in lst:\n",
    "#         doc.append(string)\n",
    "        \n",
    "#     return doc\n",
    "#         #for word in string:\n"
   ]
  },
  {
   "cell_type": "code",
   "execution_count": 216,
   "metadata": {},
   "outputs": [],
   "source": [
    "def split_trim(string):\n",
    "    text = string.split(\" \")\n",
    "    text = text[3:-14]\n",
    "    return text\n",
    "    "
   ]
  },
  {
   "cell_type": "code",
   "execution_count": 223,
   "metadata": {},
   "outputs": [],
   "source": [
    "type_text_df.text = type_text_df.text.apply(lambda string: split_trim(string))"
   ]
  },
  {
   "cell_type": "code",
   "execution_count": 205,
   "metadata": {},
   "outputs": [
    {
     "name": "stdout",
     "output_type": "stream",
     "text": [
      "971\n",
      "['000', '120', '13', '1914', '1919', '2004', '2019', '38', '62', 'ability', 'able', 'about', 'accelerated', 'accidental', 'according', 'achievement', 'adolf', 'advancing', 'advertisement', 'affairs', 'affected', 'affecting', 'africa', 'african', 'after', 'again', 'age', 'aggregation', 'ago', 'ahead', 'airplanes', 'alabama', 'alike', 'all', 'almost', 'along', 'already', 'also', 'alter', 'altered', 'america', 'americans', 'an', 'anarchists', 'and', 'another', 'anxieties', 'anyone', 'apace', 'apart', 'apocalypse', 'approve', 'are', 'around', 'as', 'ash', 'asking', 'at', 'attacked', 'attention', 'attitudes', 'attorney', 'austrian', 'automobile', 'automobiles', 'averaged', 'awakened', 'babe', 'back', 'band', 'barely', 'bazaar', 'be', 'bear', 'beasts', 'become', 'been', 'before', 'began', 'begin', 'beginning', 'behind', 'being', 'beleaguered', 'belgian', 'believe', 'believed', 'belligerents', 'belonging', 'below', 'best', 'better', 'between', 'bewildering', 'big', 'bit', 'blind', 'bloomed', 'blue', 'boisterous', 'bomb', 'bombs', 'book', 'boomeranged', 'boost', 'born', 'boston', 'british', 'broader', 'broke', 'broken', 'brooklyn', 'brought', 'build', 'built', 'business', 'bustling', 'but', 'butler', 'by', 'california', 'called', 'calling', 'calm', 'campaign', 'can', 'cannot', 'capitol', 'captures', 'career', 'carnegie', 'carpets', 'cars', 'case', 'cases', 'celebrated', 'center', 'century', 'certainly', 'chafed', 'challenge', 'change', 'changed', 'changing', 'chaos', 'cherished', 'chicago', 'children', 'chirpy', 'chose', 'christ', 'churchill', 'cities', 'citizenship', 'city', 'clear', 'clearly', 'clemenceau', 'close', 'closer', 'clumsy', 'coast', 'coax', 'college', 'combustion', 'come', 'comforts', 'coming', 'communication', 'complained', 'conditions', 'conducted', 'conflict', 'congress', 'conservative', 'constantly', 'consulting', 'continue', 'continued', 'contract', 'contradictions', 'contrast', 'contributions', 'convened', 'conversing', 'convoy', 'core', 'corral', 'correct', 'could', 'council', 'countries', 'country', 'crack', 'crackly', 'crackups', 'create', 'creation', 'crippled', 'criticized', 'crowds', 'crush', 'curse', 'cusp', 'daily', 'day', 'days', 'deadly', 'deal', 'decades', 'decisions', 'decisively', 'defend', 'defenders', 'demanding', 'democracies', 'democracy', 'democratic', 'demographic', 'describe', 'desperate', 'despite', 'destabilizing', 'destination', 'determination', 'did', 'didn', 'different', 'difficult', 'diplomats', 'directed', 'directions', 'directly', 'disappeared', 'dismayed', 'distinguished', 'distress', 'divide', 'divided', 'dizzying', 'dominate', 'dominated', 'done', 'doom', 'doubled', 'doughboys', 'down', 'dreading', 'dream', 'driver', 'during', 'dwight', 'each', 'eager', 'earlier', 'easily', 'east', 'effect', 'efficiency', 'effort', 'efforts', 'eisenhower', 'either', 'elapsed', 'elected', 'electric', 'elites', 'elixir', 'else', 'elusive', 'em', 'embraced', 'emerged', 'emphasis', 'empires', 'end', 'ended', 'energy', 'engines', 'entertainment', 'entitled', 'entry', 'envy', 'epidemic', 'equal', 'era', 'essay', 'essays', 'ethics', 'euphoria', 'europe', 'european', 'even', 'events', 'eventually', 'ever', 'every', 'everything', 'exacerbated', 'excesses', 'exchanged', 'existed', 'expanded', 'experimentation', 'exploded', 'exuberant', 'facebook', 'factory', 'failed', 'failings', 'failures', 'fair', 'fall', 'famous', 'fans', 'fantastic', 'far', 'farm', 'farmers', 'fascism', 'fault', 'faulted', 'fear', 'fears', 'feature', 'fellow', 'felt', 'feted', 'few', 'film', 'first', 'fitzgerald', 'five', 'floodgates', 'follow', 'followed', 'following', 'footage', 'for', 'forever', 'form', 'forms', 'fortunately', 'found', 'france', 'franklin', 'freedom', 'french', 'from', 'fueled', 'function', 'gain', 'galvanic', 'gave', 'general', 'generally', 'generation', 'geopolitical', 'george', 'georges', 'georgia', 'german', 'get', 'give', 'gleaming', 'glean', 'gloom', 'glorious', 'going', 'gone', 'gonna', 'government', 'grainy', 'grammarians', 'grasp', 'great', 'greeted', 'grew', 'grow', 'guises', 'had', 'half', 'hall', 'hand', 'happily', 'harbor', 'harding', 'harlem', 'harsh', 'harvest', 'has', 'hastily', 'have', 'he', 'headed', 'headlines', 'heap', 'heard', 'heavy', 'hellfighters', 'help', 'helped', 'her', 'heroes', 'highway', 'him', 'hint', 'his', 'historians', 'history', 'hit', 'hitler', 'hold', 'hollywood', 'honors', 'hope', 'hoped', 'hoping', 'horizons', 'hottest', 'hour', 'house', 'how', 'huge', 'hundred', 'idea', 'idealism', 'ideas', 'if', 'ii', 'illinois', 'imagination', 'imagined', 'immigrants', 'imperiled', 'important', 'imposed', 'impressive', 'in', 'incapacitated', 'included', 'independence', 'independent', 'influenza', 'ingenious', 'innovating', 'inside', 'inspired', 'instagram', 'intact', 'intelligence', 'internal', 'international', 'interstate', 'into', 'intoned', 'invented', 'invoked', 'ireland', 'is', 'it', 'its', 'jackie', 'james', 'jazz', 'jesus', 'joining', 'joyce', 'july', 'just', 'keep', 'kept', 'killing', 'kind', 'know', 'known', 'lamented', 'large', 'largely', 'largest', 'last', 'late', 'later', 'lazy', 'leaders', 'league', 'lecturer', 'led', 'left', 'leisure', 'length', 'lengths', 'leon', 'less', 'letter', 'life', 'like', 'line', 'lines', 'lionized', 'live', 'lives', 'lofty', 'long', 'longed', 'longest', 'look', 'lovely', 'macaulay', 'machines', 'made', 'majority', 'make', 'manpower', 'many', 'map', 'marching', 'marketing', 'markets', 'mass', 'matériel', 'measure', 'memorable', 'middle', 'midwest', 'miles', 'military', 'millions', 'mind', 'mirrors', 'misreading', 'mitchell', 'mobilize', 'mobsters', 'moderated', 'moment', 'money', 'monopoly', 'month', 'moralistic', 'more', 'most', 'mother', 'motor', 'move', 'moved', 'movements', 'movie', 'moving', 'mr', 'music', 'named', 'nasty', 'nation', 'national', 'nationalism', 'nationalisms', 'nations', 'near', 'nearly', 'need', 'needed', 'negotiators', 'neighbor', 'neighbors', 'neither', 'neologism', 'nevada', 'never', 'new', 'newly', 'newsreels', 'next', 'nineteen', 'no', 'nor', 'normalcy', 'northern', 'not', 'notebook', 'novelty', 'now', 'numbers', 'nytopinion', 'obliterated', 'obvious', 'occasional', 'oceanic', 'odd', 'of', 'officer', 'often', 'ohio', 'oil', 'old', 'on', 'once', 'one', 'ones', 'only', 'open', 'opinion', 'opposed', 'opposing', 'or', 'order', 'origins', 'other', 'others', 'ottoman', 'out', 'outcome', 'outflank', 'outside', 'over', 'overquoted', 'overseas', 'overwhelmingly', 'overzealous', 'own', 'owner', 'palaces', 'palmer', 'parade', 'parades', 'paralyzed', 'paree', 'paris', 'part', 'parts', 'passage', 'paved', 'peace', 'people', 'perhaps', 'pesky', 'phrase', 'phrases', 'pivotal', 'plan', 'playing', 'pockets', 'poem', 'poems', 'poles', 'police', 'political', 'politically', 'politician', 'popular', 'populated', 'possible', 'postwar', 'poverty', 'powered', 'presidency', 'president', 'presidents', 'prewar', 'problem', 'problems', 'produced', 'production', 'profound', 'prognosticators', 'prohibition', 'promised', 'promises', 'promising', 'promote', 'protect', 'prove', 'publicized', 'publish', 'pursuits', 'push', 'question', 'quick', 'quickly', 'quiet', 'quieter', 'quite', 'quoted', 'race', 'radio', 'raids', 'rakish', 'rallies', 'rascality', 'rascals', 'rate', 'raucously', 'reach', 'realism', 'reality', 'realm', 'reasons', 'received', 'recipe', 'recording', 'red', 'redraw', 'reeled', 'refused', 'regiment', 'released', 'relevant', 'relish', 'remained', 'remembered', 'repeatedly', 'repeating', 'republican', 'research', 'resentment', 'response', 'responsibilities', 'result', 'resulted', 'retain', 'retaliatory', 'return', 'returned', 'revealed', 'rhetoric', 'ride', 'ring', 'ringing', 'rings', 'riot', 'rise', 'road', 'roads', 'robinson', 'roosevelt', 'rowling', 'run', 'rural', 'russia', 'ruth', 'safe', 'sales', 'same', 'saw', 'scorned', 'scott', 'scribbledehobble', 'scrutiny', 'seat', 'second', 'seconded', 'section', 'see', 'seeing', 'seeking', 'seem', 'seemed', 'seen', 'self', 'senator', 'senior', 'sense', 'sent', 'series', 'sermonettes', 'set', 'settling', 'shaped', 'share', 'shimmering', 'shortcomings', 'side', 'sights', 'significant', 'simmered', 'simply', 'since', 'six', 'small', 'so', 'socially', 'solemnity', 'solve', 'some', 'something', 'songs', 'soon', 'sounds', 'south', 'sox', 'speech', 'speeches', 'spent', 'spirited', 'spokesman', 'sports', 'spots', 'sprang', 'spring', 'stars', 'start', 'started', 'state', 'states', 'statue', 'steam', 'still', 'strain', 'stroke', 'struggling', 'studios', 'studying', 'stunning', 'suburban', 'successful', 'such', 'superhuman', 'support', 'supported', 'sure', 'surely', 'surface', 'surfaces', 'survived', 'swirling', 'system', 'take', 'talking', 'tall', 'tanks', 'targeted', 'team', 'ted', 'tensions', 'terrifying', 'territories', 'test', 'than', 'thanks', 'that', 'the', 'their', 'them', 'then', 'there', 'these', 'they', 'things', 'this', 'those', 'thought', 'thoughts', 'thousands', 'threatened', 'thriving', 'throughout', 'tide', 'time', 'times', 'titled', 'to', 'today', 'too', 'took', 'torn', 'toward', 'towns', 'trace', 'traction', 'traded', 'transformation', 'travel', 'treaty', 'tremendous', 'trend', 'tried', 'trip', 'trotsky', 'true', 'truth', 'trying', 'turned', 'twitter', 'two', 'ugly', 'unbridled', 'undergoing', 'understood', 'unexpected', 'united', 'university', 'unleash', 'until', 'up', 'upon', 'urban', 'use', 'used', 'ushered', 'using', 'utah', 'vaguely', 'vanished', 'various', 've', 'vehicle', 'vehicles', 'versailles', 'versions', 'very', 'victory', 'vigorous', 'villains', 'virtue', 'vividly', 'voice', 'waging', 'wallace', 'waned', 'war', 'warren', 'was', 'washington', 'waves', 'way', 'ways', 'we', 'wealthiest', 'weary', 'welcoming', 'well', 'went', 'were', 'west', 'what', 'when', 'where', 'which', 'while', 'white', 'who', 'whose', 'widmer', 'will', 'william', 'wilson', 'win', 'winds', 'winston', 'with', 'within', 'women', 'woodrow', 'word', 'words', 'work', 'working', 'world', 'worth', 'would', 'writers', 'writing', 'wrong', 'wrote', 'ya', 'yankees', 'year', 'years', 'yeats', 'york', 'young']\n"
     ]
    },
    {
     "data": {
      "text/plain": [
       "array([[0, 0, 0, ..., 0, 0, 0],\n",
       "       [0, 0, 0, ..., 0, 0, 0],\n",
       "       [0, 0, 0, ..., 0, 0, 0],\n",
       "       ...,\n",
       "       [0, 0, 0, ..., 0, 0, 0],\n",
       "       [0, 0, 0, ..., 0, 0, 0],\n",
       "       [0, 0, 0, ..., 0, 0, 0]])"
      ]
     },
     "execution_count": 205,
     "metadata": {},
     "output_type": "execute_result"
    }
   ],
   "source": [
    "from sklearn.feature_extraction.text import CountVectorizer\n",
    "\n",
    "vectorizer = CountVectorizer()  #stop_words='english')  \n",
    "X = vectorizer.fit_transform(text)\n",
    "feature_names = vectorizer.get_feature_names()\n",
    "print(len(feature_names))\n",
    "print(feature_names)\n",
    "X.toarray()"
   ]
  },
  {
   "cell_type": "code",
   "execution_count": 156,
   "metadata": {},
   "outputs": [
    {
     "data": {
      "text/plain": [
       "(210, 971)"
      ]
     },
     "execution_count": 156,
     "metadata": {},
     "output_type": "execute_result"
    }
   ],
   "source": [
    "X.shape"
   ]
  },
  {
   "cell_type": "code",
   "execution_count": null,
   "metadata": {},
   "outputs": [],
   "source": []
  }
 ],
 "metadata": {
  "kernelspec": {
   "display_name": "Python 3",
   "language": "python",
   "name": "python3"
  },
  "language_info": {
   "codemirror_mode": {
    "name": "ipython",
    "version": 3
   },
   "file_extension": ".py",
   "mimetype": "text/x-python",
   "name": "python",
   "nbconvert_exporter": "python",
   "pygments_lexer": "ipython3",
   "version": "3.7.9"
  }
 },
 "nbformat": 4,
 "nbformat_minor": 4
}
