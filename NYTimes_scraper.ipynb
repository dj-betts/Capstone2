{
 "cells": [
  {
   "cell_type": "code",
   "execution_count": 3,
   "metadata": {},
   "outputs": [],
   "source": [
    "import time\n",
    "import sys\n",
    "import json\n",
    "import datetime"
   ]
  },
  {
   "cell_type": "code",
   "execution_count": 4,
   "metadata": {},
   "outputs": [],
   "source": [
    "import requests\n",
    "from bs4 import BeautifulSoup"
   ]
  },
  {
   "cell_type": "code",
   "execution_count": 5,
   "metadata": {},
   "outputs": [],
   "source": [
    "import pandas as pd\n",
    "import numpy as np"
   ]
  },
  {
   "cell_type": "code",
   "execution_count": 35,
   "metadata": {},
   "outputs": [],
   "source": [
    "def api_metadata_docs(api):\n",
    "    #api = 'https://api.nytimes.com/svc/archive/v1/{year}/{month}.json?api-key=kwQUDL7cdaIuu03LazP2b3F2R0uY1kET'\n",
    "    api_request = requests.get(api, params={'q': 'requests+language:python'})\n",
    "    print(api_request.status_code)\n",
    "    json = api_request.json()\n",
    "    json_response = json['response']\n",
    "    json_docs = json_response['docs']\n",
    "    return json_docs"
   ]
  },
  {
   "cell_type": "code",
   "execution_count": 36,
   "metadata": {},
   "outputs": [],
   "source": [
    "def url_pargraph_list(url):\n",
    "    \n",
    "    page = requests.get((url))\n",
    "    soup = BeautifulSoup(page.content, 'html.parser')\n",
    "\n",
    "    #got text from all paragraphs\n",
    "    paragraph_list = []\n",
    "    for par in soup.find_all(\"p\", {\"class\": \"css-158dogj evys1bk0\"}):\n",
    "        paragraph_list.append(par.text)#[1:-1])\n",
    "        \n",
    "    return paragraph_list\n",
    "#     return paragraph_list "
   ]
  },
  {
   "cell_type": "code",
   "execution_count": 37,
   "metadata": {},
   "outputs": [],
   "source": [
    "url = 'https://www.nytimes.com/2020/12/04/opinion/sunday/pornhub-rape-trafficking.html?action=click&module=Opinion&pgtype=Homepage'"
   ]
  },
  {
   "cell_type": "code",
   "execution_count": 38,
   "metadata": {},
   "outputs": [],
   "source": [
    "list_ = url_pargraph_list(url)"
   ]
  },
  {
   "cell_type": "code",
   "execution_count": 44,
   "metadata": {},
   "outputs": [
    {
     "data": {
      "text/plain": [
       "['This article contains descriptions of sexual assault.',\n",
       " 'Pornhub prides itself on being the cheery, winking face of naughty, the website that buys a billboard in Times Square and provides snow plows to clear Boston streets. It donates to organizations fighting for racial equality and offers steamy content free to get people through Covid-19 shutdowns.',\n",
       " 'That supposedly “wholesome Pornhub” attracts 3.5 billion visits a month, more than Netflix, Yahoo or Amazon. Pornhub rakes in money from almost three billion ad impressions a day. One ranking lists Pornhub as the 10th-most-visited website in the world.',\n",
       " 'Yet there’s another side of the company: Its site is infested with rape videos. It monetizes child rapes, revenge pornography, spy cam videos of women showering, racist and misogynist content, and footage of women being asphyxiated in plastic bags. A search for “girls under18” (no space) or “14yo” leads in each case to more than 100,000 videos. Most aren’t of children being assaulted, but too many are.',\n",
       " 'After a 15-year-old girl went missing in Florida, her mother found her on Pornhub — in 58 sex videos. Sexual assaults on a 14-year-old California girl were posted on Pornhub and were reported to the authorities not by the company but by a classmate who saw the videos. In each case, offenders were arrested for the assaults, but Pornhub escaped responsibility for sharing the videos and profiting from them.',\n",
       " 'Pornhub is like YouTube in that it allows members of the public to post their own videos. A great majority of the 6.8 million new videos posted on the site each year probably involve consenting adults, but many depict child abuse and nonconsensual violence. Because it’s impossible to be sure whether a youth in a video is 14 or 18, neither Pornhub nor anyone else has a clear idea of how much content is illegal.',\n",
       " 'Unlike YouTube, Pornhub allows these videos to be downloaded directly from its website. So even if a rape video is removed at the request of the authorities, it may already be too late: The video lives on as it is shared with others or uploaded again and again.',\n",
       " '“Pornhub became my trafficker,” a woman named Cali told me. She says she was adopted in the United States from China and then trafficked by her adoptive family and forced to appear in pornographic videos beginning when she was 9. Some videos of her being abused ended up on Pornhub and regularly reappear there, she said.',\n",
       " '“I’m still getting sold, even though I’m five years out of that life,” Cali said. Now 23, she is studying in a university and hoping to become a lawyer — but those old videos hang over her.',\n",
       " '“I may never be able to get away from this,” she said. “I may be 40 with eight kids, and people are still masturbating to my photos.”',\n",
       " '“You type ‘Young Asian’ and you can probably find me,” she added.',\n",
       " 'Actually, maybe not. Pornhub recently was offering 26,000 videos in response to that search. That doesn’t count videos that show up under “related searches” that Pornhub suggests, including “young tiny teen,” “extra small petite teen,” “tiny Asian teen” or just “young girl.” Nor does it necessarily count videos on a Pornhub channel called “exploited teen Asia.”',\n",
       " 'The issue is not pornography but rape. Let’s agree that promoting assaults on children or on anyone without consent is unconscionable. The problem with Bill Cosby or Harvey Weinstein or Jeffrey Epstein was not the sex but the lack of consent — and so it is with Pornhub.',\n",
       " 'I came across many videos on Pornhub that were recordings of assaults on unconscious women and girls. The rapists would open the eyelids of the victims and touch their eyeballs to show that they were nonresponsive.',\n",
       " 'Pornhub profited this fall from a video of a naked woman being tortured by a gang of men in China. It is monetizing video compilations with titles like “Screaming Teen,” “Degraded Teen” and “Extreme Choking.” Look at a choking video and it may suggest also searching for “She Can’t Breathe.” ',\n",
       " 'It should be possible to be sex positive and Pornhub negative.',\n",
       " 'Pornhub declined to make executives available on the record, but it provided a statement. “Pornhub is unequivocally committed to combating child sexual abuse material, and has instituted a comprehensive, industry-leading trust and safety policy to identify and eradicate illegal material from our community,” it said. Pornhub added that any assertion that the company allows child videos on the site “is irresponsible and flagrantly untrue.”',\n",
       " 'At 14, Serena K. Fleites was an A student in Bakersfield, Calif., who had never made out with a boy. But in the eighth grade she developed a crush on a boy a year older, and he asked her to take a naked video of herself. She sent it to him, and this changed her life.',\n",
       " 'He asked for another, then another; she was nervous but flattered. “That’s when I started getting strange looks in school,” she remembered. He had shared the videos with other boys, and someone posted them on Pornhub.',\n",
       " 'Fleites’s world imploded. It’s tough enough to be 14 without having your classmates entertain themselves by looking at you naked, and then mocking you as a slut. “People were texting me, if I didn’t send them a video, they were going to send them to my mom,” she said.',\n",
       " 'The boy was suspended, but Fleites began skipping class because she couldn’t bear the shame. Her mother persuaded Pornhub to remove the videos, and Fleites switched schools. But rumors reached the new school, and soon the videos were uploaded again to Pornhub and other websites.',\n",
       " 'Fleites quarreled with her mother and began cutting herself. Then one day she went to the medicine cabinet and took every antidepressant pill she could find.',\n",
       " 'Three days later, she woke up in the hospital, frustrated to be still alive. Next she hanged herself in the bathroom; her little sister found her, and medics revived her.',\n",
       " 'As Fleites spiraled downward, a friend introduced her to meth and opioids, and she became addicted to both. She dropped out of school and became homeless.',\n",
       " 'At 16, she advertised on Craigslist and began selling naked photos and videos of herself. It was a way to make a bit of money, and maybe also a way to punish herself. She thought, “I’m not worth anything any more because everybody has already seen my body,” she told me.',\n",
       " 'Those videos also ended up on Pornhub. Fleites would ask that they be removed. They usually would be, she says — but then would be uploaded again. One naked video of her at 14 had 400,000 views, she says, leaving her afraid to apply for fast-food jobs for fear that someone would recognize her.',\n",
       " 'So today Fleites, 19, off drugs for a year but unemployed and traumatized, is living in her car in Bakersfield, along with three dogs that have proved more loyal and loving than the human species. She dreams of becoming a vet technician but isn’t sure how to get there. “It’s kind of hard to go to school when you’re living in a car with dogs,” she said.',\n",
       " '“I was dumb,” she acknowledged, noting that she had never imagined that the videos could be shared online. “It was one small thing that a teenager does, and it’s crazy how it turns into something so much bigger.',\n",
       " '“A whole life can be changed because of one little mistake.”',\n",
       " 'The problem goes far beyond one company. Indeed, a rival of Pornhub, XVideos, which arguably has even fewer scruples, may attract more visitors. Depictions of child abuse also appear on mainstream sites like Twitter, Reddit and Facebook. And Google supports the business models of companies that thrive on child molestation.',\n",
       " 'Google returns 920 million videos on a search for “young porn.” Top hits include a video of a naked “very young teen” engaging in sex acts on XVideo along with a video on Pornhub whose title is unprintable here.',\n",
       " 'I asked the National Center for Missing and Exploited Children to compile the number of images, videos and other content related to child sexual exploitation reported to it each year. In 2015, it received reports of 6.5 million videos or other files; in 2017, 20.6 million; and in 2019, 69.2 million.',\n",
       " 'Facebook removed 12.4 million images related to child exploitation in a three-month period this year. Twitter closed 264,000 accounts in six months last year for engaging in sexual exploitation of children. By contrast, Pornhub notes that the Internet Watch Foundation, an England-based nonprofit that combats child sexual abuse imagery, reported only 118 instances of child sexual abuse imagery on its site over almost three years, seemingly a negligible figure. “Eliminating illegal content is an ongoing battle for every modern content platform, and we are committed to remaining at the forefront,” Pornhub said in its statement.',\n",
       " 'The Internet Watch Foundation couldn’t explain why its figure for Pornhub is so low. Perhaps it’s because people on Pornhub are inured to the material and unlikely to report it. But if you know what to look for, it’s possible to find hundreds of apparent child sexual abuse videos on Pornhub in 30 minutes. Pornhub has recently offered playlists with names including “less than 18,” “the best collection of young boys” and “under- - age.”',\n",
       " 'Congress and successive presidents have done almost nothing as this problem has grown. The tech world that made it possible has been mostly passive, in a defensive crouch. But pioneering reporting in 2019 by my Times colleagues has prodded Congress to begin debating competing strategies to address child exploitation.',\n",
       " 'Concerns about Pornhub are bubbling up. A petition to shut the site down has received 2.1 million signatures. Senator Ben Sasse, a Nebraska Republican, called on the Justice Department to investigate Pornhub. PayPal cut off services for the company, and credit card companies have been asked to do the same. An organization called Traffickinghub, led by an activist named Laila Mickelwait, documents abuses and calls for the site to be shut down. Twenty members of Canada’s Parliament have called on their government to crack down on Pornhub, which is effectively based in Montreal.',\n",
       " '“They made money off my pain and suffering,” an 18-year-old woman named Taylor told me. A boyfriend secretly made a video of her performing a sex act when she was 14, and it ended up on Pornhub, the police confirmed. “I went to school the next day and everybody was looking at their phones and me as I walked down the hall,” she added, weeping as she spoke. “They were laughing.”',\n",
       " 'Taylor said she has twice attempted suicide because of the humiliation and trauma. Like others quoted here, she agreed to tell her story and help document it because she thought it might help other girls avoid suffering as she did.',\n",
       " 'Pornhub is owned by Mindgeek, a private pornography conglomerate with more than 100 websites, production companies and brands. Its sites include Redtube, Youporn, XTube, SpankWire, ExtremeTube, Men.com, My Dirty Hobby, Thumbzilla, PornMD, Brazzers and GayTube. There are other major players in porn outside the Mindgeek umbrella, most notably XHamster and XVideos, but Mindgeek is a porn titan. If it operated in another industry, the Justice Department could be discussing an antitrust case against it.',\n",
       " 'Pornhub and Mindgeek also stand out because of their influence. One study this year by a digital marketing company concluded that Pornhub was the technology company with the third greatest-impact on society in the 21st century, after Facebook and Google but ahead of Microsoft, Apple and Amazon.',\n",
       " 'Nominally based in Luxembourg for tax reasons, Mindgeek is a private company run from Montreal. It does not disclose who owns it, but it is led by Feras Antoon and David Tassillo, both Canadians, who declined to be interviewed.',\n",
       " 'Prime Minister Justin Trudeau of Canada calls himself a feminist and has been proud of his government’s efforts to empower women worldwide. So a question for Trudeau and all Canadians: Why does Canada host a company that inflicts rape videos on the world?',\n",
       " 'Mindgeek’s moderators are charged with filtering out videos of children, but its business model profits from sex videos starring young people.',\n",
       " '“The goal for a content moderator is to let as much content as possible go through,” a former Mindgeek employee told me. He said he believed that the top executives weren’t evil but were focused above all on maximizing revenue.',\n",
       " 'While Pornhub would not tell me how many moderators it employs, I interviewed one who said that there are about 80 worldwide who work on Mindgeek sites (by comparison, Facebook told me it has 15,000 moderators). With 1.36 million new hours of video uploaded a year to Pornhub, that means that each moderator would have to review hundreds of hours of content each week.',\n",
       " 'The moderators fast forward through videos, but it’s often difficult to assess whether a person is 14 or 18, or whether torture is real or fake. Most of the underage content involves teenagers, the moderator I spoke with said, but some comes from spy cams in toilets or changing rooms and shows children only 8 to 12.',\n",
       " '“The job in itself is soul-destroying,” the moderator said.',\n",
       " 'Pornhub appears to be increasingly alarmed about civil or criminal liability. Lawyers are circling, and nine women sued the company in federal court after spy cam videos surfaced on Pornhub. The videos were shot in a locker room at Limestone College in South Carolina and showed women showering and changing clothes.',\n",
       " 'Executives of Pornhub appear in the past to have assumed that they enjoyed immunity under Section 230 of the Communications Decency Act, which protects internet platforms on which members of the public post content. But in 2018 Congress limited Section 230 so that it may not be enough to shield the company, leading Mindgeek to behave better.',\n",
       " 'It has doubled the number of moderators in the last couple of years, the moderator told me, and this year Pornhub began voluntarily reporting illegal material to the National Center for Missing and Exploited Children. After previously dragging its feet in removing videos of children and nonconsensual content, Pornhub now is responding more rapidly.',\n",
       " 'It has also compiled a list of banned content. I obtained a copy of this list, and it purports to bar videos with terms or themes like “rape,” “preteen,” “pedophilia” and “bestiality” (it helpfully clarifies that this “includes eels, fish, octopus, insects”). Diapers are OK “if no scatophilia.” Mutilation depends on context but “cannot depict severing parts of the body.”',\n",
       " 'So while it is now no longer possible to search on Pornhub in English using terms like “underage” or “rape,” the company hasn’t tried hard to eliminate such videos. A member called “13yoboyteen” is allowed to post videos. A search for “r*pe,” turns up 1,901 videos. “Girl with braces” turns up 1,913 videos and suggests also trying “exxxtra small teens.” A search for “13yo” generates 155,000 videos. To be clear, most aren’t of 13-year-olds, but the fact that they’re promoted with that language seems to reflect an effort to attract pedophiles.',\n",
       " 'Moreover, some videos seem at odds with the list of banned content. “Runaway Girl Gets Ultimatum, Anal or the Streets” is the title of one Pornhub video. Another user posts videos documenting sex with teenage girls as they weep, protest and cry out in pain.',\n",
       " 'While Pornhub is becoming more careful about videos of potentially litigious Americans, it remains cavalier about overseas victims. One Indonesian video is titled “Junior High School Girl After Class” and shows what appears to be a young teenager having sex. A Chinese sex video, just taken down, was labeled: “Beautiful High School Girl Is Tricked by Classmates and Taken to the Top of a Building Where She Is Insulted and Raped.”',\n",
       " '“They’re making money off the worst moment in my life, off my body,” a Colombian teenager who asked to be called Xela, a nickname, told me. Two American men paid her when she was 16 for a sexual encounter that they filmed and then posted on Pornhub. She was one of several Pornhub survivors who told me they had thought of or attempted suicide.',\n",
       " 'In the last few days as I was completing this article, two new videos of prepubescent girls being assaulted were posted, along with a sex video of a 15-year-old girl who was suicidal after it went online. I don’t see how good-faith moderators could approve any of these videos.',\n",
       " '“It’s always going to be online,” Nicole, a British woman who has had naked videos of herself posted and reposted on Pornhub, told me. “That’s my big fear of having kids, them seeing this.”',\n",
       " 'That’s a recurring theme among survivors: An assault eventually ends, but Pornhub renders the suffering interminable.',\n",
       " 'Naked videos of Nicole at 15 were posted on Pornhub. Now 19, she has been trying for two years to get them removed.',\n",
       " '“Why do videos of me from when I was 15 years old and blackmailed, which is child porn, continuously [get] uploaded?” Nicole protested plaintively to Pornhub last year, in a message. “You really need a better system. … I tried to kill myself multiple times after finding myself reuploaded on your website.”',\n",
       " 'Nicole’s lawyer, Dani Pinter, says there are still at least three naked videos of Nicole at age 15 or 16 on Pornhub that they are trying to get removed.',\n",
       " '“It’s never going to end,” Nicole said. “They’re getting so much money from our trauma.”',\n",
       " 'Pornhub has introduced software that supposedly can “fingerprint” rape videos and prevent them from being uploaded again. But Vice showed how this technology is easily circumvented on Pornhub.',\n",
       " 'One Pornhub scandal involved the Girls Do Porn production company, which recruited young women for clothed modeling gigs and then pushed them to perform in sex videos, claiming that the videos would be sold only as DVDs in other countries and would never go online. Reassured that no one would ever know, some of the women agreed — and then were shattered when the footage was aggressively marketed on Pornhub.',\n",
       " 'Girls Do Porn was prosecuted for sex trafficking and shut down. But those videos continue to surface and resurface on Pornhub; last time I checked, videos of six victims of Girls Do Porn were on Pornhub, which continues to profit from them.',\n",
       " 'One of the Girls Do Porn women I saw on Pornhub is now dead. She was murdered at 20, allegedly by an angry ex-boyfriend who is about to go on trial. I’m not disclosing her name because she should be remembered as a vibrant college athlete, and not for a sex video that represented her most mortifying moment.',\n",
       " 'So what’s the solution?',\n",
       " 'I had expected the survivors to want to shut down Pornhub and send its executives to prison. Some did, but others were more nuanced. Lydia, now 20, was trafficked as a child and had many rape videos posted on the site. “My stomach hurts all the time” from the tension, she told me, but she doesn’t want to come across as hostile to porn itself.',\n",
       " '“I don’t want people to hear ‘No porn!’” Lydia told me. “It’s more like, ‘Stop hurting kids.’”',\n",
       " 'Susan Padron told me that she had assumed that pornography was consensual, until a boyfriend filmed her in a sex act when she was 15 and posted it on Pornhub. She has struggled since and believes that only people who have confirmed their identities should be allowed to post videos.',\n",
       " 'Jessica Shumway, who was trafficked and had a customer post a sex video on Pornhub, agrees: “They need to figure out who’s underage in the videos and that there’s consent from everybody in it.”',\n",
       " 'I asked Leo, 18, who had videos of himself posted on Pornhub when he was 14, what he suggested.',\n",
       " '“That’s tough,” he said. “My solution would be to leave porn to professional production companies,” because they require proof of age and consent.',\n",
       " 'Right now, those companies can’t compete with mostly free sites like Pornhub and XVideos.',\n",
       " '“Pornhub has already destroyed the business model for pay sites,” said Stoya, an adult film actress and writer. She, too, thinks all platforms — from YouTube to Pornhub — should require proof of consent to upload videos of private individuals.',\n",
       " 'Columnists are supposed to offer answers, but I struggle with solutions. If Pornhub curated videos more rigorously, the most offensive material might just move to the dark web or to websites in less regulated countries. Yet at least they would then not be normalized on a mainstream site.',\n",
       " 'More pressure and less impunity would help. We’re already seeing that limiting Section 230 immunity leads to better self-policing.',\n",
       " 'And call me a prude, but I don’t see why search engines, banks or credit card companies should bolster a company that monetizes sexual assaults on children or unconscious women. If PayPal can suspend cooperation with Pornhub, so can American Express, Mastercard and Visa.',\n",
       " 'I don’t see any neat solution. But aside from limiting immunity so that companies are incentivized to behave better, here are three steps that would help: 1.) Allow only verified users to post videos. 2.) Prohibit downloads. 3.) Increase moderation.',\n",
       " 'These measures wouldn’t kill porn or much bother consumers of it; YouTube thrives without downloads. Siri Dahl, a prominent porn star who does business with Pornhub, told me that my three proposals are “insanely reasonable.”',\n",
       " 'The world has often been oblivious to child sexual abuse, from the Catholic Church to the Boy Scouts. Too late, we prosecute individuals like Jeffrey Epstein or R. Kelly. But we should also stand up to corporations that systematically exploit children. With Pornhub, we have Jeffrey Epstein times 1,000.',\n",
       " 'If you are having thoughts of suicide, call the National Suicide Prevention Lifeline at 1-800-273-8255 (TALK). You can find a list of additional resources at SpeakingOfSuicide.com/resources.',\n",
       " 'HOLIDAY-GIVING UPDATE: Many thanks to my readers, who have donated more than $4.2 million to the three organizations in my annual holiday giving guide column two weeks ago. One of the nonprofits sends girls to school in sub-Saharan Africa; another helps low-income American students finish high school and begin college; and a third restores sight to people with cataracts in Asia and Africa. More information is at KristofImpact.org.']"
      ]
     },
     "execution_count": 44,
     "metadata": {},
     "output_type": "execute_result"
    }
   ],
   "source": [
    "list_"
   ]
  },
  {
   "cell_type": "code",
   "execution_count": 41,
   "metadata": {},
   "outputs": [],
   "source": [
    "ab = list_[0] + list_[1]"
   ]
  },
  {
   "cell_type": "code",
   "execution_count": 42,
   "metadata": {},
   "outputs": [
    {
     "data": {
      "text/plain": [
       "'This article contains descriptions of sexual assault.Pornhub prides itself on being the cheery, winking face of naughty, the website that buys a billboard in Times Square and provides snow plows to clear Boston streets. It donates to organizations fighting for racial equality and offers steamy content free to get people through Covid-19 shutdowns.'"
      ]
     },
     "execution_count": 42,
     "metadata": {},
     "output_type": "execute_result"
    }
   ],
   "source": [
    "ab"
   ]
  },
  {
   "cell_type": "code",
   "execution_count": null,
   "metadata": {},
   "outputs": [],
   "source": []
  },
  {
   "cell_type": "code",
   "execution_count": null,
   "metadata": {},
   "outputs": [],
   "source": []
  },
  {
   "cell_type": "code",
   "execution_count": null,
   "metadata": {},
   "outputs": [],
   "source": []
  },
  {
   "cell_type": "code",
   "execution_count": 29,
   "metadata": {},
   "outputs": [],
   "source": [
    "page = requests.get((url))\n",
    "soup = BeautifulSoup(page.content, 'html.parser')"
   ]
  },
  {
   "cell_type": "code",
   "execution_count": 21,
   "metadata": {},
   "outputs": [
    {
     "name": "stdout",
     "output_type": "stream",
     "text": [
      "This article contains descriptions of sexual assault.\n",
      "Pornhub prides itself on being the cheery, winking face of naughty, the website that buys a billboard in Times Square and provides snow plows to clear Boston streets. It donates to organizations fighting for racial equality and offers steamy content free to get people through Covid-19 shutdowns.\n",
      "That supposedly “wholesome Pornhub” attracts 3.5 billion visits a month, more than Netflix, Yahoo or Amazon. Pornhub rakes in money from almost three billion ad impressions a day. One ranking lists Pornhub as the 10th-most-visited website in the world.\n",
      "Yet there’s another side of the company: Its site is infested with rape videos. It monetizes child rapes, revenge pornography, spy cam videos of women showering, racist and misogynist content, and footage of women being asphyxiated in plastic bags. A search for “girls under18” (no space) or “14yo” leads in each case to more than 100,000 videos. Most aren’t of children being assaulted, but too many are.\n",
      "After a 15-year-old girl went missing in Florida, her mother found her on Pornhub — in 58 sex videos. Sexual assaults on a 14-year-old California girl were posted on Pornhub and were reported to the authorities not by the company but by a classmate who saw the videos. In each case, offenders were arrested for the assaults, but Pornhub escaped responsibility for sharing the videos and profiting from them.\n",
      "Pornhub is like YouTube in that it allows members of the public to post their own videos. A great majority of the 6.8 million new videos posted on the site each year probably involve consenting adults, but many depict child abuse and nonconsensual violence. Because it’s impossible to be sure whether a youth in a video is 14 or 18, neither Pornhub nor anyone else has a clear idea of how much content is illegal.\n",
      "Unlike YouTube, Pornhub allows these videos to be downloaded directly from its website. So even if a rape video is removed at the request of the authorities, it may already be too late: The video lives on as it is shared with others or uploaded again and again.\n",
      "“Pornhub became my trafficker,” a woman named Cali told me. She says she was adopted in the United States from China and then trafficked by her adoptive family and forced to appear in pornographic videos beginning when she was 9. Some videos of her being abused ended up on Pornhub and regularly reappear there, she said.\n",
      "“I’m still getting sold, even though I’m five years out of that life,” Cali said. Now 23, she is studying in a university and hoping to become a lawyer — but those old videos hang over her.\n",
      "“I may never be able to get away from this,” she said. “I may be 40 with eight kids, and people are still masturbating to my photos.”\n",
      "“You type ‘Young Asian’ and you can probably find me,” she added.\n",
      "Actually, maybe not. Pornhub recently was offering 26,000 videos in response to that search. That doesn’t count videos that show up under “related searches” that Pornhub suggests, including “young tiny teen,” “extra small petite teen,” “tiny Asian teen” or just “young girl.” Nor does it necessarily count videos on a Pornhub channel called “exploited teen Asia.”\n",
      "The issue is not pornography but rape. Let’s agree that promoting assaults on children or on anyone without consent is unconscionable. The problem with Bill Cosby or Harvey Weinstein or Jeffrey Epstein was not the sex but the lack of consent — and so it is with Pornhub.\n",
      "I came across many videos on Pornhub that were recordings of assaults on unconscious women and girls. The rapists would open the eyelids of the victims and touch their eyeballs to show that they were nonresponsive.\n",
      "Pornhub profited this fall from a video of a naked woman being tortured by a gang of men in China. It is monetizing video compilations with titles like “Screaming Teen,” “Degraded Teen” and “Extreme Choking.” Look at a choking video and it may suggest also searching for “She Can’t Breathe.” \n",
      "It should be possible to be sex positive and Pornhub negative.\n",
      "Pornhub declined to make executives available on the record, but it provided a statement. “Pornhub is unequivocally committed to combating child sexual abuse material, and has instituted a comprehensive, industry-leading trust and safety policy to identify and eradicate illegal material from our community,” it said. Pornhub added that any assertion that the company allows child videos on the site “is irresponsible and flagrantly untrue.”\n",
      "At 14, Serena K. Fleites was an A student in Bakersfield, Calif., who had never made out with a boy. But in the eighth grade she developed a crush on a boy a year older, and he asked her to take a naked video of herself. She sent it to him, and this changed her life.\n",
      "He asked for another, then another; she was nervous but flattered. “That’s when I started getting strange looks in school,” she remembered. He had shared the videos with other boys, and someone posted them on Pornhub.\n",
      "Fleites’s world imploded. It’s tough enough to be 14 without having your classmates entertain themselves by looking at you naked, and then mocking you as a slut. “People were texting me, if I didn’t send them a video, they were going to send them to my mom,” she said.\n",
      "The boy was suspended, but Fleites began skipping class because she couldn’t bear the shame. Her mother persuaded Pornhub to remove the videos, and Fleites switched schools. But rumors reached the new school, and soon the videos were uploaded again to Pornhub and other websites.\n",
      "Fleites quarreled with her mother and began cutting herself. Then one day she went to the medicine cabinet and took every antidepressant pill she could find.\n",
      "Three days later, she woke up in the hospital, frustrated to be still alive. Next she hanged herself in the bathroom; her little sister found her, and medics revived her.\n",
      "As Fleites spiraled downward, a friend introduced her to meth and opioids, and she became addicted to both. She dropped out of school and became homeless.\n",
      "At 16, she advertised on Craigslist and began selling naked photos and videos of herself. It was a way to make a bit of money, and maybe also a way to punish herself. She thought, “I’m not worth anything any more because everybody has already seen my body,” she told me.\n",
      "Those videos also ended up on Pornhub. Fleites would ask that they be removed. They usually would be, she says — but then would be uploaded again. One naked video of her at 14 had 400,000 views, she says, leaving her afraid to apply for fast-food jobs for fear that someone would recognize her.\n",
      "So today Fleites, 19, off drugs for a year but unemployed and traumatized, is living in her car in Bakersfield, along with three dogs that have proved more loyal and loving than the human species. She dreams of becoming a vet technician but isn’t sure how to get there. “It’s kind of hard to go to school when you’re living in a car with dogs,” she said.\n",
      "“I was dumb,” she acknowledged, noting that she had never imagined that the videos could be shared online. “It was one small thing that a teenager does, and it’s crazy how it turns into something so much bigger.\n",
      "“A whole life can be changed because of one little mistake.”\n",
      "The problem goes far beyond one company. Indeed, a rival of Pornhub, XVideos, which arguably has even fewer scruples, may attract more visitors. Depictions of child abuse also appear on mainstream sites like Twitter, Reddit and Facebook. And Google supports the business models of companies that thrive on child molestation.\n",
      "Google returns 920 million videos on a search for “young porn.” Top hits include a video of a naked “very young teen” engaging in sex acts on XVideo along with a video on Pornhub whose title is unprintable here.\n",
      "I asked the National Center for Missing and Exploited Children to compile the number of images, videos and other content related to child sexual exploitation reported to it each year. In 2015, it received reports of 6.5 million videos or other files; in 2017, 20.6 million; and in 2019, 69.2 million.\n",
      "Facebook removed 12.4 million images related to child exploitation in a three-month period this year. Twitter closed 264,000 accounts in six months last year for engaging in sexual exploitation of children. By contrast, Pornhub notes that the Internet Watch Foundation, an England-based nonprofit that combats child sexual abuse imagery, reported only 118 instances of child sexual abuse imagery on its site over almost three years, seemingly a negligible figure. “Eliminating illegal content is an ongoing battle for every modern content platform, and we are committed to remaining at the forefront,” Pornhub said in its statement.\n",
      "The Internet Watch Foundation couldn’t explain why its figure for Pornhub is so low. Perhaps it’s because people on Pornhub are inured to the material and unlikely to report it. But if you know what to look for, it’s possible to find hundreds of apparent child sexual abuse videos on Pornhub in 30 minutes. Pornhub has recently offered playlists with names including “less than 18,” “the best collection of young boys” and “under- - age.”\n",
      "Congress and successive presidents have done almost nothing as this problem has grown. The tech world that made it possible has been mostly passive, in a defensive crouch. But pioneering reporting in 2019 by my Times colleagues has prodded Congress to begin debating competing strategies to address child exploitation.\n",
      "Concerns about Pornhub are bubbling up. A petition to shut the site down has received 2.1 million signatures. Senator Ben Sasse, a Nebraska Republican, called on the Justice Department to investigate Pornhub. PayPal cut off services for the company, and credit card companies have been asked to do the same. An organization called Traffickinghub, led by an activist named Laila Mickelwait, documents abuses and calls for the site to be shut down. Twenty members of Canada’s Parliament have called on their government to crack down on Pornhub, which is effectively based in Montreal.\n",
      "“They made money off my pain and suffering,” an 18-year-old woman named Taylor told me. A boyfriend secretly made a video of her performing a sex act when she was 14, and it ended up on Pornhub, the police confirmed. “I went to school the next day and everybody was looking at their phones and me as I walked down the hall,” she added, weeping as she spoke. “They were laughing.”\n",
      "Taylor said she has twice attempted suicide because of the humiliation and trauma. Like others quoted here, she agreed to tell her story and help document it because she thought it might help other girls avoid suffering as she did.\n",
      "Pornhub is owned by Mindgeek, a private pornography conglomerate with more than 100 websites, production companies and brands. Its sites include Redtube, Youporn, XTube, SpankWire, ExtremeTube, Men.com, My Dirty Hobby, Thumbzilla, PornMD, Brazzers and GayTube. There are other major players in porn outside the Mindgeek umbrella, most notably XHamster and XVideos, but Mindgeek is a porn titan. If it operated in another industry, the Justice Department could be discussing an antitrust case against it.\n",
      "Pornhub and Mindgeek also stand out because of their influence. One study this year by a digital marketing company concluded that Pornhub was the technology company with the third greatest-impact on society in the 21st century, after Facebook and Google but ahead of Microsoft, Apple and Amazon.\n",
      "Nominally based in Luxembourg for tax reasons, Mindgeek is a private company run from Montreal. It does not disclose who owns it, but it is led by Feras Antoon and David Tassillo, both Canadians, who declined to be interviewed.\n",
      "Prime Minister Justin Trudeau of Canada calls himself a feminist and has been proud of his government’s efforts to empower women worldwide. So a question for Trudeau and all Canadians: Why does Canada host a company that inflicts rape videos on the world?\n",
      "Mindgeek’s moderators are charged with filtering out videos of children, but its business model profits from sex videos starring young people.\n",
      "“The goal for a content moderator is to let as much content as possible go through,” a former Mindgeek employee told me. He said he believed that the top executives weren’t evil but were focused above all on maximizing revenue.\n",
      "While Pornhub would not tell me how many moderators it employs, I interviewed one who said that there are about 80 worldwide who work on Mindgeek sites (by comparison, Facebook told me it has 15,000 moderators). With 1.36 million new hours of video uploaded a year to Pornhub, that means that each moderator would have to review hundreds of hours of content each week.\n",
      "The moderators fast forward through videos, but it’s often difficult to assess whether a person is 14 or 18, or whether torture is real or fake. Most of the underage content involves teenagers, the moderator I spoke with said, but some comes from spy cams in toilets or changing rooms and shows children only 8 to 12.\n",
      "“The job in itself is soul-destroying,” the moderator said.\n",
      "Pornhub appears to be increasingly alarmed about civil or criminal liability. Lawyers are circling, and nine women sued the company in federal court after spy cam videos surfaced on Pornhub. The videos were shot in a locker room at Limestone College in South Carolina and showed women showering and changing clothes.\n",
      "Executives of Pornhub appear in the past to have assumed that they enjoyed immunity under Section 230 of the Communications Decency Act, which protects internet platforms on which members of the public post content. But in 2018 Congress limited Section 230 so that it may not be enough to shield the company, leading Mindgeek to behave better.\n",
      "It has doubled the number of moderators in the last couple of years, the moderator told me, and this year Pornhub began voluntarily reporting illegal material to the National Center for Missing and Exploited Children. After previously dragging its feet in removing videos of children and nonconsensual content, Pornhub now is responding more rapidly.\n",
      "It has also compiled a list of banned content. I obtained a copy of this list, and it purports to bar videos with terms or themes like “rape,” “preteen,” “pedophilia” and “bestiality” (it helpfully clarifies that this “includes eels, fish, octopus, insects”). Diapers are OK “if no scatophilia.” Mutilation depends on context but “cannot depict severing parts of the body.”\n",
      "So while it is now no longer possible to search on Pornhub in English using terms like “underage” or “rape,” the company hasn’t tried hard to eliminate such videos. A member called “13yoboyteen” is allowed to post videos. A search for “r*pe,” turns up 1,901 videos. “Girl with braces” turns up 1,913 videos and suggests also trying “exxxtra small teens.” A search for “13yo” generates 155,000 videos. To be clear, most aren’t of 13-year-olds, but the fact that they’re promoted with that language seems to reflect an effort to attract pedophiles.\n",
      "Moreover, some videos seem at odds with the list of banned content. “Runaway Girl Gets Ultimatum, Anal or the Streets” is the title of one Pornhub video. Another user posts videos documenting sex with teenage girls as they weep, protest and cry out in pain.\n",
      "While Pornhub is becoming more careful about videos of potentially litigious Americans, it remains cavalier about overseas victims. One Indonesian video is titled “Junior High School Girl After Class” and shows what appears to be a young teenager having sex. A Chinese sex video, just taken down, was labeled: “Beautiful High School Girl Is Tricked by Classmates and Taken to the Top of a Building Where She Is Insulted and Raped.”\n",
      "“They’re making money off the worst moment in my life, off my body,” a Colombian teenager who asked to be called Xela, a nickname, told me. Two American men paid her when she was 16 for a sexual encounter that they filmed and then posted on Pornhub. She was one of several Pornhub survivors who told me they had thought of or attempted suicide.\n",
      "In the last few days as I was completing this article, two new videos of prepubescent girls being assaulted were posted, along with a sex video of a 15-year-old girl who was suicidal after it went online. I don’t see how good-faith moderators could approve any of these videos.\n",
      "“It’s always going to be online,” Nicole, a British woman who has had naked videos of herself posted and reposted on Pornhub, told me. “That’s my big fear of having kids, them seeing this.”\n",
      "That’s a recurring theme among survivors: An assault eventually ends, but Pornhub renders the suffering interminable.\n",
      "Naked videos of Nicole at 15 were posted on Pornhub. Now 19, she has been trying for two years to get them removed.\n",
      "“Why do videos of me from when I was 15 years old and blackmailed, which is child porn, continuously [get] uploaded?” Nicole protested plaintively to Pornhub last year, in a message. “You really need a better system. … I tried to kill myself multiple times after finding myself reuploaded on your website.”\n",
      "Nicole’s lawyer, Dani Pinter, says there are still at least three naked videos of Nicole at age 15 or 16 on Pornhub that they are trying to get removed.\n",
      "“It’s never going to end,” Nicole said. “They’re getting so much money from our trauma.”\n",
      "Pornhub has introduced software that supposedly can “fingerprint” rape videos and prevent them from being uploaded again. But Vice showed how this technology is easily circumvented on Pornhub.\n",
      "One Pornhub scandal involved the Girls Do Porn production company, which recruited young women for clothed modeling gigs and then pushed them to perform in sex videos, claiming that the videos would be sold only as DVDs in other countries and would never go online. Reassured that no one would ever know, some of the women agreed — and then were shattered when the footage was aggressively marketed on Pornhub.\n",
      "Girls Do Porn was prosecuted for sex trafficking and shut down. But those videos continue to surface and resurface on Pornhub; last time I checked, videos of six victims of Girls Do Porn were on Pornhub, which continues to profit from them.\n",
      "One of the Girls Do Porn women I saw on Pornhub is now dead. She was murdered at 20, allegedly by an angry ex-boyfriend who is about to go on trial. I’m not disclosing her name because she should be remembered as a vibrant college athlete, and not for a sex video that represented her most mortifying moment.\n",
      "So what’s the solution?\n",
      "I had expected the survivors to want to shut down Pornhub and send its executives to prison. Some did, but others were more nuanced. Lydia, now 20, was trafficked as a child and had many rape videos posted on the site. “My stomach hurts all the time” from the tension, she told me, but she doesn’t want to come across as hostile to porn itself.\n",
      "“I don’t want people to hear ‘No porn!’” Lydia told me. “It’s more like, ‘Stop hurting kids.’”\n",
      "Susan Padron told me that she had assumed that pornography was consensual, until a boyfriend filmed her in a sex act when she was 15 and posted it on Pornhub. She has struggled since and believes that only people who have confirmed their identities should be allowed to post videos.\n",
      "Jessica Shumway, who was trafficked and had a customer post a sex video on Pornhub, agrees: “They need to figure out who’s underage in the videos and that there’s consent from everybody in it.”\n",
      "I asked Leo, 18, who had videos of himself posted on Pornhub when he was 14, what he suggested.\n",
      "“That’s tough,” he said. “My solution would be to leave porn to professional production companies,” because they require proof of age and consent.\n",
      "Right now, those companies can’t compete with mostly free sites like Pornhub and XVideos.\n",
      "“Pornhub has already destroyed the business model for pay sites,” said Stoya, an adult film actress and writer. She, too, thinks all platforms — from YouTube to Pornhub — should require proof of consent to upload videos of private individuals.\n",
      "Columnists are supposed to offer answers, but I struggle with solutions. If Pornhub curated videos more rigorously, the most offensive material might just move to the dark web or to websites in less regulated countries. Yet at least they would then not be normalized on a mainstream site.\n",
      "More pressure and less impunity would help. We’re already seeing that limiting Section 230 immunity leads to better self-policing.\n",
      "And call me a prude, but I don’t see why search engines, banks or credit card companies should bolster a company that monetizes sexual assaults on children or unconscious women. If PayPal can suspend cooperation with Pornhub, so can American Express, Mastercard and Visa.\n",
      "I don’t see any neat solution. But aside from limiting immunity so that companies are incentivized to behave better, here are three steps that would help: 1.) Allow only verified users to post videos. 2.) Prohibit downloads. 3.) Increase moderation.\n",
      "These measures wouldn’t kill porn or much bother consumers of it; YouTube thrives without downloads. Siri Dahl, a prominent porn star who does business with Pornhub, told me that my three proposals are “insanely reasonable.”\n",
      "The world has often been oblivious to child sexual abuse, from the Catholic Church to the Boy Scouts. Too late, we prosecute individuals like Jeffrey Epstein or R. Kelly. But we should also stand up to corporations that systematically exploit children. With Pornhub, we have Jeffrey Epstein times 1,000.\n",
      "If you are having thoughts of suicide, call the National Suicide Prevention Lifeline at 1-800-273-8255 (TALK). You can find a list of additional resources at SpeakingOfSuicide.com/resources.\n",
      "HOLIDAY-GIVING UPDATE: Many thanks to my readers, who have donated more than $4.2 million to the three organizations in my annual holiday giving guide column two weeks ago. One of the nonprofits sends girls to school in sub-Saharan Africa; another helps low-income American students finish high school and begin college; and a third restores sight to people with cataracts in Asia and Africa. More information is at KristofImpact.org.\n"
     ]
    }
   ],
   "source": [
    "for _ in soup.find_all(\"p\", {\"class\": \"css-158dogj evys1bk0\"}):\n",
    "    print(_.text)"
   ]
  },
  {
   "cell_type": "code",
   "execution_count": null,
   "metadata": {},
   "outputs": [],
   "source": []
  }
 ],
 "metadata": {
  "kernelspec": {
   "display_name": "Python 3",
   "language": "python",
   "name": "python3"
  },
  "language_info": {
   "codemirror_mode": {
    "name": "ipython",
    "version": 3
   },
   "file_extension": ".py",
   "mimetype": "text/x-python",
   "name": "python",
   "nbconvert_exporter": "python",
   "pygments_lexer": "ipython3",
   "version": "3.7.9"
  }
 },
 "nbformat": 4,
 "nbformat_minor": 4
}
