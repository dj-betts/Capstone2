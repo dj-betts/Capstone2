{
 "cells": [
  {
   "cell_type": "code",
   "execution_count": 1,
   "metadata": {},
   "outputs": [],
   "source": [
    "import pandas as pd"
   ]
  },
  {
   "cell_type": "code",
   "execution_count": 2,
   "metadata": {},
   "outputs": [],
   "source": [
    "from sklearn.feature_extraction.text import CountVectorizer, TfidfVectorizer\n",
    "from sklearn.model_selection import train_test_split\n",
    "from sklearn.metrics import confusion_matrix\n",
    "from sklearn.naive_bayes import MultinomialNB\n",
    "from sklearn.ensemble import RandomForestClassifier"
   ]
  },
  {
   "cell_type": "code",
   "execution_count": 3,
   "metadata": {},
   "outputs": [],
   "source": [
    "from collections import Counter"
   ]
  },
  {
   "cell_type": "code",
   "execution_count": 4,
   "metadata": {},
   "outputs": [],
   "source": [
    "from imblearn.under_sampling import RandomUnderSampler"
   ]
  },
  {
   "cell_type": "code",
   "execution_count": 5,
   "metadata": {},
   "outputs": [],
   "source": [
    "# # #funtion to cut off extra intro paragraphs from beautiful soup scrape\n",
    "\n",
    "def trim_fat(string):\n",
    "    return string[35:-115]"
   ]
  },
  {
   "cell_type": "code",
   "execution_count": 6,
   "metadata": {},
   "outputs": [],
   "source": [
    "# function to vectorize the type_of_material series into a y target vector.\n",
    "\n",
    "def vectorize_type(ser):\n",
    "    y = ser.copy()\n",
    "    y.replace({'Op-Ed': 1,'News': 0}, inplace=True)\n",
    "    return y"
   ]
  },
  {
   "cell_type": "code",
   "execution_count": 7,
   "metadata": {},
   "outputs": [],
   "source": [
    "#rate of correct predictions out of total predictions\n",
    "def metrics_(tn, fp, fn, tp):\n",
    "    accuracy = (tp + tn) / (tn + fn + tp + fp)\n",
    "    print(f'accuracy = {accuracy}')\n",
    "    recall = (tp) / (tp + fn)\n",
    "    print(f'recall = {recall}')\n",
    "    precision = (tp) / (tp + fp)\n",
    "    print(f'precision = {precision}')"
   ]
  },
  {
   "cell_type": "code",
   "execution_count": 8,
   "metadata": {},
   "outputs": [
    {
     "name": "stdout",
     "output_type": "stream",
     "text": [
      "CPU times: user 1.7 s, sys: 281 ms, total: 1.98 s\n",
      "Wall time: 2 s\n"
     ]
    }
   ],
   "source": [
    "%%time\n",
    "_2019 = pd.read_csv('data/2019_text_type.csv', index_col='Unnamed: 0')"
   ]
  },
  {
   "cell_type": "code",
   "execution_count": 9,
   "metadata": {},
   "outputs": [
    {
     "name": "stdout",
     "output_type": "stream",
     "text": [
      "CPU times: user 763 µs, sys: 67 µs, total: 830 µs\n",
      "Wall time: 782 µs\n"
     ]
    }
   ],
   "source": [
    "%%time\n",
    "_2019_df = _2019.copy()"
   ]
  },
  {
   "cell_type": "code",
   "execution_count": 62,
   "metadata": {},
   "outputs": [],
   "source": [
    "#define X. X is currently pandas series of unsplit strings\n",
    "\n",
    "X = _2019_df.text"
   ]
  },
  {
   "cell_type": "code",
   "execution_count": 63,
   "metadata": {},
   "outputs": [],
   "source": [
    "X = X.apply(lambda x: trim_fat(x))"
   ]
  },
  {
   "cell_type": "code",
   "execution_count": 66,
   "metadata": {},
   "outputs": [
    {
     "data": {
      "text/plain": [
       "0    From the Treaty of Versailles to Prohibition, ...\n",
       "1    Imagine what we could do with our money, and h...\n",
       "2    Can the Constitution withstand the partisans?'...\n",
       "3    The Christian right doesn’t like the president...\n",
       "4    The United States is spending beyond its means...\n",
       "Name: text, dtype: object"
      ]
     },
     "execution_count": 66,
     "metadata": {},
     "output_type": "execute_result"
    }
   ],
   "source": [
    "X.head()"
   ]
  },
  {
   "cell_type": "code",
   "execution_count": 64,
   "metadata": {},
   "outputs": [
    {
     "data": {
      "text/plain": [
       "pandas.core.series.Series"
      ]
     },
     "execution_count": 64,
     "metadata": {},
     "output_type": "execute_result"
    }
   ],
   "source": [
    "type(X)"
   ]
  },
  {
   "cell_type": "code",
   "execution_count": 14,
   "metadata": {},
   "outputs": [],
   "source": [
    "# define y as a series of op-ed or news\n",
    "\n",
    "y = _2019_df.type_of_material"
   ]
  },
  {
   "cell_type": "code",
   "execution_count": 15,
   "metadata": {},
   "outputs": [
    {
     "name": "stdout",
     "output_type": "stream",
     "text": [
      "CPU times: user 12.4 ms, sys: 1.58 ms, total: 14 ms\n",
      "Wall time: 13.4 ms\n"
     ]
    }
   ],
   "source": [
    "%%time\n",
    "# vectorize y in to (1, 0) (op-ed, news)\n",
    "\n",
    "y = vectorize_type(y)"
   ]
  },
  {
   "cell_type": "code",
   "execution_count": 16,
   "metadata": {},
   "outputs": [],
   "source": [
    "# %%time\n",
    "# #split X for vectorization, lolz\n",
    "\n",
    "# corpus = X.apply(lambda x: split_trim(x))"
   ]
  },
  {
   "cell_type": "code",
   "execution_count": 17,
   "metadata": {},
   "outputs": [],
   "source": [
    "#turn series into list...\n",
    "\n",
    "corpus = list(X)"
   ]
  },
  {
   "cell_type": "markdown",
   "metadata": {},
   "source": [
    "# vectorize X "
   ]
  },
  {
   "cell_type": "code",
   "execution_count": 18,
   "metadata": {},
   "outputs": [
    {
     "name": "stdout",
     "output_type": "stream",
     "text": [
      "CPU times: user 29.5 s, sys: 685 ms, total: 30.2 s\n",
      "Wall time: 30.5 s\n"
     ]
    }
   ],
   "source": [
    "%%time\n",
    "#create vectorizer\n",
    "\n",
    "vectorizer = TfidfVectorizer(stop_words='english', strip_accents='ascii')\n",
    "X = vectorizer.fit_transform(corpus)"
   ]
  },
  {
   "cell_type": "code",
   "execution_count": 19,
   "metadata": {},
   "outputs": [
    {
     "data": {
      "text/plain": [
       "(41748, 237438)"
      ]
     },
     "execution_count": 19,
     "metadata": {},
     "output_type": "execute_result"
    }
   ],
   "source": [
    "X.shape"
   ]
  },
  {
   "cell_type": "code",
   "execution_count": 20,
   "metadata": {},
   "outputs": [
    {
     "name": "stdout",
     "output_type": "stream",
     "text": [
      "CPU times: user 221 ms, sys: 5.26 ms, total: 227 ms\n",
      "Wall time: 228 ms\n"
     ]
    }
   ],
   "source": [
    "%%time\n",
    "feature_names = vectorizer.get_feature_names()"
   ]
  },
  {
   "cell_type": "code",
   "execution_count": 21,
   "metadata": {},
   "outputs": [
    {
     "name": "stdout",
     "output_type": "stream",
     "text": [
      "CPU times: user 8 µs, sys: 1 µs, total: 9 µs\n",
      "Wall time: 11 µs\n"
     ]
    }
   ],
   "source": [
    "%%time\n",
    "stop_words = vectorizer.get_stop_words()"
   ]
  },
  {
   "cell_type": "code",
   "execution_count": 22,
   "metadata": {},
   "outputs": [],
   "source": [
    "feature_names;"
   ]
  },
  {
   "cell_type": "code",
   "execution_count": 23,
   "metadata": {},
   "outputs": [
    {
     "data": {
      "text/plain": [
       "237438"
      ]
     },
     "execution_count": 23,
     "metadata": {},
     "output_type": "execute_result"
    }
   ],
   "source": [
    "len(feature_names)"
   ]
  },
  {
   "cell_type": "code",
   "execution_count": 24,
   "metadata": {},
   "outputs": [
    {
     "data": {
      "text/plain": [
       "318"
      ]
     },
     "execution_count": 24,
     "metadata": {},
     "output_type": "execute_result"
    }
   ],
   "source": [
    "len(stop_words)"
   ]
  },
  {
   "cell_type": "markdown",
   "metadata": {},
   "source": [
    "# resample class size w/ imbalanced learn"
   ]
  },
  {
   "cell_type": "code",
   "execution_count": 25,
   "metadata": {},
   "outputs": [
    {
     "data": {
      "text/plain": [
       "(41748,)"
      ]
     },
     "execution_count": 25,
     "metadata": {},
     "output_type": "execute_result"
    }
   ],
   "source": [
    "y.shape"
   ]
  },
  {
   "cell_type": "code",
   "execution_count": 26,
   "metadata": {},
   "outputs": [
    {
     "data": {
      "text/plain": [
       "(41748, 237438)"
      ]
     },
     "execution_count": 26,
     "metadata": {},
     "output_type": "execute_result"
    }
   ],
   "source": [
    "X.shape"
   ]
  },
  {
   "cell_type": "code",
   "execution_count": 27,
   "metadata": {},
   "outputs": [
    {
     "name": "stdout",
     "output_type": "stream",
     "text": [
      "CPU times: user 28 µs, sys: 0 ns, total: 28 µs\n",
      "Wall time: 32.2 µs\n"
     ]
    }
   ],
   "source": [
    "%%time\n",
    "#balance the classes\n",
    "\n",
    "from imblearn.under_sampling import RandomUnderSampler\n",
    "rus = RandomUnderSampler(random_state=0)"
   ]
  },
  {
   "cell_type": "code",
   "execution_count": 28,
   "metadata": {},
   "outputs": [
    {
     "name": "stdout",
     "output_type": "stream",
     "text": [
      "[(0, 4139), (1, 4139)]\n",
      "CPU times: user 31.5 ms, sys: 11.3 ms, total: 42.8 ms\n",
      "Wall time: 42.1 ms\n"
     ]
    }
   ],
   "source": [
    "%%time\n",
    "#X, y --> X_resampled, y_resampled\n",
    "X_resampled, y_resampled = rus.fit_resample(X, y)\n",
    "\n",
    "\n",
    "#return a list of tuples for item, and count of item. in this case 4139 each\n",
    "print(sorted(Counter(y_resampled).items()))"
   ]
  },
  {
   "cell_type": "code",
   "execution_count": 29,
   "metadata": {},
   "outputs": [
    {
     "data": {
      "text/plain": [
       "(8278,)"
      ]
     },
     "execution_count": 29,
     "metadata": {},
     "output_type": "execute_result"
    }
   ],
   "source": [
    "y_resampled.shape"
   ]
  },
  {
   "cell_type": "code",
   "execution_count": 30,
   "metadata": {},
   "outputs": [
    {
     "data": {
      "text/plain": [
       "(8278, 237438)"
      ]
     },
     "execution_count": 30,
     "metadata": {},
     "output_type": "execute_result"
    }
   ],
   "source": [
    "X_resampled.shape"
   ]
  },
  {
   "cell_type": "code",
   "execution_count": 31,
   "metadata": {},
   "outputs": [
    {
     "name": "stdout",
     "output_type": "stream",
     "text": [
      "CPU times: user 14.6 ms, sys: 9.81 ms, total: 24.4 ms\n",
      "Wall time: 24.2 ms\n"
     ]
    }
   ],
   "source": [
    "%%time\n",
    "#test, train, split\n",
    "\n",
    "X_train, X_test, y_train, y_test = train_test_split(X_resampled, y_resampled, random_state=50)"
   ]
  },
  {
   "cell_type": "markdown",
   "metadata": {},
   "source": [
    "# Multinomial Naive Bayes/imbalanced learn/TFIDF vectorizer"
   ]
  },
  {
   "cell_type": "code",
   "execution_count": 32,
   "metadata": {},
   "outputs": [],
   "source": [
    "# %%time\n",
    "\n",
    "# multinm_clf = MultinomialNB()\n",
    "# multinm_clf.fit(X_train, y_train)"
   ]
  },
  {
   "cell_type": "code",
   "execution_count": 33,
   "metadata": {},
   "outputs": [],
   "source": [
    "#multinm_clf.class_count_"
   ]
  },
  {
   "cell_type": "code",
   "execution_count": 34,
   "metadata": {},
   "outputs": [],
   "source": [
    "#y_pred = multinm_clf.predict(X_test)"
   ]
  },
  {
   "cell_type": "code",
   "execution_count": 35,
   "metadata": {},
   "outputs": [],
   "source": [
    "# #clf.score = accuracy = 'true'(pos/neg) / total\n",
    "\n",
    "# multinm_clf.score(X_test, y_test)"
   ]
  },
  {
   "cell_type": "code",
   "execution_count": 36,
   "metadata": {},
   "outputs": [],
   "source": [
    "#confusion_matrix(y_true = y_test, y_pred = y_pred)"
   ]
  },
  {
   "cell_type": "code",
   "execution_count": 37,
   "metadata": {},
   "outputs": [],
   "source": [
    "# tn, fp, fn, tp = confusion_matrix(y_true = y_test, y_pred = y_pred).ravel()\n",
    "# (tn, fp, fn, tp)"
   ]
  },
  {
   "cell_type": "code",
   "execution_count": 38,
   "metadata": {},
   "outputs": [],
   "source": [
    "# #rate of correct predictions out of total predictions\n",
    "\n",
    "# accuracy = (tp + tn) / (tn + fn + tp + fp)\n",
    "# accuracy"
   ]
  },
  {
   "cell_type": "code",
   "execution_count": 39,
   "metadata": {
    "scrolled": true
   },
   "outputs": [],
   "source": [
    "# # rate of actual op-ed articles, out of all the actual od-ed articles\n",
    "\n",
    "# recall = (tp) / (tp + fn)\n",
    "# recall"
   ]
  },
  {
   "cell_type": "code",
   "execution_count": 40,
   "metadata": {},
   "outputs": [],
   "source": [
    "# # rate of correct predictions of op-ed articles out of all predictions\n",
    "\n",
    "# precision = (tp) / (tp + fp)\n",
    "# precision"
   ]
  },
  {
   "cell_type": "code",
   "execution_count": 41,
   "metadata": {},
   "outputs": [],
   "source": [
    "# #rate of correct predictions out of total predictions\n",
    "\n",
    "# accuracy = (tp + tn) / (tn + fn + tp + fp)\n",
    "# print(f'accuracy = {accuracy}')\n",
    "# recall = (tp) / (tp + fn)\n",
    "# print(f'recall = {recall}')\n",
    "# precision = (tp) / (tp + fp)\n",
    "# print(f'precision = {precision}')"
   ]
  },
  {
   "cell_type": "markdown",
   "metadata": {},
   "source": [
    "# random forest classifier"
   ]
  },
  {
   "cell_type": "code",
   "execution_count": 42,
   "metadata": {},
   "outputs": [],
   "source": [
    "# class sklearn.ensemble.RandomForestClassifier(n_estimators=100, \n",
    "#                                               *, \n",
    "#                                               criterion='gini', \n",
    "#                                               max_depth=None, \n",
    "#                                               min_samples_split=2, \n",
    "#                                               min_samples_leaf=1, \n",
    "#                                               min_weight_fraction_leaf=0.0, \n",
    "#                                               max_features='auto', \n",
    "#                                               max_leaf_nodes=None, \n",
    "#                                               min_impurity_decrease=0.0, \n",
    "#                                               min_impurity_split=None, \n",
    "#                                               bootstrap=True, \n",
    "#                                               oob_score=False, \n",
    "#                                               n_jobs=None, \n",
    "#                                               random_state=None, \n",
    "#                                               verbose=0, \n",
    "#                                               warm_start=False, \n",
    "#                                               class_weight=None, \n",
    "#                                               ccp_alpha=0.0, \n",
    "#                                               max_samples=None)"
   ]
  },
  {
   "cell_type": "code",
   "execution_count": 43,
   "metadata": {},
   "outputs": [
    {
     "name": "stdout",
     "output_type": "stream",
     "text": [
      "CPU times: user 54 µs, sys: 6 µs, total: 60 µs\n",
      "Wall time: 63.9 µs\n"
     ]
    }
   ],
   "source": [
    "%%time\n",
    "\n",
    "rf_clf = RandomForestClassifier(max_depth=2, random_state=0)"
   ]
  },
  {
   "cell_type": "code",
   "execution_count": 44,
   "metadata": {},
   "outputs": [
    {
     "name": "stdout",
     "output_type": "stream",
     "text": [
      "CPU times: user 429 ms, sys: 35.7 ms, total: 465 ms\n",
      "Wall time: 469 ms\n"
     ]
    },
    {
     "data": {
      "text/plain": [
       "RandomForestClassifier(max_depth=2, random_state=0)"
      ]
     },
     "execution_count": 44,
     "metadata": {},
     "output_type": "execute_result"
    }
   ],
   "source": [
    "%%time\n",
    "\n",
    "rf_clf.fit(X_train, y_train)"
   ]
  },
  {
   "cell_type": "code",
   "execution_count": 45,
   "metadata": {},
   "outputs": [],
   "source": [
    "y_pred = rf_clf.predict(X_test)"
   ]
  },
  {
   "cell_type": "code",
   "execution_count": 46,
   "metadata": {},
   "outputs": [
    {
     "data": {
      "text/plain": [
       "0.9241545893719807"
      ]
     },
     "execution_count": 46,
     "metadata": {},
     "output_type": "execute_result"
    }
   ],
   "source": [
    "#clf.score = accuracy = 'true'(pos/neg) / total\n",
    "\n",
    "rf_clf.score(X_test, y_test)"
   ]
  },
  {
   "cell_type": "code",
   "execution_count": 47,
   "metadata": {},
   "outputs": [
    {
     "data": {
      "text/plain": [
       "array([[991,  29],\n",
       "       [128, 922]])"
      ]
     },
     "execution_count": 47,
     "metadata": {},
     "output_type": "execute_result"
    }
   ],
   "source": [
    "confusion_matrix(y_true = y_test, y_pred = y_pred)"
   ]
  },
  {
   "cell_type": "code",
   "execution_count": 48,
   "metadata": {},
   "outputs": [
    {
     "data": {
      "text/plain": [
       "(991, 29, 128, 922)"
      ]
     },
     "execution_count": 48,
     "metadata": {},
     "output_type": "execute_result"
    }
   ],
   "source": [
    "tn, fp, fn, tp = confusion_matrix(y_true = y_test, y_pred = y_pred).ravel()\n",
    "(tn, fp, fn, tp)"
   ]
  },
  {
   "cell_type": "code",
   "execution_count": 49,
   "metadata": {},
   "outputs": [],
   "source": [
    "# #rate of correct predictions out of total predictions\n",
    "\n",
    "# accuracy = (tp + tn) / (tn + fn + tp + fp)\n",
    "# accuracy"
   ]
  },
  {
   "cell_type": "code",
   "execution_count": 50,
   "metadata": {},
   "outputs": [],
   "source": [
    "# # rate of actual op-ed articles, out of all the actual od-ed articles\n",
    "\n",
    "# recall = (tp) / (tp + fn)\n",
    "# recall"
   ]
  },
  {
   "cell_type": "code",
   "execution_count": 51,
   "metadata": {},
   "outputs": [],
   "source": [
    "# # rate of correct predictions of op-ed articles out of all predictions\n",
    "\n",
    "# precision = (tp) / (tp + fp)\n",
    "# precision"
   ]
  },
  {
   "cell_type": "code",
   "execution_count": 52,
   "metadata": {},
   "outputs": [
    {
     "name": "stdout",
     "output_type": "stream",
     "text": [
      "accuracy = 0.9241545893719807\n",
      "recall = 0.878095238095238\n",
      "precision = 0.9695057833859095\n"
     ]
    }
   ],
   "source": [
    "#rate of correct predictions out of total predictions\n",
    "\n",
    "accuracy = (tp + tn) / (tn + fn + tp + fp)\n",
    "print(f'accuracy = {accuracy}')\n",
    "recall = (tp) / (tp + fn)\n",
    "print(f'recall = {recall}')\n",
    "precision = (tp) / (tp + fp)\n",
    "print(f'precision = {precision}')"
   ]
  },
  {
   "cell_type": "code",
   "execution_count": 53,
   "metadata": {},
   "outputs": [],
   "source": [
    "# class sklearn.ensemble.RandomForestClassifier(n_estimators=100, \n",
    "#                                               *, \n",
    "#                                               criterion='gini', \n",
    "#                                               max_depth=None, \n",
    "#                                               min_samples_split=2, \n",
    "#                                               min_samples_leaf=1, \n",
    "#                                               min_weight_fraction_leaf=0.0, \n",
    "#                                               max_features='auto', \n",
    "#                                               max_leaf_nodes=None, \n",
    "#                                               min_impurity_decrease=0.0, \n",
    "#                                               min_impurity_split=None, \n",
    "#                                               bootstrap=True, \n",
    "#                                               oob_score=False, \n",
    "#                                               n_jobs=None, \n",
    "#                                               random_state=None, \n",
    "#                                               verbose=0, \n",
    "#                                               warm_start=False, \n",
    "#                                               class_weight=None, \n",
    "#                                               ccp_alpha=0.0, \n",
    "#                                               max_samples=None)"
   ]
  },
  {
   "cell_type": "markdown",
   "metadata": {},
   "source": [
    "# what is this random forest doing?\n",
    "1. takes all X and y which is my text and classifiers as vectors(tfidf)\n",
    "2. take a random number of 8278 instances (tfidf vector) and uses a random number of 219112 features to make best decision.\n",
    "3. bags/bootstraps that model\n",
    "4. does it again a bunch of times"
   ]
  },
  {
   "cell_type": "markdown",
   "metadata": {},
   "source": [
    "# accuracy, recall, precision"
   ]
  },
  {
   "cell_type": "code",
   "execution_count": 54,
   "metadata": {},
   "outputs": [],
   "source": [
    "# #rate of correct predictions out of total predictions\n",
    "# def metrics_(tn, fp, fn, tp):\n",
    "#     accuracy = (tp + tn) / (tn + fn + tp + fp)\n",
    "#     print(f'accuracy = {accuracy}')\n",
    "#     recall = (tp) / (tp + fn)\n",
    "#     print(f'recall = {recall}')\n",
    "#     precision = (tp) / (tp + fp)\n",
    "#     print(f'precision = {precision}')"
   ]
  },
  {
   "cell_type": "code",
   "execution_count": 55,
   "metadata": {},
   "outputs": [],
   "source": [
    "#metrics_(tn, fp, fn, tp)"
   ]
  },
  {
   "cell_type": "markdown",
   "metadata": {},
   "source": [
    "# feature engineering"
   ]
  },
  {
   "cell_type": "code",
   "execution_count": 56,
   "metadata": {},
   "outputs": [],
   "source": [
    "# get bag of words\n",
    "# get sparse matrix\n",
    "# overlay bag of words onto sparce matrix\n",
    "# argsort to find most important (highest number) word that it's splitting w/ most infomation gain/ least entroy... whatever"
   ]
  },
  {
   "cell_type": "code",
   "execution_count": 57,
   "metadata": {},
   "outputs": [
    {
     "data": {
      "text/plain": [
       "237438"
      ]
     },
     "execution_count": 57,
     "metadata": {},
     "output_type": "execute_result"
    }
   ],
   "source": [
    "len(feature_names)"
   ]
  },
  {
   "cell_type": "code",
   "execution_count": 58,
   "metadata": {},
   "outputs": [
    {
     "data": {
      "text/plain": [
       "{'treaty': 214387,\n",
       " 'versailles': 223831,\n",
       " 'prohibition': 167331,\n",
       " 'events': 70614,\n",
       " 'year': 234159,\n",
       " 'shaped': 189970,\n",
       " 'america': 11509,\n",
       " 'world': 231642,\n",
       " 'century': 38941,\n",
       " 'come': 45437,\n",
       " 'ted': 208042,\n",
       " 'widmer': 229706,\n",
       " 'mr': 140847,\n",
       " 'distinguished': 60370,\n",
       " 'lecturer': 120071,\n",
       " 'macaulay': 126248,\n",
       " 'honors': 96692,\n",
       " 'college': 45026,\n",
       " 'city': 42916,\n",
       " 'university': 220087,\n",
       " 'new': 145604,\n",
       " 'york': 234833,\n",
       " '2019': 1712,\n",
       " 'times': 211372,\n",
       " 'opinion': 152167,\n",
       " 'section': 187439,\n",
       " 'publish': 168379,\n",
       " 'occasional': 150115,\n",
       " 'series': 188827,\n",
       " 'essays': 69784,\n",
       " 'ways': 227822,\n",
       " '1919': 1419,\n",
       " 'following': 77209,\n",
       " 'essay': 69777,\n",
       " 'crack': 49701,\n",
       " 'scott': 186633,\n",
       " 'fitzgerald': 75855,\n",
       " 'wrote': 232017,\n",
       " 'test': 209169,\n",
       " 'rate': 172120,\n",
       " 'intelligence': 102915,\n",
       " 'ability': 5604,\n",
       " 'hold': 96082,\n",
       " 'opposed': 152234,\n",
       " 'ideas': 99459,\n",
       " 'mind': 136571,\n",
       " 'time': 211336,\n",
       " 'retain': 176684,\n",
       " 'function': 79924,\n",
       " 'years': 234177,\n",
       " 'day': 54088,\n",
       " 'headlines': 92868,\n",
       " 'gave': 81982,\n",
       " 'hint': 95280,\n",
       " 'difficult': 58710,\n",
       " 'americans': 11535,\n",
       " 'struggling': 202005,\n",
       " 'live': 123183,\n",
       " 'shimmering': 190983,\n",
       " 'promises': 167433,\n",
       " 'great': 87306,\n",
       " 'war': 227045,\n",
       " 'ended': 67740,\n",
       " 'just': 108811,\n",
       " 'month': 139364,\n",
       " 'poles': 163666,\n",
       " 'newly': 145687,\n",
       " 'independent': 101371,\n",
       " 'threatened': 210589,\n",
       " 'neighbors': 144875,\n",
       " 'calling': 35335,\n",
       " 'protect': 167794,\n",
       " 'countries': 49314,\n",
       " 'like': 122204,\n",
       " 'ireland': 104004,\n",
       " 'cusp': 51854,\n",
       " 'independence': 101368,\n",
       " 'asking': 16443,\n",
       " 'help': 93724,\n",
       " 'bewildering': 25136,\n",
       " 'set': 189046,\n",
       " 'responsibilities': 176467,\n",
       " 'settling': 189106,\n",
       " 'country': 49316,\n",
       " 'long': 124060,\n",
       " 'cherished': 40748,\n",
       " 'freedom': 78740,\n",
       " 'old': 151184,\n",
       " 'overwhelmingly': 154759,\n",
       " 'longed': 124081,\n",
       " 'lives': 123223,\n",
       " 'clear': 43446,\n",
       " 'road': 178764,\n",
       " 'map': 129072,\n",
       " 'normalcy': 148235,\n",
       " 'use': 221678,\n",
       " 'word': 231502,\n",
       " 'began': 23170,\n",
       " 'gain': 80600,\n",
       " 'traction': 213584,\n",
       " 'chaos': 39819,\n",
       " 'postwar': 164989,\n",
       " 'grammarians': 86831,\n",
       " 'faulted': 73543,\n",
       " 'clumsy': 44095,\n",
       " 'neologism': 145052,\n",
       " 'popular': 164434,\n",
       " 'rakish': 171343,\n",
       " 'ohio': 150830,\n",
       " 'senator': 188292,\n",
       " 'warren': 227262,\n",
       " 'harding': 91615,\n",
       " 'eventually': 70620,\n",
       " 'ride': 177846,\n",
       " 'way': 227781,\n",
       " 'white': 229377,\n",
       " 'house': 97416,\n",
       " 'crackly': 49722,\n",
       " 'recording': 173512,\n",
       " 'heard': 92988,\n",
       " 'promising': 167435,\n",
       " 'vaguely': 222127,\n",
       " 'make': 127616,\n",
       " 'didnt': 58530,\n",
       " 'work': 231546,\n",
       " 'reasons': 172895,\n",
       " 'believe': 23555,\n",
       " 'lofty': 123776,\n",
       " 'beginning': 23207,\n",
       " 'peace': 158232,\n",
       " 'felt': 74175,\n",
       " 'certainly': 39094,\n",
       " 'true': 215394,\n",
       " 'geopolitical': 82848,\n",
       " 'realm': 172782,\n",
       " 'negotiators': 144798,\n",
       " 'convened': 47689,\n",
       " 'paris': 156833,\n",
       " 'eager': 64442,\n",
       " 'redraw': 173873,\n",
       " 'know': 114379,\n",
       " 'begin': 23200,\n",
       " 'german': 83045,\n",
       " 'austrian': 17874,\n",
       " 'ottoman': 153574,\n",
       " 'empires': 67412,\n",
       " 'ash': 16216,\n",
       " 'heap': 92979,\n",
       " 'history': 95533,\n",
       " 'memorable': 133933,\n",
       " 'phrase': 161013,\n",
       " 'leon': 120862,\n",
       " 'trotsky': 215251,\n",
       " 'russia': 181584,\n",
       " 'disappeared': 59501,\n",
       " 'undergoing': 219156,\n",
       " 'transformation': 213915,\n",
       " 'profound': 167252,\n",
       " 'destabilizing': 57472,\n",
       " 'half': 90538,\n",
       " 'europe': 70400,\n",
       " 'overseas': 154585,\n",
       " 'territories': 209056,\n",
       " 'belonging': 23769,\n",
       " 'belligerents': 23672,\n",
       " 'exchanged': 71009,\n",
       " 'carpets': 37169,\n",
       " 'second': 187370,\n",
       " 'hand': 91035,\n",
       " 'bazaar': 22414,\n",
       " 'later': 119048,\n",
       " 'middle': 135704,\n",
       " 'east': 64627,\n",
       " 'africa': 7945,\n",
       " 'decisions': 54783,\n",
       " 'hastily': 92261,\n",
       " 'solve': 196456,\n",
       " 'nasty': 143887,\n",
       " 'problems': 167004,\n",
       " 'beleaguered': 23500,\n",
       " 'superhuman': 203835,\n",
       " 'despite': 57420,\n",
       " 'late': 119025,\n",
       " 'entry': 68498,\n",
       " 'conflict': 46653,\n",
       " 'decisively': 54786,\n",
       " 'manpower': 128878,\n",
       " 'materiel': 130920,\n",
       " 'chirpy': 41483,\n",
       " 'marketing': 129789,\n",
       " 'democracy': 56206,\n",
       " 'hour': 97400,\n",
       " 'elixir': 66552,\n",
       " 'according': 6230,\n",
       " 'president': 166300,\n",
       " 'woodrow': 231384,\n",
       " 'wilson': 230223,\n",
       " 'intoned': 103448,\n",
       " 'impressive': 100753,\n",
       " 'solemnity': 196280,\n",
       " 'believed': 23557,\n",
       " 'headed': 92834,\n",
       " 'longest': 124086,\n",
       " 'trip': 214944,\n",
       " 'lionized': 122756,\n",
       " 'leaders': 119754,\n",
       " 'film': 75190,\n",
       " 'footage': 77390,\n",
       " 'captures': 36471,\n",
       " 'odd': 150351,\n",
       " 'contrast': 47589,\n",
       " 'quiet': 170121,\n",
       " 'oceanic': 150181,\n",
       " 'passage': 157388,\n",
       " 'followed': 77204,\n",
       " 'euphoria': 70332,\n",
       " 'crowds': 50829,\n",
       " 'france': 78338,\n",
       " 'hoped': 96830,\n",
       " 'tall': 206468,\n",
       " 'order': 152510,\n",
       " 'close': 43905,\n",
       " 'grainy': 86804,\n",
       " 'inside': 102550,\n",
       " 'emerged': 67169,\n",
       " 'hall': 90593,\n",
       " 'mirrors': 137126,\n",
       " 'resentment': 176204,\n",
       " 'harsh': 91975,\n",
       " 'conditions': 46464,\n",
       " 'imposed': 100686,\n",
       " 'fueled': 79691,\n",
       " 'rise': 178387,\n",
       " 'adolf': 7342,\n",
       " 'hitler': 95566,\n",
       " 'political': 163764,\n",
       " 'voice': 225582,\n",
       " 'historians': 95509,\n",
       " 'trace': 213530,\n",
       " 'origins': 152751,\n",
       " 'ii': 99822,\n",
       " 'treatys': 214388,\n",
       " 'shortcomings': 191578,\n",
       " 'swirling': 205141,\n",
       " 'nationalisms': 143978,\n",
       " 'failed': 72386,\n",
       " 'calm': 35372,\n",
       " 'promised': 167431,\n",
       " 'build': 33179,\n",
       " 'safe': 182406,\n",
       " 'result': 176617,\n",
       " 'cases': 37528,\n",
       " 'democratic': 56214,\n",
       " 'british': 31841,\n",
       " 'politician': 163769,\n",
       " 'career': 36746,\n",
       " 'barely': 21163,\n",
       " 'survived': 204385,\n",
       " 'winston': 230545,\n",
       " 'churchill': 42284,\n",
       " 'saw': 184900,\n",
       " 'clearly': 43469,\n",
       " 'crippled': 50397,\n",
       " 'broken': 32096,\n",
       " 'divided': 60564,\n",
       " 'fault': 73542,\n",
       " 'lines': 122592,\n",
       " 'obliterated': 149899,\n",
       " 'large': 118739,\n",
       " 'parts': 157225,\n",
       " 'french': 78920,\n",
       " 'belgian': 23524,\n",
       " 'remained': 175162,\n",
       " 'intact': 102860,\n",
       " 'distress': 60399,\n",
       " 'millions': 136401,\n",
       " 'hoping': 96857,\n",
       " 'democracies': 56205,\n",
       " 'inspired': 102643,\n",
       " 'winds': 230352,\n",
       " 'change': 39710,\n",
       " 'movements': 140687,\n",
       " 'sprang': 198678,\n",
       " 'successful': 202784,\n",
       " 'self': 187962,\n",
       " 'determination': 57626,\n",
       " 'wilsons': 230227,\n",
       " 'ringing': 178231,\n",
       " 'phrases': 161017,\n",
       " 'elusive': 66890,\n",
       " 'best': 24860,\n",
       " 'weary': 227953,\n",
       " 'european': 70402,\n",
       " 'diplomats': 59317,\n",
       " 'chafed': 39334,\n",
       " 'moralistic': 139664,\n",
       " 'speeches': 197878,\n",
       " 'scorned': 186600,\n",
       " 'sermonettes': 188862,\n",
       " 'georges': 82870,\n",
       " 'clemenceau': 43523,\n",
       " 'complained': 45964,\n",
       " 'talking': 206459,\n",
       " 'conversing': 47741,\n",
       " 'jesus': 106920,\n",
       " 'christ': 41965,\n",
       " 'surely': 204181,\n",
       " 'seconded': 187378,\n",
       " 'thought': 210528,\n",
       " 'pockets': 163368,\n",
       " 'realism': 172752,\n",
       " 'idealism': 99444,\n",
       " 'blind': 27347,\n",
       " 'spots': 198641,\n",
       " 'understood': 219328,\n",
       " 'continue': 47501,\n",
       " 'criticized': 50512,\n",
       " 'failures': 72401,\n",
       " 'correct': 48568,\n",
       " 'grasp': 87079,\n",
       " 'core': 48264,\n",
       " 'truth': 215605,\n",
       " 'relevant': 175053,\n",
       " 'lazy': 119673,\n",
       " 'return': 176930,\n",
       " 'unbridled': 218741,\n",
       " 'nationalism': 143977,\n",
       " 'recipe': 173257,\n",
       " 'presidents': 166313,\n",
       " 'did': 58502,\n",
       " 'relish': 175104,\n",
       " 'consulting': 47321,\n",
       " 'congress': 46776,\n",
       " 'misreading': 137498,\n",
       " 'boomeranged': 29151,\n",
       " 'elected': 66218,\n",
       " 'republican': 175997,\n",
       " 'majority': 127564,\n",
       " 'refused': 174266,\n",
       " 'approve': 14310,\n",
       " 'plan': 162583,\n",
       " 'league': 119787,\n",
       " 'nations': 143998,\n",
       " 'desperate': 57404,\n",
       " 'outflank': 153805,\n",
       " 'tried': 214792,\n",
       " 'case': 37507,\n",
       " 'directly': 59371,\n",
       " 'people': 159135,\n",
       " 'boisterous': 28487,\n",
       " 'rallies': 171376,\n",
       " 'far': 72981,\n",
       " 'coast': 44254,\n",
       " 'elites': 66544,\n",
       " 'strain': 201448,\n",
       " 'effort': 65523,\n",
       " 'resulted': 176623,\n",
       " 'stroke': 201901,\n",
       " 'nearly': 144493,\n",
       " 'incapacitated': 101012,\n",
       " 'presidency': 166298,\n",
       " 'democracys': 56208,\n",
       " 'spokesman': 198467,\n",
       " 'imperiled': 100550,\n",
       " 'government': 86515,\n",
       " 'went': 228652,\n",
       " 'lengths': 120759,\n",
       " 'defend': 55183,\n",
       " 'young': 234954,\n",
       " 'writers': 231977,\n",
       " 'received': 173167,\n",
       " 'book': 29053,\n",
       " 'contract': 47543,\n",
       " 'obvious': 150074,\n",
       " 'words': 231526,\n",
       " 'working': 231579,\n",
       " 'ones': 151788,\n",
       " 'needed': 144656,\n",
       " 'simply': 193092,\n",
       " 'invented': 103637,\n",
       " 'james': 105640,\n",
       " 'joyce': 108180,\n",
       " 'constantly': 47207,\n",
       " 'writing': 231984,\n",
       " 'scribbledehobble': 186825,\n",
       " 'notebook': 148517,\n",
       " 'lamented': 118055,\n",
       " 'vanished': 222623,\n",
       " 'dreading': 62641,\n",
       " 'ingenious': 102038,\n",
       " 'lovely': 124755,\n",
       " 'things': 210263,\n",
       " 'gone': 85848,\n",
       " 'william': 230096,\n",
       " 'butler': 34230,\n",
       " 'yeats': 234190,\n",
       " 'poem': 163454,\n",
       " 'titled': 211823,\n",
       " 'nineteen': 146627,\n",
       " 'elapsed': 66096,\n",
       " 'started': 199814,\n",
       " '1914': 1413,\n",
       " 'different': 58688,\n",
       " 'sights': 192566,\n",
       " 'sounds': 197204,\n",
       " 'terrifying': 209040,\n",
       " 'famous': 72794,\n",
       " 'poems': 163458,\n",
       " 'coming': 45539,\n",
       " 'imagined': 100172,\n",
       " 'apocalypse': 13966,\n",
       " 'populated': 164446,\n",
       " 'fantastic': 72934,\n",
       " 'beasts': 22655,\n",
       " 'rowling': 180722,\n",
       " 'run': 181379,\n",
       " 'money': 138947,\n",
       " 'gloom': 84982,\n",
       " 'quoted': 170363,\n",
       " 'glorious': 85015,\n",
       " 'waging': 226398,\n",
       " 'released': 175026,\n",
       " 'galvanic': 80945,\n",
       " 'energy': 67873,\n",
       " 'attacked': 17332,\n",
       " 'problem': 166995,\n",
       " 'victory': 224288,\n",
       " 'stunning': 202189,\n",
       " 'efficiency': 65504,\n",
       " 'included': 101123,\n",
       " 'tremendous': 214481,\n",
       " 'contributions': 47627,\n",
       " 'immigrants': 100340,\n",
       " 'women': 231221,\n",
       " 'african': 7947,\n",
       " 'raucously': 172260,\n",
       " 'celebrated': 38623,\n",
       " 'parades': 156502,\n",
       " 'parade': 156497,\n",
       " 'feted': 74648,\n",
       " 'harlem': 91756,\n",
       " 'hellfighters': 93647,\n",
       " 'regiment': 174371,\n",
       " 'marching': 129301,\n",
       " 'spirited': 198275,\n",
       " 'band': 20521,\n",
       " 'playing': 162863,\n",
       " 'kind': 113141,\n",
       " 'music': 142186,\n",
       " 'soon': 196776,\n",
       " 'known': 114400,\n",
       " 'jazz': 106337,\n",
       " 'hottest': 97347,\n",
       " 'songs': 196671,\n",
       " 'novelty': 148708,\n",
       " 'hit': 95541,\n",
       " 'ya': 233512,\n",
       " 'gonna': 85874,\n",
       " 'em': 66945,\n",
       " 'farm': 73115,\n",
       " 'theyve': 210138,\n",
       " 'seen': 187644,\n",
       " 'paree': 156757,\n",
       " 'fair': 72418,\n",
       " 'question': 170033,\n",
       " 'going': 85542,\n",
       " 'easily': 64621,\n",
       " 'prewar': 166549,\n",
       " 'attitudes': 17428,\n",
       " 'race': 170558,\n",
       " 'citizenship': 42891,\n",
       " 'doughboys': 62137,\n",
       " 'brought': 32337,\n",
       " 'exuberant': 71848,\n",
       " 'exacerbated': 70888,\n",
       " 'tensions': 208752,\n",
       " 'entitled': 68402,\n",
       " 'pesky': 160072,\n",
       " 'kept': 111842,\n",
       " 'repeating': 175716,\n",
       " 'opposing': 152237,\n",
       " 'thoughts': 210535,\n",
       " 'numbers': 149081,\n",
       " 'chose': 41870,\n",
       " 'form': 77747,\n",
       " 'moving': 140718,\n",
       " 'south': 197288,\n",
       " 'northern': 148344,\n",
       " 'cities': 42872,\n",
       " 'midwest': 135862,\n",
       " 'west': 228786,\n",
       " 'demographic': 56238,\n",
       " 'altered': 10880,\n",
       " 'forever': 77664,\n",
       " 'daily': 52690,\n",
       " 'challenge': 39509,\n",
       " 'children': 41212,\n",
       " 'born': 29478,\n",
       " 'near': 144482,\n",
       " 'alabama': 9348,\n",
       " 'georgia': 82879,\n",
       " 'line': 122559,\n",
       " 'revealed': 177025,\n",
       " 'quickly': 170098,\n",
       " 'changing': 39736,\n",
       " 'jackie': 105198,\n",
       " 'robinson': 178934,\n",
       " 'grew': 87672,\n",
       " 'thanks': 209505,\n",
       " 'mother': 140316,\n",
       " 'moved': 140682,\n",
       " 'california': 35236,\n",
       " 'george': 82861,\n",
       " 'wallace': 226741,\n",
       " 'spent': 198001,\n",
       " 'life': 121967,\n",
       " 'trying': 215635,\n",
       " 'tide': 211017,\n",
       " 'robinsons': 178937,\n",
       " 'generation': 82546,\n",
       " 'helped': 93726,\n",
       " 'unleash': 220157,\n",
       " 'simmered': 193007,\n",
       " 'americas': 11544,\n",
       " 'gleaming': 84736,\n",
       " 'surfaces': 204200,\n",
       " 'ugly': 218060,\n",
       " 'riot': 178310,\n",
       " 'chicago': 41019,\n",
       " 'took': 212667,\n",
       " '38': 2691,\n",
       " 'july': 108545,\n",
       " 'anxieties': 13723,\n",
       " 'targeted': 207124,\n",
       " 'welcoming': 228464,\n",
       " 'statue': 199973,\n",
       " 'greeted': 87524,\n",
       " 'harbor': 91540,\n",
       " 'defenders': 55190,\n",
       " 'need': 144653,\n",
       " 'open': 152040,\n",
       " 'floodgates': 76580,\n",
       " 'seeking': 187621,\n",
       " 'broader': 31935,\n",
       " 'rhetoric': 177455,\n",
       " 'existed': 71245,\n",
       " 'vividly': 225371,\n",
       " 'imagination': 100167,\n",
       " 'reality': 172760,\n",
       " 'torn': 212938,\n",
       " 'directions': 59367,\n",
       " 'worlds': 231661,\n",
       " 'wealthiest': 227904,\n",
       " 'waves': 227747,\n",
       " 'fear': 73759,\n",
       " 'paralyzed': 156583,\n",
       " 'reeled': 173971,\n",
       " 'deadly': 54297,\n",
       " 'influenza': 101919,\n",
       " 'epidemic': 68694,\n",
       " 'start': 199811,\n",
       " 'campaign': 35632,\n",
       " 'letter': 121194,\n",
       " 'bombs': 28754,\n",
       " 'sent': 188481,\n",
       " 'anarchists': 12130,\n",
       " 'spring': 198736,\n",
       " 'vigorous': 224514,\n",
       " 'response': 176461,\n",
       " 'led': 120081,\n",
       " 'creation': 50036,\n",
       " 'raids': 171101,\n",
       " 'conducted': 46499,\n",
       " 'overzealous': 154775,\n",
       " 'attorney': 17440,\n",
       " 'general': 82517,\n",
       " 'mitchell': 137700,\n",
       " 'palmer': 155824,\n",
       " 'awakened': 18458,\n",
       " 'fears': 73781,\n",
       " 'police': 163686,\n",
       " 'state': 199874,\n",
       " 'retaliatory': 176702,\n",
       " 'bomb': 28715,\n",
       " 'directed': 59359,\n",
       " 'exploded': 71504,\n",
       " 'outside': 153993,\n",
       " 'washington': 227376,\n",
       " 'killing': 112984,\n",
       " 'neighbor': 144864,\n",
       " 'franklin': 78488,\n",
       " 'roosevelt': 179941,\n",
       " 'speech': 197876,\n",
       " 'named': 143312,\n",
       " 'deal': 54334,\n",
       " '13': 649,\n",
       " 'remembered': 175238,\n",
       " 'failings': 72391,\n",
       " 'ushered': 221709,\n",
       " 'era': 68939,\n",
       " 'contradictions': 47562,\n",
       " 'bear': 22610,\n",
       " 'scrutiny': 186936,\n",
       " 'closer': 43914,\n",
       " 'surface': 204197,\n",
       " 'roosevelts': 179943,\n",
       " 'largely': 118742,\n",
       " 'united': 220031,\n",
       " 'efforts': 65530,\n",
       " 'end': 67715,\n",
       " 'poverty': 165235,\n",
       " 'crush': 51012,\n",
       " 'fascism': 73309,\n",
       " 'ago': 8320,\n",
       " 'possible': 164817,\n",
       " 'look': 124210,\n",
       " 'versions': 223848,\n",
       " 'sure': 204174,\n",
       " 'thriving': 210641,\n",
       " 'nation': 143968,\n",
       " 'innovating': 102374,\n",
       " 'dizzying': 60679,\n",
       " 'bustling': 34179,\n",
       " 'envy': 68581,\n",
       " 'quieter': 170126,\n",
       " 'dominated': 61364,\n",
       " 'farmers': 73134,\n",
       " 'small': 194934,\n",
       " 'towns': 213427,\n",
       " 'politically': 163765,\n",
       " 'socially': 195922,\n",
       " 'conservative': 47058,\n",
       " 'dismayed': 59996,\n",
       " 'excesses': 71004,\n",
       " 'age': 8142,\n",
       " 'achievement': 6421,\n",
       " 'worth': 231739,\n",
       " 'monopoly': 139151,\n",
       " 'virtue': 225055,\n",
       " 'prove': 167917,\n",
       " 'urban': 221419,\n",
       " 'rural': 181492,\n",
       " 'produced': 167131,\n",
       " 'equal': 68839,\n",
       " 'share': 190039,\n",
       " 'rascals': 171979,\n",
       " 'rascality': 171977,\n",
       " 'various': 222809,\n",
       " 'guises': 89023,\n",
       " 'feature': 73812,\n",
       " 'forms': 77808,\n",
       " 'entertainment': 68357,\n",
       " 'dominate': 61363,\n",
       " 'attention': 17387,\n",
       " 'demanding': 56042,\n",
       " 'villains': 224641,\n",
       " 'heroes': 94307,\n",
       " 'measure': 132867,\n",
       " 'accelerated': 6105,\n",
       " 'trend': 214512,\n",
       " 'advancing': 7512,\n",
       " 'research': 176154,\n",
       " 'radio': 170762,\n",
       " 'communication': 45754,\n",
       " 'using': 221720,\n",
       " 'newsreels': 145789,\n",
       " 'mobilize': 138106,\n",
       " 'support': 204086,\n",
       " 'military': 136257,\n",
       " 'mass': 130604,\n",
       " 'affecting': 7802,\n",
       " 'alike': 10131,\n",
       " 'huge': 97916,\n",
       " 'movie': 140694,\n",
       " 'palaces': 155585,\n",
       " 'built': 33196,\n",
       " 'capitol': 36316,\n",
       " 'seat': 187242,\n",
       " '000': 1,\n",
       " 'hollywood': 96236,\n",
       " 'continued': 47502,\n",
       " 'grow': 88297,\n",
       " 'apace': 13820,\n",
       " 'dream': 62646,\n",
       " 'factory': 72241,\n",
       " 'studios': 202109,\n",
       " 'stars': 199802,\n",
       " 'sports': 198588,\n",
       " 'big': 25670,\n",
       " 'business': 34099,\n",
       " 'bit': 26609,\n",
       " 'mobsters': 138123,\n",
       " 'able': 5647,\n",
       " 'alter': 10872,\n",
       " 'outcome': 153744,\n",
       " 'affected': 7800,\n",
       " 'fans': 72901,\n",
       " 'owner': 154846,\n",
       " 'boston': 29706,\n",
       " 'red': 173640,\n",
       " 'sox': 197393,\n",
       " 'traded': 213602,\n",
       " 'babe': 19031,\n",
       " 'ruth': 181658,\n",
       " 'yankees': 233831,\n",
       " 'invoked': 103774,\n",
       " 'curse': 51768,\n",
       " 'team': 207835,\n",
       " 'win': 230265,\n",
       " '2004': 1652,\n",
       " 'divide': 60563,\n",
       " 'moderated': 138215,\n",
       " 'sales': 182953,\n",
       " 'automobiles': 18035,\n",
       " 'doubled': 62080,\n",
       " 'happily': 91450,\n",
       " 'returned': 176934,\n",
       " 'leisure': 120548,\n",
       " 'pursuits': 169017,\n",
       " 'expanded': 71328,\n",
       " 'horizons': 96945,\n",
       " 'sense': 188424,\n",
       " 'driver': 62899,\n",
       " 'coax': 44288,\n",
       " 'vehicle': 223221,\n",
       " '120': 547,\n",
       " 'miles': 136192,\n",
       " 'brooklyn': 32230,\n",
       " 'fortunately': 77958,\n",
       " 'crackups': 49730,\n",
       " 'cars': 37292,\n",
       " 'suburban': 202739,\n",
       " 'rings': 178246,\n",
       " 'bloomed': 27613,\n",
       " 'joining': 107690,\n",
       " 'create': 50028,\n",
       " 'quite': 170298,\n",
       " 'accidental': 6168,\n",
       " 'effect': 65475,\n",
       " 'significant': 192629,\n",
       " 'boost': 29212,\n",
       " 'oil': 150889,\n",
       " 'production': 167149,\n",
       " 'heavy': 93136,\n",
       " 'emphasis': 67399,\n",
       " 'machines': 126389,\n",
       " 'tanks': 206842,\n",
       " 'airplanes': 8918,\n",
       " 'used': 221679,\n",
       " 'internal': 103181,\n",
       " 'combustion': 45429,\n",
       " 'engines': 67989,\n",
       " 'quick': 170084,\n",
       " 'corral': 48557,\n",
       " 'markets': 129797,\n",
       " 'embraced': 67101,\n",
       " 'automobile': 18034,\n",
       " 'experimentation': 71443,\n",
       " 'steam': 200088,\n",
       " 'powered': 165278,\n",
       " 'electric': 66246,\n",
       " 'vehicles': 223222,\n",
       " 'waned': 226951,\n",
       " 'better': 25014,\n",
       " 'important': 100671,\n",
       " 'thousands': 210543,\n",
       " 'highway': 94939,\n",
       " 'changed': 39713,\n",
       " 'promote': 167446,\n",
       " 'idea': 99441,\n",
       " 'interstate': 103343,\n",
       " 'travel': 214234,\n",
       " 'convoy': 47798,\n",
       " 'left': 120235,\n",
       " 'called': 35302,\n",
       " 'largest': 118750,\n",
       " 'aggregation': 8221,\n",
       " 'motor': 140394,\n",
       " 'length': 120751,\n",
       " 'broke': 32092,\n",
       " 'repeatedly': 175714,\n",
       " '62': 3657,\n",
       " 'days': 54154,\n",
       " 'reach': 172615,\n",
       " 'destination': 57493,\n",
       " 'averaged': 18237,\n",
       " 'utah': 221788,\n",
       " 'turned': 216407,\n",
       " 'paved': 157993,\n",
       " 'roads': 178788,\n",
       " 'illinois': 100019,\n",
       " 'nevada': 145551,\n",
       " 'decades': 54612,\n",
       " 'officer': 150602,\n",
       " 'dwight': 64181,\n",
       " 'eisenhower': 65910,\n",
       " 'push': 169041,\n",
       " 'national': 143970,\n",
       " 'publicized': 168367,\n",
       " 'blue': 27740,\n",
       " 'states': 199904,\n",
       " 'generally': 82538,\n",
       " 'unexpected': 219567,\n",
       " 'pivotal': 162391,\n",
       " 'overquoted': 154529,\n",
       " 'fall': 72636,\n",
       " 'apart': 13845,\n",
       " 'center': 38848,\n",
       " 'ring': 178216,\n",
       " 'today': 212085,\n",
       " 'moment': 138757,\n",
       " 'comforts': 45520,\n",
       " 'seeing': 187615,\n",
       " 'wrong': 231998,\n",
       " 'earlier': 64505,\n",
       " 'prognosticators': 167282,\n",
       " 'doom': 61690,\n",
       " 'studying': 202119,\n",
       " 'glean': 84738,\n",
       " 'harvest': 92079,\n",
       " 'hope': 96828,\n",
       " 'ahead': 8522,\n",
       " 'senior': 188369,\n",
       " 'fellow': 74154,\n",
       " 'carnegie': 37032,\n",
       " 'council': 49093,\n",
       " 'ethics': 70110,\n",
       " 'international': 103193,\n",
       " 'affairs': 7795,\n",
       " 'imagine': 100171,\n",
       " 'hours': 97409,\n",
       " 'phones': 160890,\n",
       " 'aside': 16382,\n",
       " 'paul': 157902,\n",
       " 'greenberg': 87375,\n",
       " 'safina': 182475,\n",
       " 'quarters': 169793,\n",
       " 'smartphone': 195005,\n",
       " '2018': 1709,\n",
       " '253': 2067,\n",
       " 'million': 136396,\n",
       " '380': 2692,\n",
       " '460': 3041,\n",
       " 'mobile': 138090,\n",
       " 'devices': 57859,\n",
       " 'thats': 209565,\n",
       " '91': 4628,\n",
       " 'waking': 226602,\n",
       " 'cumulatively': 51552,\n",
       " 'adds': 6971,\n",
       " '370': 2658,\n",
       " 'billion': 25912,\n",
       " 'american': 11516,\n",
       " '349': 2555,\n",
       " 'heres': 94179,\n",
       " 'instead': 102717,\n",
       " 'western': 228837,\n",
       " 'phone': 160882,\n",
       " 'buy': 34356,\n",
       " 'acre': 6606,\n",
       " 'land': 118208,\n",
       " 'right': 178043,\n",
       " 'accommodate': 6195,\n",
       " '150': 831,\n",
       " 'trees': 214421,\n",
       " 'single': 193248,\n",
       " 'tree': 214406,\n",
       " 'sequesters': 188678,\n",
       " '48': 3100,\n",
       " 'pounds': 165183,\n",
       " 'carbon': 36603,\n",
       " 'takes': 206313,\n",
       " '30': 2315,\n",
       " 'minutes': 136958,\n",
       " 'amateur': 11242,\n",
       " 'forester': 77645,\n",
       " 'plant': 162644,\n",
       " 'sequester': 188675,\n",
       " '886': 4504,\n",
       " 'tons': 212639,\n",
       " 'offset': 150648,\n",
       " '10': 304,\n",
       " 'percent': 159270,\n",
       " 'countrys': 49327,\n",
       " 'annual': 13034,\n",
       " 'emissions': 67281,\n",
       " 'don': 61430,\n",
       " 'want': 227003,\n",
       " 'planting': 162667,\n",
       " 'forest': 77637,\n",
       " 'foundation': 78076,\n",
       " 'says': 185035,\n",
       " 'meet': 133235,\n",
       " 'goals': 85246,\n",
       " 'user': 221689,\n",
       " '60': 3580,\n",
       " 'cents': 38934,\n",
       " 'recent': 173178,\n",
       " 'study': 202118,\n",
       " 'romantic': 179665,\n",
       " 'relationships': 174984,\n",
       " 'students': 202098,\n",
       " 'journal': 108093,\n",
       " 'psychology': 168254,\n",
       " 'media': 133007,\n",
       " 'culture': 51498,\n",
       " 'dependency': 56700,\n",
       " 'significantly': 192630,\n",
       " 'linked': 122665,\n",
       " 'relationship': 174983,\n",
       " 'uncertainty': 218800,\n",
       " 'partners': 157211,\n",
       " 'perceived': 159265,\n",
       " 'predicts': 165803,\n",
       " 'satisfaction': 184557,\n",
       " '29': 2233,\n",
       " 'sex': 189237,\n",
       " 'months': 139372,\n",
       " 'week': 228139,\n",
       " 'flip': 76479,\n",
       " 'device': 57857,\n",
       " 'love': 124718,\n",
       " '16': 956,\n",
       " 'assuming': 16771,\n",
       " 'youre': 234999,\n",
       " 'lovemaking': 124757,\n",
       " 'sessions': 189031,\n",
       " 'average': 18236,\n",
       " 'counting': 49309,\n",
       " 'foreplay': 77611,\n",
       " 'doesnt': 61019,\n",
       " 'bring': 31738,\n",
       " 'partner': 157206,\n",
       " 'pay': 158096,\n",
       " 'couples': 49351,\n",
       " 'therapy': 209961,\n",
       " 'renowned': 175556,\n",
       " 'therapist': 209957,\n",
       " 'esther': 69923,\n",
       " 'perel': 159355,\n",
       " 'managed': 128305,\n",
       " 'fix': 75902,\n",
       " 'currently': 51738,\n",
       " 'undercounts': 219088,\n",
       " 'votes': 225940,\n",
       " 'gerrymandering': 83126,\n",
       " 'unfair': 219587,\n",
       " 'distribution': 60411,\n",
       " 'senate': 188287,\n",
       " 'seats': 187261,\n",
       " 'electoral': 66234,\n",
       " 'particularly': 157168,\n",
       " 'program': 167284,\n",
       " 'voter': 225934,\n",
       " 'reform': 174158,\n",
       " 'grassroots': 87108,\n",
       " 'level': 121296,\n",
       " 'david': 53948,\n",
       " 'gold': 85583,\n",
       " 'organization': 152639,\n",
       " 'democratism': 56220,\n",
       " 'noted': 148521,\n",
       " 'quitting': 170307,\n",
       " 'citizens': 42890,\n",
       " 'visit': 225156,\n",
       " 'local': 123565,\n",
       " 'representatives': 175916,\n",
       " 'cover': 49500,\n",
       " 'cost': 48890,\n",
       " 'gas': 81644,\n",
       " 'transit': 213959,\n",
       " 'lobby': 123516,\n",
       " 'plastic': 162713,\n",
       " 'waste': 227461,\n",
       " 'flows': 76782,\n",
       " 'ocean': 150170,\n",
       " 'leonard': 120864,\n",
       " 'conservancy': 47046,\n",
       " 'applied': 14204,\n",
       " 'allocate': 10446,\n",
       " 'smartphones': 195006,\n",
       " 'solving': 196468,\n",
       " 'pollution': 163889,\n",
       " 'available': 18135,\n",
       " 'necessary': 144568,\n",
       " 'improvements': 100788,\n",
       " 'management': 128308,\n",
       " 'asian': 16368,\n",
       " '70': 3919,\n",
       " 'clean': 43416,\n",
       " 'garbage': 81333,\n",
       " 'person': 159883,\n",
       " 'volunteer': 225777,\n",
       " 'global': 84912,\n",
       " '118': 522,\n",
       " 'reader': 172661,\n",
       " 'reading': 172676,\n",
       " 'speed': 197889,\n",
       " '280': 2185,\n",
       " 'minute': 136951,\n",
       " ...}"
      ]
     },
     "execution_count": 58,
     "metadata": {},
     "output_type": "execute_result"
    }
   ],
   "source": [
    "vectorizer.vocabulary_"
   ]
  },
  {
   "cell_type": "code",
   "execution_count": 59,
   "metadata": {},
   "outputs": [],
   "source": [
    "feature_names;"
   ]
  },
  {
   "cell_type": "code",
   "execution_count": 60,
   "metadata": {},
   "outputs": [
    {
     "data": {
      "text/plain": [
       "0      ['Advertisement', 'Supported by', 'From the Tr...\n",
       "1      ['Advertisement', 'Supported by', 'Imagine wha...\n",
       "2      ['Advertisement', 'Supported by', 'Can the Con...\n",
       "3      ['Advertisement', 'Supported by', 'The Christi...\n",
       "4      ['Advertisement', 'Supported by', 'The United ...\n",
       "                             ...                        \n",
       "495    ['Advertisement', 'Supported by', 'By Zach Sch...\n",
       "496    ['Advertisement', 'Supported by', 'transcript'...\n",
       "497    ['Advertisement', 'Supported by', 'By Matt Ste...\n",
       "498    ['Advertisement', 'Supported by', 'By Niki Kit...\n",
       "499    ['Advertisement', 'Supported by', 'By Steven L...\n",
       "Name: text, Length: 500, dtype: object"
      ]
     },
     "execution_count": 60,
     "metadata": {},
     "output_type": "execute_result"
    }
   ],
   "source": [
    "_2019_df.text.head(500)"
   ]
  },
  {
   "cell_type": "code",
   "execution_count": 67,
   "metadata": {},
   "outputs": [
    {
     "data": {
      "text/plain": [
       "0        From the Treaty of Versailles to Prohibition, ...\n",
       "1        Imagine what we could do with our money, and h...\n",
       "2        Can the Constitution withstand the partisans?'...\n",
       "3        The Christian right doesn’t like the president...\n",
       "4        The United States is spending beyond its means...\n",
       "                               ...                        \n",
       "41743    Chief Justice John Roberts’s year-end report o...\n",
       "41744    Zaosong Zheng, a promising cancer researcher, ...\n",
       "41745    The 2010s, reviewed.', 'By Spencer Bokat-Linde...\n",
       "41746    After receiving presidential clemency, Edward ...\n",
       "41747    By Coral Davenport and Lisa Friedman', 'WASHIN...\n",
       "Name: text, Length: 41748, dtype: object"
      ]
     },
     "execution_count": 67,
     "metadata": {},
     "output_type": "execute_result"
    }
   ],
   "source": [
    "X"
   ]
  },
  {
   "cell_type": "code",
   "execution_count": 69,
   "metadata": {},
   "outputs": [
    {
     "data": {
      "text/plain": [
       "[\"From the Treaty of Versailles to Prohibition, the events of that year shaped America, and the world, for a century to come. ', 'By Ted Widmer', 'Mr. Widmer is a distinguished lecturer at the Macaulay Honors College of the City University of New York.', 'Throughout 2019, The New York Times Opinion section will publish an occasional series of essays on the ways in which the events of 1919 shaped the following century. ', 'In his essay “The Crack-Up,” F. Scott Fitzgerald wrote, “The test of a first-rate intelligence is the ability to hold two opposed ideas in the mind at the same time, and still retain the ability to function.”', 'On New Year’s Day 1919, the headlines in The New York Times gave a hint of how difficult that would be for Americans, struggling to live up to the shimmering promises they had made to the world during the Great War, which had ended just over a month before.', 'Poles, newly independent but already threatened by their neighbors, were calling on Americans to protect them. Other countries, like Ireland, were on the cusp of independence, but asking for help. A bewildering set of new responsibilities was settling upon a country that had long cherished its freedom from the Old World.', 'Overwhelmingly, Americans longed to get their old lives back. But there was no clear road map to “normalcy,” to use a word that began to gain traction in the chaos of the postwar years. Grammarians faulted it as a clumsy neologism, but that only made it more popular. A rakish Ohio senator, Warren Harding, would eventually ride it all the way to the White House. In a crackly old recording, he can be heard promising, vaguely, to make America great again. It didn’t work out well.', 'There were reasons to believe lofty promises as 1919 was beginning. With peace, everything felt new again. That was certainly true in the geopolitical realm, as negotiators convened in Paris, eager to redraw the world map. It was difficult to know where to begin. The German, Austrian and Ottoman empires were now part of the ash heap of history, in the memorable phrase of Leon Trotsky. His country, Russia, had not disappeared, but it was undergoing a transformation so profound that it was destabilizing half of Europe. Overseas, territories belonging to the belligerents were being exchanged like carpets at a second-hand bazaar. A century later, from the Middle East to Africa, the world is still struggling with the decisions made hastily in 1919.', 'But if anyone could solve these nasty problems, Americans could. To a beleaguered world, they seemed almost superhuman. Despite their late entry into the war, they had shaped the conflict decisively with their manpower, their matériel and their chirpy marketing. “Democracy” was the word of the hour, an elixir for all problems, according to President Woodrow Wilson, who intoned it with impressive solemnity.', 'For a time, the world believed it. As he headed to Paris, for what was the longest overseas trip of a president, he was lionized as few leaders have ever been. Film footage captures the odd contrast of his quiet oceanic passage, followed by the euphoria of the crowds in France, who hoped he would solve all of their problems. That was a tall order.', 'We still live close to that grainy footage, inside the world that emerged from Versailles and its Hall of Mirrors. German resentment of the harsh conditions imposed fueled the rise of Adolf Hitler, who, like many, found his political voice in 1919. Historians would later trace the origins of World War II to the treaty’s shortcomings, and the swirling nationalisms that it failed to calm. President Wilson promised to build a world “safe for democracy,” but the result was neither safe nor, in many cases, democratic. A British politician whose career barely survived the war, Winston Churchill, saw it more clearly as a “crippled, broken world,” divided along fault lines that had never been obliterated.', 'Large parts of the British, French and Belgian empires remained intact, to the distress of millions hoping for democracies of their own. Inspired by the winds of change, independence movements sprang up around the world. Some were successful, but for many others, self-determination, another one of Wilson’s ringing phrases, was elusive at best. Weary European diplomats chafed at his moralistic speeches, which they scorned as “sermonettes.” The president of France, Georges Clemenceau, complained that “talking to Wilson was something like conversing with Jesus Christ!” Wilson would surely have seconded the thought.', 'Still, there were pockets of realism within the idealism of a politician who, for all his blind spots, understood that the world could not continue as before. Wilson has long been criticized for his failures, but he was correct in his grasp of a core truth, still relevant, that a lazy return to unbridled nationalism was a recipe for conflict. Like most presidents, he did not relish consulting with Congress, a misreading of democracy that boomeranged on him, as a newly elected Republican majority refused to approve his plan for a League of Nations.', 'Desperate to outflank them, he tried to take his case directly to the people, with boisterous rallies, far from East Coast elites — another way in which 2019 mirrors 1919. The strain of that effort resulted in a stroke, which nearly incapacitated Wilson for the last year of his presidency. Democracy’s great spokesman had imperiled the very system of government that he went to such lengths to defend. His crack-up was one of many in 1919.', 'To young writers like Fitzgerald, who received his first book contract in 1919, it was obvious that the old words were not working and new ones needed to be found. Some writers simply invented their own — James Joyce was constantly writing new ones in his scribbledehobble, or notebook.', 'Others lamented what had vanished, while dreading what was to come next. “Many ingenious lovely things are gone,” William Butler Yeats wrote, in a poem titled “Nineteen hundred and Nineteen.” Less than five years had elapsed since the war started in 1914, but everything felt different. To Yeats, the new sights and sounds were terrifying: In one of his most famous poems, “The Second Coming,” he imagined an apocalypse populated by fantastic beasts that would give J.K. Rowling a run for her money. Despite its gloom, it has become one of the most over-quoted poems in history.', 'But for millions of others, the sights and sounds of 1919 were glorious. The waging of the war had released a galvanic energy from Americans, who attacked the problem of victory with stunning efficiency. That included tremendous contributions from immigrants, women and African-Americans, who were raucously celebrated in victory parades upon return. One parade in New York feted the famous Harlem Hellfighters regiment, marching behind a spirited band playing a kind of music most Americans had never heard, soon to be known as jazz.', 'One of the hottest songs of 1919 was a novelty hit, “How Ya Gonna Keep ’Em Down on the Farm (After They’ve Seen Paree)?” It was a fair question for a country that was not going to return easily to prewar attitudes about race and citizenship. The return of the doughboys brought an exuberant close to the war effort, but also exacerbated tensions over who was entitled to democracy and self-determination, those pesky phrases that Woodrow Wilson kept repeating.', 'Throughout 1919, that was another way in which Americans seemed to hold two opposing thoughts at the same time. Large numbers of African-Americans chose their own form of self-determination by moving out of the South, toward Northern cities, the Midwest and the West Coast, a demographic change that altered America forever. But even after the move, many found democracy a daily challenge.', 'That year in the South, two children born near each other, on either side of the Alabama-Georgia line, revealed how quickly the country was changing. Jackie Robinson grew up in a new kind of America, thanks to his mother, who moved with him to California. George Wallace spent most of life trying to hold back the tide of change that Robinson’s generation helped unleash.', 'Throughout a long year, these tensions simmered just below America’s gleaming surfaces. An ugly race riot in Chicago took the lives of 38 people in late July. Other anxieties targeted immigrants, who found Americans less welcoming than the statue that greeted them in New York Harbor. To defenders of the old order, America had done her part, and there was no need to open the floodgates. But to many others, seeking a broader form of democracy, Wilson’s rhetoric seemed to describe a country that existed more vividly in his imagination than reality.', 'Torn in these two directions, the world’s wealthiest country seemed headed to its own form of a crack-up. Throughout 1919, waves of fear paralyzed Americans, as they reeled from a deadly influenza epidemic at the start of the year, then a campaign of letter bombs sent by anarchists in the spring. A vigorous government response led to the creation of the F.B.I. and a series of raids conducted by an overzealous attorney general, A. Mitchell Palmer. These “Palmer Raids” awakened fears of a police state and once again revealed how difficult democracy could be. A retaliatory bomb, directed at Palmer, exploded outside his house in Washington, nearly killing his neighbor, Franklin Roosevelt. When Roosevelt gave the speech that named the New Deal, 13 years later, he remembered Wilson who, for all of his failings, had ushered Americans into a new era.', 'A long century has elapsed, but the contradictions of 1919 still bear scrutiny. The old fault lines seem closer to the surface than they did in Roosevelt’s day, when Americans were largely united behind the great efforts to end poverty and crush fascism.', 'A hundred years ago, it was possible to look at the same country and see two very different versions of America. To be sure, this was a thriving nation of immigrants, innovating at a dizzying rate, with bustling cities that were the envy of the world. It was also a quieter country, dominated by its farmers and small towns, politically and socially conservative, and dismayed by the excesses of what would soon be known as the Jazz Age. Prohibition was another achievement — for what it’s worth — of 1919.', 'Neither side had a monopoly on virtue, as events would prove. Urban and rural America produced an equal share of political rascals. And rascality, in various guises, was another feature of life, as new forms of entertainment began to dominate attention, demanding villains and heroes in equal measure. In many cases, the war had accelerated this trend, advancing research in radio communication and using newsreels to mobilize support for the military effort. Soon, mass communication was affecting all Americans, rural and urban alike. Huge new movie palaces were built — the Capitol, in New York, could seat 4,000 — and Hollywood continued to grow apace, a new kind of dream factory, built around studios and stars.', 'Sports was a big business as well — in one case, a bit too big, as mobsters were able to alter the outcome of the 1919 World Series. Money affected fans in other ways, too — when the owner of the Boston Red Sox traded Babe Ruth to the New York Yankees at the end of the year, he invoked a curse on his team, which would not win another World Series until 2004.', 'The rural-urban divide was moderated in another way. Sales of automobiles nearly doubled in 1919, as Americans happily returned to their leisure pursuits and expanded their horizons in every sense. One eager driver was able to coax his vehicle to 120 miles an hour — in Brooklyn! ', 'Fortunately, no crackups resulted. ', 'Soon cars were changing everything. New suburban rings bloomed around cities, joining the urban and the rural to create something that was not quite either. An accidental effect of the war was a significant boost in oil production, as a result of a heavy emphasis on machines like tanks and airplanes that used internal combustion engines. Americans were quick to corral these markets, just as they embraced the automobile like no one else. But prewar experimentation in steam-powered and electric vehicles waned as a result. ', 'To better support this all-important vehicle, thousands of miles of highway were built, and that too changed the country forever. To promote the idea of interstate travel, a military convoy left Washington for California in July 1919. The New York Times called it “the largest aggregation of motor vehicles ever started on a trip of such length.”', 'But the convoy broke down repeatedly, and took 62 days to reach its destination. It averaged just six miles an hour, and almost didn’t make it out of Utah. As it turned out, there were almost no paved roads between Illinois and Nevada. Decades later, the officer who led the convoy, Dwight D. Eisenhower, would push for a national highway system as president. Even with a well-publicized divide between red and blue states, we can generally reach each other when we need to, and that is another unexpected result of a pivotal year.', 'In his overquoted poem from 1919, Yeats wrote “things fall apart, the center cannot hold.” Those words often ring true today, in another divided moment. But one of the comforts of history is seeing how wrong the earlier prognosticators of doom could be. By studying the ways in which we failed to fall apart, perhaps we can glean a small harvest of hope for the year ahead.', 'Ted Widmer is a distinguished lecturer at the Macaulay Honors College of the City University of New York and a senior fellow of the Carnegie Council for Ethics in International Affairs\",\n",
       " 'Imagine what we could do with our money, and hours, if we set our phones aside for a year.\\', \\'By Paul Greenberg\\', \\'Mr. Greenberg is a fellow at the Safina Center.\\', \\'More than three-quarters of all Americans own a smartphone. In 2018 those 253 million Americans spent $1,380 and 1,460 hours on their smartphone and other mobile devices. That’s 91 waking days; cumulatively, that adds up to 370 billion waking American hours and $349 billion.\\', \\'In 2019, here’s what we could do instead.\\', \"In most Western states, that $1,380 you spent on your phone could buy half an acre of land. In the right conditions, that half acre could easily accommodate 150 trees. A single tree sequesters 48 pounds of carbon a year. It takes about 30 minutes for an amateur forester to plant a tree. If every American smartphone owner used that time and money to plant half an acre of trees, we would sequester about 886 million tons of carbon a year, enough to offset more than 10 percent of the country’s annual emissions. If you don\\'t want to do the planting yourself, the National Forest Foundation says it could meet all of its planting goals if every smartphone user gave it just 60 cents.\", \\'A recent study of romantic relationships among college students in the journal Psychology of Popular Media Culture found that “smartphone dependency is significantly linked to relationship uncertainty” and that “partners’ perceived smartphone dependency predicts less relationship satisfaction.” According to another recent study, more than 29 percent of Americans would rather give up sex for three months than give up their smartphone for a single week.\\', \\'Now flip that around: If you gave up your device for a year, you would have time to make love about 16,000 times (assuming you’re like most Americans and your lovemaking sessions last an average of 5.4 minutes, not counting foreplay).\\', \\'If all that sex doesn’t bring you and your partner closer, you could pay for about four hours of couples therapy. Not enough time? The renowned couples therapist Esther Perel has managed to fix some couples’ problems in three.\\', \\'Currently the American political system undercounts the votes of the majority of Americans, either through gerrymandering or the unfair distribution of Senate seats and electoral votes. But this system can be changed particularly if we push for a program for voter reform at a grassroots level. As David Gold, an attorney with the organization Democratism, noted, “Quitting devices would give citizens enough time and money to visit their local and state representatives three times a week for a year and cover the cost of the trip in gas or mass transit to lobby for reform.”\\', \\'Every year 10 million tons of plastic waste flows into the ocean. According to George Leonard of the Ocean Conservancy, if Americans applied all the money they allocate to smartphones to solving plastic pollution, “There would be enough money available to pay for the necessary improvements in waste management in Asian countries for 70 years.” And if the time Americans spent on smartphones were applied to ocean clean up at a rate of five pounds of plastic garbage per person per hour, “The volunteer effort could clean up the amount of plastic that flows into the global ocean 118 times over.”\\', \\'The average reader, reading at a speed of 280 words per minute, would take approximately 71½ hours to read the 1.3 million words in Marcel Proust’s “In Search of Lost Time.” With 1,460 hours repurposed from device usage, a reader would get through the books almost 20 times. With the $1,380 in device-free savings, you could spend the weekend in Illiers-Combray, the setting of Proust’s first madeleine-soaked memories, and see if he got it right.\\', \\'According to the Mayo Clinic, swimming, walking or running for 30 minutes a day will lower your blood pressure by four to nine millimeters of mercury, as much or more than some blood pressure medication. Yes, you could keep your phone with you while you exercise, but who needs the stress? And if you’d rather not exercise, blood pressure medication costs about $900 per year.\\', \\'The average American spends $14,000 per decade on smartphones. That’s $70,000 over the course of an average working life. Invested in a conservative mutual fund with an annual rate of return of 4 percent, that would yield over $1.3 million in retirement savings. (The current median household retirement savings is $5,000.)\\', \\'Last year the globe-circling Scottish cyclist Mark Beaumont smashed the world circumnavigation record by riding around the world’s land mass in 79 days. He pedaled 16 hours a day for a total of 1,264 hours — or just under a year’s worth of smartphone usage. Average humans couldn’t match Mr. Beaumont’s feat, but the money and time saved by ditching their phones would afford them a lot of time with a personal trainer.\\', \\'Smartphone usage is highest among teenagers and people in their early 20s. And it’s at this crucial time when virtuosity in a musical instrument can be attained. At current rates of device usage, most young people will burn through the famous 10,000 hours Malcolm Gladwell associated with becoming an “elite pianist” over the course of the next decade. How many virtuosos will we lose in the years ahead if device use among young people continues to grow apace?\\', \\'Using English as a baseline, you would need approximately 700 hours to become proficient in a foreign language as measured by Common European Framework of Reference for Languages. With the time you spend staring into your device, you could learn two.\\', \\'A recent study found that children between 7 months and 24 months old experienced higher levels of distress and were less likely to investigate their surroundings when their parents were on their mobile devices. Secure attachment begins in infancy when children take visual cues of attachment from their parents’ gaze. Every moment you look at your infant instead of your phone is an investment in the future.\\', \\'Paul Greenberg is a fellow at the Safina Center and the author of the forthcoming \"iQuit: 50 Things to Do iNstead.',\n",
       " \"Can the Constitution withstand the partisans?', 'By David Brooks', 'Opinion Columnist', 'In Willa Cather’s novel “My Antonia,” there are two kind Russian farmers named Peter and Pavel who have settled on the Nebraska prairie. On his death bed, Pavel tells the story of how they came to emigrate there.', 'Many years before, back in Russia, the two young men had been the groomsmen at a friends’ wedding. The party went on well after midnight and eventually a caravan of seven sledges carried the families through the snow, back to where they were staying. As they rode, faint streaks of shadow — hundreds of them — could be seen dashing through the trees along the trail. Suddenly, the howling of wolves erupted from all directions.', 'The horses took off and the wolves attacked. The rear sledge hit a clump and overturned. The shrieks were horrific as the wolves pounced on their human prey. Another sledge tipped and then another, and the swarms of wolves descended on the families.', 'Pavel and Peter were in the lead sledge, carrying the bride and groom. They were careening at top speed, but one of their horses was now near death with exhaustion. Pavel turned to the groom. They would have to lighten their load. He pointed to the bride. The groom refused to let her be tossed over. Pavel fought with him and tried to rip her away. In the scuffle he threw them both out and to the wolves.', 'Peter and Pavel survived — but lived in infamy. They were the monsters who had thrown a bride to the wolves. They were forced to flee to the New World.', 'The story reminds us how thin the crust of civilization really is. It reminds us of what otherwise good people are capable at moments of severe stress and crisis, when fear is up and when conflict — red in tooth and claw — takes control.', 'It’s an especially good story to tell as we enter 2019, because this looks to be the year of the wolves — the year when savage and previously unimaginable things might happen.', 'It will be a year of divided government and unprecedented partisan conflict. It will be a year in which Donald Trump is isolated and unrestrained as never before. And it will be in this atmosphere that indictments will fall, provoking not just a political crisis but a constitutional one.', 'There are now over a dozen investigations into Trump’s various scandals. If we lived in a healthy society, the ensuing indictments would be handled in a serious way — somber congressional hearings, dispassionate court proceedings. Everybody would step back and be sobered by the fact that our very system of law is at stake.', 'But we don’t live in a healthy society and we don’t have a healthy president.', 'Trump doesn’t recognize, understand or respect institutional authority. He only understands personal power. He sees every conflict as a personal conflict in which he destroys or gets destroyed.', 'When the indictments come down, Trump won’t play by the rules. He’ll seek to delegitimize those rules. He’ll seek to delegitimize our legal institutions. He’ll personalize every indictment, slander every prosecutor. He’ll seek to destroy the edifice of law in order to save himself.', 'We know the language he’ll use. It will be the anti-establishment, anti-institutional language that has been coursing through the left and right for the past few decades: The establishment is corrupt, the game is rigged, the elites are out to get you.', 'At that point congressional leaders will face the defining choice of their careers: Where does their ultimate loyalty lie, to the Constitution or to their party?', 'If their loyalty is to the Constitution, they will step back and figure out, in a bipartisan way, how to hold the sort of hearings that Congress held during the Watergate scandal — hearings that inspired trust in the system. They will step back and find men and women of integrity — the modern versions of Archibald Cox, Elliot Richardson and Judge John Sirica — who would work to restore decency amid the moral rot.', 'On the other hand, if they put party above nation, they will see this crisis as just another episode in our long-running political circus. They’ll fall back in partisan lines. They’ll hurl abuse. Their primary concern will be: How can this help me in 2020?', 'If that happens, then the roughly 40 percent of Americans who support Trump will see serious evidence that he committed felonies, but they won’t care! They’ll conclude that this is not about law or integrity. It’s just a political show trial. They’ll see there is no higher authority that all Americans are accountable to. It’s just power and popularity straight through.', 'If that happens, we’ll have to face the fact that our Constitution and system of law were not strong enough to withstand the partisan furies that now define our politics. We’ll have to face the fact that America has become another fragile state — a kakistocracy, where laws are passed and broken without consequence, where good people lay low and where wolves are left free to prey on the weak\",\n",
       " \"The Christian right doesn’t like the president only for his judges. They like his style.', 'By Katherine Stewart', 'Ms. Stewart writes regularly about the political activities of evangelicals and other religious groups.', 'The month before the 2018 midterms, a thousand theaters screened “The Trump Prophecy,” a film that tells the story of Mark Taylor, a former firefighter who claims that God told him in 2011 that Donald Trump would be elected president.', 'At a critical moment in the film, just after the actor representing Mr. Taylor collapses in the flashing light of an epiphany, he picks up a Bible and turns to the 45th chapter of the book of Isaiah, which describes the anointment of King Cyrus by God. In the next scene, we hear Mr. Trump being interviewed on “The 700 Club,” a popular Christian television show.', 'As Lance Wallnau, an evangelical author and speaker who appears in the film, once said, “I believe the 45th president is meant to be an Isaiah 45 Cyrus,” who will “restore the crumbling walls that separate us from cultural collapse.”', 'Cyrus, in case you’ve forgotten, was born in the sixth century B.C.E. and became the first emperor of Persia. Isaiah 45 celebrates Cyrus for freeing a population of Jews who were held captive in Babylon. Cyrus is the model for a nonbeliever appointed by God as a vessel for the purposes of the faithful.', 'The identification of the 45th president with an ancient Middle Eastern potentate isn’t a fringe thing. “The Trump Prophecy” was produced with the help of professors and students at Liberty University, whose president, Jerry Falwell Jr., has been instrumental in rallying evangelical support for Mr. Trump. Jeanine Pirro of Fox News has picked up on the meme, as has Ron Dermer, the Israeli ambassador to the United States, among many others.', 'As the Trump presidency falls under siege on multiple fronts, it has become increasingly clear that the so-called values voters will be among the last to leave the citadel. A lot of attention has been paid to the supposed paradox of evangelicals backing such an imperfect man, but the real problem is that our idea of Christian nationalism hasn’t caught up with the reality. We still buy the line that the hard core of the Christian right is just an interest group working to protect its values. But what we don’t get is that Mr. Trump’s supposedly anti-Christian attributes and anti-democratic attributes are a vital part of his attraction.', 'Today’s Christian nationalists talk a good game about respecting the Constitution and America’s founders, but at bottom they sound as if they prefer autocrats to democrats. In fact, what they really want is a king. “It is God that raises up a king,” according to Paula White, a prosperity gospel preacher who has advised Mr. Trump.', 'Ralph Drollinger, who has led weekly Bible study groups in the White House attended by Vice President Mike Pence and many other cabinet members, likes the word “king” so much that he frequently turns it into a verb. “Get ready to king in our future lives,” he tells his followers. “Christian believers will — soon, I hope — become the consummate, perfect governing authorities!”', 'The great thing about kings like Cyrus, as far as today’s Christian nationalists are concerned, is that they don’t have to follow rules. They are the law. This makes them ideal leaders in paranoid times.', '“When are they going to start rolling out the boxcars to start hauling off Christians?” Tony Perkins, the president of the Family Research Council, asked in 2016. If you’re hearing those boxcars pulling up in the distance, as it were, you don’t merely overlook the antisocial qualities of a prospective leader, you embrace them as virtues.', 'Mr. Trump himself well understands this longing for the hard hand of the despot. “If you don’t mind me saying so, you’ve gotten soft,” he told Mr. Wallnau and other evangelical leaders during the 2016 campaign — much to their delight.', 'Another important thing to understand about Cyrus is that he is not a queen. In the Christian nationalist world, legitimate political power is largely male power. Mr. Drollinger insists that the Bible describes only “male leadership.”', 'Of course, there are those on the Christian right who have made a show of holding their noses while supporting Mr. Trump to advance their aims of stacking the Supreme Court or ending abortion. But we are kidding ourselves if we think their continuing support for him is purely transactional.', 'I have attended dozens of Christian nationalist conferences and events over the past two years. And while I have heard plenty of comments casting doubt on the more questionable aspects of Mr. Trump’s character, the gist of the proceedings almost always comes down to the belief that he is a miracle sent straight from heaven to bring the nation back to the Lord. I have also learned that resistance to Mr. Trump is tantamount to resistance to God.', 'This isn’t the religious right we thought we knew. The Christian nationalist movement today is authoritarian, paranoid and patriarchal at its core. They aren’t fighting a culture war. They’re making a direct attack on democracy itself.', 'They want it all. And in Mr. Trump, they have found a man who does not merely serve their cause, but also satisfies their craving for a certain kind of political leadership. ', 'Katherine Stewart (@kathsstewart) is the author of “The Good News Club: The Christian Right’s Stealth Assault on America’s Children.\",\n",
       " 'The United States is spending beyond its means on a mission that might only be helping its strategic rivals. \\', \\'By Robert D. Kaplan\\', \\'Mr. Kaplan is an author.\\', \\'The decision by President Trump to withdraw 7,000 of the roughly 14,000 American troops left in Afghanistan, possibly by summer, has raised new concerns about his impulsive behavior, especially given his nearly simultaneous decision to pull out all American forces from Syria against the advice of Defense Secretary Jim Mattis. But the downsizing of the Afghan mission was probably inevitable. Indeed, it may soon be time for the United States to get out of the country altogether.\\', \\'No other country in the world symbolizes the decline of the American empire as much as Afghanistan. There is virtually no possibility of a military victory over the Taliban and little chance of leaving behind a self-sustaining democracy — facts that Washington’s policy community has mostly been unable to accept. \\', \\'While many American troops stay behind steel-reinforced concrete walls to protect themselves from the very population they are supposed to help, it is striking how little discussion Afghanistan has generated in government and media circles in Washington. When it comes to Afghanistan, Washington has been a city hiding behind its own walls of shame and frustration.\\', \"While the Chinese, Pakistanis, Indians and Iranians are all developing competing energy and mining projects in and next door to Afghanistan, the United States appears to have little commercial future in the country, even though it spends about $45 billion there annually. The total cost of the war could reach as high as $2 trillion when long-term costs are factored in, according to Brown University\\'s Cost of War Project. All that to prop up an unstable government that would most likely disintegrate if aid were to end. \", \\'Indeed, Afghanistan represents the triumph of the deterministic forces of geography, history, culture, and ethnic and sectarian awareness, with Pashtuns, Tajiks, Uzbeks and Hazaras and other groups competing for patches of ground. Tribes, warlords and mafia-style networks that control the drug trade rule huge segments of the country. To show just how perverted the situation has become, the British regional specialist Anatol Lieven, writing in The National Interest, argues that “just because the U.S. money was stolen does not mean that it was wasted,” since it has gone to paying off tribal chiefs to keep them from joining the Taliban or becoming feuding warlords.\\', \\'It did not have to be like this. Had the United States not become diverted from rebuilding the country by its invasion of Iraq in 2003 (which I mistakenly supported), or had different military and development policies been tried, these forces of division might have been overcome. According to the Pakistani journalist Ahmed Rashid, there was simply too much emphasis on the electoral process in Kabul and not nearly enough on bread-and-butter nation building — in particular, bringing basic infrastructure and agriculture up to the standards that Afghans enjoyed from the 1950s until the Soviet invasion of 1979.\\', \\'Certainly, no place is hopeless. But that is not where we are now. The heavily Pashtun Taliban, an accessory to the Sept. 11 hijackings, continues to make battlefield gains and, if there are actual peace negotiations, is poised to share power with the American-backed government of President Ashraf Ghani, if not eventually replace it. The United States’ special adviser to Afghanistan, Zalmay Khalilzad, is trying to broker a diplomatic solution that allows the United States to draw down its forces without the political foundation in Kabul disintegrating immediately.\\', \\'That may be the real reason the United States keeps spending so heavily in Afghanistan. The Pentagon is terrified of a repeat of 1975, when panicked South Vietnamese fled Saigon as Americans pulled out and North Vietnamese forces advanced on the city. The United States military did not truly begin to recover from that humiliation until its victory in the Persian Gulf war of 1991. An abrupt withdrawal from Afghanistan could conceivably provide a new symbol of the decline in American hard power. \\', \\'There is also the fear that an Afghanistan in chaos could once again provide a haven for an international terrorist group determined to perpetrate another Sept. 11-scale attack. Of course, Yemen, Somalia and a number of other places could also provide the setting for that. \\', \\'The point is, we remain in Afghanistan out of fear of even worse outcomes, rather than in the expectation of better ones. Washington now merely hopes that Mr. Khalilzad, an experienced diplomat born in Afghanistan, can deliver a decent interval of stability.\\', \\' The Chinese, Pakistanis, Russians, Indians and Iranians, meanwhile, may all be benefiting more from America’s military operations in Afghanistan than the United States is. Our presence may provide just enough security to allow their energy and transport corridors to take shape, while also helping the Russians guard against Islamic terrorism on their southern border. Thus, our rivals build their own empires on the back of our declining one. \\', \\'One might argue that a collapse of the pro-American government in Kabul would allow those countries to gain even greater footholds in Afghanistan. But then stabilizing the unruly country would become their problem. \\', \\'An enterprising American diplomat, backed by a coherent administration, could try to organize an international peace conference involving Afghanistan and its neighbors, one focused on denying terrorist groups a base in South-Central Asia. \\', \\'It is the kind of project that Henry Kissinger, Richard Holbrooke, James Baker III or George Shultz would have taken up in their day. But it is not something anyone can reasonably expect this administration, as chaotic, understaffed and incompetent as it is, to undertake, especially with the departure of Mr. Mattis.\\', \\'Do we owe it to the Afghan people to stay? Not if the ideals that we claim to represent appear unachievable. Spending billions and stationing thousands of troops there with no end in sight to stem a deepening chaos is simply not sustainable policy. Even a small fraction of that money could be better spent on smarter infrastructure investments in Asia, such as liquid natural gas terminals and dual-use ports in Vietnam to compete with China’s maritime Belt and Road Initiative.\\', \\'Our withdrawal should not be sudden. It should reduce outlays and give Ambassador Khalilzad time to work out an arrangement with our allies, all without public timetables that enable our adversaries to wait us out. \\', \\'But let’s be honest with ourselves: Afghanistan is like the huge and hugely expensive aircraft carriers we continue to build, increasingly obsolete in an era of sophisticated missile technology and hypersonic warfare. It is a vestigial limb of empire, and it is time to let it go. \\', \\'Robert D. Kaplan, a senior fellow at the Center for a New American Security and a senior adviser at Eurasia Group, is the author of, most recently, “The Return of Marco Polo’s World: War, Strategy, and American Interests in the Twenty-First Century.”',\n",
       " \"Get ready for a year dominated by the struggle over a scandal-plagued presidency.', 'By David Leonhardt', 'Opinion Columnist', 'This article is part of the Opinion Today newsletter. You can sign up here to receive the newsletter each weekday.', 'It’s been a while since the United States has faced a year like the one that I expect 2019 to be.', 'This year appears as if it will be dominated by presidential scandals — and the question of whether President Trump can survive those scandals. If he does, 2019 could feel a lot like 1998, when President Bill Clinton did indeed survive. If the danger continues to mount for Trump, 2019 could instead end up resembling 1973 or 1974. The presidency of Richard Nixon, of course, did not survive 1974.', 'Tellingly, some senior Republicans now share these expectations for 2019. The Washington Post recently quoted Steve Bannon predicting that this year would be one of “siege warfare” for Trump. The story ran under this headline: “Republican anxiety spikes as Trump faces growing legal and political perils.”', '[Listen to “The Argument” podcast every Thursday morning, with Ross Douthat, Michelle Goldberg and David Leonhardt.]', 'To prepare for the coming political battles, I recommend some history — of the battles over the Clinton and Nixon presidencies. Three recent hit podcasts have covered this history, and I enjoyed all of them.', 'Rachel Maddow’s “Bag Man” focuses on Spiro Agnew’s resignation in the midst of Watergate. As she notes, many Americans now have very little knowledge of the Agnew story, and it’s pretty incredible. The other two podcast come from Slate’s Leon Neyfakh. The first season of his podcast “Slow Burn” covered Watergate, and the second season retold the story of Clinton’s many sex scandals, culminating in his impeachment.', 'All three convey a sense of history-making drama, and I suspect we are about to enter another such period.', 'If you want to read a few recent pieces that put the Trump scandals into perspective, I linked to several in a recent newsletter.', 'You can join me on Twitter (@DLeonhardt) and Facebook. I am also writing a daily email newsletter and invite you t\",\n",
       " \"Skeptical reporting has still been too favorable.', 'By Paul Krugman', 'Opinion Columnist', 'The 2017 tax cut has received pretty bad press, and rightly so. Its proponents made big promises about soaring investment and wages, and also assured everyone that it would pay for itself; none of that has happened.', 'Yet coverage actually hasn’t been negative enough. The story you mostly read runs something like this: The tax cut has caused corporations to bring some money home, but they’ve used it for stock buybacks rather than to raise wages, and the boost to growth has been modest. That doesn’t sound great, but it’s still better than the reality: No money has, in fact, been brought home, and the tax cut has probably reduced national income. Indeed, at least 90 percent of Americans will end up poorer thanks to that cut.', 'Let me explain each point in turn.', 'First, when people say that U.S. corporations have “brought money home” they’re referring to dividends overseas subsidiaries have paid to their parent corporations. These did indeed surge briefly in 2018, as the tax law made it advantageous to transfer some assets from the books of those subsidiaries to the home companies; these transactions also showed up as a reduction in the measured stake of the parents in the subsidiaries, i.e., as negative direct investment (Figure 1).', 'But these transactions are simply rearrangements of companies’ books for tax purposes; they don’t necessarily correspond to anything real. Suppose that Multinational Megacorp USA decides to have its subsidiary, Multinational Mega Ireland, transfer some assets to the home company. This will produce the kind of simultaneous and opposite movement in dividends and direct investment you see in Figure 1. But the company’s overall balance sheet – which always included the assets of MM Ireland – hasn’t changed at all. No real resources have been transferred; MM USA has neither gained nor lost the ability to invest here.', 'If you want to know whether investable funds are really being transferred to the U.S., you need to look at the overall balance on financial account – or, what should be the same (and is more accurately measured), the inverse of the balance on current account. Figure 2 shows that balance as a share of GDP – and as you can see, basically nothing has happened.', 'So the tax cut induced some accounting maneuvers, but did nothing to promote capital flows to America.', 'The tax cut did, however, have one important international effect: We’re now paying more money to foreigners.', 'Bear in mind that the one clear, overwhelming result of the tax cut is a big break for corporations: Federal tax receipts on corporate income have plunged (Figure 3).', 'The key point to realize is that in today’s globalized corporate system, a lot of any country’s corporate sector, our own very much included, is actually owned by foreigners, either directly because corporations here are foreign subsidiaries, or indirectly because foreigners own American stocks. Indeed, roughly a third of U.S. corporate profits basically flow to foreign nationals – which means that a third of the tax cut flowed abroad, rather than staying at home. This probably outweighs any positive effect on GDP growth. So the tax cut probably made America poorer, not richer.', 'And it certainly made most Americans poorer. While 2/3 of the corporate tax cut may have gone to U.S. residents, 84 percent of stocks are held by the wealthiest 10 percent of the population. Everyone else will see hardly any benefit.', 'Meanwhile, since the tax cut isn’t paying for itself, it will eventually have to be paid for some other way – either by raising other taxes, or by cutting spending on programs people value. The cost of these hikes or cuts will be much less concentrated on the top 10 percent than the benefit of the original tax cut. So it’s a near-certainty that the vast majority of Americans will be worse off thanks to Trump’s only major legislative success.', 'As I said, even the mainly negative reporting doesn’t convey how bad a deal this whole thing is turning out to be.', 'Follow The New York Times Opinion section \",\n",
       " \"In modern-day “re-education” prisons, Beijing is forcing ethnic Uighurs to forsake their religion. Why don’t Muslim governments rise up in anger?', 'By Mustafa Akyol', 'Contributing Opinion Writer', 'One of the darkest episodes of the 20th century was the gulag — the Soviet system of forced labor camps where dissidents were imprisoned in terrible conditions, often to perish. The camps were established by Lenin, expanded by Stalin and finally exposed to the world by the great Russian author Aleksandr Solzhenitsyn, with his 1973 masterpiece, “The Gulag Archipelago.” ', '“Thin strands of human lives stretch from island to island of Archipelago,” he wrote, and “it is enough if you don’t freeze in the cold, and if thirst and hunger don’t claw at your insides.”', 'Today, Russia’s gulags are long gone, as is the Communist Party of the Soviet Union that operated them. But now another dictatorship, ruled by another Communist Party, is operating a new chain of prisons that evoke memory of the gulags  — more modern, more high-tech, but no less enslaving.', 'These are China’s “re-education camps,” established in the far-western Xinjiang region, where up to a million Chinese are reportedly imprisoned in order to be indoctrinated. People are forced to listen to ideological lectures, sing hymns praising the Chinese Communist Party and write “self-criticism” essays. Survivors also tell about military-style discipline, sleep deprivation, solitary confinement, beatings and torture.', 'The target of this mass persecution is China’s Muslim minorities — especially the Uighurs, a Turkic-speaking people based in Xinjiang. They follow a mainstream, moderate interpretation of Sunni Islam. But that is enough of a “mental illness” for Chinese Communists, whose ideology considers all religions, including Christianity, to be backward superstitions that must be diluted and nationalized. That is why they go as far as forbidding people from having beards or fasting during Ramadan, and forcing them to consume pork and alcohol, both of which are forbidden in Islam.', 'Chinese authorities say they are alarmed about extremists among the Uighurs — and, in fact, a handful of terrorists have carried out attacks against government targets over the years. But those extremists arose partly in response to a decades-old policy of subjugation, along with ethnic colonialization, that Beijing has pursued against the Uighurs. That history suggests that Beijing’s current “counterterrorism” campaign will be only counterproductive — deepening a vicious cycle that authoritarian minds are often unable to understand, let alone break.', 'And here is the strangest aspect of this story: China’s “re-education” policy is a major attack on Muslim people and their faith, Islam, yet the Muslim world has remained largely silent. While the policy has been condemned by human rights groups and the liberal news media in the West, along with Uighur organizations themselves, only a few Muslim leaders, like the Malaysian politician Anwar Ibrahim and Pakistan’s minister of religion, Noorul Haq Qadri, have raised some public concerns. Not until last month did the Organization of Islamic Cooperation finally express concern about “the disturbing reports on the treatment of Muslims” by China. ', 'That is all very meek given how grim the situation is — and how it compares to what we would have seen if the same persecution had been carried out by some other country, such as, say, Israel.', 'Why is that? Why are Muslim leaders, especially those who love to be the champions of oppressed Muslims, so lenient toward China?', 'There are three answers. One is that coziness with China, the world’s second-largest economic power, pays. China is the top trading partner of 20 of the 57 member states of the Organization of Islamic Cooperation. Its ambitious Belt and Road Initiative, a huge path of commercial and transportation infrastructure intended to pass through much of the Middle East, holds a lucrative promise for many Muslim nations.', 'Moreover, China does not shy away from offering its economic assistance as hush money. In July 2018, The Global Times, the mouthpiece of the Chinese Communist Party, ran an interesting editorial suggesting that China’s government would help Turkey secure its “economic stability” — but only if Turkish officials stopped making “irresponsible remarks on the ethnic policy in Xinjiang,” which means stop criticizing China’s human rights violations. (At about the same time, Germany’s chancellor, Angela Merkel, was also promising to help the Turkish economy, but only if Turkey corrected its own human rights violations. In other words, Turkey was being pulled in opposite directions, and, sadly, the dark side has proved stronger so far.)', 'A second reason for Muslim silence is that the Chinese government crackdown on Uighurs is based on a premise that law and order can be restored by eradicating enemies of the government and traitors within a society. This is authoritarian language that most Muslim leaders understand well. It is their own language.', 'The third reason is that most Muslims who are likely to feel solidarity with their oppressed coreligionists think of the oppressors as “the West,” defined as the capitalist, hedonist, Zionist civilization led by the Great Satan. These Muslims, particularly the Islamists, believe that all of their coreligionists should unite with other anti-Western forces — a stance that evokes Samuel Huntington’s prediction of a “Confucian-Islamic” alliance against the West in his 1993 article in “Foreign Affairs” titled “The Clash of Civilizations?”', 'For Muslim autocrats and Islamists, a Confucian-Islamic alliance may still be alluring. China can look like a great model, in which the economy grows without Western nuisances like human rights, free speech or limited government. For Muslim societies, however, the Uighur crisis must be a wake-up call. It shows what can happen to Muslims when authoritarian governments embrace Islamophobia as state policy.', 'Islamophobia exists in the liberal democracies of the West, too — but there it can be criticized by the news media, checked by the courts and constrained by liberal institutions and traditions. Muslims can still practice their religion freely, and can even become lawmakers by being elected to bodies like the United States Congress.', 'For Muslim societies, in other words, a choice between freedom and dictatorship should not be too difficult. In freedom, you can live as a Muslim in safety and dignity. Under dictatorship, as China shows us, you can end up in a re-education camp.', 'Mustafa Akyol is a senior fellow on Islam and modernity at the Cato Institute and the author, most recently, of “The Islamic Jesus.\",\n",
       " \"The president is facing a level of intraparty criticism that has no recent precedent.', 'By David Leonhardt', 'Opinion Columnist', 'This article is part of the Opinion Today newsletter. You can sign up here to receive the newsletter each weekday.', 'Partisanship is a helluva drug (to steal a line from the political scientist Brendan Nyhan). ', 'Well into 1973 — after Watergate had already become a major scandal — a large majority of Republicans continued to support President Richard Nixon. Party elites, like Ronald Reagan and George H.W. Bush, supported him as well.', 'Democrats, of course, have their own version of partisan loyalty in the face of scandal, even if the details are quite different. President Bill Clinton had an exploitative affair with a young White House intern and lied about it under oath, yet most Democratic voters and party officials stood strongly behind him. ', '[Listen to “The Argument” podcast every Thursday morning, with Ross Douthat, Michelle Goldberg and David Leonhardt.]', 'I’m not running through this history to make moral judgments. My point this morning is different: It is extremely unusual for a president of the United States to face serious, sustained criticism from members of his own party.', 'And yet the criticism of President Trump from Republicans just keeps coming. Members of Congress have defied him recently on foreign policy. Senior Republicans publicly turned down the chief of staff job. The secretary of defense, in his resignation letter, laid out a point-by-point rejection of Trump’s worldview. And now Mitt Romney — a former Republican presidential nominee who was recently elected as a senator — has written a harsh op-ed in The Washington Post. ', '“The Trump presidency made a deep descent in December,” Romney wrote. “To reassume our leadership in world politics, we must repair failings in our politics at home. That project begins, of course, with the highest office once again acting to inspire and unite us.”', 'No, congressional Republicans still aren’t doing nearly as much as they should be to constrain Trump and hold him accountable for his behavior. But they are forcing him to face more intraparty criticism than any president has in a very long time.', 'Programming note. Starting Monday, the name of this newsletter will change. Instead of being called “Opinion Today,” the newsletter will bear my name.', 'The back story: When I began writing it in September 2016, this newsletter was one of only a few produced by the Opinion section — and I was planning to write it only temporarily. Thus the name “Opinion Today.” But 28 months later, I’m still writing it and enjoying it, thanks in no small part to the interactions with all of you.', 'And the Opinion section now has several newsletters: There is a weekly roundup of standout work, called Sunday Best, as well as the weekly Op-Docs newsletter. My colleague Frank Bruni has started a weekly newsletter. And Nick Kristof continues to write a twice-weekly newsletter.', 'The name change of this newsletter doesn’t require any changes by you. It will continue to arrive in your inbox five days a week, with my thoughts on the news and reading suggestions from around the web — as well as links to all Times Opinion pieces published that day.', 'In addition to a different name, the newsletter will also have a slightly different design — one I like because it’s a little bit better organized than the current design. As always, I welcome your feedback, at leonhardt@nytimes.com.', 'You can join me on Twitter (@DLeonhardt) and Facebook. I am also writing a daily email newsletter and invite you t\",\n",
       " \"Only Washington and Beijing, working together, can slow climate change and the spread of nuclear weapons.', 'By Robert E. Rubin', 'Mr. Rubin was secretary of the Treasury from 1995 to 1999 and is co-chairman emeritus of the Council on Foreign Relations.', 'In the United States, support for a cooperative relationship with China is evaporating fast. I increasingly hear frustration from business leaders about structural trade issues. The military is concerned about aggressive geopolitical moves by Beijing. And prominent voices in both political parties are striking an increasingly confrontational tone. Legitimate concerns have led to a vicious cycle, with each negative development further poisoning an already shallow well of good will. ', 'The cycle has to be reversed. In the United States, the business community, policy analysts and the media should create a climate that encourages elected officials to pursue a constructive relationship. The same is true in China, albeit in a different political system. Leaders in both countries should recognize our imperative self-interest in working together on hugely consequential transnational issues, especially two threats to life on earth as we know it: nuclear weapons and climate change.', 'No single country can tackle these threats alone, and existing international institutions have proved inadequate. The best chance for successfully dealing with these overarching issues — as well as other transnational issues like pandemics, terrorism and cybersecurity — is for the world’s two largest national economies to catalyze global action. ', 'In a conversation I recently led at the Council on Foreign Relations, the Chinese foreign minister, Wang Yi, alluded to this, remarking that “history will remember those who took the lead in the mist.” ', 'The surest way for that to happen is to forge a constructive relationship between our two countries. Absent that, it is imperative that we put our differences aside to tackle these two existential challenges.', 'As the two largest economies, the United States and China can set the tone for a global effort against climate change by investing in clean-energy technology, adopting strict environmental rules and encouraging their trading partners to do the same. (Of course, the current administration does not accept the reality of climate change, but future administrations will hopefully recognize the urgency of action.)', 'Cooperation is also needed to address the spread or possible use of nuclear weapons. North Korea’s continued development of fissile materials and missiles is an apparent contravention of its recent agreement with the United States. And North Korea isn’t the only concern. Pakistan, for example, has a weak government and uncertain controls over its nuclear arsenal.', 'The arc of human history is one of frequent conflict. Unless you believe human nature is likely to change, that suggests a serious risk that nuclear arms will be used at some point by state or nonstate actors. United States-China cooperation to limit nuclear proliferation among states, the diversion of nuclear material to terrorists and other risks would make us all safer.', 'The most promising prospect for tackling these challenges is to put our countries’ economic relationship back on steady footing. The tenor of the relationship gets set at the top, so it’s time for Presidents Trump and Xi Jinping to work out their current trade disputes within a framework that prioritizes cooperation. ', 'The administration’s antipathy toward China sometimes seems driven by an irrational anger over trade deficits. Virtually all mainstream economists see the president’s theory that our trade relationship should be evaluated by the bilateral trade deficit as analytically wrong.', 'On the other hand, China has contravened some widely accepted trade and investment norms by, for example, subsidizing exports, restricting imports, protecting national champions, imposing buy-China mandates and, at times, requiring foreign companies to share their intellectual property with Chinese partners.', 'These structural policies present a complex problem. They’re embedded in China’s economic model, and the United States needs to recognize that it can’t simply demand that China change that model. And China needs to recognize that its system creates some unacceptable consequences in the trade arena. ', 'From there, the two countries should be able to identify reasonable solutions. Washington’s approach should have been multilateral and quiet, joining with other countries, including our European allies, Brazil, Mexico and Japan to approach Beijing as a united bloc; hopefully it’s not too late to walk this path.', 'We’ve bridged our economic and political differences before. When I served as Treasury secretary in the 1990s, the United States and China worked together to stem the Asian financial crisis. And though the current administration has withdrawn from the Paris climate agreement, bilateral cooperation was integral to its creation in 2015.', 'We must look beyond the daily headlines about trade to the more consequential problem of ever-greater friction between the United States and China. For the future of humanity, not to mention our immediate economic interests, our two countries must recognize our mutual self-interest in a constructive relationship and act accordingly.', 'Robert E. Rubin, secretary of the Treasury from 1995 to 1999, is co-chairman emeritus of the Council on Foreign Relations\"]"
      ]
     },
     "execution_count": 69,
     "metadata": {},
     "output_type": "execute_result"
    }
   ],
   "source": [
    "corpus[:10]"
   ]
  },
  {
   "cell_type": "code",
   "execution_count": null,
   "metadata": {},
   "outputs": [],
   "source": [
    "'Imagine what we could do with our money, and hours, if we set our phones aside for a year.\\', \\'By Paul Greenberg\\', \\'Mr. Greenberg is a fellow at the Safina Center.\\', "
   ]
  },
  {
   "cell_type": "code",
   "execution_count": null,
   "metadata": {},
   "outputs": [],
   "source": []
  },
  {
   "cell_type": "code",
   "execution_count": null,
   "metadata": {},
   "outputs": [],
   "source": []
  },
  {
   "cell_type": "code",
   "execution_count": null,
   "metadata": {},
   "outputs": [],
   "source": []
  },
  {
   "cell_type": "code",
   "execution_count": null,
   "metadata": {},
   "outputs": [],
   "source": []
  },
  {
   "cell_type": "code",
   "execution_count": null,
   "metadata": {},
   "outputs": [],
   "source": []
  },
  {
   "cell_type": "code",
   "execution_count": null,
   "metadata": {},
   "outputs": [],
   "source": []
  }
 ],
 "metadata": {
  "kernelspec": {
   "display_name": "Python 3",
   "language": "python",
   "name": "python3"
  },
  "language_info": {
   "codemirror_mode": {
    "name": "ipython",
    "version": 3
   },
   "file_extension": ".py",
   "mimetype": "text/x-python",
   "name": "python",
   "nbconvert_exporter": "python",
   "pygments_lexer": "ipython3",
   "version": "3.7.9"
  }
 },
 "nbformat": 4,
 "nbformat_minor": 4
}
