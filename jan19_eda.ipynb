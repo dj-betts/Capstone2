{
 "cells": [
  {
   "cell_type": "code",
   "execution_count": 22,
   "metadata": {},
   "outputs": [],
   "source": [
    "import pandas as pd"
   ]
  },
  {
   "cell_type": "code",
   "execution_count": 63,
   "metadata": {},
   "outputs": [],
   "source": [
    "import numpy as np"
   ]
  },
  {
   "cell_type": "code",
   "execution_count": 23,
   "metadata": {},
   "outputs": [],
   "source": [
    "jan19df = pd.read_csv('jan19.csv', index_col='Unnamed: 0')"
   ]
  },
  {
   "cell_type": "code",
   "execution_count": 24,
   "metadata": {},
   "outputs": [
    {
     "data": {
      "text/plain": [
       "Index(['abstract', 'web_url', 'snippet', 'lead_paragraph', 'source',\n",
       "       'multimedia', 'headline', 'keywords', 'pub_date', 'document_type',\n",
       "       'news_desk', 'section_name', 'byline', 'type_of_material', '_id',\n",
       "       'word_count', 'uri', 'print_section', 'print_page', 'subsection_name',\n",
       "       'text'],\n",
       "      dtype='object')"
      ]
     },
     "execution_count": 24,
     "metadata": {},
     "output_type": "execute_result"
    }
   ],
   "source": [
    "jan19df.columns"
   ]
  },
  {
   "cell_type": "markdown",
   "metadata": {},
   "source": [
    "# <span style=\"color:red\">convert string to datetime objects</span>.\n",
    "\n"
   ]
  },
  {
   "cell_type": "code",
   "execution_count": 35,
   "metadata": {},
   "outputs": [
    {
     "data": {
      "text/plain": [
       "array(['2019-01-01T00:00:03+0000', '2019-01-01T00:00:07+0000',\n",
       "       '2019-01-01T00:15:31+0000', ..., '2019-01-31T23:41:47+0000',\n",
       "       '2019-01-31T23:47:23+0000', '2019-01-31T23:57:57+0000'],\n",
       "      dtype=object)"
      ]
     },
     "execution_count": 35,
     "metadata": {},
     "output_type": "execute_result"
    }
   ],
   "source": [
    "jan19df.pub_date.unique()"
   ]
  },
  {
   "cell_type": "code",
   "execution_count": 36,
   "metadata": {},
   "outputs": [
    {
     "data": {
      "text/plain": [
       "str"
      ]
     },
     "execution_count": 36,
     "metadata": {},
     "output_type": "execute_result"
    }
   ],
   "source": [
    "type(jan19df.pub_date[0])"
   ]
  },
  {
   "cell_type": "code",
   "execution_count": 43,
   "metadata": {},
   "outputs": [
    {
     "data": {
      "text/plain": [
       "(1545,)"
      ]
     },
     "execution_count": 43,
     "metadata": {},
     "output_type": "execute_result"
    }
   ],
   "source": [
    "(jan19df.word_count.unique()).shape"
   ]
  },
  {
   "cell_type": "code",
   "execution_count": 51,
   "metadata": {},
   "outputs": [
    {
     "data": {
      "text/plain": [
       "(16,)"
      ]
     },
     "execution_count": 51,
     "metadata": {},
     "output_type": "execute_result"
    }
   ],
   "source": [
    "jan19df.print_section.unique().shape"
   ]
  },
  {
   "cell_type": "code",
   "execution_count": 52,
   "metadata": {},
   "outputs": [
    {
     "data": {
      "text/plain": [
       "array([nan, 'A', 'SR', 'B', 'C', 'D', 'BR', 'TR', 'BU', 'RE', 'ST', 'AR',\n",
       "       'MM', 'SP', 'MB', 'F'], dtype=object)"
      ]
     },
     "execution_count": 52,
     "metadata": {},
     "output_type": "execute_result"
    }
   ],
   "source": [
    "jan19df.print_section.unique()"
   ]
  },
  {
   "cell_type": "markdown",
   "metadata": {},
   "source": [
    "# <span style=\"color:red\">which page is an article on? can i predict which page a story is from?</span>."
   ]
  },
  {
   "cell_type": "code",
   "execution_count": 53,
   "metadata": {},
   "outputs": [
    {
     "data": {
      "text/plain": [
       "(42,)"
      ]
     },
     "execution_count": 53,
     "metadata": {},
     "output_type": "execute_result"
    }
   ],
   "source": [
    "jan19df.print_page.unique().shape"
   ]
  },
  {
   "cell_type": "code",
   "execution_count": 74,
   "metadata": {},
   "outputs": [],
   "source": [
    "pages_used = np.sort(jan19df.print_page.unique())"
   ]
  },
  {
   "cell_type": "code",
   "execution_count": 75,
   "metadata": {},
   "outputs": [
    {
     "data": {
      "text/plain": [
       "array([ 1.,  2.,  3.,  4.,  5.,  6.,  7.,  8.,  9., 10., 11., 12., 13.,\n",
       "       14., 15., 16., 17., 18., 19., 20., 21., 22., 23., 24., 25., 26.,\n",
       "       27., 28., 30., 31., 32., 34., 35., 38., 42., 43., 44., 46., 54.,\n",
       "       58., 66., nan])"
      ]
     },
     "execution_count": 75,
     "metadata": {},
     "output_type": "execute_result"
    }
   ],
   "source": [
    "pages_used"
   ]
  },
  {
   "cell_type": "code",
   "execution_count": 77,
   "metadata": {},
   "outputs": [
    {
     "data": {
      "text/plain": [
       "array([nan, 'Sunday Review', 'Opinion | Business & Economics',\n",
       "       'Personal Tech', 'Opinion | The World', 'Columnists',\n",
       "       'Middle East', 'Europe', 'Asia Pacific', 'Self-Care', 'Politics',\n",
       "       'Move', 'Book Review', 'Media', 'Americas', 'Weddings',\n",
       "       'Television', 'Commercial Real Estate', 'Dance', 'DealBook',\n",
       "       'The Daily', 'College Football', 'Eat', 'Art & Design', 'Live',\n",
       "       'Australia', 'Mind', 'Music', 'Golf', 'Family', 'Economy',\n",
       "       'Baseball', 'Africa', 'Energy & Environment ', 'Pro Basketball',\n",
       "       'Lesson Plans', 'Wine, Beer & Cocktails', 'Soccer', 'Canada',\n",
       "       'Tennis', 'Wirecutter', 'Hockey', 'Pro Football', 'Mutual Funds',\n",
       "       'Olympics', 'Learning'], dtype=object)"
      ]
     },
     "execution_count": 77,
     "metadata": {},
     "output_type": "execute_result"
    }
   ],
   "source": [
    "jan19df.subsection_name.unique()"
   ]
  },
  {
   "cell_type": "code",
   "execution_count": 80,
   "metadata": {},
   "outputs": [],
   "source": [
    "news = jan19df[jan19df['type_of_material'] == 'News']"
   ]
  },
  {
   "cell_type": "code",
   "execution_count": 81,
   "metadata": {},
   "outputs": [],
   "source": [
    "oped = jan19df[jan19df['type_of_material'] == 'Op-Ed']"
   ]
  },
  {
   "cell_type": "code",
   "execution_count": 82,
   "metadata": {},
   "outputs": [
    {
     "data": {
      "text/plain": [
       "array(['Op-Ed', 'News'], dtype=object)"
      ]
     },
     "execution_count": 82,
     "metadata": {},
     "output_type": "execute_result"
    }
   ],
   "source": [
    "jan19df.type_of_material.unique()"
   ]
  },
  {
   "cell_type": "code",
   "execution_count": 86,
   "metadata": {},
   "outputs": [
    {
     "data": {
      "text/plain": [
       "array([nan, 'Middle East', 'Europe', 'Asia Pacific', 'Self-Care',\n",
       "       'Politics', 'Move', 'Book Review', 'Media', 'Americas', 'Weddings',\n",
       "       'Television', 'Commercial Real Estate', 'Dance', 'DealBook',\n",
       "       'The Daily', 'College Football', 'Eat', 'Personal Tech',\n",
       "       'Art & Design', 'Live', 'Australia', 'Mind', 'Music', 'Golf',\n",
       "       'Family', 'Economy', 'Baseball', 'Africa', 'Energy & Environment ',\n",
       "       'Pro Basketball', 'Lesson Plans', 'Wine, Beer & Cocktails',\n",
       "       'Soccer', 'Canada', 'Tennis', 'Wirecutter', 'Hockey',\n",
       "       'Pro Football', 'Mutual Funds', 'Olympics', 'Learning'],\n",
       "      dtype=object)"
      ]
     },
     "execution_count": 86,
     "metadata": {},
     "output_type": "execute_result"
    }
   ],
   "source": [
    "news.subsection_name.unique()"
   ]
  },
  {
   "cell_type": "code",
   "execution_count": null,
   "metadata": {},
   "outputs": [],
   "source": []
  },
  {
   "cell_type": "code",
   "execution_count": 84,
   "metadata": {},
   "outputs": [
    {
     "data": {
      "text/plain": [
       "array([nan, 'Sunday Review', 'Opinion | Business & Economics',\n",
       "       'Personal Tech', 'Opinion | The World', 'Columnists'], dtype=object)"
      ]
     },
     "execution_count": 84,
     "metadata": {},
     "output_type": "execute_result"
    }
   ],
   "source": [
    "oped.subsection_name.unique()"
   ]
  },
  {
   "cell_type": "code",
   "execution_count": null,
   "metadata": {},
   "outputs": [],
   "source": []
  },
  {
   "cell_type": "code",
   "execution_count": null,
   "metadata": {},
   "outputs": [],
   "source": []
  },
  {
   "cell_type": "code",
   "execution_count": null,
   "metadata": {},
   "outputs": [],
   "source": [
    "103\n",
    "\n",
    "You can use boolean indexing:\n",
    "\n",
    "df = pd.DataFrame({'Sales':[10,20,30,40,50], 'A':[3,4,7,6,1]})\n",
    "print (df)\n",
    "   A  Sales\n",
    "0  3     10\n",
    "1  4     20\n",
    "2  7     30\n",
    "3  6     40\n",
    "4  1     50\n",
    "\n",
    "s = 30\n",
    "\n",
    "df1 = df[df['Sales'] >= s]\n",
    "print (df1)\n",
    "   A  Sales\n",
    "2  7     30\n",
    "3  6     40\n",
    "4  1     50\n",
    "\n",
    "df2 = df[df['Sales'] < s]\n",
    "print (df2)\n",
    "   A  Sales\n",
    "0  3     10\n",
    "1  4     20\n",
    "It's also possible to invert mask by ~:\n",
    "\n",
    "mask = df['Sales'] >= s\n",
    "df1 = df[mask]\n",
    "df2 = df[~mask]\n",
    "print (df1)\n",
    "   A  Sales\n",
    "2  7     30\n",
    "3  6     40\n",
    "4  1     50\n",
    "\n",
    "print (df2)\n",
    "   A  Sales\n",
    "0  3     10\n",
    "1  4     20\n",
    "print (mask)\n",
    "0    False\n",
    "1    False\n",
    "2     True\n",
    "3     True\n",
    "4     True\n",
    "Name: Sales, dtype: bool\n",
    "\n",
    "print (~mask)\n",
    "0     True\n",
    "1     True\n",
    "2    False\n",
    "3    False\n",
    "4    False\n",
    "Name: Sales, dtype: bool"
   ]
  }
 ],
 "metadata": {
  "kernelspec": {
   "display_name": "Python 3",
   "language": "python",
   "name": "python3"
  },
  "language_info": {
   "codemirror_mode": {
    "name": "ipython",
    "version": 3
   },
   "file_extension": ".py",
   "mimetype": "text/x-python",
   "name": "python",
   "nbconvert_exporter": "python",
   "pygments_lexer": "ipython3",
   "version": "3.7.9"
  }
 },
 "nbformat": 4,
 "nbformat_minor": 4
}
