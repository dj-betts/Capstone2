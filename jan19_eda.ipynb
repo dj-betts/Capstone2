{
 "cells": [
  {
   "cell_type": "code",
   "execution_count": 1,
   "metadata": {},
   "outputs": [],
   "source": [
    "import pandas as pd"
   ]
  },
  {
   "cell_type": "code",
   "execution_count": 2,
   "metadata": {},
   "outputs": [],
   "source": [
    "import numpy as np"
   ]
  },
  {
   "cell_type": "code",
   "execution_count": 3,
   "metadata": {},
   "outputs": [],
   "source": [
    "jan19df = pd.read_csv('2019_build/jan19_build/jan19_0_20.csv', index_col='Unnamed: 0')"
   ]
  },
  {
   "cell_type": "code",
   "execution_count": 4,
   "metadata": {},
   "outputs": [
    {
     "data": {
      "text/plain": [
       "Index(['abstract', 'web_url', 'snippet', 'lead_paragraph', 'source',\n",
       "       'multimedia', 'headline', 'keywords', 'pub_date', 'document_type',\n",
       "       'news_desk', 'section_name', 'byline', 'type_of_material', '_id',\n",
       "       'word_count', 'uri', 'print_section', 'print_page', 'subsection_name',\n",
       "       'text'],\n",
       "      dtype='object')"
      ]
     },
     "execution_count": 4,
     "metadata": {},
     "output_type": "execute_result"
    }
   ],
   "source": [
    "jan19df.columns"
   ]
  },
  {
   "cell_type": "markdown",
   "metadata": {},
   "source": [
    "# <span style=\"color:red\">convert string to datetime objects</span>\n",
    "\n"
   ]
  },
  {
   "cell_type": "code",
   "execution_count": 5,
   "metadata": {},
   "outputs": [
    {
     "data": {
      "text/plain": [
       "array(['2019-01-01T00:00:03+0000', '2019-01-01T00:00:07+0000',\n",
       "       '2019-01-01T00:15:31+0000', '2019-01-01T00:29:12+0000',\n",
       "       '2019-01-01T11:00:04+0000', '2019-01-01T13:06:48+0000',\n",
       "       '2019-01-01T17:47:14+0000', '2019-01-02T11:00:03+0000',\n",
       "       '2019-01-02T13:21:35+0000', '2019-01-02T20:00:03+0000',\n",
       "       '2019-01-02T23:08:11+0000', '2019-01-03T00:15:02+0000',\n",
       "       '2019-01-03T01:12:25+0000', '2019-01-03T10:00:07+0000',\n",
       "       '2019-01-03T11:00:04+0000', '2019-01-03T14:06:06+0000',\n",
       "       '2019-01-03T16:00:03+0000'], dtype=object)"
      ]
     },
     "execution_count": 5,
     "metadata": {},
     "output_type": "execute_result"
    }
   ],
   "source": [
    "jan19df.pub_date.unique()"
   ]
  },
  {
   "cell_type": "code",
   "execution_count": 6,
   "metadata": {},
   "outputs": [
    {
     "data": {
      "text/plain": [
       "str"
      ]
     },
     "execution_count": 6,
     "metadata": {},
     "output_type": "execute_result"
    }
   ],
   "source": [
    "type(jan19df.pub_date[0])"
   ]
  },
  {
   "cell_type": "code",
   "execution_count": 7,
   "metadata": {},
   "outputs": [
    {
     "data": {
      "text/plain": [
       "(19,)"
      ]
     },
     "execution_count": 7,
     "metadata": {},
     "output_type": "execute_result"
    }
   ],
   "source": [
    "(jan19df.word_count.unique()).shape"
   ]
  },
  {
   "cell_type": "code",
   "execution_count": 8,
   "metadata": {},
   "outputs": [
    {
     "data": {
      "text/plain": [
       "(2,)"
      ]
     },
     "execution_count": 8,
     "metadata": {},
     "output_type": "execute_result"
    }
   ],
   "source": [
    "jan19df.print_section.unique().shape"
   ]
  },
  {
   "cell_type": "code",
   "execution_count": 9,
   "metadata": {},
   "outputs": [
    {
     "data": {
      "text/plain": [
       "array([nan, 'A'], dtype=object)"
      ]
     },
     "execution_count": 9,
     "metadata": {},
     "output_type": "execute_result"
    }
   ],
   "source": [
    "jan19df.print_section.unique()"
   ]
  },
  {
   "cell_type": "markdown",
   "metadata": {},
   "source": [
    "# <span style=\"color:red\">which page is an article on? can i predict which page a story is from?</span>"
   ]
  },
  {
   "cell_type": "code",
   "execution_count": 10,
   "metadata": {},
   "outputs": [
    {
     "data": {
      "text/plain": [
       "(3,)"
      ]
     },
     "execution_count": 10,
     "metadata": {},
     "output_type": "execute_result"
    }
   ],
   "source": [
    "jan19df.print_page.unique().shape"
   ]
  },
  {
   "cell_type": "code",
   "execution_count": 11,
   "metadata": {},
   "outputs": [],
   "source": [
    "pages_used = np.sort(jan19df.print_page.unique())"
   ]
  },
  {
   "cell_type": "code",
   "execution_count": 12,
   "metadata": {},
   "outputs": [
    {
     "data": {
      "text/plain": [
       "array([19., 21., nan])"
      ]
     },
     "execution_count": 12,
     "metadata": {},
     "output_type": "execute_result"
    }
   ],
   "source": [
    "pages_used"
   ]
  },
  {
   "cell_type": "markdown",
   "metadata": {},
   "source": [
    "# <span style=\"color:red\">should I include all these subsections?</span>"
   ]
  },
  {
   "cell_type": "code",
   "execution_count": 13,
   "metadata": {},
   "outputs": [],
   "source": [
    "#jan19df.subsection_name.unique()"
   ]
  },
  {
   "cell_type": "code",
   "execution_count": 14,
   "metadata": {},
   "outputs": [],
   "source": [
    "#news = jan19df[jan19df['type_of_material'] == 'News']"
   ]
  },
  {
   "cell_type": "code",
   "execution_count": 15,
   "metadata": {},
   "outputs": [],
   "source": [
    "#oped = jan19df[jan19df['type_of_material'] == 'Op-Ed']"
   ]
  },
  {
   "cell_type": "code",
   "execution_count": 16,
   "metadata": {},
   "outputs": [],
   "source": [
    "#jan19df.word_count"
   ]
  },
  {
   "cell_type": "code",
   "execution_count": 17,
   "metadata": {},
   "outputs": [],
   "source": [
    "#news.subsection_name.unique().shape[0]           "
   ]
  },
  {
   "cell_type": "code",
   "execution_count": 18,
   "metadata": {},
   "outputs": [],
   "source": [
    "#news.subsection_name.hist(xrot=90, xlabelsize=15, figsize=(20,20), bins=(news.subsection_name.unique().shape[0]));"
   ]
  },
  {
   "cell_type": "code",
   "execution_count": 19,
   "metadata": {},
   "outputs": [],
   "source": [
    "#oped.subsection_name.unique()"
   ]
  },
  {
   "cell_type": "code",
   "execution_count": 20,
   "metadata": {},
   "outputs": [],
   "source": [
    "#oped.subsection_name.hist(xrot=90, xlabelsize=15, figsize=(20,20), bins=(oped.subsection_name.unique().shape[0]));"
   ]
  },
  {
   "cell_type": "code",
   "execution_count": 21,
   "metadata": {},
   "outputs": [],
   "source": [
    "#jan19df.columns"
   ]
  },
  {
   "cell_type": "markdown",
   "metadata": {},
   "source": [
    "# remove first and last words from text"
   ]
  },
  {
   "cell_type": "code",
   "execution_count": 22,
   "metadata": {},
   "outputs": [],
   "source": [
    "# remove advertisement head and tail\n",
    "def split_trim(string):\n",
    "    text = string.split(\" \")\n",
    "    text = text[3:-14]\n",
    "    return text\n",
    "    \n",
    "    "
   ]
  },
  {
   "cell_type": "code",
   "execution_count": 23,
   "metadata": {},
   "outputs": [
    {
     "data": {
      "text/plain": [
       "2248"
      ]
     },
     "execution_count": 23,
     "metadata": {},
     "output_type": "execute_result"
    }
   ],
   "source": [
    "jan19df.word_count[0]"
   ]
  },
  {
   "cell_type": "code",
   "execution_count": 24,
   "metadata": {},
   "outputs": [],
   "source": [
    "sample = jan19df.text[0]"
   ]
  },
  {
   "cell_type": "code",
   "execution_count": 25,
   "metadata": {},
   "outputs": [],
   "source": [
    "sample = sample.split(\" \")"
   ]
  },
  {
   "cell_type": "code",
   "execution_count": 26,
   "metadata": {},
   "outputs": [
    {
     "data": {
      "text/plain": [
       "[\"'Follow\",\n",
       " 'The',\n",
       " 'New',\n",
       " 'York',\n",
       " 'Times',\n",
       " 'Opinion',\n",
       " 'section',\n",
       " 'on',\n",
       " 'Facebook,',\n",
       " 'Twitter',\n",
       " '(@NYTopinion)',\n",
       " 'and',\n",
       " \"Instagram.',\",\n",
       " \"'Advertisement']\"]"
      ]
     },
     "execution_count": 26,
     "metadata": {},
     "output_type": "execute_result"
    }
   ],
   "source": [
    "sample[-14:]"
   ]
  },
  {
   "cell_type": "code",
   "execution_count": 42,
   "metadata": {},
   "outputs": [
    {
     "data": {
      "text/plain": [
       "Index(['abstract', 'web_url', 'snippet', 'lead_paragraph', 'source',\n",
       "       'multimedia', 'headline', 'keywords', 'pub_date', 'document_type',\n",
       "       'news_desk', 'section_name', 'byline', 'type_of_material', '_id',\n",
       "       'word_count', 'uri', 'print_section', 'print_page', 'subsection_name',\n",
       "       'text'],\n",
       "      dtype='object')"
      ]
     },
     "execution_count": 42,
     "metadata": {},
     "output_type": "execute_result"
    }
   ],
   "source": [
    "jan19df.columns"
   ]
  },
  {
   "cell_type": "code",
   "execution_count": 43,
   "metadata": {},
   "outputs": [
    {
     "data": {
      "text/plain": [
       "'[\\'Advertisement\\', \\'Supported by\\', \\'Imagine what we could do with our money, and hours, if we set our phones aside for a year.\\', \\'By Paul Greenberg\\', \\'Mr. Greenberg is a fellow at the Safina Center.\\', \\'More than three-quarters of all Americans own a smartphone. In 2018 those 253 million Americans spent $1,380 and 1,460 hours on their smartphone and other mobile devices. That’s 91 waking days; cumulatively, that adds up to 370 billion waking American hours and $349 billion.\\', \\'In 2019, here’s what we could do instead.\\', \"In most Western states, that $1,380 you spent on your phone could buy half an acre of land. In the right conditions, that half acre could easily accommodate 150 trees. A single tree sequesters 48 pounds of carbon a year. It takes about 30 minutes for an amateur forester to plant a tree. If every American smartphone owner used that time and money to plant half an acre of trees, we would sequester about 886 million tons of carbon a year, enough to offset more than 10 percent of the country’s annual emissions. If you don\\'t want to do the planting yourself, the National Forest Foundation says it could meet all of its planting goals if every smartphone user gave it just 60 cents.\", \\'A recent study of romantic relationships among college students in the journal Psychology of Popular Media Culture found that “smartphone dependency is significantly linked to relationship uncertainty” and that “partners’ perceived smartphone dependency predicts less relationship satisfaction.” According to another recent study, more than 29 percent of Americans would rather give up sex for three months than give up their smartphone for a single week.\\', \\'Now flip that around: If you gave up your device for a year, you would have time to make love about 16,000 times (assuming you’re like most Americans and your lovemaking sessions last an average of 5.4 minutes, not counting foreplay).\\', \\'If all that sex doesn’t bring you and your partner closer, you could pay for about four hours of couples therapy. Not enough time? The renowned couples therapist Esther Perel has managed to fix some couples’ problems in three.\\', \\'Currently the American political system undercounts the votes of the majority of Americans, either through gerrymandering or the unfair distribution of Senate seats and electoral votes. But this system can be changed particularly if we push for a program for voter reform at a grassroots level. As David Gold, an attorney with the organization Democratism, noted, “Quitting devices would give citizens enough time and money to visit their local and state representatives three times a week for a year and cover the cost of the trip in gas or mass transit to lobby for reform.”\\', \\'Every year 10 million tons of plastic waste flows into the ocean. According to George Leonard of the Ocean Conservancy, if Americans applied all the money they allocate to smartphones to solving plastic pollution, “There would be enough money available to pay for the necessary improvements in waste management in Asian countries for 70 years.” And if the time Americans spent on smartphones were applied to ocean clean up at a rate of five pounds of plastic garbage per person per hour, “The volunteer effort could clean up the amount of plastic that flows into the global ocean 118 times over.”\\', \\'The average reader, reading at a speed of 280 words per minute, would take approximately 71½ hours to read the 1.3 million words in Marcel Proust’s “In Search of Lost Time.” With 1,460 hours repurposed from device usage, a reader would get through the books almost 20 times. With the $1,380 in device-free savings, you could spend the weekend in Illiers-Combray, the setting of Proust’s first madeleine-soaked memories, and see if he got it right.\\', \\'According to the Mayo Clinic, swimming, walking or running for 30 minutes a day will lower your blood pressure by four to nine millimeters of mercury, as much or more than some blood pressure medication. Yes, you could keep your phone with you while you exercise, but who needs the stress? And if you’d rather not exercise, blood pressure medication costs about $900 per year.\\', \\'The average American spends $14,000 per decade on smartphones. That’s $70,000 over the course of an average working life. Invested in a conservative mutual fund with an annual rate of return of 4 percent, that would yield over $1.3 million in retirement savings. (The current median household retirement savings is $5,000.)\\', \\'Last year the globe-circling Scottish cyclist Mark Beaumont smashed the world circumnavigation record by riding around the world’s land mass in 79 days. He pedaled 16 hours a day for a total of 1,264 hours — or just under a year’s worth of smartphone usage. Average humans couldn’t match Mr. Beaumont’s feat, but the money and time saved by ditching their phones would afford them a lot of time with a personal trainer.\\', \\'Smartphone usage is highest among teenagers and people in their early 20s. And it’s at this crucial time when virtuosity in a musical instrument can be attained. At current rates of device usage, most young people will burn through the famous 10,000 hours Malcolm Gladwell associated with becoming an “elite pianist” over the course of the next decade. How many virtuosos will we lose in the years ahead if device use among young people continues to grow apace?\\', \\'Using English as a baseline, you would need approximately 700 hours to become proficient in a foreign language as measured by Common European Framework of Reference for Languages. With the time you spend staring into your device, you could learn two.\\', \\'A recent study found that children between 7 months and 24 months old experienced higher levels of distress and were less likely to investigate their surroundings when their parents were on their mobile devices. Secure attachment begins in infancy when children take visual cues of attachment from their parents’ gaze. Every moment you look at your infant instead of your phone is an investment in the future.\\', \\'Paul Greenberg is a fellow at the Safina Center and the author of the forthcoming \"iQuit: 50 Things to Do iNstead.\"\\', \\'Follow The New York Times Opinion section on Facebook, Twitter (@NYTopinion) and Instagram.\\', \\'Advertisement\\']'"
      ]
     },
     "execution_count": 43,
     "metadata": {},
     "output_type": "execute_result"
    }
   ],
   "source": [
    "jan19df.text[1]"
   ]
  },
  {
   "cell_type": "code",
   "execution_count": 44,
   "metadata": {},
   "outputs": [
    {
     "data": {
      "text/plain": [
       "'Imagine what we could do with our money, and hours, if we set our phones aside for a year.'"
      ]
     },
     "execution_count": 44,
     "metadata": {},
     "output_type": "execute_result"
    }
   ],
   "source": [
    "jan19df.abstract[1]"
   ]
  },
  {
   "cell_type": "code",
   "execution_count": 45,
   "metadata": {},
   "outputs": [
    {
     "data": {
      "text/plain": [
       "'Imagine what we could do with our money, and hours, if we set our phones aside for a year.'"
      ]
     },
     "execution_count": 45,
     "metadata": {},
     "output_type": "execute_result"
    }
   ],
   "source": [
    "jan19df.snippet[1]"
   ]
  },
  {
   "cell_type": "code",
   "execution_count": 46,
   "metadata": {},
   "outputs": [
    {
     "data": {
      "text/plain": [
       "'More than three-quarters of all Americans own a smartphone. In 2018 those 253 million Americans spent $1,380 and 1,460 hours on their smartphone and other mobile devices. That’s 91 waking days; cumulatively, that adds up to 370 billion waking American hours and $349 billion.'"
      ]
     },
     "execution_count": 46,
     "metadata": {},
     "output_type": "execute_result"
    }
   ],
   "source": [
    "jan19df.lead_paragraph[1]"
   ]
  },
  {
   "cell_type": "code",
   "execution_count": 47,
   "metadata": {},
   "outputs": [
    {
     "data": {
      "text/plain": [
       "'https://www.nytimes.com/2018/12/31/opinion/smartphones-screen-time.html'"
      ]
     },
     "execution_count": 47,
     "metadata": {},
     "output_type": "execute_result"
    }
   ],
   "source": [
    "jan19df.web_url[1]"
   ]
  },
  {
   "cell_type": "code",
   "execution_count": 49,
   "metadata": {},
   "outputs": [
    {
     "data": {
      "text/plain": [
       "\"{'original': 'By Paul Greenberg', 'person': [{'firstname': 'Paul', 'middlename': None, 'lastname': 'Greenberg', 'qualifier': None, 'title': None, 'role': 'reported', 'organization': '', 'rank': 1}], 'organization': None}\""
      ]
     },
     "execution_count": 49,
     "metadata": {},
     "output_type": "execute_result"
    }
   ],
   "source": [
    "jan19df.byline[1]"
   ]
  },
  {
   "cell_type": "code",
   "execution_count": 48,
   "metadata": {},
   "outputs": [],
   "source": [
    "#split by df.lead_paragraph or other column to get better parse of articles!"
   ]
  },
  {
   "cell_type": "code",
   "execution_count": null,
   "metadata": {},
   "outputs": [],
   "source": []
  },
  {
   "cell_type": "code",
   "execution_count": null,
   "metadata": {},
   "outputs": [],
   "source": []
  },
  {
   "cell_type": "code",
   "execution_count": null,
   "metadata": {},
   "outputs": [],
   "source": []
  },
  {
   "cell_type": "code",
   "execution_count": null,
   "metadata": {},
   "outputs": [],
   "source": []
  },
  {
   "cell_type": "code",
   "execution_count": null,
   "metadata": {},
   "outputs": [],
   "source": []
  },
  {
   "cell_type": "code",
   "execution_count": null,
   "metadata": {},
   "outputs": [],
   "source": []
  },
  {
   "cell_type": "code",
   "execution_count": 30,
   "metadata": {},
   "outputs": [],
   "source": [
    "type_text = jan19df[['type_of_material', 'text']]"
   ]
  },
  {
   "cell_type": "code",
   "execution_count": 31,
   "metadata": {},
   "outputs": [],
   "source": [
    "type_text.to_csv('type_text.csv')"
   ]
  }
 ],
 "metadata": {
  "kernelspec": {
   "display_name": "Python 3",
   "language": "python",
   "name": "python3"
  },
  "language_info": {
   "codemirror_mode": {
    "name": "ipython",
    "version": 3
   },
   "file_extension": ".py",
   "mimetype": "text/x-python",
   "name": "python",
   "nbconvert_exporter": "python",
   "pygments_lexer": "ipython3",
   "version": "3.7.9"
  }
 },
 "nbformat": 4,
 "nbformat_minor": 4
}
